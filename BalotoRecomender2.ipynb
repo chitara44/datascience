{
 "cells": [
  {
   "cell_type": "code",
   "execution_count": 10,
   "metadata": {},
   "outputs": [],
   "source": [
    "import random\n",
    "import pandas as pd\n",
    "import numpy as np\n",
    "import seaborn as sns\n",
    "import matplotlib.pyplot as plt\n",
    "import os\n",
    "from sklearn import metrics\n",
    "from sklearn.pipeline import Pipeline\n",
    "from sklearn.preprocessing import StandardScaler, LabelEncoder, OneHotEncoder, KBinsDiscretizer\n",
    "from sklearn.model_selection import train_test_split\n",
    "from sklearn.tree import DecisionTreeRegressor\n",
    "from sklearn.model_selection import cross_val_score\n",
    "from sklearn.metrics import mean_squared_error\n",
    "from sklearn.neighbors import KNeighborsClassifier, KNeighborsRegressor\n",
    "from sklearn.preprocessing import StandardScaler\n",
    "from time import sleep\n",
    "\n",
    "pd.set_option('display.float_format', lambda x: '%.3f' % x)\n",
    "\n",
    "sns.set()"
   ]
  },
  {
   "cell_type": "code",
   "execution_count": 11,
   "metadata": {},
   "outputs": [],
   "source": [
    "def generaPath(tipo, nombre):\n",
    "    prepath = str(os.getcwd())\n",
    "    if (tipo == \"I\"):\n",
    "        path = prepath + '\\\\origen\\\\' + nombre\n",
    "    else :\n",
    "        path = prepath + '\\\\generados\\\\' + nombre\n",
    "    return path"
   ]
  },
  {
   "cell_type": "code",
   "execution_count": 12,
   "metadata": {},
   "outputs": [
    {
     "name": "stdout",
     "output_type": "stream",
     "text": [
      "     idSorteo  n1  n2  n3  n4  n5  sb  delta\n",
      "0        2129   2   8  11  13  22  15  FCBIV\n",
      "1        2128   1   2  11  15  33  12  AIDQK\n",
      "2        2127   5  15  27  34  35   4  JLGAM\n",
      "3        2126   5  20  22  32  35  16  ÑBJCM\n",
      "4        2125   1  16  24  36  42  11  ÑHLFB\n",
      "..        ...  ..  ..  ..  ..  ..  ..    ...\n",
      "454      1675   1  20  36  39  43  10  ROCDA\n",
      "455      1674   5   6   7  12  37   6  AAEXK\n",
      "456      1673   6  19  25  28  36   1  MFCHM\n",
      "457      1672   1   2  25  31  33  14  AVFBK\n",
      "458      1671  15  28  36  37  41  10  MHADP\n",
      "\n",
      "[459 rows x 8 columns]\n"
     ]
    }
   ],
   "source": [
    "df_tr_fu_filt = pd.read_csv(generaPath('O', 'df_tr_fu_filt_delta.csv'))\n",
    "#df_re_fu_filt.columns = ['idSorteo','n1','n2','n3','n4', 'n5','sb','delta']\n",
    "print(df_tr_fu_filt)"
   ]
  },
  {
   "cell_type": "code",
   "execution_count": 13,
   "metadata": {},
   "outputs": [
    {
     "name": "stdout",
     "output_type": "stream",
     "text": [
      "     idSorteo  n1  n2  n3  n4  n5  sb  delta\n",
      "0        2129   6  10  25  26  27   6  DÑAAU\n",
      "1        2128   2  10  15  22  25   6  HEGCS\n",
      "2        2127   4   8  12  27  41   6  DDÑNF\n",
      "3        2126  10  20  25  30  36  16  JEEFP\n",
      "4        2125  19  30  38  39  41   1  KHABT\n",
      "..        ...  ..  ..  ..  ..  ..  ..    ...\n",
      "454      1675   3   5   8  20  24  14  BCLDU\n",
      "455      1674   5  12  15  20  42  14  GCEUF\n",
      "456      1673   8  21  22  37  38   4  MAÑAM\n",
      "457      1672   9  12  16  28  38   1  CDLJN\n",
      "458      1671   3   9  10  21  40  10  FAKRF\n",
      "\n",
      "[459 rows x 8 columns]\n"
     ]
    }
   ],
   "source": [
    "df_re_fu_filt = pd.read_csv(generaPath('O', 'df_re_fu_filt_delta.csv'))\n",
    "#df_re_fu_filt.columns = ['idSorteo','n1','n2','n3','n4', 'n5','sb','delta']\n",
    "print(df_re_fu_filt)"
   ]
  },
  {
   "cell_type": "code",
   "execution_count": 14,
   "metadata": {},
   "outputs": [],
   "source": [
    "def rgb_to_hex(rgb):\n",
    "    return '%02x%02x%02x' % rgb"
   ]
  },
  {
   "cell_type": "code",
   "execution_count": 15,
   "metadata": {},
   "outputs": [],
   "source": [
    "def htmlcolor(r, g, b):\n",
    "    def _chkarg(a):\n",
    "        if isinstance(a, int): # clamp to range 0--255\n",
    "            if a < 0:\n",
    "                a = 0\n",
    "            elif a > 255:\n",
    "                a = 255\n",
    "        elif isinstance(a, float): # clamp to range 0.0--1.0 and convert to integer 0--255\n",
    "            if a < 0.0:\n",
    "                a = 0\n",
    "            elif a > 1.0:\n",
    "                a = 255\n",
    "            else:\n",
    "                a = int(round(a*255))\n",
    "        else:\n",
    "            raise ValueError('Arguments must be integers or floats.')\n",
    "        return a\n",
    "    r = _chkarg(r)\n",
    "    g = _chkarg(g)\n",
    "    b = _chkarg(b)\n",
    "    return '#{:02x}{:02x}{:02x}'.format(r,g,b)"
   ]
  },
  {
   "cell_type": "code",
   "execution_count": 16,
   "metadata": {},
   "outputs": [],
   "source": [
    "def add_to_radar(idSorteo, ax, df, angles, color ):\n",
    "    values = df.iloc[idSorteo].tolist()\n",
    "    values2 = values\n",
    "    #print(values)\n",
    "    ideSorteo = values[0:1]\n",
    "    values = values[1:7]\n",
    "    ax.plot(angles, values, color=color, linewidth=1, label=str(values2))\n",
    "    ax.fill(angles, values, color=color, alpha=0.25)  "
   ]
  },
  {
   "cell_type": "code",
   "execution_count": 17,
   "metadata": {},
   "outputs": [],
   "source": [
    "def radar_drawer(df):\n",
    "    labels = ['num1', 'num2', 'num3', 'num4', 'num5', 'sb']                                 # Each attribute we'll plot in the radar chart.\n",
    "    num_vars = len(labels)                                                                  # Number of variables we're plotting.\n",
    "    angles = np.linspace(0, 2 * np.pi, num_vars, endpoint=False).tolist()                   # Split the circle into even parts and save the angles so we know where to put each axis.\n",
    "\n",
    "    # The plot is a circle, so we need to \"complete the loop\" and append the start value to the end. Angles += angles[:1]\n",
    "    plt.rcParams.update({'figure.max_open_warning': 0})\n",
    "    fig, ax = plt.subplots(figsize=(6, 6), subplot_kw=dict(polar=True))                     # ax = plt.subplot(polar=True)\n",
    "\n",
    "    sorteos = df.shape\n",
    "    for x in range(sorteos[0]):                                                             # Add each car to the chart.\n",
    "        randomColor = (random.randint(0,255), random.randint(0,255), random.randint(0,255))    \n",
    "        color = \"%06x\" % random.randint(0, 0xFFFFFF)\n",
    "\n",
    "        add_to_radar(x, ax, df, angles, htmlcolor(random.randint(0,255), random.randint(0,255), random.randint(0,255)))\n",
    "\n",
    "    angulito = np.pi / 2                                                                    # Fix axis to go in the right order and start at 12 o'clock. print(angulito)\n",
    "    ax.set_theta_offset(angulito)\n",
    "    ax.set_theta_direction(-1)\n",
    "\n",
    "    ax.set_thetagrids(np.degrees(angles), labels)                                           # Draw axis lines for each angle and label.\n",
    "    for label, angle in zip(ax.get_xticklabels(), angles):                                  # Go through labels and adjust alignment based on where it is in the circle.\n",
    "        if angle in (0, np.pi):\n",
    "            label.set_horizontalalignment('center')\n",
    "        elif 0 < angle < np.pi:\n",
    "            label.set_horizontalalignment('left')\n",
    "        else:\n",
    "            label.set_horizontalalignment('right')\n",
    "\n",
    "    ax.set_ylim(0, 45)                                                                      # Ensure radar goes from 0 to 100.\n",
    "    # You can also set gridlines manually ax.set_rgrids([20, 40, 60, 80, 100]) Set position of y-labels (0-100) to be in the middle of the first two axes.\n",
    "    ax.set_rlabel_position(180 / num_vars)\n",
    "    ax.tick_params(colors='#222222')                                                        # Add some custom styling. Change the color of the tick labels.\n",
    "    ax.tick_params(axis='y', labelsize=10)                                                  # Make the y-axis (0-100) labels smaller.\n",
    "    ax.grid(color='#AAAAAA')                                                                # Change the color of the circular gridlines.\n",
    "    ax.spines['polar'].set_color('#222222')                                                 # Change the color of the outermost gridline (the spine).\n",
    "    ax.set_facecolor('#FAFAFA')                                                             # Change the background color inside the circle itself.\n",
    "    ax.set_title('Comparar sorteos con inicios similares across dimensions', y=1.08)        # Add title\n",
    "    ax.legend(loc='upper right', bbox_to_anchor=(1.3, 1.1))                                 # Add a legend as well.\n"
   ]
  },
  {
   "cell_type": "code",
   "execution_count": 18,
   "metadata": {},
   "outputs": [],
   "source": [
    "for x in range (1, 42):\n",
    "    for xx in range(2, 45):\n",
    "        df_tr_fu_filt_p = df_tr_fu_filt[(df_tr_fu_filt['n1']==x)]\n",
    "        df_tr_fu_filt_1 = df_tr_fu_filt_p[ (df_tr_fu_filt_p['n2']==xx) |  (df_tr_fu_filt_p['n3']==xx) | (df_tr_fu_filt_p['n4']==xx) | (df_tr_fu_filt_p['n5']==xx)]\n",
    "        #if df_tr_fu_filt_1['n1'].count() > 0:\n",
    "            #radar_drawer(df_tr_fu_filt_1) \n",
    "            #print(x, xx, sep = ',' )\n",
    "        #    sleep(1)"
   ]
  },
  {
   "cell_type": "code",
   "execution_count": null,
   "metadata": {},
   "outputs": [],
   "source": []
  }
 ],
 "metadata": {
  "interpreter": {
   "hash": "2d3d3270e417e1e52e34ac8b854cc2805d4f43e36bc3a05dc9d1a620d4ed2e67"
  },
  "kernelspec": {
   "display_name": "Python 3.7.4 64-bit ('dsbasic': conda)",
   "name": "python3"
  },
  "language_info": {
   "codemirror_mode": {
    "name": "ipython",
    "version": 3
   },
   "file_extension": ".py",
   "mimetype": "text/x-python",
   "name": "python",
   "nbconvert_exporter": "python",
   "pygments_lexer": "ipython3",
   "version": "3.7.4"
  }
 },
 "nbformat": 4,
 "nbformat_minor": 4
}
