{
 "cells": [
  {
   "cell_type": "code",
   "execution_count": 28,
   "metadata": {},
   "outputs": [],
   "source": [
    "import numpy as np\n",
    "import pandas as pd\n",
    "import matplotlib.pyplot as plt\n",
    "%matplotlib inline\n",
    "\n",
    "import seaborn as sns"
   ]
  },
  {
   "cell_type": "code",
   "execution_count": 31,
   "metadata": {},
   "outputs": [
    {
     "data": {
      "text/html": [
       "<div>\n",
       "<style scoped>\n",
       "    .dataframe tbody tr th:only-of-type {\n",
       "        vertical-align: middle;\n",
       "    }\n",
       "\n",
       "    .dataframe tbody tr th {\n",
       "        vertical-align: top;\n",
       "    }\n",
       "\n",
       "    .dataframe thead th {\n",
       "        text-align: right;\n",
       "    }\n",
       "</style>\n",
       "<table border=\"1\" class=\"dataframe\">\n",
       "  <thead>\n",
       "    <tr style=\"text-align: right;\">\n",
       "      <th></th>\n",
       "      <th>idSorteo</th>\n",
       "      <th>tipo</th>\n",
       "      <th>n1</th>\n",
       "      <th>n2</th>\n",
       "      <th>n3</th>\n",
       "      <th>n4</th>\n",
       "      <th>n5</th>\n",
       "      <th>sb</th>\n",
       "    </tr>\n",
       "  </thead>\n",
       "  <tbody>\n",
       "    <tr>\n",
       "      <td>0</td>\n",
       "      <td>1924</td>\n",
       "      <td>Tr</td>\n",
       "      <td>4</td>\n",
       "      <td>11</td>\n",
       "      <td>14</td>\n",
       "      <td>16</td>\n",
       "      <td>36</td>\n",
       "      <td>15</td>\n",
       "    </tr>\n",
       "    <tr>\n",
       "      <td>1</td>\n",
       "      <td>1924</td>\n",
       "      <td>Re</td>\n",
       "      <td>9</td>\n",
       "      <td>10</td>\n",
       "      <td>14</td>\n",
       "      <td>41</td>\n",
       "      <td>42</td>\n",
       "      <td>11</td>\n",
       "    </tr>\n",
       "    <tr>\n",
       "      <td>2</td>\n",
       "      <td>1923</td>\n",
       "      <td>Tr</td>\n",
       "      <td>21</td>\n",
       "      <td>23</td>\n",
       "      <td>26</td>\n",
       "      <td>37</td>\n",
       "      <td>43</td>\n",
       "      <td>11</td>\n",
       "    </tr>\n",
       "    <tr>\n",
       "      <td>3</td>\n",
       "      <td>1923</td>\n",
       "      <td>Re</td>\n",
       "      <td>2</td>\n",
       "      <td>25</td>\n",
       "      <td>26</td>\n",
       "      <td>28</td>\n",
       "      <td>35</td>\n",
       "      <td>1</td>\n",
       "    </tr>\n",
       "    <tr>\n",
       "      <td>4</td>\n",
       "      <td>1922</td>\n",
       "      <td>Tr</td>\n",
       "      <td>18</td>\n",
       "      <td>23</td>\n",
       "      <td>28</td>\n",
       "      <td>33</td>\n",
       "      <td>35</td>\n",
       "      <td>12</td>\n",
       "    </tr>\n",
       "  </tbody>\n",
       "</table>\n",
       "</div>"
      ],
      "text/plain": [
       "   idSorteo tipo  n1  n2  n3  n4  n5  sb\n",
       "0      1924   Tr   4  11  14  16  36  15\n",
       "1      1924   Re   9  10  14  41  42  11\n",
       "2      1923   Tr  21  23  26  37  43  11\n",
       "3      1923   Re   2  25  26  28  35   1\n",
       "4      1922   Tr  18  23  28  33  35  12"
      ]
     },
     "execution_count": 31,
     "metadata": {},
     "output_type": "execute_result"
    }
   ],
   "source": [
    "# Definimos las columnas que nos interesan\n",
    "fields = ['idSorteo', 'tipo',  'n1','n2','n3', 'n4', 'n5', 'sb']\n",
    "\n",
    "# Cargamos el DataFrame solo con esas columnas\n",
    "baloto = pd.read_csv(r'C:\\desarrollo\\sql\\sql\\expdata2.csv', usecols = fields)\n",
    "baloto.head()"
   ]
  },
  {
   "cell_type": "code",
   "execution_count": 32,
   "metadata": {},
   "outputs": [
    {
     "data": {
      "text/plain": [
       "[Text(0, 0.5, 'numeros'), Text(0.5, 0, 'sorteo')]"
      ]
     },
     "execution_count": 32,
     "metadata": {},
     "output_type": "execute_result"
    },
    {
     "data": {
      "image/png": "[encoded data removed]",
      "text/plain": [
       "<Figure size 432x288 with 1 Axes>"
      ]
     },
     "metadata": {
      "needs_background": "light"
     },
     "output_type": "display_data"
    }
   ],
   "source": [
    "# Tomamos como coordenadas en x los precios\n",
    "\n",
    "x = baloto.idSorteo.values\n",
    "# Tomamos como coordenadas en y el puntaje de la review\n",
    "y = baloto.n1.values\n",
    "\n",
    "fig = plt.figure()\n",
    "ax = plt.axes()\n",
    "\n",
    "ax.scatter(x, y)\n",
    "ax.set(xlabel='sorteo', ylabel='numeros' )"
   ]
  },
  {
   "cell_type": "code",
   "execution_count": 37,
   "metadata": {},
   "outputs": [
    {
     "data": {
      "text/html": [
       "<div>\n",
       "<style scoped>\n",
       "    .dataframe tbody tr th:only-of-type {\n",
       "        vertical-align: middle;\n",
       "    }\n",
       "\n",
       "    .dataframe tbody tr th {\n",
       "        vertical-align: top;\n",
       "    }\n",
       "\n",
       "    .dataframe thead th {\n",
       "        text-align: right;\n",
       "    }\n",
       "</style>\n",
       "<table border=\"1\" class=\"dataframe\">\n",
       "  <thead>\n",
       "    <tr style=\"text-align: right;\">\n",
       "      <th></th>\n",
       "      <th>idSorteo</th>\n",
       "      <th>tipo</th>\n",
       "      <th>n1</th>\n",
       "      <th>n2</th>\n",
       "      <th>n3</th>\n",
       "      <th>n4</th>\n",
       "      <th>n5</th>\n",
       "      <th>sb</th>\n",
       "    </tr>\n",
       "  </thead>\n",
       "  <tbody>\n",
       "    <tr>\n",
       "      <td>0</td>\n",
       "      <td>1924</td>\n",
       "      <td>Tr</td>\n",
       "      <td>4</td>\n",
       "      <td>11</td>\n",
       "      <td>14</td>\n",
       "      <td>16</td>\n",
       "      <td>36</td>\n",
       "      <td>15</td>\n",
       "    </tr>\n",
       "    <tr>\n",
       "      <td>2</td>\n",
       "      <td>1923</td>\n",
       "      <td>Tr</td>\n",
       "      <td>21</td>\n",
       "      <td>23</td>\n",
       "      <td>26</td>\n",
       "      <td>37</td>\n",
       "      <td>43</td>\n",
       "      <td>11</td>\n",
       "    </tr>\n",
       "    <tr>\n",
       "      <td>4</td>\n",
       "      <td>1922</td>\n",
       "      <td>Tr</td>\n",
       "      <td>18</td>\n",
       "      <td>23</td>\n",
       "      <td>28</td>\n",
       "      <td>33</td>\n",
       "      <td>35</td>\n",
       "      <td>12</td>\n",
       "    </tr>\n",
       "    <tr>\n",
       "      <td>6</td>\n",
       "      <td>1921</td>\n",
       "      <td>Tr</td>\n",
       "      <td>1</td>\n",
       "      <td>19</td>\n",
       "      <td>31</td>\n",
       "      <td>37</td>\n",
       "      <td>39</td>\n",
       "      <td>11</td>\n",
       "    </tr>\n",
       "    <tr>\n",
       "      <td>8</td>\n",
       "      <td>1920</td>\n",
       "      <td>Tr</td>\n",
       "      <td>6</td>\n",
       "      <td>19</td>\n",
       "      <td>23</td>\n",
       "      <td>25</td>\n",
       "      <td>41</td>\n",
       "      <td>7</td>\n",
       "    </tr>\n",
       "  </tbody>\n",
       "</table>\n",
       "</div>"
      ],
      "text/plain": [
       "   idSorteo tipo  n1  n2  n3  n4  n5  sb\n",
       "0      1924   Tr   4  11  14  16  36  15\n",
       "2      1923   Tr  21  23  26  37  43  11\n",
       "4      1922   Tr  18  23  28  33  35  12\n",
       "6      1921   Tr   1  19  31  37  39  11\n",
       "8      1920   Tr   6  19  23  25  41   7"
      ]
     },
     "execution_count": 37,
     "metadata": {},
     "output_type": "execute_result"
    }
   ],
   "source": [
    "l_numeros = np.arange(1,44,1)\n",
    "l_columnas = ['n1','n2','n3','n4','n5','sb']\n",
    "l_tipo = ['Tr']\n",
    "##print(l_numeros)\n",
    "baloto_fil = baloto[baloto['tipo'].isin(l_tipo)]\n",
    "\n",
    "baloto_fil.head()"
   ]
  },
  {
   "cell_type": "code",
   "execution_count": 38,
   "metadata": {},
   "outputs": [
    {
     "data": {
      "image/png": "[encoded data removed]",
      "text/plain": [
       "<Figure size 432x288 with 1 Axes>"
      ]
     },
     "metadata": {
      "needs_background": "light"
     },
     "output_type": "display_data"
    }
   ],
   "source": [
    "ax = sns.scatterplot(x=\"n1\", y=\"idSorteo\", hue=\"n1\", data=baloto_fil)"
   ]
  },
  {
   "cell_type": "code",
   "execution_count": 40,
   "metadata": {},
   "outputs": [
    {
     "name": "stdout",
     "output_type": "stream",
     "text": [
      "[257, 257, 257, 257, 257, 256, 257, 257, 257, 257, 257, 256, 257, 257, 257, 257, 257, 256, 257, 257, 257, 257, 257, 256, 257, 257, 257, 257, 257, 256, 257, 257, 257, 257, 257, 256, 257, 257, 257, 257, 257, 256, 257, 257, 257, 257, 257, 256, 257, 257, 257, 257, 257, 256, 257, 257, 257, 257, 257, 256, 257, 257, 257, 257, 257, 256, 257, 257, 257, 257, 257, 256, 257, 257, 257, 257, 257, 256, 257, 257, 257, 257, 257, 256, 257, 257, 257, 257, 257, 256, 257, 257, 257, 257, 257, 256, 257, 257, 257, 257, 257, 256, 257, 257, 257, 257, 257, 256, 257, 257, 257, 257, 257, 256, 257, 257, 257, 257, 257, 256, 257, 257, 257, 257, 257, 256, 257, 257, 257, 257, 257, 256, 257, 257, 257, 257, 257, 256, 257, 257, 257, 257, 257, 256, 257, 257, 257, 257, 257, 256, 257, 257, 257, 257, 257, 256, 257, 257, 257, 257, 257, 256, 257, 257, 257, 257, 257, 256, 257, 257, 257, 257, 257, 256, 257, 257, 257, 257, 257, 256, 257, 257, 257, 257, 257, 256, 257, 257, 257, 257, 257, 256, 257, 257, 257, 257, 257, 256, 257, 257, 257, 257, 257, 256, 257, 257, 257, 257, 257, 256, 257, 257, 257, 257, 257, 256, 257, 257, 257, 257, 257, 256, 257, 257, 257, 257, 257, 256, 257, 257, 257, 257, 257, 256, 257, 257, 257, 257, 257, 256, 257, 257, 257, 257, 257, 256, 257, 257, 257, 257, 257, 256, 257, 257, 257, 257, 257, 256]\n"
     ]
    }
   ],
   "source": [
    "total = []\n",
    "lista = []\n",
    "for item in l_numeros:\n",
    "    for item2 in l_columnas:\n",
    "        total.append(len(baloto_fil[baloto_fil[item2].isin(l_numeros)]))\n",
    "    \n",
    "##    valor = sum(pd.isin(baloto_fil[item]))\n",
    "##    lista.append(item + ': ' + str(valor))\n",
    "##    total.append(valor)\n",
    "##total.append( )\n",
    "print(total)  "
   ]
  },
  {
   "cell_type": "code",
   "execution_count": null,
   "metadata": {},
   "outputs": [],
   "source": []
  }
 ],
 "metadata": {
  "kernelspec": {
   "display_name": "Python 3",
   "language": "python",
   "name": "python3"
  },
  "language_info": {
   "codemirror_mode": {
    "name": "ipython",
    "version": 3
   },
   "file_extension": ".py",
   "mimetype": "text/x-python",
   "name": "python",
   "nbconvert_exporter": "python",
   "pygments_lexer": "ipython3",
   "version": "3.7.4"
  }
 },
 "nbformat": 4,
 "nbformat_minor": 4
}
