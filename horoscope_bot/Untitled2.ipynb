{
 "cells": [
  {
   "cell_type": "code",
   "execution_count": 1,
   "metadata": {},
   "outputs": [
    {
     "name": "stderr",
     "output_type": "stream",
     "text": [
      ":0: UserWarning: You do not have a working installation of the service_identity module: 'No module named 'service_identity''.  Please install it from <https://pypi.python.org/pypi/service_identity> and make sure all of its dependencies are satisfied.  Without the service_identity module, Twisted can perform only rudimentary TLS client hostname verification.  Many valid certificate/hostname mappings may be rejected.\n",
      "Traceback (most recent call last):\n",
      "  File \"train_initialize.py\", line 15, in <module>\n",
      "    policies=[MemoizationPolicy(), KerasPolicy()])\n",
      "  File \"C:\\Users\\Ricardo\\.conda\\envs\\dsbasic\\lib\\site-packages\\rasa_core\\agent.py\", line 218, in __init__\n",
      "    self.domain = self._create_domain(domain)\n",
      "  File \"C:\\Users\\Ricardo\\.conda\\envs\\dsbasic\\lib\\site-packages\\rasa_core\\agent.py\", line 669, in _create_domain\n",
      "    return Domain.load(domain)\n",
      "  File \"C:\\Users\\Ricardo\\.conda\\envs\\dsbasic\\lib\\site-packages\\rasa_core\\domain.py\", line 121, in load\n",
      "    \"File not found!\".format(os.path.abspath(filename)))\n",
      "Exception: Failed to load domain specification from 'C:\\desarrollo\\datascience\\datascience\\horoscope_bot\\horoscope_domain.yml'. File not found!\n"
     ]
    }
   ],
   "source": [
    "!python train_initialize.py"
   ]
  },
  {
   "cell_type": "code",
   "execution_count": null,
   "metadata": {},
   "outputs": [],
   "source": []
  }
 ],
 "metadata": {
  "kernelspec": {
   "display_name": "Python 3",
   "language": "python",
   "name": "python3"
  },
  "language_info": {
   "codemirror_mode": {
    "name": "ipython",
    "version": 3
   },
   "file_extension": ".py",
   "mimetype": "text/x-python",
   "name": "python",
   "nbconvert_exporter": "python",
   "pygments_lexer": "ipython3",
   "version": "3.7.4"
  }
 },
 "nbformat": 4,
 "nbformat_minor": 4
}
