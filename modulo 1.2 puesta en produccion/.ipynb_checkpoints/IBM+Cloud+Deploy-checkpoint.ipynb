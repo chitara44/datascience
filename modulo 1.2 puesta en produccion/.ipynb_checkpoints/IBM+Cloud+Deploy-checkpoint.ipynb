{
 "cells": [
  {
   "cell_type": "code",
   "execution_count": 1,
   "metadata": {},
   "outputs": [],
   "source": [
    "import warnings\n",
    "warnings.filterwarnings(\"ignore\")\n",
    "import sklearn\n",
    "from sklearn.datasets import load_files\n",
    "moviedir = r'./dataset/movie_reviews' \n",
    "movie_reviews = load_files(moviedir, shuffle=True)"
   ]
  },
  {
   "cell_type": "code",
   "execution_count": 2,
   "metadata": {},
   "outputs": [],
   "source": [
    "from sklearn.model_selection import train_test_split\n",
    "X_train, X_test, y_train, y_test = train_test_split(\n",
    "    movie_reviews.data, movie_reviews.target, test_size = 0.20, stratify=movie_reviews.target, random_state = 12)"
   ]
  },
  {
   "cell_type": "code",
   "execution_count": 3,
   "metadata": {},
   "outputs": [],
   "source": [
    "from sklearn.svm import LinearSVC\n",
    "clf = LinearSVC() "
   ]
  },
  {
   "cell_type": "markdown",
   "metadata": {},
   "source": [
    "IBM Watson"
   ]
  },
  {
   "cell_type": "code",
   "execution_count": 1,
   "metadata": {},
   "outputs": [
    {
     "name": "stdout",
     "output_type": "stream",
     "text": [
      "Collecting watson-machine-learning-client\n",
      "  Downloading https://files.pythonhosted.org/packages/12/67/66db412f00d19bfdc5725078bff373787513bfb14320f2804b9db3abb53a/watson_machine_learning_client-1.0.378-py3-none-any.whl (536kB)\n",
      "Requirement already satisfied, skipping upgrade: tqdm in c:\\programdata\\anaconda3\\lib\\site-packages (from watson-machine-learning-client) (4.32.1)\n",
      "Requirement already satisfied, skipping upgrade: pandas in c:\\programdata\\anaconda3\\lib\\site-packages (from watson-machine-learning-client) (0.24.2)\n",
      "Requirement already satisfied, skipping upgrade: requests in c:\\programdata\\anaconda3\\lib\\site-packages (from watson-machine-learning-client) (2.22.0)\n",
      "Requirement already satisfied, skipping upgrade: certifi in c:\\programdata\\anaconda3\\lib\\site-packages (from watson-machine-learning-client) (2020.4.5.1)\n",
      "Requirement already satisfied, skipping upgrade: urllib3 in c:\\programdata\\anaconda3\\lib\\site-packages (from watson-machine-learning-client) (1.24.2)\n",
      "Collecting tabulate (from watson-machine-learning-client)\n",
      "  Downloading https://files.pythonhosted.org/packages/c4/f4/770ae9385990f5a19a91431163d262182d3203662ea2b5739d0fcfc080f1/tabulate-0.8.7-py3-none-any.whl\n",
      "Collecting lomond (from watson-machine-learning-client)\n",
      "  Downloading https://files.pythonhosted.org/packages/0f/b1/02eebed49c754b01b17de7705caa8c4ceecfb4f926cdafc220c863584360/lomond-0.3.3-py2.py3-none-any.whl\n",
      "Collecting ibm-cos-sdk (from watson-machine-learning-client)\n",
      "  Downloading https://files.pythonhosted.org/packages/a0/08/2b5ff7a58a237c98f9b25cd24bab8ec4f8ccb86c1ebc625d1c922f6a5816/ibm-cos-sdk-2.6.2.tar.gz (54kB)\n",
      "Requirement already satisfied, skipping upgrade: python-dateutil>=2.5.0 in c:\\programdata\\anaconda3\\lib\\site-packages (from pandas->watson-machine-learning-client) (2.8.0)\n",
      "Requirement already satisfied, skipping upgrade: pytz>=2011k in c:\\programdata\\anaconda3\\lib\\site-packages (from pandas->watson-machine-learning-client) (2019.1)\n",
      "Requirement already satisfied, skipping upgrade: numpy>=1.12.0 in c:\\programdata\\anaconda3\\lib\\site-packages (from pandas->watson-machine-learning-client) (1.16.4)\n",
      "Requirement already satisfied, skipping upgrade: chardet<3.1.0,>=3.0.2 in c:\\programdata\\anaconda3\\lib\\site-packages (from requests->watson-machine-learning-client) (3.0.4)\n",
      "Requirement already satisfied, skipping upgrade: idna<2.9,>=2.5 in c:\\programdata\\anaconda3\\lib\\site-packages (from requests->watson-machine-learning-client) (2.8)\n",
      "Requirement already satisfied, skipping upgrade: six>=1.10.0 in c:\\programdata\\anaconda3\\lib\\site-packages (from lomond->watson-machine-learning-client) (1.12.0)\n",
      "Collecting ibm-cos-sdk-core==2.6.2 (from ibm-cos-sdk->watson-machine-learning-client)\n",
      "  Downloading https://files.pythonhosted.org/packages/c1/f0/ebb57ccf2d3dc567988cea6a6ba778ebbf96bc4f40039866757dd97cb80a/ibm-cos-sdk-core-2.6.2.tar.gz (787kB)\n",
      "Collecting ibm-cos-sdk-s3transfer==2.6.2 (from ibm-cos-sdk->watson-machine-learning-client)\n",
      "  Downloading https://files.pythonhosted.org/packages/c9/5e/11d12801a51cb74272d4f6072b4da5570d6739137e11f6573b6c043b3160/ibm-cos-sdk-s3transfer-2.6.2.tar.gz (131kB)\n",
      "Collecting jmespath<1.0.0,>=0.7.1 (from ibm-cos-sdk->watson-machine-learning-client)\n",
      "  Downloading https://files.pythonhosted.org/packages/a3/43/1e939e1fcd87b827fe192d0c9fc25b48c5b3368902bfb913de7754b0dc03/jmespath-0.9.5-py2.py3-none-any.whl\n",
      "Requirement already satisfied, skipping upgrade: docutils<0.16,>=0.10 in c:\\programdata\\anaconda3\\lib\\site-packages (from ibm-cos-sdk-core==2.6.2->ibm-cos-sdk->watson-machine-learning-client) (0.14)\n",
      "Building wheels for collected packages: ibm-cos-sdk, ibm-cos-sdk-core, ibm-cos-sdk-s3transfer\n",
      "  Building wheel for ibm-cos-sdk (setup.py): started\n",
      "  Building wheel for ibm-cos-sdk (setup.py): finished with status 'done'\n",
      "  Stored in directory: C:\\Users\\Ricardo\\AppData\\Local\\pip\\Cache\\wheels\\8c\\4b\\43\\e3606c88bd7f0169a587d82ad79f5f826f91983106eec3e22b\n",
      "  Building wheel for ibm-cos-sdk-core (setup.py): started\n",
      "  Building wheel for ibm-cos-sdk-core (setup.py): finished with status 'done'\n",
      "  Stored in directory: C:\\Users\\Ricardo\\AppData\\Local\\pip\\Cache\\wheels\\16\\82\\37\\f124bfe619e72fc1c5f9abbd018bf2ee129f131bf2ede5ebcc\n",
      "  Building wheel for ibm-cos-sdk-s3transfer (setup.py): started\n",
      "  Building wheel for ibm-cos-sdk-s3transfer (setup.py): finished with status 'done'\n",
      "  Stored in directory: C:\\Users\\Ricardo\\AppData\\Local\\pip\\Cache\\wheels\\49\\c8\\20\\8139a0a66f56909d5e96bfa423067020e6b5736c3a5b53f51c\n",
      "Successfully built ibm-cos-sdk ibm-cos-sdk-core ibm-cos-sdk-s3transfer\n",
      "Installing collected packages: tabulate, lomond, jmespath, ibm-cos-sdk-core, ibm-cos-sdk-s3transfer, ibm-cos-sdk, watson-machine-learning-client\n",
      "Successfully installed ibm-cos-sdk-2.6.2 ibm-cos-sdk-core-2.6.2 ibm-cos-sdk-s3transfer-2.6.2 jmespath-0.9.5 lomond-0.3.3 tabulate-0.8.7 watson-machine-learning-client-1.0.378\n"
     ]
    }
   ],
   "source": [
    "# Descomentá la siguiente linea para hacer la instalación\n",
    "!pip install watson-machine-learning-client --upgrade"
   ]
  },
  {
   "cell_type": "code",
   "execution_count": 6,
   "metadata": {},
   "outputs": [
    {
     "name": "stderr",
     "output_type": "stream",
     "text": [
      "2019-01-16 12:42:28,594 - watson_machine_learning_client.metanames - WARNING - 'AUTHOR_EMAIL' meta prop is deprecated. It will be ignored.\n"
     ]
    }
   ],
   "source": [
    "from watson_machine_learning_client import WatsonMachineLearningAPIClient"
   ]
  },
  {
   "cell_type": "markdown",
   "metadata": {},
   "source": [
    "Para usar Watson Machine Learning API es necesario crear un servicio desde:\n",
    "https://console.bluemix.net/catalog/services/machine-learning.\n",
    "\n",
    "Una vez creado ir a la lista de la izquierda a `Service Credentials` y crear nuevas credenciales. \n",
    "\n",
    "Para ver las credenciales hay que tocar en `View Credentials`. \n",
    "De allí copiar los datos necesarios para completar el código de la siguiente celda"
   ]
  },
  {
   "cell_type": "code",
   "execution_count": 4,
   "metadata": {},
   "outputs": [],
   "source": [
    "wml_credentials={\n",
    "  \"url\": \"https://us-south.ml.cloud.ibm.com\",\n",
    "  \"access_key\": \"vPoqnziiLJhJnqsnH2quLjpa0hG-zQx6-S_wRnH0wfdJ\", # figura como apikey\n",
    "  \"username\": \"0ea59c9f-2daf-4568-80ec-62db24a243a1\",\n",
    "  \"password\": \"f419d246-0775-4c2d-8397-654c60a5edc1\",\n",
    "  \"instance_id\": \"a6a83106-6731-431f-b41b-1bfe43f20281\"\n",
    "}\n",
    "\n"
   ]
  },
  {
   "cell_type": "code",
   "execution_count": 7,
   "metadata": {},
   "outputs": [],
   "source": [
    "client = WatsonMachineLearningAPIClient(wml_credentials)"
   ]
  },
  {
   "cell_type": "markdown",
   "metadata": {},
   "source": [
    "Creamos los datos del modelo a publicar"
   ]
  },
  {
   "cell_type": "code",
   "execution_count": 8,
   "metadata": {},
   "outputs": [],
   "source": [
    "model_props = {client.repository.ModelMetaNames.AUTHOR_NAME: \"Fran\", \n",
    "               client.repository.ModelMetaNames.AUTHOR_EMAIL: \"fran@acamica.com\",\n",
    "               client.repository.ModelMetaNames.NAME: \"Reviews classification\"}"
   ]
  },
  {
   "cell_type": "markdown",
   "metadata": {},
   "source": [
    "Creamos pipeline de entrenamiento"
   ]
  },
  {
   "cell_type": "code",
   "execution_count": 9,
   "metadata": {},
   "outputs": [
    {
     "data": {
      "text/plain": [
       "Pipeline(memory=None,\n",
       "     steps=[('tfidfvectorizer', TfidfVectorizer(analyzer='word', binary=False, decode_error='strict',\n",
       "        dtype=<class 'numpy.int64'>, encoding='utf-8', input='content',\n",
       "        lowercase=True, max_df=1.0, max_features=None, min_df=1,\n",
       "        ngram_range=(1, 1), norm='l2', preprocessor=None, smooth_i...ax_iter=1000,\n",
       "     multi_class='ovr', penalty='l2', random_state=None, tol=0.0001,\n",
       "     verbose=0))])"
      ]
     },
     "execution_count": 9,
     "metadata": {},
     "output_type": "execute_result"
    }
   ],
   "source": [
    "from sklearn.pipeline import make_pipeline\n",
    "from sklearn.feature_extraction.text import TfidfVectorizer\n",
    "vect = TfidfVectorizer()\n",
    "pipeline = make_pipeline(vect, clf)\n",
    "pipeline.fit(X_train, y_train)"
   ]
  },
  {
   "cell_type": "markdown",
   "metadata": {},
   "source": [
    "Subimos el modelo a la nube con `client.repository.store_model`\n"
   ]
  },
  {
   "cell_type": "code",
   "execution_count": 10,
   "metadata": {},
   "outputs": [],
   "source": [
    "published_model = client.repository.store_model(model=pipeline, \n",
    "                                                meta_props=model_props, \n",
    "                                                training_data=X_train, \n",
    "                                                training_target=y_train)\n"
   ]
  },
  {
   "cell_type": "markdown",
   "metadata": {},
   "source": [
    "Guardamos el uid del modelo"
   ]
  },
  {
   "cell_type": "code",
   "execution_count": 11,
   "metadata": {},
   "outputs": [],
   "source": [
    "published_model_uid = client.repository.get_model_uid(published_model)\n",
    "model_details = client.repository.get_details(published_model_uid)"
   ]
  },
  {
   "cell_type": "code",
   "execution_count": 12,
   "metadata": {
    "scrolled": true
   },
   "outputs": [
    {
     "name": "stdout",
     "output_type": "stream",
     "text": [
      "------------------------------------  ----------------------  ------------------------  -----------------\n",
      "GUID                                  NAME                    CREATED                   FRAMEWORK\n",
      "74b942f2-fa81-4bee-b766-bddbdf58fe61  Reviews classification  2019-01-16T15:42:29.518Z  scikit-learn-0.19\n",
      "e382c633-9cf5-4432-89ed-ba4c8a267497  Reviews classification  2019-01-14T20:40:29.394Z  scikit-learn-0.19\n",
      "------------------------------------  ----------------------  ------------------------  -----------------\n"
     ]
    }
   ],
   "source": [
    "models_details = client.repository.list_models()"
   ]
  },
  {
   "cell_type": "markdown",
   "metadata": {},
   "source": [
    "Ahora podemos cargar el modelo a partir de su `uid`"
   ]
  },
  {
   "cell_type": "code",
   "execution_count": 13,
   "metadata": {
    "scrolled": true
   },
   "outputs": [],
   "source": [
    "loaded_model = client.repository.load(published_model_uid)\n",
    "test_predictions = loaded_model.predict(X_test)"
   ]
  },
  {
   "cell_type": "markdown",
   "metadata": {},
   "source": [
    "Mostramos el `classification_report`"
   ]
  },
  {
   "cell_type": "code",
   "execution_count": 14,
   "metadata": {
    "scrolled": true
   },
   "outputs": [
    {
     "name": "stdout",
     "output_type": "stream",
     "text": [
      "roc_auc score:  0.85\n",
      "             precision    recall  f1-score   support\n",
      "\n",
      "          0       0.87      0.82      0.85       200\n",
      "          1       0.83      0.88      0.85       200\n",
      "\n",
      "avg / total       0.85      0.85      0.85       400\n",
      "\n"
     ]
    }
   ],
   "source": [
    "from sklearn.metrics import roc_auc_score\n",
    "from sklearn.metrics import classification_report\n",
    "\n",
    "print(\"roc_auc score: \", roc_auc_score(y_test, test_predictions))\n",
    "print(classification_report(y_test, test_predictions))"
   ]
  }
 ],
 "metadata": {
  "kernelspec": {
   "display_name": "Python 3",
   "language": "python",
   "name": "python3"
  },
  "language_info": {
   "codemirror_mode": {
    "name": "ipython",
    "version": 3
   },
   "file_extension": ".py",
   "mimetype": "text/x-python",
   "name": "python",
   "nbconvert_exporter": "python",
   "pygments_lexer": "ipython3",
   "version": "3.6.8"
  }
 },
 "nbformat": 4,
 "nbformat_minor": 4
}
