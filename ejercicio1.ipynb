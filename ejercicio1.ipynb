{
 "cells": [
  {
   "cell_type": "code",
   "execution_count": 1,
   "metadata": {},
   "outputs": [
    {
     "name": "stdout",
     "output_type": "stream",
     "text": [
      "Mi nombre es Ricardo y mi edad es  40\n"
     ]
    }
   ],
   "source": [
    "nombre = 'Ricardo' \n",
    "edad = 40\n",
    "print (\"Mi nombre es\",  nombre, \"y mi edad es \",edad)"
   ]
  },
  {
   "cell_type": "code",
   "execution_count": 2,
   "metadata": {},
   "outputs": [
    {
     "name": "stdout",
     "output_type": "stream",
     "text": [
      "soy mas cucho por  69\n"
     ]
    }
   ],
   "source": [
    "nombrecompa = 'natalia'\n",
    "edadcompa = 21\n",
    "if edad < edadcompa:\n",
    "   print ('soy mas joven por ', edad - edadcompa + 50 )\n",
    "else :\n",
    "   print ('soy mas cucho por ', edad + 50 - edadcompa )"
   ]
  },
  {
   "cell_type": "code",
   "execution_count": null,
   "metadata": {},
   "outputs": [],
   "source": []
  }
 ],
 "metadata": {
  "kernelspec": {
   "display_name": "Python 3",
   "language": "python",
   "name": "python3"
  },
  "language_info": {
   "codemirror_mode": {
    "name": "ipython",
    "version": 3
   },
   "file_extension": ".py",
   "mimetype": "text/x-python",
   "name": "python",
   "nbconvert_exporter": "python",
   "pygments_lexer": "ipython3",
   "version": "3.7.4"
  }
 },
 "nbformat": 4,
 "nbformat_minor": 4
}
