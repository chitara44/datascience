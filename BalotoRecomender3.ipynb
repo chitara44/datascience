{
 "cells": [
  {
   "cell_type": "code",
   "execution_count": 1,
   "metadata": {},
   "outputs": [],
   "source": [
    "import random\n",
    "import pandas as pd\n",
    "import numpy as np\n",
    "import seaborn as sns\n",
    "import matplotlib.pyplot as plt\n",
    "import os\n",
    "import math\n",
    "from sklearn import metrics\n",
    "from sklearn.pipeline import Pipeline\n",
    "from sklearn.preprocessing import StandardScaler, LabelEncoder, OneHotEncoder, KBinsDiscretizer\n",
    "from sklearn.model_selection import train_test_split\n",
    "from sklearn.tree import DecisionTreeRegressor\n",
    "from sklearn.model_selection import cross_val_score\n",
    "from sklearn.metrics import mean_squared_error\n",
    "from sklearn.neighbors import KNeighborsClassifier, KNeighborsRegressor\n",
    "from sklearn.preprocessing import StandardScaler\n",
    "from time import sleep\n",
    "\n",
    "pd.set_option('display.float_format', lambda x: '%.3f' % x)\n",
    "\n",
    "sns.set()"
   ]
  },
  {
   "cell_type": "code",
   "execution_count": 2,
   "metadata": {},
   "outputs": [],
   "source": [
    "def generaPath(tipo, nombre):\n",
    "    prepath = str(os.getcwd())\n",
    "    if (tipo == \"I\"):\n",
    "        path = prepath + '\\\\origen\\\\' + nombre\n",
    "    else :\n",
    "        path = prepath + '\\\\generados\\\\' + nombre\n",
    "    return path"
   ]
  },
  {
   "cell_type": "code",
   "execution_count": 3,
   "metadata": {},
   "outputs": [],
   "source": [
    "df_tr_fu_filt_delta = pd.read_csv(generaPath('O', 'df_tr_fu_filt_delta.csv'))\n",
    "df_re_fu_filt_delta = pd.read_csv(generaPath('O', 'df_re_fu_filt_delta.csv'))"
   ]
  },
  {
   "cell_type": "code",
   "execution_count": 4,
   "metadata": {},
   "outputs": [],
   "source": [
    "conteos_1d_sb_tr = pd.read_csv(generaPath('O', 'conteos_1d_sb_tr.csv'))\n",
    "conteos_1d_sb_re = pd.read_csv(generaPath('O', 'conteos_1d_sb_re.csv'))"
   ]
  },
  {
   "cell_type": "code",
   "execution_count": 5,
   "metadata": {},
   "outputs": [],
   "source": [
    "conteos_1d_tr = pd.read_csv(generaPath('O', 'conteos_1d_tr.csv'))\n",
    "conteos_1d_re = pd.read_csv(generaPath('O', 'conteos_1d_re.csv'))"
   ]
  },
  {
   "cell_type": "code",
   "execution_count": 6,
   "metadata": {},
   "outputs": [],
   "source": [
    "conteos_2d_tr = pd.read_csv(generaPath('O', 'conteos_2d_tr.csv'))\n",
    "conteos_2d_re = pd.read_csv(generaPath('O', 'conteos_2d_re.csv'))"
   ]
  },
  {
   "cell_type": "code",
   "execution_count": 7,
   "metadata": {},
   "outputs": [],
   "source": [
    "conteos_3d_tr = pd.read_csv(generaPath('O', 'conteos_3d_tr.csv'))\n",
    "conteos_3d_re = pd.read_csv(generaPath('O', 'conteos_3d_re.csv'))"
   ]
  },
  {
   "cell_type": "code",
   "execution_count": 8,
   "metadata": {},
   "outputs": [],
   "source": [
    "conteos_4d_tr = pd.read_csv(generaPath('O', 'conteos_4d_tr.csv'))\n",
    "conteos_4d_re = pd.read_csv(generaPath('O', 'conteos_4d_re.csv'))"
   ]
  },
  {
   "cell_type": "code",
   "execution_count": 9,
   "metadata": {},
   "outputs": [],
   "source": [
    "conteos_5d_tr = pd.read_csv(generaPath('O', 'conteos_5d_tr.csv'))\n",
    "conteos_5d_re = pd.read_csv(generaPath('O', 'conteos_5d_re.csv'))"
   ]
  },
  {
   "cell_type": "markdown",
   "metadata": {},
   "source": [
    "#### Establezco los valores de inicio de los sorteos para calcular deltas"
   ]
  },
  {
   "cell_type": "code",
   "execution_count": 10,
   "metadata": {},
   "outputs": [
    {
     "name": "stdout",
     "output_type": "stream",
     "text": [
      "sorteo mas reciente  idSorteo    2149\n",
      "dtype: int64\n",
      "sorteo inicial  idSorteo    1671\n",
      "dtype: int64\n"
     ]
    }
   ],
   "source": [
    "df_topes = df_tr_fu_filt_delta.iloc[0::1,[0]]\n",
    "recent = df_topes.max()\n",
    "print(\"sorteo mas reciente \", recent)\n",
    "oldest = df_topes.min()\n",
    "print(\"sorteo inicial \", oldest)"
   ]
  },
  {
   "cell_type": "markdown",
   "metadata": {},
   "source": [
    "#### Se calcula los valores de diferencia entre los diversos sorteos"
   ]
  },
  {
   "cell_type": "code",
   "execution_count": 11,
   "metadata": {},
   "outputs": [],
   "source": [
    "def calcular_deltas_verticales(df):\n",
    "    delticas = []\n",
    "    previo = recent\n",
    "    for index, row in df.iterrows():\n",
    "        resta = int(previo) - int(row[0])\n",
    "        #print(\"resta : \", resta, \" previo \", previo, \" Sorteo: \", row[0], )\n",
    "        delticas.append(int(resta))\n",
    "        previo = int(row[0])\n",
    "    resta = int(previo) - int(oldest)\n",
    "    #print(resta)\n",
    "    delticas.append(int(resta))\n",
    "    return delticas"
   ]
  },
  {
   "cell_type": "code",
   "execution_count": 12,
   "metadata": {},
   "outputs": [],
   "source": [
    "def unsplited_tupla(sbs):\n",
    "    delticas = []\n",
    "    partido = sbs.split(sep='|') if (sbs.find(\"|\") >= 1) else sbs\n",
    "    return partido"
   ]
  },
  {
   "cell_type": "code",
   "execution_count": 13,
   "metadata": {},
   "outputs": [],
   "source": [
    "def calc_media(df):\n",
    "    acum = 0\n",
    "    media = 0\n",
    "    length = len(df) \n",
    "    for i in range(length): \n",
    "        acum += int(df[i])\n",
    "    media = int(acum/length)\n",
    "    #print(\"valor de media: \", media)\n",
    "    return media"
   ]
  },
  {
   "cell_type": "code",
   "execution_count": 14,
   "metadata": {},
   "outputs": [],
   "source": [
    "def calc_moda(df):\n",
    "    repetir = 0                                                                         \n",
    "    for i in df:                                                                              \n",
    "        aparece = df.count(i)                                                             \n",
    "        if aparece > repetir:                                                       \n",
    "            repetir = aparece \n",
    "    \n",
    "    moda = []                                                                               \n",
    "    for i in df:                                                                              \n",
    "        aparece = df.count(i)\n",
    "        #print(\"aparece \", aparece)\n",
    "        if aparece == repetir and i not in moda:                                   \n",
    "            moda.append(i) \n",
    "            #print(\"moda\", moda)\n",
    "            \n",
    "    return moda"
   ]
  },
  {
   "cell_type": "code",
   "execution_count": 15,
   "metadata": {},
   "outputs": [],
   "source": [
    "def calc_cant_moda(df_deltas, df_elected):\n",
    "    #print(df_elected)\n",
    "    num = str(df_elected[0])\n",
    "    partido = num.split(sep='|') if (num.find(\"|\") >= 1) else num\n",
    "    \n",
    "    #print(partido)\n",
    "    repetir = 0                                                                         \n",
    "    for i in df_deltas:\n",
    "        #print(\"valor de i :\", i)\n",
    "        aparece = df_deltas.count(df_elected[0])   \n",
    "        #print(\"valor de aparece:\", aparece)\n",
    "        if aparece > repetir:                                                       \n",
    "            repetir = aparece \n",
    "    \n",
    "    moda = []                                                                               \n",
    "    for i in df_deltas:                                                                              \n",
    "        aparece = df_deltas.count(i)\n",
    "        #print(\"aparece \", aparece)\n",
    "        if aparece == repetir and i not in moda:                                   \n",
    "            moda.append(i) \n",
    "            #print(\"moda\", moda)\n",
    "    #print(\"fin ciclo\", moda)        \n",
    "    return moda"
   ]
  },
  {
   "cell_type": "code",
   "execution_count": 16,
   "metadata": {},
   "outputs": [],
   "source": [
    "def sumarcol_peso(ldf):\n",
    "    #print(\"valor de ldf\", ldf)\n",
    "    df = pd.DataFrame(ldf)\n",
    "    #print(\"columna conteo \", df['conteo'])\n",
    "    suma = ldf.sum()\n",
    "    #suma = sumalista(df)\n",
    "    print(\"valor de suma \", suma  )\n",
    "    pesos = []                                                                               \n",
    "    for index, row in df.iterrows():\n",
    "        cant_tupla = int(row[0])\n",
    "        #print(\"can_tupla \", cant_tupla)\n",
    "        if cant_tupla > 0:\n",
    "            dividido = cant_tupla /suma \n",
    "        pesos.append(float(dividido))  \n",
    "    #print(type(pesos))\n",
    "    return pesos"
   ]
  },
  {
   "cell_type": "code",
   "execution_count": 17,
   "metadata": {},
   "outputs": [],
   "source": [
    "def sumalista(df):\n",
    "    acum = 0\n",
    "    #print(\"valor de listaNumeros \", df)\n",
    "    for index, row in df.iterrows():\n",
    "        cant_tupla = int(row[0])\n",
    "        #print(\"can_tupla \", cant_tupla)\n",
    "        acum = acum + cant_tupla\n",
    "        print(acum)\n",
    "    return acum"
   ]
  },
  {
   "cell_type": "code",
   "execution_count": 18,
   "metadata": {},
   "outputs": [],
   "source": [
    "def entire_part(res1):\n",
    "    pd, pe = math.modf(res1)\n",
    "    #print(\"entire Part: \", pe, \" decimal part: \", pd)\n",
    "    if (int(pe) >= int(1)):\n",
    "        res = pd\n",
    "    else: \n",
    "        res = 1 - pd\n",
    "    #print(\"res en entire_part\", res)\n",
    "    return res"
   ]
  },
  {
   "cell_type": "code",
   "execution_count": 19,
   "metadata": {},
   "outputs": [],
   "source": [
    "def set_hot_level(last_number, evaluated_number ):\n",
    "    #print(\"last:\",int(last_number), \" evaluated \",int(evaluated_number))\n",
    "    if (int(last_number) > int(0) & int(evaluated_number) > int(0)):\n",
    "        num = float(int(last_number) /int(evaluated_number))\n",
    "    else:\n",
    "        num = int(0)\n",
    "    #print(\"num:\", num)\n",
    "    ret = entire_part(num)\n",
    "    return ret"
   ]
  },
  {
   "cell_type": "code",
   "execution_count": 20,
   "metadata": {},
   "outputs": [],
   "source": [
    "def set_closer_to_1(actual_number, new_number ):\n",
    "    if actual_number >1:\n",
    "        dif1 = float(actual_number - 1)\n",
    "    else:\n",
    "        dif1 = float(1 - actual_number)\n",
    "    if new_number > 1:\n",
    "        dif2 = float(new_number - 1)\n",
    "    else:\n",
    "        dif2 = float(1- new_number) \n",
    "    \n",
    "    if dif1 > dif2:\n",
    "        dif = new_number\n",
    "    else:\n",
    "        dif = actual_number\n",
    "    return dif"
   ]
  },
  {
   "cell_type": "code",
   "execution_count": 21,
   "metadata": {},
   "outputs": [],
   "source": [
    "def retorna_valor(valor):\n",
    "    p2t = 0\n",
    "    if float(valor) == float(0.0):\n",
    "        p2t = float(0.3333)\n",
    "    else:    \n",
    "        p2t = valor\n",
    "    return p2t"
   ]
  },
  {
   "cell_type": "code",
   "execution_count": 22,
   "metadata": {},
   "outputs": [],
   "source": [
    "def how_hot_is(df, df_base):\n",
    "    anterior = 0\n",
    "    prob = []\n",
    "    prob1 = []\n",
    "    prob2 = []\n",
    "    prob3 = []\n",
    "    better = []\n",
    "    for index, row in df.iterrows():\n",
    "        last = int(row[3])\n",
    "        media = int(row[2])\n",
    "        moda = str(row[4]) \n",
    "        pesos = float(row[7])\n",
    "        #print(\"last: \",last,\" media: \", media, \" pesos: \", pesos, \" moda: \", moda)\n",
    "        if ((int(last) > int(0)) & (int(media) > int(0)) ):\n",
    "            res1 = set_hot_level(last, media)\n",
    "            p1 = float(res1)\n",
    "        else:\n",
    "            p1 = float(0.33)\n",
    "        prob1.append(p1)\n",
    "        \n",
    "        splitedtupla= unsplited_tupla(moda)\n",
    "        if type(splitedtupla) is not type(moda):\n",
    "            df_splited = pd.DataFrame(splitedtupla)\n",
    "            #print(\"df_splited:\", df_splited)\n",
    "            for index, row in df_splited.iterrows():\n",
    "                valor = int(row[0])\n",
    "                res2 = set_hot_level(last, valor)\n",
    "                better.append(float(res2)) \n",
    "            #print(\"valor de better \", better)\n",
    "            conteo = len(better)          \n",
    "            for i in better: \n",
    "                temp = float(i) \n",
    "                if int(conteo) == int(0):\n",
    "                    conteo = conteo +1\n",
    "                    anterior = i\n",
    "                else:\n",
    "                    conteo = conteo +1\n",
    "                    if float(temp) <= float(anterior):\n",
    "                        anterior = temp\n",
    "            p2 = retorna_valor(anterior)\n",
    "        else:\n",
    "            res2 = set_hot_level(last, moda)\n",
    "            p2 = retorna_valor(res2)\n",
    "        prob2.append(p2)        \n",
    "        \n",
    "        p3 = pesos\n",
    "        prob3.append(p3)\n",
    "        #print(\"p1: \",p1, \"p2: \", p2, \"p3: \", p3)\n",
    "        prob.append(float(p1 + p2 + p3)/ int(3))\n",
    "    return prob, prob1, prob2, prob3"
   ]
  },
  {
   "cell_type": "code",
   "execution_count": 23,
   "metadata": {},
   "outputs": [],
   "source": [
    "def procesa_conteo_sbs(conteos, df):\n",
    "    media = []\n",
    "    modaa = []\n",
    "    lasts = []\n",
    "    delta = []\n",
    "    resta = []\n",
    "    for index, row in conteos.iterrows():\n",
    "        sbs = str(row[1])\n",
    "        sbs1 = [str(sbs)]\n",
    "        dftx = df[df.sb.isin(sbs1)]\n",
    "        df_filt = dftx.iloc[0::1,[0]]\n",
    "        df_tupla = calcular_deltas_verticales(df_filt)\n",
    "        lasts.append(df_tupla[0])\n",
    "        media.append(calc_media(df_tupla))\n",
    "        resta.append(abs(int(df_tupla[0])- int(calc_media(df_tupla))))\n",
    "        df_moda = calc_moda(df_tupla)\n",
    "        pal = '|'.join([str(m) for m in df_moda]) if len(df_moda) > 1  else str(df_moda[0])\n",
    "        modaa.append(pal)\n",
    "        #conteos = calc_cant_moda(df_tupla, df_moda)\n",
    "        palabra = '|'.join([str(e) for e in df_tupla]) \n",
    "        delta.append(palabra)        \n",
    "        #print(sbs, \" X\", promedio, \" L\", last, \" M\", moda,\" T\",  df_tupla)\n",
    "    dft = conteos\n",
    "    dft['X'] = media\n",
    "    dft['L'] = lasts\n",
    "    dft['R'] = resta    \n",
    "    dft['M'] = modaa\n",
    "    dft['T'] = delta\n",
    "    df_filt2 = dft.iloc[0::1,[0]]\n",
    "    #print(\"df_filt2\", df_filt2)\n",
    "    df_pesos = sumarcol_peso(df_filt2)\n",
    "    #print(\"valor de df_pesos \", df_pesos)\n",
    "    \n",
    "    dft['P'] = df_pesos\n",
    "    #dft['Pr'], dft['Pr1'],dft['Pr2'],dft['Pr3'] = how_hot_is(dft, df_tr_fu_filt_delta)\n",
    "    proba, proba1,proba2,proba3 = how_hot_is(dft, df_tr_fu_filt_delta)\n",
    "    dft['Pr']= proba\n",
    "    dft['PrX'] = proba1\n",
    "    dft['PrL'] = proba2\n",
    "    dft['PrM'] = proba3\n",
    "    #dft.insert(2, \"P\", df_pesos, True) \n",
    "    return dft"
   ]
  },
  {
   "cell_type": "code",
   "execution_count": 24,
   "metadata": {},
   "outputs": [],
   "source": [
    "def procesa_conteo_singles(conteos, df):\n",
    "    media = []\n",
    "    modaa = []\n",
    "    lasts = []\n",
    "    delta = []\n",
    "    resta = []\n",
    "    for index, row in conteos.iterrows():\n",
    "        sbs = str(row[1])\n",
    "        sbs1 = [str(sbs)]\n",
    "        dftx = df[df.n1.isin(sbs1) | df.n2.isin(sbs1) |df.n3.isin(sbs1) | df.n4.isin(sbs1) |df.n5.isin(sbs1)]\n",
    "        df_filt = dftx.iloc[0::1,[0]]\n",
    "        df_tupla = calcular_deltas_verticales(df_filt)\n",
    "        lasts.append(df_tupla[0])\n",
    "        media.append(calc_media(df_tupla))\n",
    "        resta.append(abs(int(df_tupla[0])- int(calc_media(df_tupla))))\n",
    "        df_moda = calc_moda(df_tupla)\n",
    "        pal = '|'.join([str(m) for m in df_moda]) if len(df_moda) > 1  else str(df_moda[0])\n",
    "        modaa.append(pal)\n",
    "        #conteos = calc_cant_moda(df_tupla, df_moda)\n",
    "        palabra = '|'.join([str(e) for e in df_tupla]) \n",
    "        delta.append(palabra)        \n",
    "        #print(sbs, \" X\", promedio, \" L\", last, \" M\", moda,\" T\",  df_tupla)\n",
    "    dft = conteos\n",
    "    dft['X'] = media\n",
    "    dft['L'] = lasts\n",
    "    dft['R'] = resta  \n",
    "    dft['M'] = modaa\n",
    "    dft['T'] = delta\n",
    "    df_filt2 = dft.iloc[0::1,[0]]\n",
    "    #print(\"df_filt2\", df_filt2)\n",
    "    df_pesos = sumarcol_peso(df_filt2)\n",
    "    #print(\"valor de df_pesos \", df_pesos)\n",
    "    \n",
    "    dft['P'] = df_pesos\n",
    "    #dft['Pr'], dft['Pr1'],dft['Pr2'],dft['Pr3']  = how_hot_is(dft, df_tr_fu_filt_delta)\n",
    "    proba, proba1,proba2,proba3 = how_hot_is(dft, df_tr_fu_filt_delta)\n",
    "    dft['Pr']= proba\n",
    "    dft['PrX'] = proba1\n",
    "    dft['PrL'] = proba2\n",
    "    dft['PrM'] = proba3\n",
    "    #dft.insert(2, \"P\", df_pesos, True) \n",
    "    return dft"
   ]
  },
  {
   "cell_type": "code",
   "execution_count": 25,
   "metadata": {},
   "outputs": [],
   "source": [
    "def procesa_conteo_dobles(conteos, df):\n",
    "    media = []\n",
    "    modaa = []\n",
    "    lasts = []\n",
    "    delta = []\n",
    "    resta = []\n",
    "    for index, row in conteos.iterrows():\n",
    "        sbs = str(row[1])\n",
    "        splitedtupla= unsplited_tupla(sbs)\n",
    "        sbs1 = [str(splitedtupla[0])]\n",
    "        sbs2 = [str(splitedtupla[1])]\n",
    "        dftx = df[(df.n1.isin(sbs1) | df.n2.isin(sbs1) |df.n3.isin(sbs1) | df.n4.isin(sbs1) |df.n5.isin(sbs1)) \n",
    "                & (df.n1.isin(sbs2) | df.n2.isin(sbs2) |df.n3.isin(sbs2) | df.n4.isin(sbs2) |df.n5.isin(sbs2))]\n",
    "        df_filt = dftx.iloc[0::1,[0]]\n",
    "        df_tupla = calcular_deltas_verticales(df_filt)\n",
    "        lasts.append(df_tupla[0])\n",
    "        media.append(calc_media(df_tupla))\n",
    "        resta.append(abs(int(df_tupla[0])- int(calc_media(df_tupla))))\n",
    "        df_moda = calc_moda(df_tupla)\n",
    "        pal = '|'.join([str(m) for m in df_moda]) if len(df_moda) > 1  else str(df_moda[0])\n",
    "        modaa.append(pal)\n",
    "        palabra = '|'.join([str(e) for e in df_tupla]) \n",
    "        delta.append(palabra)\n",
    "    dft = conteos\n",
    "    #print(\"IMPRIMO DFT \", dft)\n",
    "    dft['X'] = media\n",
    "    dft['L'] = lasts\n",
    "    dft['R'] = resta    \n",
    "    dft['M'] = modaa\n",
    "    df_filt2 = dft.iloc[0::1,[0]]\n",
    "    #print(\"df_filt2\", df_filt2)\n",
    "    df_pesos = sumarcol_peso(df_filt2)\n",
    "    #print(\"valor de df_pesos \", df_pesos)\n",
    "    dft['T'] = delta\n",
    "    dft['P'] = df_pesos\n",
    "    #dft['Pr'], dft['Pr1'],dft['Pr2'],dft['Pr3']  =how_hot_is(dft, df_tr_fu_filt_delta)\n",
    "    proba, proba1,proba2,proba3 = how_hot_is(dft, df_tr_fu_filt_delta)\n",
    "    dft['Pr']= proba\n",
    "    dft['PrX'] = proba1\n",
    "    dft['PrL'] = proba2\n",
    "    dft['PrM'] = proba3\n",
    "    return dft"
   ]
  },
  {
   "cell_type": "code",
   "execution_count": 26,
   "metadata": {},
   "outputs": [],
   "source": [
    "def procesa_conteo_triples(conteos, df):\n",
    "    media = []\n",
    "    modaa = []\n",
    "    lasts = []\n",
    "    delta = []\n",
    "    resta = []\n",
    "    for index, row in conteos.iterrows():\n",
    "        sbs = str(row[1])\n",
    "        splitedtupla= unsplited_tupla(sbs)\n",
    "        sbs1 = [str(splitedtupla[0])]\n",
    "        sbs2 = [str(splitedtupla[1])]\n",
    "        sbs3 = [str(splitedtupla[2])]\n",
    "        dftx = df[(df.n1.isin(sbs1) | df.n2.isin(sbs1) |df.n3.isin(sbs1) | df.n4.isin(sbs1) |df.n5.isin(sbs1)) \n",
    "                & (df.n1.isin(sbs2) | df.n2.isin(sbs2) |df.n3.isin(sbs2) | df.n4.isin(sbs2) |df.n5.isin(sbs2)) \n",
    "                & (df.n1.isin(sbs3) | df.n2.isin(sbs3) |df.n3.isin(sbs3) | df.n4.isin(sbs3) |df.n5.isin(sbs3)) ]\n",
    "        #print(dftx)\n",
    "        df_filt = dftx.iloc[0::1,[0]]\n",
    "        df_tupla = calcular_deltas_verticales(df_filt)\n",
    "        lasts.append(df_tupla[0])\n",
    "        media.append(calc_media(df_tupla))\n",
    "        resta.append(abs(int(df_tupla[0])- int(calc_media(df_tupla))))\n",
    "        df_moda = calc_moda(df_tupla)\n",
    "        pal = '|'.join([str(m) for m in df_moda]) if len(df_moda) > 1  else str(df_moda[0])\n",
    "        modaa.append(pal)\n",
    "        palabra = '|'.join([str(e) for e in df_tupla]) \n",
    "        delta.append(palabra)\n",
    "    dft = conteos\n",
    "    dft['X'] = media\n",
    "    dft['L'] = lasts\n",
    "    dft['R'] = resta    \n",
    "    dft['M'] = modaa\n",
    "    df_filt2 = dft.iloc[0::1,[0]]\n",
    "    #print(\"df_filt2\", df_filt2)\n",
    "    df_pesos = sumarcol_peso(df_filt2)\n",
    "    #print(\"valor de df_pesos \", df_pesos)\n",
    "    dft['T'] = delta\n",
    "    dft['P'] = df_pesos\n",
    "    #dft['Pr'], dft['Pr1'],dft['Pr2'],dft['Pr3']  = how_hot_is(dft, df_tr_fu_filt_delta)\n",
    "    proba, proba1,proba2,proba3 = how_hot_is(dft, df_tr_fu_filt_delta)\n",
    "    dft['Pr']= proba\n",
    "    dft['PrX'] = proba1\n",
    "    dft['PrL'] = proba2\n",
    "    dft['PrM'] = proba3\n",
    "    return dft"
   ]
  },
  {
   "cell_type": "code",
   "execution_count": 27,
   "metadata": {},
   "outputs": [],
   "source": [
    "def procesa_conteo_cuartetos(conteos, df):\n",
    "    media = []\n",
    "    modaa = []\n",
    "    lasts = []\n",
    "    delta = []\n",
    "    resta = []\n",
    "    for index, row in conteos.iterrows():\n",
    "        sbs = str(row[1])\n",
    "        splitedtupla= unsplited_tupla(sbs)\n",
    "        sbs1 = [str(splitedtupla[0])]\n",
    "        sbs2 = [str(splitedtupla[1])]\n",
    "        sbs3 = [str(splitedtupla[2])]\n",
    "        sbs4 = [str(splitedtupla[3])]\n",
    "        dftx = df[(df.n1.isin(sbs1) | df.n2.isin(sbs1) |df.n3.isin(sbs1) | df.n4.isin(sbs1) |df.n5.isin(sbs1)) \n",
    "                & (df.n1.isin(sbs2) | df.n2.isin(sbs2) |df.n3.isin(sbs2) | df.n4.isin(sbs2) |df.n5.isin(sbs2)) \n",
    "                & (df.n1.isin(sbs3) | df.n2.isin(sbs3) |df.n3.isin(sbs3) | df.n4.isin(sbs3) |df.n5.isin(sbs3))\n",
    "                & (df.n1.isin(sbs4) | df.n2.isin(sbs4) |df.n3.isin(sbs4) | df.n4.isin(sbs4) |df.n5.isin(sbs4))]\n",
    "        #print(dftx)\n",
    "        df_filt = dftx.iloc[0::1,[0]]\n",
    "        df_tupla = calcular_deltas_verticales(df_filt)\n",
    "        lasts.append(df_tupla[0])\n",
    "        media.append(calc_media(df_tupla))\n",
    "        resta.append(abs(int(df_tupla[0])- int(calc_media(df_tupla))))\n",
    "        df_moda = calc_moda(df_tupla)\n",
    "        pal = '|'.join([str(m) for m in df_moda]) if len(df_moda) > 1  else str(df_moda[0])\n",
    "        modaa.append(pal)\n",
    "        palabra = '|'.join([str(e) for e in df_tupla]) \n",
    "        delta.append(palabra)\n",
    "    dft = conteos\n",
    "    dft['X'] = media\n",
    "    dft['L'] = lasts\n",
    "    dft['R'] = resta\n",
    "    dft['M'] = modaa\n",
    "    df_filt2 = dft.iloc[0::1,[0]]\n",
    "    #print(\"df_filt2\", df_filt2)\n",
    "    df_pesos = sumarcol_peso(df_filt2)\n",
    "    #print(\"valor de df_pesos \", df_pesos)\n",
    "    dft['T'] = delta\n",
    "    dft['P'] = df_pesos\n",
    "    #dft['Pr'], dft['Pr1'],dft['Pr2'],dft['Pr3']  = how_hot_is(dft, df_tr_fu_filt_delta)\n",
    "    proba, proba1,proba2,proba3 = how_hot_is(dft, df_tr_fu_filt_delta)\n",
    "    dft['Pr']= proba\n",
    "    dft['PrX'] = proba1\n",
    "    dft['PrL'] = proba2\n",
    "    dft['PrM'] = proba3\n",
    "    return dft"
   ]
  },
  {
   "cell_type": "code",
   "execution_count": 28,
   "metadata": {},
   "outputs": [],
   "source": [
    "def procesa_conteo_quintetos(conteos, df):\n",
    "    media = []\n",
    "    modaa = []\n",
    "    lasts = []\n",
    "    delta = []  \n",
    "    resta = []\n",
    "    for index, row in conteos.iterrows():\n",
    "        sbs = str(row[1])\n",
    "        splitedtupla= unsplited_tupla(sbs)\n",
    "        sbs1 = [str(splitedtupla[0])]\n",
    "        sbs2 = [str(splitedtupla[1])]\n",
    "        sbs3 = [str(splitedtupla[2])]\n",
    "        sbs4 = [str(splitedtupla[3])]\n",
    "        sbs5 = [str(splitedtupla[4])]\n",
    "        dftx = df[(df.n1.isin(sbs1) | df.n2.isin(sbs1) |df.n3.isin(sbs1) | df.n4.isin(sbs1) |df.n5.isin(sbs1)) \n",
    "                & (df.n1.isin(sbs2) | df.n2.isin(sbs2) |df.n3.isin(sbs2) | df.n4.isin(sbs2) |df.n5.isin(sbs2)) \n",
    "                & (df.n1.isin(sbs3) | df.n2.isin(sbs3) |df.n3.isin(sbs3) | df.n4.isin(sbs3) |df.n5.isin(sbs3))\n",
    "                & (df.n1.isin(sbs4) | df.n2.isin(sbs4) |df.n3.isin(sbs4) | df.n4.isin(sbs4) |df.n5.isin(sbs4))\n",
    "                & (df.n1.isin(sbs5) | df.n2.isin(sbs5) |df.n3.isin(sbs5) | df.n4.isin(sbs5) |df.n5.isin(sbs5)) ]\n",
    "        #print(dftx)\n",
    "        df_filt = dftx.iloc[0::1,[0]]\n",
    "        df_tupla = calcular_deltas_verticales(df_filt)\n",
    "        lasts.append(df_tupla[0])\n",
    "        media.append(calc_media(df_tupla))\n",
    "        resta.append(abs(int(df_tupla[0])- int(calc_media(df_tupla))))\n",
    "        df_moda = calc_moda(df_tupla)\n",
    "        pal = '|'.join([str(m) for m in df_moda]) if len(df_moda) > 1  else str(df_moda[0])\n",
    "        modaa.append(pal)\n",
    "        palabra = '|'.join([str(e) for e in df_tupla]) \n",
    "        delta.append(palabra)\n",
    "    dft = conteos\n",
    "    dft['X'] = media\n",
    "    dft['L'] = lasts\n",
    "    dft['R'] = resta\n",
    "    dft['M'] = modaa\n",
    "    df_filt2 = dft.iloc[0::1,[0]]\n",
    "    #print(\"df_filt2\", df_filt2)\n",
    "    df_pesos = sumarcol_peso(df_filt2)\n",
    "    #print(\"valor de df_pesos \", df_pesos)\n",
    "    dft['T'] = delta\n",
    "    dft['P'] = df_pesos\n",
    "    proba, proba1,proba2,proba3 = how_hot_is(dft, df_tr_fu_filt_delta)\n",
    "    dft['Pr']= proba\n",
    "    dft['PrX'] = proba1\n",
    "    dft['PrL'] = proba2\n",
    "    dft['PrM'] = proba3\n",
    "    return dft"
   ]
  },
  {
   "cell_type": "code",
   "execution_count": 29,
   "metadata": {},
   "outputs": [],
   "source": [
    "rangos = [*range(0, 3, 1)]\n",
    "rangos_sb = [*range(0, 5, 1)]"
   ]
  },
  {
   "cell_type": "code",
   "execution_count": 30,
   "metadata": {},
   "outputs": [
    {
     "name": "stdout",
     "output_type": "stream",
     "text": [
      "valor de suma  conteo    479\n",
      "dtype: int64\n"
     ]
    }
   ],
   "source": [
    "df_cs_tr_sb = procesa_conteo_sbs(conteos_1d_sb_tr, df_tr_fu_filt_delta)\n",
    "df_cs_tr_sb = df_cs_tr_sb.sort_values('R',ascending=True)\n",
    "df_cs_tr_sb_fi = df_cs_tr_sb[df_cs_tr_sb.R.isin(rangos_sb)]\n",
    "#df_cs_tr_sb_fi"
   ]
  },
  {
   "cell_type": "code",
   "execution_count": 31,
   "metadata": {},
   "outputs": [
    {
     "name": "stdout",
     "output_type": "stream",
     "text": [
      "    tupla  R\n",
      "7       8  0\n",
      "15     16  1\n",
      "6       7  2\n",
      "0       1  3\n",
      "12     13  4\n"
     ]
    }
   ],
   "source": [
    "df_sel_sb_tr = df_cs_tr_sb_fi.iloc[0::1,[1,4]]\n",
    "df_sel_sb_tr\n",
    "print(df_sel_sb_tr)"
   ]
  },
  {
   "cell_type": "code",
   "execution_count": 32,
   "metadata": {},
   "outputs": [
    {
     "name": "stdout",
     "output_type": "stream",
     "text": [
      "valor de suma  conteo    2395\n",
      "dtype: int64\n"
     ]
    }
   ],
   "source": [
    "df_cs_tr = procesa_conteo_singles(conteos_1d_tr, df_tr_fu_filt_delta)\n",
    "df_cs_tr = df_cs_tr.sort_values('R',ascending=True)\n",
    "df_cs_tr_fi = df_cs_tr[df_cs_tr.R.isin(rangos)]\n",
    "#df_cs_tr"
   ]
  },
  {
   "cell_type": "code",
   "execution_count": 33,
   "metadata": {},
   "outputs": [
    {
     "data": {
      "text/html": [
       "<div>\n",
       "<style scoped>\n",
       "    .dataframe tbody tr th:only-of-type {\n",
       "        vertical-align: middle;\n",
       "    }\n",
       "\n",
       "    .dataframe tbody tr th {\n",
       "        vertical-align: top;\n",
       "    }\n",
       "\n",
       "    .dataframe thead th {\n",
       "        text-align: right;\n",
       "    }\n",
       "</style>\n",
       "<table border=\"1\" class=\"dataframe\">\n",
       "  <thead>\n",
       "    <tr style=\"text-align: right;\">\n",
       "      <th></th>\n",
       "      <th>tupla</th>\n",
       "      <th>R</th>\n",
       "    </tr>\n",
       "  </thead>\n",
       "  <tbody>\n",
       "    <tr>\n",
       "      <td>41</td>\n",
       "      <td>42</td>\n",
       "      <td>1</td>\n",
       "    </tr>\n",
       "    <tr>\n",
       "      <td>16</td>\n",
       "      <td>17</td>\n",
       "      <td>1</td>\n",
       "    </tr>\n",
       "    <tr>\n",
       "      <td>35</td>\n",
       "      <td>36</td>\n",
       "      <td>2</td>\n",
       "    </tr>\n",
       "    <tr>\n",
       "      <td>33</td>\n",
       "      <td>34</td>\n",
       "      <td>2</td>\n",
       "    </tr>\n",
       "    <tr>\n",
       "      <td>11</td>\n",
       "      <td>12</td>\n",
       "      <td>2</td>\n",
       "    </tr>\n",
       "    <tr>\n",
       "      <td>12</td>\n",
       "      <td>13</td>\n",
       "      <td>2</td>\n",
       "    </tr>\n",
       "    <tr>\n",
       "      <td>24</td>\n",
       "      <td>25</td>\n",
       "      <td>2</td>\n",
       "    </tr>\n",
       "  </tbody>\n",
       "</table>\n",
       "</div>"
      ],
      "text/plain": [
       "    tupla  R\n",
       "41     42  1\n",
       "16     17  1\n",
       "35     36  2\n",
       "33     34  2\n",
       "11     12  2\n",
       "12     13  2\n",
       "24     25  2"
      ]
     },
     "execution_count": 33,
     "metadata": {},
     "output_type": "execute_result"
    }
   ],
   "source": [
    "df_sel_si_tr = df_cs_tr_fi.iloc[0::1,[1,4]]\n",
    "df_sel_si_tr"
   ]
  },
  {
   "cell_type": "code",
   "execution_count": 34,
   "metadata": {},
   "outputs": [
    {
     "name": "stdout",
     "output_type": "stream",
     "text": [
      "valor de suma  conteo    4790\n",
      "dtype: int64\n"
     ]
    }
   ],
   "source": [
    "df_cd_tr = procesa_conteo_dobles(conteos_2d_tr, df_tr_fu_filt_delta)\n",
    "df_cd_tr = df_cd_tr.sort_values('R',ascending=True)\n",
    "df_cd_tr_fi = df_cd_tr[df_cd_tr.R.isin(rangos)]\n",
    "#df_cd_tr_fi"
   ]
  },
  {
   "cell_type": "code",
   "execution_count": null,
   "metadata": {},
   "outputs": [],
   "source": []
  },
  {
   "cell_type": "code",
   "execution_count": 35,
   "metadata": {},
   "outputs": [
    {
     "name": "stdout",
     "output_type": "stream",
     "text": [
      "valor de suma  conteo    4790\n",
      "dtype: int64\n"
     ]
    }
   ],
   "source": [
    "df_ct_tr = procesa_conteo_triples(conteos_3d_tr, df_tr_fu_filt_delta)\n",
    "df_ct_tr = df_ct_tr.sort_values('R',ascending=True)\n",
    "#df_ct_tr.tail(25)\n",
    "#df_ct_tr"
   ]
  },
  {
   "cell_type": "code",
   "execution_count": 36,
   "metadata": {},
   "outputs": [
    {
     "name": "stdout",
     "output_type": "stream",
     "text": [
      "valor de suma  conteo    2395\n",
      "dtype: int64\n"
     ]
    }
   ],
   "source": [
    "df_cc_tr = procesa_conteo_cuartetos(conteos_4d_tr, df_tr_fu_filt_delta)\n",
    "df_cc_tr = df_cc_tr.sort_values('tupla',ascending=True)\n",
    "#df_cc_tr.head(25)\n",
    "#df_cc_tr"
   ]
  },
  {
   "cell_type": "code",
   "execution_count": 37,
   "metadata": {},
   "outputs": [
    {
     "name": "stdout",
     "output_type": "stream",
     "text": [
      "valor de suma  conteo    479\n",
      "dtype: int64\n"
     ]
    }
   ],
   "source": [
    "df_cq_tr = procesa_conteo_quintetos(conteos_5d_tr, df_tr_fu_filt_delta)\n",
    "df_cq_tr = df_cq_tr.sort_values('tupla',ascending=True)\n",
    "#df_cq_tr.head(25)"
   ]
  },
  {
   "cell_type": "markdown",
   "metadata": {},
   "source": [
    "#### Aqui empiezan los llamados a los calculos de revancha"
   ]
  },
  {
   "cell_type": "code",
   "execution_count": 38,
   "metadata": {},
   "outputs": [
    {
     "name": "stdout",
     "output_type": "stream",
     "text": [
      "valor de suma  conteo    479\n",
      "dtype: int64\n"
     ]
    }
   ],
   "source": [
    "df_cs_re_sb = procesa_conteo_sbs(conteos_1d_sb_re, df_re_fu_filt_delta)\n",
    "df_cs_re_sb = df_cs_re_sb.sort_values('R',ascending=True)\n",
    "df_cs_re_sb_fi = df_cs_re_sb[df_cs_re_sb.R.isin(rangos_sb)]\n",
    "#df_cs_re_sb_fi"
   ]
  },
  {
   "cell_type": "code",
   "execution_count": 39,
   "metadata": {},
   "outputs": [
    {
     "data": {
      "text/html": [
       "<div>\n",
       "<style scoped>\n",
       "    .dataframe tbody tr th:only-of-type {\n",
       "        vertical-align: middle;\n",
       "    }\n",
       "\n",
       "    .dataframe tbody tr th {\n",
       "        vertical-align: top;\n",
       "    }\n",
       "\n",
       "    .dataframe thead th {\n",
       "        text-align: right;\n",
       "    }\n",
       "</style>\n",
       "<table border=\"1\" class=\"dataframe\">\n",
       "  <thead>\n",
       "    <tr style=\"text-align: right;\">\n",
       "      <th></th>\n",
       "      <th>tupla</th>\n",
       "      <th>R</th>\n",
       "    </tr>\n",
       "  </thead>\n",
       "  <tbody>\n",
       "    <tr>\n",
       "      <td>5</td>\n",
       "      <td>6</td>\n",
       "      <td>1</td>\n",
       "    </tr>\n",
       "    <tr>\n",
       "      <td>11</td>\n",
       "      <td>12</td>\n",
       "      <td>1</td>\n",
       "    </tr>\n",
       "    <tr>\n",
       "      <td>10</td>\n",
       "      <td>11</td>\n",
       "      <td>4</td>\n",
       "    </tr>\n",
       "    <tr>\n",
       "      <td>12</td>\n",
       "      <td>13</td>\n",
       "      <td>4</td>\n",
       "    </tr>\n",
       "  </tbody>\n",
       "</table>\n",
       "</div>"
      ],
      "text/plain": [
       "    tupla  R\n",
       "5       6  1\n",
       "11     12  1\n",
       "10     11  4\n",
       "12     13  4"
      ]
     },
     "execution_count": 39,
     "metadata": {},
     "output_type": "execute_result"
    }
   ],
   "source": [
    "df_sel_sb_re = df_cs_re_sb_fi.iloc[0::1,[1,4]]\n",
    "df_sel_sb_re"
   ]
  },
  {
   "cell_type": "code",
   "execution_count": 40,
   "metadata": {},
   "outputs": [
    {
     "name": "stdout",
     "output_type": "stream",
     "text": [
      "valor de suma  conteo    2395\n",
      "dtype: int64\n"
     ]
    }
   ],
   "source": [
    "df_cs_re = procesa_conteo_singles(conteos_1d_re, df_re_fu_filt_delta)\n",
    "df_cs_re = df_cs_re.sort_values('R',ascending=True)\n",
    "df_cs_re_fi = df_cs_re[df_cs_re.R.isin(rangos)]\n",
    "#df_cs_re_fi"
   ]
  },
  {
   "cell_type": "code",
   "execution_count": 41,
   "metadata": {},
   "outputs": [
    {
     "data": {
      "text/html": [
       "<div>\n",
       "<style scoped>\n",
       "    .dataframe tbody tr th:only-of-type {\n",
       "        vertical-align: middle;\n",
       "    }\n",
       "\n",
       "    .dataframe tbody tr th {\n",
       "        vertical-align: top;\n",
       "    }\n",
       "\n",
       "    .dataframe thead th {\n",
       "        text-align: right;\n",
       "    }\n",
       "</style>\n",
       "<table border=\"1\" class=\"dataframe\">\n",
       "  <thead>\n",
       "    <tr style=\"text-align: right;\">\n",
       "      <th></th>\n",
       "      <th>tupla</th>\n",
       "      <th>R</th>\n",
       "    </tr>\n",
       "  </thead>\n",
       "  <tbody>\n",
       "    <tr>\n",
       "      <td>29</td>\n",
       "      <td>30</td>\n",
       "      <td>0</td>\n",
       "    </tr>\n",
       "    <tr>\n",
       "      <td>23</td>\n",
       "      <td>24</td>\n",
       "      <td>0</td>\n",
       "    </tr>\n",
       "    <tr>\n",
       "      <td>5</td>\n",
       "      <td>6</td>\n",
       "      <td>1</td>\n",
       "    </tr>\n",
       "    <tr>\n",
       "      <td>11</td>\n",
       "      <td>12</td>\n",
       "      <td>1</td>\n",
       "    </tr>\n",
       "    <tr>\n",
       "      <td>12</td>\n",
       "      <td>13</td>\n",
       "      <td>1</td>\n",
       "    </tr>\n",
       "    <tr>\n",
       "      <td>0</td>\n",
       "      <td>1</td>\n",
       "      <td>2</td>\n",
       "    </tr>\n",
       "    <tr>\n",
       "      <td>30</td>\n",
       "      <td>31</td>\n",
       "      <td>2</td>\n",
       "    </tr>\n",
       "    <tr>\n",
       "      <td>26</td>\n",
       "      <td>27</td>\n",
       "      <td>2</td>\n",
       "    </tr>\n",
       "    <tr>\n",
       "      <td>10</td>\n",
       "      <td>11</td>\n",
       "      <td>2</td>\n",
       "    </tr>\n",
       "  </tbody>\n",
       "</table>\n",
       "</div>"
      ],
      "text/plain": [
       "    tupla  R\n",
       "29     30  0\n",
       "23     24  0\n",
       "5       6  1\n",
       "11     12  1\n",
       "12     13  1\n",
       "0       1  2\n",
       "30     31  2\n",
       "26     27  2\n",
       "10     11  2"
      ]
     },
     "execution_count": 41,
     "metadata": {},
     "output_type": "execute_result"
    }
   ],
   "source": [
    "df_sel_si_re = df_cs_re_fi.iloc[0::1,[1,4]]\n",
    "df_sel_si_re"
   ]
  },
  {
   "cell_type": "code",
   "execution_count": null,
   "metadata": {},
   "outputs": [],
   "source": []
  },
  {
   "cell_type": "code",
   "execution_count": 42,
   "metadata": {},
   "outputs": [
    {
     "name": "stdout",
     "output_type": "stream",
     "text": [
      "valor de suma  conteo    4790\n",
      "dtype: int64\n"
     ]
    },
    {
     "data": {
      "text/html": [
       "<div>\n",
       "<style scoped>\n",
       "    .dataframe tbody tr th:only-of-type {\n",
       "        vertical-align: middle;\n",
       "    }\n",
       "\n",
       "    .dataframe tbody tr th {\n",
       "        vertical-align: top;\n",
       "    }\n",
       "\n",
       "    .dataframe thead th {\n",
       "        text-align: right;\n",
       "    }\n",
       "</style>\n",
       "<table border=\"1\" class=\"dataframe\">\n",
       "  <thead>\n",
       "    <tr style=\"text-align: right;\">\n",
       "      <th></th>\n",
       "      <th>conteo</th>\n",
       "      <th>tupla</th>\n",
       "      <th>X</th>\n",
       "      <th>L</th>\n",
       "      <th>R</th>\n",
       "      <th>M</th>\n",
       "      <th>T</th>\n",
       "      <th>P</th>\n",
       "      <th>Pr</th>\n",
       "      <th>PrX</th>\n",
       "      <th>PrL</th>\n",
       "      <th>PrM</th>\n",
       "    </tr>\n",
       "  </thead>\n",
       "  <tbody>\n",
       "    <tr>\n",
       "      <td>39</td>\n",
       "      <td>6</td>\n",
       "      <td>1|41</td>\n",
       "      <td>68</td>\n",
       "      <td>68</td>\n",
       "      <td>0</td>\n",
       "      <td>68|31|99|18|83|5|174</td>\n",
       "      <td>68|31|99|18|83|5|174</td>\n",
       "      <td>0.001</td>\n",
       "      <td>0.667</td>\n",
       "      <td>1.000</td>\n",
       "      <td>1.000</td>\n",
       "      <td>0.001</td>\n",
       "    </tr>\n",
       "    <tr>\n",
       "      <td>752</td>\n",
       "      <td>7</td>\n",
       "      <td>26|35</td>\n",
       "      <td>59</td>\n",
       "      <td>59</td>\n",
       "      <td>0</td>\n",
       "      <td>59|5|40|122|36|53|139|24</td>\n",
       "      <td>59|5|40|122|36|53|139|24</td>\n",
       "      <td>0.001</td>\n",
       "      <td>0.667</td>\n",
       "      <td>1.000</td>\n",
       "      <td>1.000</td>\n",
       "      <td>0.001</td>\n",
       "    </tr>\n",
       "    <tr>\n",
       "      <td>453</td>\n",
       "      <td>3</td>\n",
       "      <td>13|32</td>\n",
       "      <td>119</td>\n",
       "      <td>119</td>\n",
       "      <td>0</td>\n",
       "      <td>119|81|153|125</td>\n",
       "      <td>119|81|153|125</td>\n",
       "      <td>0.001</td>\n",
       "      <td>0.667</td>\n",
       "      <td>1.000</td>\n",
       "      <td>1.000</td>\n",
       "      <td>0.001</td>\n",
       "    </tr>\n",
       "    <tr>\n",
       "      <td>539</td>\n",
       "      <td>6</td>\n",
       "      <td>16|34</td>\n",
       "      <td>68</td>\n",
       "      <td>68</td>\n",
       "      <td>0</td>\n",
       "      <td>68|79|176|45|7|82|21</td>\n",
       "      <td>68|79|176|45|7|82|21</td>\n",
       "      <td>0.001</td>\n",
       "      <td>0.667</td>\n",
       "      <td>1.000</td>\n",
       "      <td>1.000</td>\n",
       "      <td>0.001</td>\n",
       "    </tr>\n",
       "    <tr>\n",
       "      <td>469</td>\n",
       "      <td>2</td>\n",
       "      <td>14|19</td>\n",
       "      <td>159</td>\n",
       "      <td>159</td>\n",
       "      <td>0</td>\n",
       "      <td>159|158|161</td>\n",
       "      <td>159|158|161</td>\n",
       "      <td>0.000</td>\n",
       "      <td>0.667</td>\n",
       "      <td>1.000</td>\n",
       "      <td>1.000</td>\n",
       "      <td>0.000</td>\n",
       "    </tr>\n",
       "    <tr>\n",
       "      <td>429</td>\n",
       "      <td>4</td>\n",
       "      <td>12|38</td>\n",
       "      <td>95</td>\n",
       "      <td>95</td>\n",
       "      <td>0</td>\n",
       "      <td>95|122|35|225|1</td>\n",
       "      <td>95|122|35|225|1</td>\n",
       "      <td>0.001</td>\n",
       "      <td>0.667</td>\n",
       "      <td>1.000</td>\n",
       "      <td>1.000</td>\n",
       "      <td>0.001</td>\n",
       "    </tr>\n",
       "    <tr>\n",
       "      <td>402</td>\n",
       "      <td>4</td>\n",
       "      <td>11|40</td>\n",
       "      <td>95</td>\n",
       "      <td>96</td>\n",
       "      <td>1</td>\n",
       "      <td>96|6|111|145|120</td>\n",
       "      <td>96|6|111|145|120</td>\n",
       "      <td>0.001</td>\n",
       "      <td>0.667</td>\n",
       "      <td>1.000</td>\n",
       "      <td>1.000</td>\n",
       "      <td>0.001</td>\n",
       "    </tr>\n",
       "    <tr>\n",
       "      <td>340</td>\n",
       "      <td>6</td>\n",
       "      <td>9|42</td>\n",
       "      <td>68</td>\n",
       "      <td>69</td>\n",
       "      <td>1</td>\n",
       "      <td>25</td>\n",
       "      <td>69|59|97|51|25|152|25</td>\n",
       "      <td>0.001</td>\n",
       "      <td>0.667</td>\n",
       "      <td>1.000</td>\n",
       "      <td>1.000</td>\n",
       "      <td>0.001</td>\n",
       "    </tr>\n",
       "    <tr>\n",
       "      <td>282</td>\n",
       "      <td>7</td>\n",
       "      <td>8|18</td>\n",
       "      <td>59</td>\n",
       "      <td>60</td>\n",
       "      <td>1</td>\n",
       "      <td>60|24|108|5|10|89|38|144</td>\n",
       "      <td>60|24|108|5|10|89|38|144</td>\n",
       "      <td>0.001</td>\n",
       "      <td>0.667</td>\n",
       "      <td>1.000</td>\n",
       "      <td>1.000</td>\n",
       "      <td>0.001</td>\n",
       "    </tr>\n",
       "    <tr>\n",
       "      <td>800</td>\n",
       "      <td>5</td>\n",
       "      <td>29|38</td>\n",
       "      <td>79</td>\n",
       "      <td>80</td>\n",
       "      <td>1</td>\n",
       "      <td>33</td>\n",
       "      <td>80|23|114|195|33|33</td>\n",
       "      <td>0.001</td>\n",
       "      <td>0.667</td>\n",
       "      <td>1.000</td>\n",
       "      <td>1.000</td>\n",
       "      <td>0.001</td>\n",
       "    </tr>\n",
       "    <tr>\n",
       "      <td>371</td>\n",
       "      <td>6</td>\n",
       "      <td>10|41</td>\n",
       "      <td>68</td>\n",
       "      <td>66</td>\n",
       "      <td>2</td>\n",
       "      <td>66|8|13|138|4|213|36</td>\n",
       "      <td>66|8|13|138|4|213|36</td>\n",
       "      <td>0.001</td>\n",
       "      <td>0.667</td>\n",
       "      <td>1.000</td>\n",
       "      <td>1.000</td>\n",
       "      <td>0.001</td>\n",
       "    </tr>\n",
       "    <tr>\n",
       "      <td>359</td>\n",
       "      <td>6</td>\n",
       "      <td>10|29</td>\n",
       "      <td>68</td>\n",
       "      <td>66</td>\n",
       "      <td>2</td>\n",
       "      <td>66|49|45|69|55|34|160</td>\n",
       "      <td>66|49|45|69|55|34|160</td>\n",
       "      <td>0.001</td>\n",
       "      <td>0.667</td>\n",
       "      <td>1.000</td>\n",
       "      <td>1.000</td>\n",
       "      <td>0.001</td>\n",
       "    </tr>\n",
       "    <tr>\n",
       "      <td>686</td>\n",
       "      <td>1</td>\n",
       "      <td>22|42</td>\n",
       "      <td>239</td>\n",
       "      <td>237</td>\n",
       "      <td>2</td>\n",
       "      <td>237|241</td>\n",
       "      <td>237|241</td>\n",
       "      <td>0.000</td>\n",
       "      <td>0.667</td>\n",
       "      <td>1.000</td>\n",
       "      <td>1.000</td>\n",
       "      <td>0.000</td>\n",
       "    </tr>\n",
       "    <tr>\n",
       "      <td>860</td>\n",
       "      <td>10</td>\n",
       "      <td>35|36</td>\n",
       "      <td>43</td>\n",
       "      <td>45</td>\n",
       "      <td>2</td>\n",
       "      <td>24</td>\n",
       "      <td>45|59|72|90|43|15|18|12|76|24|24</td>\n",
       "      <td>0.002</td>\n",
       "      <td>0.667</td>\n",
       "      <td>1.000</td>\n",
       "      <td>1.000</td>\n",
       "      <td>0.002</td>\n",
       "    </tr>\n",
       "    <tr>\n",
       "      <td>23</td>\n",
       "      <td>4</td>\n",
       "      <td>1|25</td>\n",
       "      <td>95</td>\n",
       "      <td>97</td>\n",
       "      <td>2</td>\n",
       "      <td>97|44|249|81|7</td>\n",
       "      <td>97|44|249|81|7</td>\n",
       "      <td>0.001</td>\n",
       "      <td>0.667</td>\n",
       "      <td>1.000</td>\n",
       "      <td>1.000</td>\n",
       "      <td>0.001</td>\n",
       "    </tr>\n",
       "    <tr>\n",
       "      <td>45</td>\n",
       "      <td>8</td>\n",
       "      <td>2|6</td>\n",
       "      <td>53</td>\n",
       "      <td>55</td>\n",
       "      <td>2</td>\n",
       "      <td>55|92|155|96|3|7|36|4|30</td>\n",
       "      <td>55|92|155|96|3|7|36|4|30</td>\n",
       "      <td>0.002</td>\n",
       "      <td>0.667</td>\n",
       "      <td>1.000</td>\n",
       "      <td>1.000</td>\n",
       "      <td>0.002</td>\n",
       "    </tr>\n",
       "    <tr>\n",
       "      <td>358</td>\n",
       "      <td>5</td>\n",
       "      <td>10|28</td>\n",
       "      <td>79</td>\n",
       "      <td>77</td>\n",
       "      <td>2</td>\n",
       "      <td>77</td>\n",
       "      <td>77|117|15|32|77|160</td>\n",
       "      <td>0.001</td>\n",
       "      <td>0.667</td>\n",
       "      <td>1.000</td>\n",
       "      <td>1.000</td>\n",
       "      <td>0.001</td>\n",
       "    </tr>\n",
       "    <tr>\n",
       "      <td>128</td>\n",
       "      <td>5</td>\n",
       "      <td>4|10</td>\n",
       "      <td>79</td>\n",
       "      <td>77</td>\n",
       "      <td>2</td>\n",
       "      <td>77|64|27|44|6|260</td>\n",
       "      <td>77|64|27|44|6|260</td>\n",
       "      <td>0.001</td>\n",
       "      <td>0.667</td>\n",
       "      <td>1.000</td>\n",
       "      <td>1.000</td>\n",
       "      <td>0.001</td>\n",
       "    </tr>\n",
       "    <tr>\n",
       "      <td>748</td>\n",
       "      <td>9</td>\n",
       "      <td>26|31</td>\n",
       "      <td>47</td>\n",
       "      <td>49</td>\n",
       "      <td>2</td>\n",
       "      <td>49|15|101|25|43|17|69|72|42|45</td>\n",
       "      <td>49|15|101|25|43|17|69|72|42|45</td>\n",
       "      <td>0.002</td>\n",
       "      <td>0.667</td>\n",
       "      <td>1.000</td>\n",
       "      <td>1.000</td>\n",
       "      <td>0.002</td>\n",
       "    </tr>\n",
       "    <tr>\n",
       "      <td>1</td>\n",
       "      <td>4</td>\n",
       "      <td>1|3</td>\n",
       "      <td>95</td>\n",
       "      <td>97</td>\n",
       "      <td>2</td>\n",
       "      <td>97|64|222|77|18</td>\n",
       "      <td>97|64|222|77|18</td>\n",
       "      <td>0.001</td>\n",
       "      <td>0.667</td>\n",
       "      <td>1.000</td>\n",
       "      <td>1.000</td>\n",
       "      <td>0.001</td>\n",
       "    </tr>\n",
       "    <tr>\n",
       "      <td>782</td>\n",
       "      <td>8</td>\n",
       "      <td>28|34</td>\n",
       "      <td>53</td>\n",
       "      <td>55</td>\n",
       "      <td>2</td>\n",
       "      <td>55|33|70|27|89|28|59|12|105</td>\n",
       "      <td>55|33|70|27|89|28|59|12|105</td>\n",
       "      <td>0.002</td>\n",
       "      <td>0.667</td>\n",
       "      <td>1.000</td>\n",
       "      <td>1.000</td>\n",
       "      <td>0.002</td>\n",
       "    </tr>\n",
       "    <tr>\n",
       "      <td>802</td>\n",
       "      <td>10</td>\n",
       "      <td>29|40</td>\n",
       "      <td>43</td>\n",
       "      <td>41</td>\n",
       "      <td>2</td>\n",
       "      <td>5</td>\n",
       "      <td>41|19|3|54|58|63|141|27|62|5|5</td>\n",
       "      <td>0.002</td>\n",
       "      <td>0.667</td>\n",
       "      <td>1.000</td>\n",
       "      <td>1.000</td>\n",
       "      <td>0.002</td>\n",
       "    </tr>\n",
       "    <tr>\n",
       "      <td>166</td>\n",
       "      <td>6</td>\n",
       "      <td>5|10</td>\n",
       "      <td>68</td>\n",
       "      <td>66</td>\n",
       "      <td>2</td>\n",
       "      <td>4</td>\n",
       "      <td>66|4|4|13|19|264|108</td>\n",
       "      <td>0.001</td>\n",
       "      <td>0.667</td>\n",
       "      <td>1.000</td>\n",
       "      <td>1.000</td>\n",
       "      <td>0.001</td>\n",
       "    </tr>\n",
       "    <tr>\n",
       "      <td>182</td>\n",
       "      <td>9</td>\n",
       "      <td>5|26</td>\n",
       "      <td>47</td>\n",
       "      <td>49</td>\n",
       "      <td>2</td>\n",
       "      <td>5</td>\n",
       "      <td>49|5|5|65|170|25|91|23|34|11</td>\n",
       "      <td>0.002</td>\n",
       "      <td>0.667</td>\n",
       "      <td>1.000</td>\n",
       "      <td>1.000</td>\n",
       "      <td>0.002</td>\n",
       "    </tr>\n",
       "    <tr>\n",
       "      <td>119</td>\n",
       "      <td>12</td>\n",
       "      <td>3|40</td>\n",
       "      <td>36</td>\n",
       "      <td>34</td>\n",
       "      <td>2</td>\n",
       "      <td>5</td>\n",
       "      <td>34|10|52|43|22|142|88|13|9|5|55|5|0</td>\n",
       "      <td>0.003</td>\n",
       "      <td>0.668</td>\n",
       "      <td>1.000</td>\n",
       "      <td>1.000</td>\n",
       "      <td>0.003</td>\n",
       "    </tr>\n",
       "    <tr>\n",
       "      <td>880</td>\n",
       "      <td>5</td>\n",
       "      <td>37|43</td>\n",
       "      <td>79</td>\n",
       "      <td>77</td>\n",
       "      <td>2</td>\n",
       "      <td>77|23|227|54|42|55</td>\n",
       "      <td>77|23|227|54|42|55</td>\n",
       "      <td>0.001</td>\n",
       "      <td>0.667</td>\n",
       "      <td>1.000</td>\n",
       "      <td>1.000</td>\n",
       "      <td>0.001</td>\n",
       "    </tr>\n",
       "  </tbody>\n",
       "</table>\n",
       "</div>"
      ],
      "text/plain": [
       "     conteo  tupla    X    L  R                               M  \\\n",
       "39        6   1|41   68   68  0            68|31|99|18|83|5|174   \n",
       "752       7  26|35   59   59  0        59|5|40|122|36|53|139|24   \n",
       "453       3  13|32  119  119  0                  119|81|153|125   \n",
       "539       6  16|34   68   68  0            68|79|176|45|7|82|21   \n",
       "469       2  14|19  159  159  0                     159|158|161   \n",
       "429       4  12|38   95   95  0                 95|122|35|225|1   \n",
       "402       4  11|40   95   96  1                96|6|111|145|120   \n",
       "340       6   9|42   68   69  1                              25   \n",
       "282       7   8|18   59   60  1        60|24|108|5|10|89|38|144   \n",
       "800       5  29|38   79   80  1                              33   \n",
       "371       6  10|41   68   66  2            66|8|13|138|4|213|36   \n",
       "359       6  10|29   68   66  2           66|49|45|69|55|34|160   \n",
       "686       1  22|42  239  237  2                         237|241   \n",
       "860      10  35|36   43   45  2                              24   \n",
       "23        4   1|25   95   97  2                  97|44|249|81|7   \n",
       "45        8    2|6   53   55  2        55|92|155|96|3|7|36|4|30   \n",
       "358       5  10|28   79   77  2                              77   \n",
       "128       5   4|10   79   77  2               77|64|27|44|6|260   \n",
       "748       9  26|31   47   49  2  49|15|101|25|43|17|69|72|42|45   \n",
       "1         4    1|3   95   97  2                 97|64|222|77|18   \n",
       "782       8  28|34   53   55  2     55|33|70|27|89|28|59|12|105   \n",
       "802      10  29|40   43   41  2                               5   \n",
       "166       6   5|10   68   66  2                               4   \n",
       "182       9   5|26   47   49  2                               5   \n",
       "119      12   3|40   36   34  2                               5   \n",
       "880       5  37|43   79   77  2              77|23|227|54|42|55   \n",
       "\n",
       "                                       T     P    Pr   PrX   PrL   PrM  \n",
       "39                  68|31|99|18|83|5|174 0.001 0.667 1.000 1.000 0.001  \n",
       "752             59|5|40|122|36|53|139|24 0.001 0.667 1.000 1.000 0.001  \n",
       "453                       119|81|153|125 0.001 0.667 1.000 1.000 0.001  \n",
       "539                 68|79|176|45|7|82|21 0.001 0.667 1.000 1.000 0.001  \n",
       "469                          159|158|161 0.000 0.667 1.000 1.000 0.000  \n",
       "429                      95|122|35|225|1 0.001 0.667 1.000 1.000 0.001  \n",
       "402                     96|6|111|145|120 0.001 0.667 1.000 1.000 0.001  \n",
       "340                69|59|97|51|25|152|25 0.001 0.667 1.000 1.000 0.001  \n",
       "282             60|24|108|5|10|89|38|144 0.001 0.667 1.000 1.000 0.001  \n",
       "800                  80|23|114|195|33|33 0.001 0.667 1.000 1.000 0.001  \n",
       "371                 66|8|13|138|4|213|36 0.001 0.667 1.000 1.000 0.001  \n",
       "359                66|49|45|69|55|34|160 0.001 0.667 1.000 1.000 0.001  \n",
       "686                              237|241 0.000 0.667 1.000 1.000 0.000  \n",
       "860     45|59|72|90|43|15|18|12|76|24|24 0.002 0.667 1.000 1.000 0.002  \n",
       "23                        97|44|249|81|7 0.001 0.667 1.000 1.000 0.001  \n",
       "45              55|92|155|96|3|7|36|4|30 0.002 0.667 1.000 1.000 0.002  \n",
       "358                  77|117|15|32|77|160 0.001 0.667 1.000 1.000 0.001  \n",
       "128                    77|64|27|44|6|260 0.001 0.667 1.000 1.000 0.001  \n",
       "748       49|15|101|25|43|17|69|72|42|45 0.002 0.667 1.000 1.000 0.002  \n",
       "1                        97|64|222|77|18 0.001 0.667 1.000 1.000 0.001  \n",
       "782          55|33|70|27|89|28|59|12|105 0.002 0.667 1.000 1.000 0.002  \n",
       "802       41|19|3|54|58|63|141|27|62|5|5 0.002 0.667 1.000 1.000 0.002  \n",
       "166                 66|4|4|13|19|264|108 0.001 0.667 1.000 1.000 0.001  \n",
       "182         49|5|5|65|170|25|91|23|34|11 0.002 0.667 1.000 1.000 0.002  \n",
       "119  34|10|52|43|22|142|88|13|9|5|55|5|0 0.003 0.668 1.000 1.000 0.003  \n",
       "880                   77|23|227|54|42|55 0.001 0.667 1.000 1.000 0.001  "
      ]
     },
     "execution_count": 42,
     "metadata": {},
     "output_type": "execute_result"
    }
   ],
   "source": [
    "df_cd_re = procesa_conteo_dobles(conteos_2d_re, df_re_fu_filt_delta)\n",
    "df_cd_re = df_cd_re.sort_values('R',ascending=True)\n",
    "df_cd_re_fi = df_cd_re[df_cd_re.R.isin(rangos)]\n",
    "df_cd_re_fi"
   ]
  },
  {
   "cell_type": "code",
   "execution_count": 43,
   "metadata": {},
   "outputs": [
    {
     "name": "stdout",
     "output_type": "stream",
     "text": [
      "valor de suma  conteo    4790\n",
      "dtype: int64\n"
     ]
    }
   ],
   "source": [
    "df_ct_re = procesa_conteo_triples(conteos_3d_re, df_re_fu_filt_delta)\n",
    "df_ct_re = df_ct_re.sort_values('R',ascending=True)\n",
    "#df_ct_re.head(25)"
   ]
  },
  {
   "cell_type": "code",
   "execution_count": 44,
   "metadata": {},
   "outputs": [
    {
     "name": "stdout",
     "output_type": "stream",
     "text": [
      "valor de suma  conteo    4790\n",
      "dtype: int64\n"
     ]
    }
   ],
   "source": [
    "df_ct_re = procesa_conteo_triples(conteos_3d_re, df_re_fu_filt_delta)\n",
    "df_ct_re = df_ct_re.sort_values('R',ascending=True)\n",
    "#df_ct_re.tail(25)\n",
    "#df_ct_re"
   ]
  },
  {
   "cell_type": "code",
   "execution_count": 45,
   "metadata": {},
   "outputs": [
    {
     "name": "stdout",
     "output_type": "stream",
     "text": [
      "valor de suma  conteo    2395\n",
      "dtype: int64\n"
     ]
    }
   ],
   "source": [
    "df_cc_re = procesa_conteo_cuartetos(conteos_4d_re, df_re_fu_filt_delta)\n",
    "df_cc_re = df_cc_re.sort_values('tupla',ascending=True)\n",
    "#df_cc_re.head(25)"
   ]
  },
  {
   "cell_type": "code",
   "execution_count": 46,
   "metadata": {},
   "outputs": [
    {
     "name": "stdout",
     "output_type": "stream",
     "text": [
      "valor de suma  conteo    479\n",
      "dtype: int64\n"
     ]
    }
   ],
   "source": [
    "df_cq_re = procesa_conteo_quintetos(conteos_5d_re, df_re_fu_filt_delta)\n",
    "df_cq_re = df_cq_re.sort_values('tupla',ascending=True)\n",
    "#df_cq_re.head(25)"
   ]
  },
  {
   "cell_type": "code",
   "execution_count": 47,
   "metadata": {},
   "outputs": [],
   "source": [
    "def crea_quintetos(df1, df2, df3, df4):\n",
    "    sbs_df = pd.concat([df1, df2], ignore_index=True)\n",
    "    singles_df = pd.concat([df3, df4], ignore_index = True)\n",
    "    print(sbs_df)\n",
    "\n",
    "    return sbs_df, singles_df"
   ]
  },
  {
   "cell_type": "code",
   "execution_count": 48,
   "metadata": {},
   "outputs": [
    {
     "name": "stdout",
     "output_type": "stream",
     "text": [
      "   tupla  R\n",
      "0      8  0\n",
      "1     16  1\n",
      "2      7  2\n",
      "3      1  3\n",
      "4     13  4\n",
      "5      6  1\n",
      "6     12  1\n",
      "7     11  4\n",
      "8     13  4\n",
      "    tupla  R\n",
      "0      42  1\n",
      "1      17  1\n",
      "2      36  2\n",
      "3      34  2\n",
      "4      12  2\n",
      "5      13  2\n",
      "6      25  2\n",
      "7      30  0\n",
      "8      24  0\n",
      "9       6  1\n",
      "10     12  1\n",
      "11     13  1\n",
      "12      1  2\n",
      "13     31  2\n",
      "14     27  2\n",
      "15     11  2\n"
     ]
    }
   ],
   "source": [
    "sbs, singles = crea_quintetos(df_sel_sb_tr, df_sel_sb_re, df_sel_si_tr, df_sel_si_re)\n",
    "print(singles)"
   ]
  },
  {
   "cell_type": "markdown",
   "metadata": {},
   "source": [
    "#### Aqui inicia el guardado de los dataframe del sorteo tradicional"
   ]
  },
  {
   "cell_type": "code",
   "execution_count": 49,
   "metadata": {},
   "outputs": [],
   "source": [
    "df_cs_tr.to_csv(generaPath('O', 'df_cs_tr.csv'), header=['conteo','tupla','X', 'L', 'R', 'M', 'T', 'P','Pr','PrX', 'PrL','PrM'], index=None, sep=',', mode='w')\n",
    "df_cd_tr.to_csv(generaPath('O', 'df_cd_tr.csv'), header=['conteo','tupla','X', 'L', 'R', 'M', 'T', 'P','Pr','PrX', 'PrL','PrM'], index=None, sep=',', mode='w')\n",
    "df_ct_tr.to_csv(generaPath('O', 'df_ct_tr.csv'), header=['conteo','tupla','X', 'L', 'R', 'M', 'T', 'P','Pr','PrX', 'PrL','PrM'], index=None, sep=',', mode='w')\n",
    "df_cc_tr.to_csv(generaPath('O', 'df_cc_tr.csv'), header=['conteo','tupla','X', 'L', 'R', 'M', 'T', 'P','Pr','PrX', 'PrL','PrM'], index=None, sep=',', mode='w')\n",
    "df_cq_tr.to_csv(generaPath('O', 'df_cq_tr.csv'), header=['conteo','tupla','X', 'L', 'R', 'M', 'T', 'P','Pr','PrX', 'PrL','PrM'], index=None, sep=',', mode='w')"
   ]
  },
  {
   "cell_type": "markdown",
   "metadata": {},
   "source": [
    "#### Aqui inicia el guardado de los dataframe del sorteo revancha"
   ]
  },
  {
   "cell_type": "code",
   "execution_count": 50,
   "metadata": {},
   "outputs": [],
   "source": [
    "df_cs_re.to_csv(generaPath('O', 'df_cs_re.csv'), header=['conteo','tupla','X', 'L', 'R', 'M', 'T', 'P','Pr','PrX', 'PrL','PrM'], index=None, sep=',', mode='w')\n",
    "df_cd_re.to_csv(generaPath('O', 'df_cd_re.csv'), header=['conteo','tupla','X', 'L', 'R', 'M', 'T', 'P','Pr','PrX', 'PrL','PrM'], index=None, sep=',', mode='w')\n",
    "df_ct_re.to_csv(generaPath('O', 'df_ct_re.csv'), header=['conteo','tupla','X', 'L', 'R', 'M', 'T', 'P','Pr','PrX', 'PrL','PrM'], index=None, sep=',', mode='w')\n",
    "df_cc_re.to_csv(generaPath('O', 'df_cc_re.csv'), header=['conteo','tupla','X', 'L', 'R', 'M', 'T', 'P','Pr','PrX', 'PrL','PrM'], index=None, sep=',', mode='w')\n",
    "df_cq_re.to_csv(generaPath('O', 'df_cq_re.csv'), header=['conteo','tupla','X', 'L', 'R', 'M', 'T', 'P','Pr','PrX', 'PrL','PrM'], index=None, sep=',', mode='w')"
   ]
  },
  {
   "cell_type": "code",
   "execution_count": 51,
   "metadata": {},
   "outputs": [],
   "source": [
    "df_cs_tr_sb.to_csv(generaPath('O', 'df_cs_tr_sb.csv'), header=['conteo','tupla','X', 'L', 'R', 'M', 'T', 'P','Pr','PrX', 'PrL','PrM'], index=None, sep=',', mode='w')\n",
    "df_cs_re_sb.to_csv(generaPath('O', 'df_cs_re_sb.csv'), header=['conteo','tupla','X', 'L', 'R', 'M', 'T', 'P','Pr','PrX', 'PrL','PrM'], index=None, sep=',', mode='w')\n",
    "\n",
    "df_sel_sb_tr.to_csv(generaPath('O','df_sel_sb_tr.csv'), header=['tupla','R'], index=None, sep=',', mode='w' )\n",
    "df_sel_sb_re.to_csv(generaPath('O','df_sel_sb_re.csv'), header=['tupla','R'], index=None, sep=',', mode='w' )\n",
    "\n",
    "df_sel_si_tr.to_csv(generaPath('O','df_sel_si_tr.csv'), header=['tupla','R'], index=None, sep=',', mode='w' )\n",
    "df_sel_si_re.to_csv(generaPath('O','df_sel_si_re.csv'), header=['tupla','R'], index=None, sep=',', mode='w' )\n",
    "\n",
    "sbs.to_csv(generaPath('O','sbs.csv'), header=['tupla','R'], index=None, sep=',', mode='w' )\n",
    "singles.to_csv(generaPath('O','singles.csv'), header=['tupla','R'], index=None, sep=',', mode='w' )\n"
   ]
  },
  {
   "cell_type": "markdown",
   "metadata": {},
   "source": []
  },
  {
   "cell_type": "code",
   "execution_count": null,
   "metadata": {},
   "outputs": [],
   "source": []
  },
  {
   "cell_type": "code",
   "execution_count": null,
   "metadata": {},
   "outputs": [],
   "source": []
  },
  {
   "cell_type": "code",
   "execution_count": 52,
   "metadata": {},
   "outputs": [],
   "source": [
    "#cayo_antes_quintetos()"
   ]
  },
  {
   "cell_type": "markdown",
   "metadata": {},
   "source": [
    "#### El codigo validado ha concluido aquí, lo siguiente  son pruebas de concepto"
   ]
  },
  {
   "cell_type": "code",
   "execution_count": 53,
   "metadata": {},
   "outputs": [],
   "source": [
    "import numpy as np\n",
    "import matplotlib.pyplot as plt"
   ]
  },
  {
   "cell_type": "code",
   "execution_count": 54,
   "metadata": {},
   "outputs": [
    {
     "name": "stdout",
     "output_type": "stream",
     "text": [
      "2.3333333333333335\n"
     ]
    }
   ],
   "source": [
    "x_s = np.array([1,2,3,1,2,2,3,4,1,2,3,4,1,2,4])\n",
    "n = len(x_s)\n",
    "\n",
    "#forma lenta\n",
    "x_mean = 0\n",
    "for x in x_s:\n",
    "    x_mean +=x\n",
    "x_mean/=n\n",
    "print(x_mean)"
   ]
  },
  {
   "cell_type": "code",
   "execution_count": 55,
   "metadata": {},
   "outputs": [
    {
     "name": "stdout",
     "output_type": "stream",
     "text": [
      "     conteo  tupla\n",
      "0         9    1|2\n",
      "1         5    1|3\n",
      "2        12    1|4\n",
      "3         8    1|5\n",
      "4         5    1|6\n",
      "..      ...    ...\n",
      "898       5  40|42\n",
      "899       4  40|43\n",
      "900       4  41|42\n",
      "901       6  41|43\n",
      "902       5  42|43\n",
      "\n",
      "[903 rows x 2 columns]\n",
      "<class 'numpy.ndarray'>\n"
     ]
    }
   ],
   "source": [
    "df_topes2 = conteos_2d_tr.iloc[0::1,[0,1]]\n",
    "print(df_topes2)\n",
    "mu = 2.0\n",
    "sigma_1 = 5.0\n",
    "sigma_2 = 5.0\n",
    "muestras_1 = np.random.normal(loc = mu, scale = sigma_1, size = 100)\n",
    "muestras_2 = np.random.normal(loc = mu, scale = sigma_2, size = 100)\n",
    "print(type(muestras_1))\n",
    "#print(muestras_1, muestras_2)"
   ]
  },
  {
   "cell_type": "code",
   "execution_count": 56,
   "metadata": {},
   "outputs": [
    {
     "data": {
      "image/png": "[encoded data removed]",
      "text/plain": [
       "<Figure size 720x576 with 1 Axes>"
      ]
     },
     "metadata": {
      "needs_background": "light"
     },
     "output_type": "display_data"
    }
   ],
   "source": [
    "plt.figure(figsize = (10,8))\n",
    "plt.hist(muestras_1, bins = 20, alpha = 0.5, label = 'Histograma Muestra 1')\n",
    "plt.hist(muestras_2, bins = 20, alpha = 0.5, label = 'Histograma Muestra 2')\n",
    "plt.legend()\n",
    "plt.grid()\n",
    "plt.show()"
   ]
  },
  {
   "cell_type": "code",
   "execution_count": null,
   "metadata": {},
   "outputs": [],
   "source": []
  },
  {
   "cell_type": "code",
   "execution_count": null,
   "metadata": {},
   "outputs": [],
   "source": []
  },
  {
   "cell_type": "code",
   "execution_count": null,
   "metadata": {},
   "outputs": [],
   "source": []
  },
  {
   "cell_type": "code",
   "execution_count": null,
   "metadata": {},
   "outputs": [],
   "source": []
  },
  {
   "cell_type": "code",
   "execution_count": null,
   "metadata": {},
   "outputs": [],
   "source": []
  }
 ],
 "metadata": {
  "interpreter": {
   "hash": "2d3d3270e417e1e52e34ac8b854cc2805d4f43e36bc3a05dc9d1a620d4ed2e67"
  },
  "kernelspec": {
   "display_name": "Python 3.7.4 64-bit ('dsbasic': conda)",
   "name": "python3"
  },
  "language_info": {
   "codemirror_mode": {
    "name": "ipython",
    "version": 3
   },
   "file_extension": ".py",
   "mimetype": "text/x-python",
   "name": "python",
   "nbconvert_exporter": "python",
   "pygments_lexer": "ipython3",
   "version": "3.7.4"
  }
 },
 "nbformat": 4,
 "nbformat_minor": 4
}
