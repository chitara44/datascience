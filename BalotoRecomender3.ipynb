{
 "cells": [
  {
   "cell_type": "code",
   "execution_count": 57,
   "source": [
    "import random\r\n",
    "import pandas as pd\r\n",
    "import numpy as np\r\n",
    "import seaborn as sns\r\n",
    "import matplotlib.pyplot as plt\r\n",
    "import os\r\n",
    "import math\r\n",
    "from sklearn import metrics\r\n",
    "from sklearn.pipeline import Pipeline\r\n",
    "from sklearn.preprocessing import StandardScaler, LabelEncoder, OneHotEncoder, KBinsDiscretizer\r\n",
    "from sklearn.model_selection import train_test_split\r\n",
    "from sklearn.tree import DecisionTreeRegressor\r\n",
    "from sklearn.model_selection import cross_val_score\r\n",
    "from sklearn.metrics import mean_squared_error\r\n",
    "from sklearn.neighbors import KNeighborsClassifier, KNeighborsRegressor\r\n",
    "from sklearn.preprocessing import StandardScaler\r\n",
    "from time import sleep\r\n",
    "\r\n",
    "pd.set_option('display.float_format', lambda x: '%.3f' % x)\r\n",
    "\r\n",
    "sns.set()"
   ],
   "outputs": [],
   "metadata": {}
  },
  {
   "cell_type": "code",
   "execution_count": 58,
   "source": [
    "def generaPath(tipo, nombre):\r\n",
    "    prepath = str(os.getcwd())\r\n",
    "    if (tipo == \"I\"):\r\n",
    "        path = prepath + '\\\\origen\\\\' + nombre\r\n",
    "    else :\r\n",
    "        path = prepath + '\\\\generados\\\\' + nombre\r\n",
    "    return path"
   ],
   "outputs": [],
   "metadata": {}
  },
  {
   "cell_type": "code",
   "execution_count": 59,
   "source": [
    "df_tr_fu_filt_delta = pd.read_csv(generaPath('O', 'df_tr_fu_filt_delta.csv'))\r\n",
    "df_re_fu_filt_delta = pd.read_csv(generaPath('O', 'df_re_fu_filt_delta.csv'))"
   ],
   "outputs": [],
   "metadata": {}
  },
  {
   "cell_type": "code",
   "execution_count": 60,
   "source": [
    "conteos_1d_sb_tr = pd.read_csv(generaPath('O', 'conteos_1d_sb_tr.csv'))\r\n",
    "conteos_1d_sb_re = pd.read_csv(generaPath('O', 'conteos_1d_sb_re.csv'))"
   ],
   "outputs": [],
   "metadata": {}
  },
  {
   "cell_type": "code",
   "execution_count": 61,
   "source": [
    "conteos_1d_tr = pd.read_csv(generaPath('O', 'conteos_1d_tr.csv'))\r\n",
    "conteos_1d_re = pd.read_csv(generaPath('O', 'conteos_1d_re.csv'))"
   ],
   "outputs": [],
   "metadata": {}
  },
  {
   "cell_type": "code",
   "execution_count": 62,
   "source": [
    "conteos_2d_tr = pd.read_csv(generaPath('O', 'conteos_2d_tr.csv'))\r\n",
    "conteos_2d_re = pd.read_csv(generaPath('O', 'conteos_2d_re.csv'))"
   ],
   "outputs": [],
   "metadata": {}
  },
  {
   "cell_type": "code",
   "execution_count": 63,
   "source": [
    "conteos_3d_tr = pd.read_csv(generaPath('O', 'conteos_3d_tr.csv'))\r\n",
    "conteos_3d_re = pd.read_csv(generaPath('O', 'conteos_3d_re.csv'))"
   ],
   "outputs": [],
   "metadata": {}
  },
  {
   "cell_type": "code",
   "execution_count": 64,
   "source": [
    "conteos_4d_tr = pd.read_csv(generaPath('O', 'conteos_4d_tr.csv'))\r\n",
    "conteos_4d_re = pd.read_csv(generaPath('O', 'conteos_4d_re.csv'))"
   ],
   "outputs": [],
   "metadata": {}
  },
  {
   "cell_type": "code",
   "execution_count": 65,
   "source": [
    "conteos_5d_tr = pd.read_csv(generaPath('O', 'conteos_5d_tr.csv'))\r\n",
    "conteos_5d_re = pd.read_csv(generaPath('O', 'conteos_5d_re.csv'))"
   ],
   "outputs": [],
   "metadata": {}
  },
  {
   "cell_type": "markdown",
   "source": [
    "#### Establezco los valores de inicio de los sorteos para calcular deltas"
   ],
   "metadata": {}
  },
  {
   "cell_type": "code",
   "execution_count": 66,
   "source": [
    "df_topes = df_tr_fu_filt_delta.iloc[0::1,[0]]\r\n",
    "recent = df_topes.max()\r\n",
    "print(\"sorteo mas reciente \", recent)\r\n",
    "oldest = df_topes.min()\r\n",
    "print(\"sorteo inicial \", oldest)"
   ],
   "outputs": [
    {
     "output_type": "stream",
     "name": "stdout",
     "text": [
      "sorteo mas reciente  idSorteo    2126\n",
      "dtype: int64\n",
      "sorteo inicial  idSorteo    1671\n",
      "dtype: int64\n"
     ]
    }
   ],
   "metadata": {}
  },
  {
   "cell_type": "markdown",
   "source": [
    "#### Se calcula los valores de diferencia entre los diversos sorteos"
   ],
   "metadata": {}
  },
  {
   "cell_type": "code",
   "execution_count": 67,
   "source": [
    "def calcular_deltas_verticales(df):\r\n",
    "    delticas = []\r\n",
    "    previo = recent\r\n",
    "    for index, row in df.iterrows():\r\n",
    "        resta = int(previo) - int(row[0])\r\n",
    "        #print(\"resta : \", resta, \" previo \", previo, \" Sorteo: \", row[0], )\r\n",
    "        delticas.append(int(resta))\r\n",
    "        previo = int(row[0])\r\n",
    "    resta = int(previo) - int(oldest)\r\n",
    "    #print(resta)\r\n",
    "    delticas.append(int(resta))\r\n",
    "    return delticas"
   ],
   "outputs": [],
   "metadata": {}
  },
  {
   "cell_type": "code",
   "execution_count": 68,
   "source": [
    "def unsplited_tupla(sbs):\r\n",
    "    delticas = []\r\n",
    "    partido = sbs.split(sep='|') if (sbs.find(\"|\") >= 1) else sbs\r\n",
    "    return partido"
   ],
   "outputs": [],
   "metadata": {}
  },
  {
   "cell_type": "code",
   "execution_count": 69,
   "source": [
    "def calc_media(df):\r\n",
    "    acum = 0\r\n",
    "    media = 0\r\n",
    "    length = len(df) \r\n",
    "    for i in range(length): \r\n",
    "        acum += int(df[i])\r\n",
    "    media = int(acum/length)\r\n",
    "    #print(\"valor de media: \", media)\r\n",
    "    return media"
   ],
   "outputs": [],
   "metadata": {}
  },
  {
   "cell_type": "code",
   "execution_count": 70,
   "source": [
    "def calc_moda(df):\r\n",
    "    repetir = 0                                                                         \r\n",
    "    for i in df:                                                                              \r\n",
    "        aparece = df.count(i)                                                             \r\n",
    "        if aparece > repetir:                                                       \r\n",
    "            repetir = aparece \r\n",
    "    \r\n",
    "    moda = []                                                                               \r\n",
    "    for i in df:                                                                              \r\n",
    "        aparece = df.count(i)\r\n",
    "        #print(\"aparece \", aparece)\r\n",
    "        if aparece == repetir and i not in moda:                                   \r\n",
    "            moda.append(i) \r\n",
    "            #print(\"moda\", moda)\r\n",
    "            \r\n",
    "    return moda"
   ],
   "outputs": [],
   "metadata": {}
  },
  {
   "cell_type": "code",
   "execution_count": 71,
   "source": [
    "def calc_cant_moda(df_deltas, df_elected):\r\n",
    "    #print(df_elected)\r\n",
    "    num = str(df_elected[0])\r\n",
    "    partido = num.split(sep='|') if (num.find(\"|\") >= 1) else num\r\n",
    "    \r\n",
    "    #print(partido)\r\n",
    "    repetir = 0                                                                         \r\n",
    "    for i in df_deltas:\r\n",
    "        #print(\"valor de i :\", i)\r\n",
    "        aparece = df_deltas.count(df_elected[0])   \r\n",
    "        #print(\"valor de aparece:\", aparece)\r\n",
    "        if aparece > repetir:                                                       \r\n",
    "            repetir = aparece \r\n",
    "    \r\n",
    "    moda = []                                                                               \r\n",
    "    for i in df_deltas:                                                                              \r\n",
    "        aparece = df_deltas.count(i)\r\n",
    "        #print(\"aparece \", aparece)\r\n",
    "        if aparece == repetir and i not in moda:                                   \r\n",
    "            moda.append(i) \r\n",
    "            #print(\"moda\", moda)\r\n",
    "    #print(\"fin ciclo\", moda)        \r\n",
    "    return moda"
   ],
   "outputs": [],
   "metadata": {}
  },
  {
   "cell_type": "code",
   "execution_count": 72,
   "source": [
    "def sumarcol_peso(ldf):\r\n",
    "    #print(\"valor de ldf\", ldf)\r\n",
    "    df = pd.DataFrame(ldf)\r\n",
    "    #print(\"columna conteo \", df['conteo'])\r\n",
    "    suma = ldf.sum()\r\n",
    "    #suma = sumalista(df)\r\n",
    "    print(\"valor de suma \", suma  )\r\n",
    "    pesos = []                                                                               \r\n",
    "    for index, row in df.iterrows():\r\n",
    "        cant_tupla = int(row[0])\r\n",
    "        #print(\"can_tupla \", cant_tupla)\r\n",
    "        if cant_tupla > 0:\r\n",
    "            dividido = cant_tupla /suma \r\n",
    "        pesos.append(float(dividido))  \r\n",
    "    #print(type(pesos))\r\n",
    "    return pesos"
   ],
   "outputs": [],
   "metadata": {}
  },
  {
   "cell_type": "code",
   "execution_count": 73,
   "source": [
    "def sumalista(df):\r\n",
    "    acum = 0\r\n",
    "    #print(\"valor de listaNumeros \", df)\r\n",
    "    for index, row in df.iterrows():\r\n",
    "        cant_tupla = int(row[0])\r\n",
    "        #print(\"can_tupla \", cant_tupla)\r\n",
    "        acum = acum + cant_tupla\r\n",
    "        print(acum)\r\n",
    "    return acum"
   ],
   "outputs": [],
   "metadata": {}
  },
  {
   "cell_type": "code",
   "execution_count": 74,
   "source": [
    "def entire_part(res1):\r\n",
    "    pd, pe = math.modf(res1)\r\n",
    "    #print(\"entire Part: \", pe, \" decimal part: \", pd)\r\n",
    "    if (int(pe) >= int(1)):\r\n",
    "        res = pd\r\n",
    "    else: \r\n",
    "        res = 1 - pd\r\n",
    "    #print(\"res en entire_part\", res)\r\n",
    "    return res"
   ],
   "outputs": [],
   "metadata": {}
  },
  {
   "cell_type": "code",
   "execution_count": 75,
   "source": [
    "def set_hot_level(last_number, evaluated_number ):\r\n",
    "    #print(\"last:\",int(last_number), \" evaluated \",int(evaluated_number))\r\n",
    "    if (int(last_number) > int(0) & int(evaluated_number) > int(0)):\r\n",
    "        num = float(int(last_number) /int(evaluated_number))\r\n",
    "    else:\r\n",
    "        num = int(0)\r\n",
    "    #print(\"num:\", num)\r\n",
    "    ret = entire_part(num)\r\n",
    "    return ret"
   ],
   "outputs": [],
   "metadata": {}
  },
  {
   "cell_type": "code",
   "execution_count": 76,
   "source": [
    "def set_closer_to_1(actual_number, new_number ):\r\n",
    "    if actual_number >1:\r\n",
    "        dif1 = float(actual_number - 1)\r\n",
    "    else:\r\n",
    "        dif1 = float(1 - actual_number)\r\n",
    "    if new_number > 1:\r\n",
    "        dif2 = float(new_number - 1)\r\n",
    "    else:\r\n",
    "        dif2 = float(1- new_number) \r\n",
    "    \r\n",
    "    if dif1 > dif2:\r\n",
    "        dif = new_number\r\n",
    "    else:\r\n",
    "        dif = actual_number\r\n",
    "    return dif"
   ],
   "outputs": [],
   "metadata": {}
  },
  {
   "cell_type": "code",
   "execution_count": 77,
   "source": [
    "def retorna_valor(valor):\r\n",
    "    p2t = 0\r\n",
    "    if float(valor) == float(0.0):\r\n",
    "        p2t = float(0.3333)\r\n",
    "    else:    \r\n",
    "        p2t = valor\r\n",
    "    return p2t"
   ],
   "outputs": [],
   "metadata": {}
  },
  {
   "cell_type": "code",
   "execution_count": 78,
   "source": [
    "def how_hot_is(df, df_base):\r\n",
    "    anterior = 0\r\n",
    "    prob = []\r\n",
    "    prob1 = []\r\n",
    "    prob2 = []\r\n",
    "    prob3 = []\r\n",
    "    better = []\r\n",
    "    for index, row in df.iterrows():\r\n",
    "        last = int(row[3])\r\n",
    "        media = int(row[2])\r\n",
    "        moda = str(row[4]) \r\n",
    "        pesos = float(row[7])\r\n",
    "        #print(\"last: \",last,\" media: \", media, \" pesos: \", pesos, \" moda: \", moda)\r\n",
    "        if ((int(last) > int(0)) & (int(media) > int(0)) ):\r\n",
    "            res1 = set_hot_level(last, media)\r\n",
    "            p1 = float(res1)\r\n",
    "        else:\r\n",
    "            p1 = float(0.33)\r\n",
    "        prob1.append(p1)\r\n",
    "        \r\n",
    "        splitedtupla= unsplited_tupla(moda)\r\n",
    "        if type(splitedtupla) is not type(moda):\r\n",
    "            df_splited = pd.DataFrame(splitedtupla)\r\n",
    "            #print(\"df_splited:\", df_splited)\r\n",
    "            for index, row in df_splited.iterrows():\r\n",
    "                valor = int(row[0])\r\n",
    "                res2 = set_hot_level(last, valor)\r\n",
    "                better.append(float(res2)) \r\n",
    "            #print(\"valor de better \", better)\r\n",
    "            conteo = len(better)          \r\n",
    "            for i in better: \r\n",
    "                temp = float(i) \r\n",
    "                if int(conteo) == int(0):\r\n",
    "                    conteo = conteo +1\r\n",
    "                    anterior = i\r\n",
    "                else:\r\n",
    "                    conteo = conteo +1\r\n",
    "                    if float(temp) <= float(anterior):\r\n",
    "                        anterior = temp\r\n",
    "            p2 = retorna_valor(anterior)\r\n",
    "        else:\r\n",
    "            res2 = set_hot_level(last, moda)\r\n",
    "            p2 = retorna_valor(res2)\r\n",
    "        prob2.append(p2)        \r\n",
    "        \r\n",
    "        p3 = pesos\r\n",
    "        prob3.append(p3)\r\n",
    "        #print(\"p1: \",p1, \"p2: \", p2, \"p3: \", p3)\r\n",
    "        prob.append(float(p1 + p2 + p3)/ int(3))\r\n",
    "    return prob, prob1, prob2, prob3"
   ],
   "outputs": [],
   "metadata": {}
  },
  {
   "cell_type": "code",
   "execution_count": 79,
   "source": [
    "def procesa_conteo_sbs(conteos, df):\r\n",
    "    media = []\r\n",
    "    modaa = []\r\n",
    "    lasts = []\r\n",
    "    delta = []\r\n",
    "    resta = []\r\n",
    "    for index, row in conteos.iterrows():\r\n",
    "        sbs = str(row[1])\r\n",
    "        sbs1 = [str(sbs)]\r\n",
    "        dftx = df[df.sb.isin(sbs1)]\r\n",
    "        df_filt = dftx.iloc[0::1,[0]]\r\n",
    "        df_tupla = calcular_deltas_verticales(df_filt)\r\n",
    "        lasts.append(df_tupla[0])\r\n",
    "        media.append(calc_media(df_tupla))\r\n",
    "        resta.append(abs(int(df_tupla[0])- int(calc_media(df_tupla))))\r\n",
    "        df_moda = calc_moda(df_tupla)\r\n",
    "        pal = '|'.join([str(m) for m in df_moda]) if len(df_moda) > 1  else str(df_moda[0])\r\n",
    "        modaa.append(pal)\r\n",
    "        #conteos = calc_cant_moda(df_tupla, df_moda)\r\n",
    "        palabra = '|'.join([str(e) for e in df_tupla]) \r\n",
    "        delta.append(palabra)        \r\n",
    "        #print(sbs, \" X\", promedio, \" L\", last, \" M\", moda,\" T\",  df_tupla)\r\n",
    "    dft = conteos\r\n",
    "    dft['X'] = media\r\n",
    "    dft['L'] = lasts\r\n",
    "    dft['R'] = resta    \r\n",
    "    dft['M'] = modaa\r\n",
    "    dft['T'] = delta\r\n",
    "    df_filt2 = dft.iloc[0::1,[0]]\r\n",
    "    #print(\"df_filt2\", df_filt2)\r\n",
    "    df_pesos = sumarcol_peso(df_filt2)\r\n",
    "    #print(\"valor de df_pesos \", df_pesos)\r\n",
    "    \r\n",
    "    dft['P'] = df_pesos\r\n",
    "    #dft['Pr'], dft['Pr1'],dft['Pr2'],dft['Pr3'] = how_hot_is(dft, df_tr_fu_filt_delta)\r\n",
    "    proba, proba1,proba2,proba3 = how_hot_is(dft, df_tr_fu_filt_delta)\r\n",
    "    dft['Pr']= proba\r\n",
    "    dft['PrX'] = proba1\r\n",
    "    dft['PrL'] = proba2\r\n",
    "    dft['PrM'] = proba3\r\n",
    "    #dft.insert(2, \"P\", df_pesos, True) \r\n",
    "    return dft"
   ],
   "outputs": [],
   "metadata": {}
  },
  {
   "cell_type": "code",
   "execution_count": 80,
   "source": [
    "def procesa_conteo_singles(conteos, df):\r\n",
    "    media = []\r\n",
    "    modaa = []\r\n",
    "    lasts = []\r\n",
    "    delta = []\r\n",
    "    resta = []\r\n",
    "    for index, row in conteos.iterrows():\r\n",
    "        sbs = str(row[1])\r\n",
    "        sbs1 = [str(sbs)]\r\n",
    "        dftx = df[df.n1.isin(sbs1) | df.n2.isin(sbs1) |df.n3.isin(sbs1) | df.n4.isin(sbs1) |df.n5.isin(sbs1)]\r\n",
    "        df_filt = dftx.iloc[0::1,[0]]\r\n",
    "        df_tupla = calcular_deltas_verticales(df_filt)\r\n",
    "        lasts.append(df_tupla[0])\r\n",
    "        media.append(calc_media(df_tupla))\r\n",
    "        resta.append(abs(int(df_tupla[0])- int(calc_media(df_tupla))))\r\n",
    "        df_moda = calc_moda(df_tupla)\r\n",
    "        pal = '|'.join([str(m) for m in df_moda]) if len(df_moda) > 1  else str(df_moda[0])\r\n",
    "        modaa.append(pal)\r\n",
    "        #conteos = calc_cant_moda(df_tupla, df_moda)\r\n",
    "        palabra = '|'.join([str(e) for e in df_tupla]) \r\n",
    "        delta.append(palabra)        \r\n",
    "        #print(sbs, \" X\", promedio, \" L\", last, \" M\", moda,\" T\",  df_tupla)\r\n",
    "    dft = conteos\r\n",
    "    dft['X'] = media\r\n",
    "    dft['L'] = lasts\r\n",
    "    dft['R'] = resta  \r\n",
    "    dft['M'] = modaa\r\n",
    "    dft['T'] = delta\r\n",
    "    df_filt2 = dft.iloc[0::1,[0]]\r\n",
    "    #print(\"df_filt2\", df_filt2)\r\n",
    "    df_pesos = sumarcol_peso(df_filt2)\r\n",
    "    #print(\"valor de df_pesos \", df_pesos)\r\n",
    "    \r\n",
    "    dft['P'] = df_pesos\r\n",
    "    #dft['Pr'], dft['Pr1'],dft['Pr2'],dft['Pr3']  = how_hot_is(dft, df_tr_fu_filt_delta)\r\n",
    "    proba, proba1,proba2,proba3 = how_hot_is(dft, df_tr_fu_filt_delta)\r\n",
    "    dft['Pr']= proba\r\n",
    "    dft['PrX'] = proba1\r\n",
    "    dft['PrL'] = proba2\r\n",
    "    dft['PrM'] = proba3\r\n",
    "    #dft.insert(2, \"P\", df_pesos, True) \r\n",
    "    return dft"
   ],
   "outputs": [],
   "metadata": {}
  },
  {
   "cell_type": "code",
   "execution_count": 81,
   "source": [
    "def procesa_conteo_dobles(conteos, df):\r\n",
    "    media = []\r\n",
    "    modaa = []\r\n",
    "    lasts = []\r\n",
    "    delta = []\r\n",
    "    resta = []\r\n",
    "    for index, row in conteos.iterrows():\r\n",
    "        sbs = str(row[1])\r\n",
    "        splitedtupla= unsplited_tupla(sbs)\r\n",
    "        sbs1 = [str(splitedtupla[0])]\r\n",
    "        sbs2 = [str(splitedtupla[1])]\r\n",
    "        dftx = df[(df.n1.isin(sbs1) | df.n2.isin(sbs1) |df.n3.isin(sbs1) | df.n4.isin(sbs1) |df.n5.isin(sbs1)) \r\n",
    "                & (df.n1.isin(sbs2) | df.n2.isin(sbs2) |df.n3.isin(sbs2) | df.n4.isin(sbs2) |df.n5.isin(sbs2))]\r\n",
    "        df_filt = dftx.iloc[0::1,[0]]\r\n",
    "        df_tupla = calcular_deltas_verticales(df_filt)\r\n",
    "        lasts.append(df_tupla[0])\r\n",
    "        media.append(calc_media(df_tupla))\r\n",
    "        resta.append(abs(int(df_tupla[0])- int(calc_media(df_tupla))))\r\n",
    "        df_moda = calc_moda(df_tupla)\r\n",
    "        pal = '|'.join([str(m) for m in df_moda]) if len(df_moda) > 1  else str(df_moda[0])\r\n",
    "        modaa.append(pal)\r\n",
    "        palabra = '|'.join([str(e) for e in df_tupla]) \r\n",
    "        delta.append(palabra)\r\n",
    "    dft = conteos\r\n",
    "    #print(\"IMPRIMO DFT \", dft)\r\n",
    "    dft['X'] = media\r\n",
    "    dft['L'] = lasts\r\n",
    "    dft['R'] = resta    \r\n",
    "    dft['M'] = modaa\r\n",
    "    df_filt2 = dft.iloc[0::1,[0]]\r\n",
    "    #print(\"df_filt2\", df_filt2)\r\n",
    "    df_pesos = sumarcol_peso(df_filt2)\r\n",
    "    #print(\"valor de df_pesos \", df_pesos)\r\n",
    "    dft['T'] = delta\r\n",
    "    dft['P'] = df_pesos\r\n",
    "    #dft['Pr'], dft['Pr1'],dft['Pr2'],dft['Pr3']  =how_hot_is(dft, df_tr_fu_filt_delta)\r\n",
    "    proba, proba1,proba2,proba3 = how_hot_is(dft, df_tr_fu_filt_delta)\r\n",
    "    dft['Pr']= proba\r\n",
    "    dft['PrX'] = proba1\r\n",
    "    dft['PrL'] = proba2\r\n",
    "    dft['PrM'] = proba3\r\n",
    "    return dft"
   ],
   "outputs": [],
   "metadata": {}
  },
  {
   "cell_type": "code",
   "execution_count": 82,
   "source": [
    "def procesa_conteo_triples(conteos, df):\r\n",
    "    media = []\r\n",
    "    modaa = []\r\n",
    "    lasts = []\r\n",
    "    delta = []\r\n",
    "    resta = []\r\n",
    "    for index, row in conteos.iterrows():\r\n",
    "        sbs = str(row[1])\r\n",
    "        splitedtupla= unsplited_tupla(sbs)\r\n",
    "        sbs1 = [str(splitedtupla[0])]\r\n",
    "        sbs2 = [str(splitedtupla[1])]\r\n",
    "        sbs3 = [str(splitedtupla[2])]\r\n",
    "        dftx = df[(df.n1.isin(sbs1) | df.n2.isin(sbs1) |df.n3.isin(sbs1) | df.n4.isin(sbs1) |df.n5.isin(sbs1)) \r\n",
    "                & (df.n1.isin(sbs2) | df.n2.isin(sbs2) |df.n3.isin(sbs2) | df.n4.isin(sbs2) |df.n5.isin(sbs2)) \r\n",
    "                & (df.n1.isin(sbs3) | df.n2.isin(sbs3) |df.n3.isin(sbs3) | df.n4.isin(sbs3) |df.n5.isin(sbs3)) ]\r\n",
    "        #print(dftx)\r\n",
    "        df_filt = dftx.iloc[0::1,[0]]\r\n",
    "        df_tupla = calcular_deltas_verticales(df_filt)\r\n",
    "        lasts.append(df_tupla[0])\r\n",
    "        media.append(calc_media(df_tupla))\r\n",
    "        resta.append(abs(int(df_tupla[0])- int(calc_media(df_tupla))))\r\n",
    "        df_moda = calc_moda(df_tupla)\r\n",
    "        pal = '|'.join([str(m) for m in df_moda]) if len(df_moda) > 1  else str(df_moda[0])\r\n",
    "        modaa.append(pal)\r\n",
    "        palabra = '|'.join([str(e) for e in df_tupla]) \r\n",
    "        delta.append(palabra)\r\n",
    "    dft = conteos\r\n",
    "    dft['X'] = media\r\n",
    "    dft['L'] = lasts\r\n",
    "    dft['R'] = resta    \r\n",
    "    dft['M'] = modaa\r\n",
    "    df_filt2 = dft.iloc[0::1,[0]]\r\n",
    "    #print(\"df_filt2\", df_filt2)\r\n",
    "    df_pesos = sumarcol_peso(df_filt2)\r\n",
    "    #print(\"valor de df_pesos \", df_pesos)\r\n",
    "    dft['T'] = delta\r\n",
    "    dft['P'] = df_pesos\r\n",
    "    #dft['Pr'], dft['Pr1'],dft['Pr2'],dft['Pr3']  = how_hot_is(dft, df_tr_fu_filt_delta)\r\n",
    "    proba, proba1,proba2,proba3 = how_hot_is(dft, df_tr_fu_filt_delta)\r\n",
    "    dft['Pr']= proba\r\n",
    "    dft['PrX'] = proba1\r\n",
    "    dft['PrL'] = proba2\r\n",
    "    dft['PrM'] = proba3\r\n",
    "    return dft"
   ],
   "outputs": [],
   "metadata": {}
  },
  {
   "cell_type": "code",
   "execution_count": 83,
   "source": [
    "def procesa_conteo_cuartetos(conteos, df):\r\n",
    "    media = []\r\n",
    "    modaa = []\r\n",
    "    lasts = []\r\n",
    "    delta = []\r\n",
    "    resta = []\r\n",
    "    for index, row in conteos.iterrows():\r\n",
    "        sbs = str(row[1])\r\n",
    "        splitedtupla= unsplited_tupla(sbs)\r\n",
    "        sbs1 = [str(splitedtupla[0])]\r\n",
    "        sbs2 = [str(splitedtupla[1])]\r\n",
    "        sbs3 = [str(splitedtupla[2])]\r\n",
    "        sbs4 = [str(splitedtupla[3])]\r\n",
    "        dftx = df[(df.n1.isin(sbs1) | df.n2.isin(sbs1) |df.n3.isin(sbs1) | df.n4.isin(sbs1) |df.n5.isin(sbs1)) \r\n",
    "                & (df.n1.isin(sbs2) | df.n2.isin(sbs2) |df.n3.isin(sbs2) | df.n4.isin(sbs2) |df.n5.isin(sbs2)) \r\n",
    "                & (df.n1.isin(sbs3) | df.n2.isin(sbs3) |df.n3.isin(sbs3) | df.n4.isin(sbs3) |df.n5.isin(sbs3))\r\n",
    "                & (df.n1.isin(sbs4) | df.n2.isin(sbs4) |df.n3.isin(sbs4) | df.n4.isin(sbs4) |df.n5.isin(sbs4))]\r\n",
    "        #print(dftx)\r\n",
    "        df_filt = dftx.iloc[0::1,[0]]\r\n",
    "        df_tupla = calcular_deltas_verticales(df_filt)\r\n",
    "        lasts.append(df_tupla[0])\r\n",
    "        media.append(calc_media(df_tupla))\r\n",
    "        resta.append(abs(int(df_tupla[0])- int(calc_media(df_tupla))))\r\n",
    "        df_moda = calc_moda(df_tupla)\r\n",
    "        pal = '|'.join([str(m) for m in df_moda]) if len(df_moda) > 1  else str(df_moda[0])\r\n",
    "        modaa.append(pal)\r\n",
    "        palabra = '|'.join([str(e) for e in df_tupla]) \r\n",
    "        delta.append(palabra)\r\n",
    "    dft = conteos\r\n",
    "    dft['X'] = media\r\n",
    "    dft['L'] = lasts\r\n",
    "    dft['R'] = resta\r\n",
    "    dft['M'] = modaa\r\n",
    "    df_filt2 = dft.iloc[0::1,[0]]\r\n",
    "    #print(\"df_filt2\", df_filt2)\r\n",
    "    df_pesos = sumarcol_peso(df_filt2)\r\n",
    "    #print(\"valor de df_pesos \", df_pesos)\r\n",
    "    dft['T'] = delta\r\n",
    "    dft['P'] = df_pesos\r\n",
    "    #dft['Pr'], dft['Pr1'],dft['Pr2'],dft['Pr3']  = how_hot_is(dft, df_tr_fu_filt_delta)\r\n",
    "    proba, proba1,proba2,proba3 = how_hot_is(dft, df_tr_fu_filt_delta)\r\n",
    "    dft['Pr']= proba\r\n",
    "    dft['PrX'] = proba1\r\n",
    "    dft['PrL'] = proba2\r\n",
    "    dft['PrM'] = proba3\r\n",
    "    return dft"
   ],
   "outputs": [],
   "metadata": {}
  },
  {
   "cell_type": "code",
   "execution_count": 84,
   "source": [
    "def procesa_conteo_quintetos(conteos, df):\r\n",
    "    media = []\r\n",
    "    modaa = []\r\n",
    "    lasts = []\r\n",
    "    delta = []  \r\n",
    "    resta = []\r\n",
    "    for index, row in conteos.iterrows():\r\n",
    "        sbs = str(row[1])\r\n",
    "        splitedtupla= unsplited_tupla(sbs)\r\n",
    "        sbs1 = [str(splitedtupla[0])]\r\n",
    "        sbs2 = [str(splitedtupla[1])]\r\n",
    "        sbs3 = [str(splitedtupla[2])]\r\n",
    "        sbs4 = [str(splitedtupla[3])]\r\n",
    "        sbs5 = [str(splitedtupla[4])]\r\n",
    "        dftx = df[(df.n1.isin(sbs1) | df.n2.isin(sbs1) |df.n3.isin(sbs1) | df.n4.isin(sbs1) |df.n5.isin(sbs1)) \r\n",
    "                & (df.n1.isin(sbs2) | df.n2.isin(sbs2) |df.n3.isin(sbs2) | df.n4.isin(sbs2) |df.n5.isin(sbs2)) \r\n",
    "                & (df.n1.isin(sbs3) | df.n2.isin(sbs3) |df.n3.isin(sbs3) | df.n4.isin(sbs3) |df.n5.isin(sbs3))\r\n",
    "                & (df.n1.isin(sbs4) | df.n2.isin(sbs4) |df.n3.isin(sbs4) | df.n4.isin(sbs4) |df.n5.isin(sbs4))\r\n",
    "                & (df.n1.isin(sbs5) | df.n2.isin(sbs5) |df.n3.isin(sbs5) | df.n4.isin(sbs5) |df.n5.isin(sbs5)) ]\r\n",
    "        #print(dftx)\r\n",
    "        df_filt = dftx.iloc[0::1,[0]]\r\n",
    "        df_tupla = calcular_deltas_verticales(df_filt)\r\n",
    "        lasts.append(df_tupla[0])\r\n",
    "        media.append(calc_media(df_tupla))\r\n",
    "        resta.append(abs(int(df_tupla[0])- int(calc_media(df_tupla))))\r\n",
    "        df_moda = calc_moda(df_tupla)\r\n",
    "        pal = '|'.join([str(m) for m in df_moda]) if len(df_moda) > 1  else str(df_moda[0])\r\n",
    "        modaa.append(pal)\r\n",
    "        palabra = '|'.join([str(e) for e in df_tupla]) \r\n",
    "        delta.append(palabra)\r\n",
    "    dft = conteos\r\n",
    "    dft['X'] = media\r\n",
    "    dft['L'] = lasts\r\n",
    "    dft['R'] = resta\r\n",
    "    dft['M'] = modaa\r\n",
    "    df_filt2 = dft.iloc[0::1,[0]]\r\n",
    "    #print(\"df_filt2\", df_filt2)\r\n",
    "    df_pesos = sumarcol_peso(df_filt2)\r\n",
    "    #print(\"valor de df_pesos \", df_pesos)\r\n",
    "    dft['T'] = delta\r\n",
    "    dft['P'] = df_pesos\r\n",
    "    proba, proba1,proba2,proba3 = how_hot_is(dft, df_tr_fu_filt_delta)\r\n",
    "    dft['Pr']= proba\r\n",
    "    dft['PrX'] = proba1\r\n",
    "    dft['PrL'] = proba2\r\n",
    "    dft['PrM'] = proba3\r\n",
    "    return dft"
   ],
   "outputs": [],
   "metadata": {}
  },
  {
   "cell_type": "code",
   "execution_count": 85,
   "source": [
    "rangos = [*range(0, 3, 1)]\r\n",
    "rangos_sb = [*range(0, 5, 1)]"
   ],
   "outputs": [],
   "metadata": {}
  },
  {
   "cell_type": "code",
   "execution_count": 86,
   "source": [
    "df_cs_tr_sb = procesa_conteo_sbs(conteos_1d_sb_tr, df_tr_fu_filt_delta)\r\n",
    "df_cs_tr_sb = df_cs_tr_sb.sort_values('R',ascending=True)\r\n",
    "df_cs_tr_sb_fi = df_cs_tr_sb[df_cs_tr_sb.R.isin(rangos_sb)]\r\n",
    "#df_cs_tr_sb_fi"
   ],
   "outputs": [
    {
     "output_type": "stream",
     "name": "stdout",
     "text": [
      "valor de suma  conteo    456\n",
      "dtype: int64\n"
     ]
    }
   ],
   "metadata": {}
  },
  {
   "cell_type": "code",
   "execution_count": 87,
   "source": [
    "df_sel_sb_tr = df_cs_tr_sb_fi.iloc[0::1,[1,4]]\r\n",
    "df_sel_sb_tr\r\n",
    "print(df_sel_sb_tr)"
   ],
   "outputs": [
    {
     "output_type": "stream",
     "name": "stdout",
     "text": [
      "    tupla  R\n",
      "4       5  4\n",
      "13     14  4\n"
     ]
    }
   ],
   "metadata": {}
  },
  {
   "cell_type": "code",
   "execution_count": 88,
   "source": [
    "df_cs_tr = procesa_conteo_singles(conteos_1d_tr, df_tr_fu_filt_delta)\r\n",
    "df_cs_tr = df_cs_tr.sort_values('R',ascending=True)\r\n",
    "df_cs_tr_fi = df_cs_tr[df_cs_tr.R.isin(rangos)]\r\n",
    "#df_cs_tr"
   ],
   "outputs": [
    {
     "output_type": "stream",
     "name": "stdout",
     "text": [
      "valor de suma  conteo    2280\n",
      "dtype: int64\n"
     ]
    }
   ],
   "metadata": {}
  },
  {
   "cell_type": "code",
   "execution_count": 89,
   "source": [
    "df_sel_si_tr = df_cs_tr_fi.iloc[0::1,[1,4]]\r\n",
    "df_sel_si_tr"
   ],
   "outputs": [
    {
     "output_type": "execute_result",
     "data": {
      "text/html": [
       "<div>\n",
       "<style scoped>\n",
       "    .dataframe tbody tr th:only-of-type {\n",
       "        vertical-align: middle;\n",
       "    }\n",
       "\n",
       "    .dataframe tbody tr th {\n",
       "        vertical-align: top;\n",
       "    }\n",
       "\n",
       "    .dataframe thead th {\n",
       "        text-align: right;\n",
       "    }\n",
       "</style>\n",
       "<table border=\"1\" class=\"dataframe\">\n",
       "  <thead>\n",
       "    <tr style=\"text-align: right;\">\n",
       "      <th></th>\n",
       "      <th>tupla</th>\n",
       "      <th>R</th>\n",
       "    </tr>\n",
       "  </thead>\n",
       "  <tbody>\n",
       "    <tr>\n",
       "      <td>29</td>\n",
       "      <td>30</td>\n",
       "      <td>0</td>\n",
       "    </tr>\n",
       "    <tr>\n",
       "      <td>30</td>\n",
       "      <td>31</td>\n",
       "      <td>0</td>\n",
       "    </tr>\n",
       "    <tr>\n",
       "      <td>24</td>\n",
       "      <td>25</td>\n",
       "      <td>0</td>\n",
       "    </tr>\n",
       "    <tr>\n",
       "      <td>7</td>\n",
       "      <td>8</td>\n",
       "      <td>0</td>\n",
       "    </tr>\n",
       "    <tr>\n",
       "      <td>33</td>\n",
       "      <td>34</td>\n",
       "      <td>1</td>\n",
       "    </tr>\n",
       "    <tr>\n",
       "      <td>20</td>\n",
       "      <td>21</td>\n",
       "      <td>2</td>\n",
       "    </tr>\n",
       "    <tr>\n",
       "      <td>17</td>\n",
       "      <td>18</td>\n",
       "      <td>2</td>\n",
       "    </tr>\n",
       "    <tr>\n",
       "      <td>22</td>\n",
       "      <td>23</td>\n",
       "      <td>2</td>\n",
       "    </tr>\n",
       "    <tr>\n",
       "      <td>6</td>\n",
       "      <td>7</td>\n",
       "      <td>2</td>\n",
       "    </tr>\n",
       "  </tbody>\n",
       "</table>\n",
       "</div>"
      ],
      "text/plain": [
       "    tupla  R\n",
       "29     30  0\n",
       "30     31  0\n",
       "24     25  0\n",
       "7       8  0\n",
       "33     34  1\n",
       "20     21  2\n",
       "17     18  2\n",
       "22     23  2\n",
       "6       7  2"
      ]
     },
     "metadata": {},
     "execution_count": 89
    }
   ],
   "metadata": {}
  },
  {
   "cell_type": "code",
   "execution_count": 90,
   "source": [
    "df_cd_tr = procesa_conteo_dobles(conteos_2d_tr, df_tr_fu_filt_delta)\r\n",
    "df_cd_tr = df_cd_tr.sort_values('R',ascending=True)\r\n",
    "df_cd_tr_fi = df_cd_tr[df_cd_tr.R.isin(rangos)]\r\n",
    "#df_cd_tr_fi"
   ],
   "outputs": [
    {
     "output_type": "stream",
     "name": "stdout",
     "text": [
      "valor de suma  conteo    4560\n",
      "dtype: int64\n"
     ]
    }
   ],
   "metadata": {}
  },
  {
   "cell_type": "code",
   "execution_count": null,
   "source": [],
   "outputs": [],
   "metadata": {}
  },
  {
   "cell_type": "code",
   "execution_count": 91,
   "source": [
    "df_ct_tr = procesa_conteo_triples(conteos_3d_tr, df_tr_fu_filt_delta)\r\n",
    "df_ct_tr = df_ct_tr.sort_values('R',ascending=True)\r\n",
    "#df_ct_tr.tail(25)\r\n",
    "#df_ct_tr"
   ],
   "outputs": [
    {
     "output_type": "stream",
     "name": "stdout",
     "text": [
      "valor de suma  conteo    4560\n",
      "dtype: int64\n"
     ]
    }
   ],
   "metadata": {}
  },
  {
   "cell_type": "code",
   "execution_count": 92,
   "source": [
    "df_cc_tr = procesa_conteo_cuartetos(conteos_4d_tr, df_tr_fu_filt_delta)\r\n",
    "df_cc_tr = df_cc_tr.sort_values('tupla',ascending=True)\r\n",
    "#df_cc_tr.head(25)\r\n",
    "#df_cc_tr"
   ],
   "outputs": [
    {
     "output_type": "stream",
     "name": "stdout",
     "text": [
      "valor de suma  conteo    2280\n",
      "dtype: int64\n"
     ]
    }
   ],
   "metadata": {}
  },
  {
   "cell_type": "code",
   "execution_count": 93,
   "source": [
    "df_cq_tr = procesa_conteo_quintetos(conteos_5d_tr, df_tr_fu_filt_delta)\r\n",
    "df_cq_tr = df_cq_tr.sort_values('tupla',ascending=True)\r\n",
    "#df_cq_tr.head(25)"
   ],
   "outputs": [
    {
     "output_type": "stream",
     "name": "stdout",
     "text": [
      "valor de suma  conteo    456\n",
      "dtype: int64\n"
     ]
    }
   ],
   "metadata": {}
  },
  {
   "cell_type": "markdown",
   "source": [
    "#### Aqui empiezan los llamados a los calculos de revancha"
   ],
   "metadata": {}
  },
  {
   "cell_type": "code",
   "execution_count": 94,
   "source": [
    "df_cs_re_sb = procesa_conteo_sbs(conteos_1d_sb_re, df_re_fu_filt_delta)\r\n",
    "df_cs_re_sb = df_cs_re_sb.sort_values('R',ascending=True)\r\n",
    "df_cs_re_sb_fi = df_cs_re_sb[df_cs_re_sb.R.isin(rangos_sb)]\r\n",
    "#df_cs_re_sb_fi"
   ],
   "outputs": [
    {
     "output_type": "stream",
     "name": "stdout",
     "text": [
      "valor de suma  conteo    456\n",
      "dtype: int64\n"
     ]
    }
   ],
   "metadata": {}
  },
  {
   "cell_type": "code",
   "execution_count": 95,
   "source": [
    "df_sel_sb_re = df_cs_re_sb_fi.iloc[0::1,[1,4]]\r\n",
    "df_sel_sb_re"
   ],
   "outputs": [
    {
     "output_type": "execute_result",
     "data": {
      "text/html": [
       "<div>\n",
       "<style scoped>\n",
       "    .dataframe tbody tr th:only-of-type {\n",
       "        vertical-align: middle;\n",
       "    }\n",
       "\n",
       "    .dataframe tbody tr th {\n",
       "        vertical-align: top;\n",
       "    }\n",
       "\n",
       "    .dataframe thead th {\n",
       "        text-align: right;\n",
       "    }\n",
       "</style>\n",
       "<table border=\"1\" class=\"dataframe\">\n",
       "  <thead>\n",
       "    <tr style=\"text-align: right;\">\n",
       "      <th></th>\n",
       "      <th>tupla</th>\n",
       "      <th>R</th>\n",
       "    </tr>\n",
       "  </thead>\n",
       "  <tbody>\n",
       "    <tr>\n",
       "      <td>14</td>\n",
       "      <td>15</td>\n",
       "      <td>0</td>\n",
       "    </tr>\n",
       "    <tr>\n",
       "      <td>6</td>\n",
       "      <td>7</td>\n",
       "      <td>2</td>\n",
       "    </tr>\n",
       "    <tr>\n",
       "      <td>4</td>\n",
       "      <td>5</td>\n",
       "      <td>3</td>\n",
       "    </tr>\n",
       "    <tr>\n",
       "      <td>1</td>\n",
       "      <td>2</td>\n",
       "      <td>4</td>\n",
       "    </tr>\n",
       "  </tbody>\n",
       "</table>\n",
       "</div>"
      ],
      "text/plain": [
       "    tupla  R\n",
       "14     15  0\n",
       "6       7  2\n",
       "4       5  3\n",
       "1       2  4"
      ]
     },
     "metadata": {},
     "execution_count": 95
    }
   ],
   "metadata": {}
  },
  {
   "cell_type": "code",
   "execution_count": 96,
   "source": [
    "df_cs_re = procesa_conteo_singles(conteos_1d_re, df_re_fu_filt_delta)\r\n",
    "df_cs_re = df_cs_re.sort_values('R',ascending=True)\r\n",
    "df_cs_re_fi = df_cs_re[df_cs_re.R.isin(rangos)]\r\n",
    "#df_cs_re_fi"
   ],
   "outputs": [
    {
     "output_type": "stream",
     "name": "stdout",
     "text": [
      "valor de suma  conteo    2280\n",
      "dtype: int64\n"
     ]
    }
   ],
   "metadata": {}
  },
  {
   "cell_type": "code",
   "execution_count": 97,
   "source": [
    "df_sel_si_re = df_cs_re_fi.iloc[0::1,[1,4]]\r\n",
    "df_sel_si_re"
   ],
   "outputs": [
    {
     "output_type": "execute_result",
     "data": {
      "text/html": [
       "<div>\n",
       "<style scoped>\n",
       "    .dataframe tbody tr th:only-of-type {\n",
       "        vertical-align: middle;\n",
       "    }\n",
       "\n",
       "    .dataframe tbody tr th {\n",
       "        vertical-align: top;\n",
       "    }\n",
       "\n",
       "    .dataframe thead th {\n",
       "        text-align: right;\n",
       "    }\n",
       "</style>\n",
       "<table border=\"1\" class=\"dataframe\">\n",
       "  <thead>\n",
       "    <tr style=\"text-align: right;\">\n",
       "      <th></th>\n",
       "      <th>tupla</th>\n",
       "      <th>R</th>\n",
       "    </tr>\n",
       "  </thead>\n",
       "  <tbody>\n",
       "    <tr>\n",
       "      <td>21</td>\n",
       "      <td>22</td>\n",
       "      <td>0</td>\n",
       "    </tr>\n",
       "    <tr>\n",
       "      <td>31</td>\n",
       "      <td>32</td>\n",
       "      <td>1</td>\n",
       "    </tr>\n",
       "    <tr>\n",
       "      <td>14</td>\n",
       "      <td>15</td>\n",
       "      <td>1</td>\n",
       "    </tr>\n",
       "    <tr>\n",
       "      <td>27</td>\n",
       "      <td>28</td>\n",
       "      <td>1</td>\n",
       "    </tr>\n",
       "    <tr>\n",
       "      <td>10</td>\n",
       "      <td>11</td>\n",
       "      <td>1</td>\n",
       "    </tr>\n",
       "    <tr>\n",
       "      <td>33</td>\n",
       "      <td>34</td>\n",
       "      <td>2</td>\n",
       "    </tr>\n",
       "    <tr>\n",
       "      <td>7</td>\n",
       "      <td>8</td>\n",
       "      <td>2</td>\n",
       "    </tr>\n",
       "    <tr>\n",
       "      <td>34</td>\n",
       "      <td>35</td>\n",
       "      <td>2</td>\n",
       "    </tr>\n",
       "    <tr>\n",
       "      <td>39</td>\n",
       "      <td>40</td>\n",
       "      <td>2</td>\n",
       "    </tr>\n",
       "  </tbody>\n",
       "</table>\n",
       "</div>"
      ],
      "text/plain": [
       "    tupla  R\n",
       "21     22  0\n",
       "31     32  1\n",
       "14     15  1\n",
       "27     28  1\n",
       "10     11  1\n",
       "33     34  2\n",
       "7       8  2\n",
       "34     35  2\n",
       "39     40  2"
      ]
     },
     "metadata": {},
     "execution_count": 97
    }
   ],
   "metadata": {}
  },
  {
   "cell_type": "code",
   "execution_count": null,
   "source": [],
   "outputs": [],
   "metadata": {}
  },
  {
   "cell_type": "code",
   "execution_count": 98,
   "source": [
    "df_cd_re = procesa_conteo_dobles(conteos_2d_re, df_re_fu_filt_delta)\r\n",
    "df_cd_re = df_cd_re.sort_values('R',ascending=True)\r\n",
    "df_cd_re_fi = df_cd_re[df_cd_re.R.isin(rangos)]\r\n",
    "df_cd_re_fi"
   ],
   "outputs": [
    {
     "output_type": "stream",
     "name": "stdout",
     "text": [
      "valor de suma  conteo    4560\n",
      "dtype: int64\n"
     ]
    },
    {
     "output_type": "execute_result",
     "data": {
      "text/html": [
       "<div>\n",
       "<style scoped>\n",
       "    .dataframe tbody tr th:only-of-type {\n",
       "        vertical-align: middle;\n",
       "    }\n",
       "\n",
       "    .dataframe tbody tr th {\n",
       "        vertical-align: top;\n",
       "    }\n",
       "\n",
       "    .dataframe thead th {\n",
       "        text-align: right;\n",
       "    }\n",
       "</style>\n",
       "<table border=\"1\" class=\"dataframe\">\n",
       "  <thead>\n",
       "    <tr style=\"text-align: right;\">\n",
       "      <th></th>\n",
       "      <th>conteo</th>\n",
       "      <th>tupla</th>\n",
       "      <th>X</th>\n",
       "      <th>L</th>\n",
       "      <th>R</th>\n",
       "      <th>M</th>\n",
       "      <th>T</th>\n",
       "      <th>P</th>\n",
       "      <th>Pr</th>\n",
       "      <th>PrX</th>\n",
       "      <th>PrL</th>\n",
       "      <th>PrM</th>\n",
       "    </tr>\n",
       "  </thead>\n",
       "  <tbody>\n",
       "    <tr>\n",
       "      <td>307</td>\n",
       "      <td>12</td>\n",
       "      <td>9|10</td>\n",
       "      <td>35</td>\n",
       "      <td>35</td>\n",
       "      <td>0</td>\n",
       "      <td>35|12|90|58|2|5|28|40|19|117|24|25|0</td>\n",
       "      <td>35|12|90|58|2|5|28|40|19|117|24|25|0</td>\n",
       "      <td>0.003</td>\n",
       "      <td>0.668</td>\n",
       "      <td>1.000</td>\n",
       "      <td>1.000</td>\n",
       "      <td>0.003</td>\n",
       "    </tr>\n",
       "    <tr>\n",
       "      <td>785</td>\n",
       "      <td>6</td>\n",
       "      <td>28|39</td>\n",
       "      <td>65</td>\n",
       "      <td>65</td>\n",
       "      <td>0</td>\n",
       "      <td>65|21|76|9|52|18|214</td>\n",
       "      <td>65|21|76|9|52|18|214</td>\n",
       "      <td>0.001</td>\n",
       "      <td>0.667</td>\n",
       "      <td>1.000</td>\n",
       "      <td>1.000</td>\n",
       "      <td>0.001</td>\n",
       "    </tr>\n",
       "    <tr>\n",
       "      <td>853</td>\n",
       "      <td>6</td>\n",
       "      <td>34|39</td>\n",
       "      <td>65</td>\n",
       "      <td>65</td>\n",
       "      <td>0</td>\n",
       "      <td>27</td>\n",
       "      <td>65|57|27|13|190|76|27</td>\n",
       "      <td>0.001</td>\n",
       "      <td>0.667</td>\n",
       "      <td>1.000</td>\n",
       "      <td>1.000</td>\n",
       "      <td>0.001</td>\n",
       "    </tr>\n",
       "    <tr>\n",
       "      <td>50</td>\n",
       "      <td>5</td>\n",
       "      <td>2|11</td>\n",
       "      <td>75</td>\n",
       "      <td>75</td>\n",
       "      <td>0</td>\n",
       "      <td>75|18|62|210|27|63</td>\n",
       "      <td>75|18|62|210|27|63</td>\n",
       "      <td>0.001</td>\n",
       "      <td>0.667</td>\n",
       "      <td>1.000</td>\n",
       "      <td>1.000</td>\n",
       "      <td>0.001</td>\n",
       "    </tr>\n",
       "    <tr>\n",
       "      <td>807</td>\n",
       "      <td>7</td>\n",
       "      <td>30|35</td>\n",
       "      <td>56</td>\n",
       "      <td>56</td>\n",
       "      <td>0</td>\n",
       "      <td>56|2|228|7|25|109|4|24</td>\n",
       "      <td>56|2|228|7|25|109|4|24</td>\n",
       "      <td>0.002</td>\n",
       "      <td>0.667</td>\n",
       "      <td>1.000</td>\n",
       "      <td>1.000</td>\n",
       "      <td>0.002</td>\n",
       "    </tr>\n",
       "    <tr>\n",
       "      <td>595</td>\n",
       "      <td>4</td>\n",
       "      <td>18|41</td>\n",
       "      <td>91</td>\n",
       "      <td>91</td>\n",
       "      <td>0</td>\n",
       "      <td>43</td>\n",
       "      <td>91|115|43|163|43</td>\n",
       "      <td>0.001</td>\n",
       "      <td>0.667</td>\n",
       "      <td>1.000</td>\n",
       "      <td>1.000</td>\n",
       "      <td>0.001</td>\n",
       "    </tr>\n",
       "    <tr>\n",
       "      <td>338</td>\n",
       "      <td>5</td>\n",
       "      <td>9|41</td>\n",
       "      <td>75</td>\n",
       "      <td>76</td>\n",
       "      <td>1</td>\n",
       "      <td>76|99|27|52|66|135</td>\n",
       "      <td>76|99|27|52|66|135</td>\n",
       "      <td>0.001</td>\n",
       "      <td>0.667</td>\n",
       "      <td>1.000</td>\n",
       "      <td>1.000</td>\n",
       "      <td>0.001</td>\n",
       "    </tr>\n",
       "    <tr>\n",
       "      <td>40</td>\n",
       "      <td>6</td>\n",
       "      <td>1|42</td>\n",
       "      <td>65</td>\n",
       "      <td>66</td>\n",
       "      <td>1</td>\n",
       "      <td>66|64|127|21|3|112|62</td>\n",
       "      <td>66|64|127|21|3|112|62</td>\n",
       "      <td>0.001</td>\n",
       "      <td>0.667</td>\n",
       "      <td>1.000</td>\n",
       "      <td>1.000</td>\n",
       "      <td>0.001</td>\n",
       "    </tr>\n",
       "    <tr>\n",
       "      <td>168</td>\n",
       "      <td>6</td>\n",
       "      <td>5|12</td>\n",
       "      <td>65</td>\n",
       "      <td>64</td>\n",
       "      <td>1</td>\n",
       "      <td>64|34|4|54|73|223|3</td>\n",
       "      <td>64|34|4|54|73|223|3</td>\n",
       "      <td>0.001</td>\n",
       "      <td>0.667</td>\n",
       "      <td>1.000</td>\n",
       "      <td>1.000</td>\n",
       "      <td>0.001</td>\n",
       "    </tr>\n",
       "    <tr>\n",
       "      <td>294</td>\n",
       "      <td>7</td>\n",
       "      <td>8|31</td>\n",
       "      <td>56</td>\n",
       "      <td>55</td>\n",
       "      <td>1</td>\n",
       "      <td>55|6|59|53|54|45|89|94</td>\n",
       "      <td>55|6|59|53|54|45|89|94</td>\n",
       "      <td>0.002</td>\n",
       "      <td>0.667</td>\n",
       "      <td>1.000</td>\n",
       "      <td>1.000</td>\n",
       "      <td>0.002</td>\n",
       "    </tr>\n",
       "    <tr>\n",
       "      <td>731</td>\n",
       "      <td>7</td>\n",
       "      <td>25|31</td>\n",
       "      <td>56</td>\n",
       "      <td>55</td>\n",
       "      <td>1</td>\n",
       "      <td>65</td>\n",
       "      <td>55|65|13|18|65|101|117|21</td>\n",
       "      <td>0.002</td>\n",
       "      <td>0.667</td>\n",
       "      <td>1.000</td>\n",
       "      <td>1.000</td>\n",
       "      <td>0.002</td>\n",
       "    </tr>\n",
       "    <tr>\n",
       "      <td>826</td>\n",
       "      <td>9</td>\n",
       "      <td>31|42</td>\n",
       "      <td>45</td>\n",
       "      <td>46</td>\n",
       "      <td>1</td>\n",
       "      <td>46|15|167|25|4|75|19|54|24|26</td>\n",
       "      <td>46|15|167|25|4|75|19|54|24|26</td>\n",
       "      <td>0.002</td>\n",
       "      <td>0.667</td>\n",
       "      <td>1.000</td>\n",
       "      <td>1.000</td>\n",
       "      <td>0.002</td>\n",
       "    </tr>\n",
       "    <tr>\n",
       "      <td>10</td>\n",
       "      <td>6</td>\n",
       "      <td>1|12</td>\n",
       "      <td>65</td>\n",
       "      <td>66</td>\n",
       "      <td>1</td>\n",
       "      <td>66|128|53|12|24|84|88</td>\n",
       "      <td>66|128|53|12|24|84|88</td>\n",
       "      <td>0.001</td>\n",
       "      <td>0.667</td>\n",
       "      <td>1.000</td>\n",
       "      <td>1.000</td>\n",
       "      <td>0.001</td>\n",
       "    </tr>\n",
       "    <tr>\n",
       "      <td>840</td>\n",
       "      <td>8</td>\n",
       "      <td>33|35</td>\n",
       "      <td>50</td>\n",
       "      <td>49</td>\n",
       "      <td>1</td>\n",
       "      <td>49|19|171|13|23|26|18|107|29</td>\n",
       "      <td>49|19|171|13|23|26|18|107|29</td>\n",
       "      <td>0.002</td>\n",
       "      <td>0.667</td>\n",
       "      <td>1.000</td>\n",
       "      <td>1.000</td>\n",
       "      <td>0.002</td>\n",
       "    </tr>\n",
       "    <tr>\n",
       "      <td>592</td>\n",
       "      <td>3</td>\n",
       "      <td>18|38</td>\n",
       "      <td>113</td>\n",
       "      <td>112</td>\n",
       "      <td>1</td>\n",
       "      <td>112|62|131|150</td>\n",
       "      <td>112|62|131|150</td>\n",
       "      <td>0.001</td>\n",
       "      <td>0.667</td>\n",
       "      <td>1.000</td>\n",
       "      <td>1.000</td>\n",
       "      <td>0.001</td>\n",
       "    </tr>\n",
       "    <tr>\n",
       "      <td>178</td>\n",
       "      <td>11</td>\n",
       "      <td>5|22</td>\n",
       "      <td>37</td>\n",
       "      <td>36</td>\n",
       "      <td>1</td>\n",
       "      <td>15</td>\n",
       "      <td>36|15|6|41|52|9|62|104|2|74|39|15</td>\n",
       "      <td>0.002</td>\n",
       "      <td>0.667</td>\n",
       "      <td>1.000</td>\n",
       "      <td>1.000</td>\n",
       "      <td>0.002</td>\n",
       "    </tr>\n",
       "    <tr>\n",
       "      <td>792</td>\n",
       "      <td>9</td>\n",
       "      <td>29|32</td>\n",
       "      <td>45</td>\n",
       "      <td>44</td>\n",
       "      <td>1</td>\n",
       "      <td>59</td>\n",
       "      <td>44|59|7|105|59|82|18|5|13|63</td>\n",
       "      <td>0.002</td>\n",
       "      <td>0.667</td>\n",
       "      <td>1.000</td>\n",
       "      <td>1.000</td>\n",
       "      <td>0.002</td>\n",
       "    </tr>\n",
       "    <tr>\n",
       "      <td>889</td>\n",
       "      <td>6</td>\n",
       "      <td>40|42</td>\n",
       "      <td>65</td>\n",
       "      <td>66</td>\n",
       "      <td>1</td>\n",
       "      <td>66|4|120|21|70|133|41</td>\n",
       "      <td>66|4|120|21|70|133|41</td>\n",
       "      <td>0.001</td>\n",
       "      <td>0.667</td>\n",
       "      <td>1.000</td>\n",
       "      <td>1.000</td>\n",
       "      <td>0.001</td>\n",
       "    </tr>\n",
       "    <tr>\n",
       "      <td>732</td>\n",
       "      <td>7</td>\n",
       "      <td>25|32</td>\n",
       "      <td>56</td>\n",
       "      <td>55</td>\n",
       "      <td>1</td>\n",
       "      <td>55|34|14|181|90|60|15|6</td>\n",
       "      <td>55|34|14|181|90|60|15|6</td>\n",
       "      <td>0.002</td>\n",
       "      <td>0.667</td>\n",
       "      <td>1.000</td>\n",
       "      <td>1.000</td>\n",
       "      <td>0.002</td>\n",
       "    </tr>\n",
       "    <tr>\n",
       "      <td>47</td>\n",
       "      <td>8</td>\n",
       "      <td>2|8</td>\n",
       "      <td>50</td>\n",
       "      <td>52</td>\n",
       "      <td>2</td>\n",
       "      <td>52|92|163|16|55|12|2|33|30</td>\n",
       "      <td>52|92|163|16|55|12|2|33|30</td>\n",
       "      <td>0.002</td>\n",
       "      <td>0.667</td>\n",
       "      <td>1.000</td>\n",
       "      <td>1.000</td>\n",
       "      <td>0.002</td>\n",
       "    </tr>\n",
       "    <tr>\n",
       "      <td>789</td>\n",
       "      <td>7</td>\n",
       "      <td>28|43</td>\n",
       "      <td>56</td>\n",
       "      <td>54</td>\n",
       "      <td>2</td>\n",
       "      <td>65</td>\n",
       "      <td>54|93|65|92|17|16|65|53</td>\n",
       "      <td>0.002</td>\n",
       "      <td>0.667</td>\n",
       "      <td>1.000</td>\n",
       "      <td>1.000</td>\n",
       "      <td>0.002</td>\n",
       "    </tr>\n",
       "    <tr>\n",
       "      <td>174</td>\n",
       "      <td>9</td>\n",
       "      <td>5|18</td>\n",
       "      <td>45</td>\n",
       "      <td>47</td>\n",
       "      <td>2</td>\n",
       "      <td>47|36|1|7|15|44|10|59|191|45</td>\n",
       "      <td>47|36|1|7|15|44|10|59|191|45</td>\n",
       "      <td>0.002</td>\n",
       "      <td>0.667</td>\n",
       "      <td>1.000</td>\n",
       "      <td>1.000</td>\n",
       "      <td>0.002</td>\n",
       "    </tr>\n",
       "    <tr>\n",
       "      <td>238</td>\n",
       "      <td>5</td>\n",
       "      <td>7|10</td>\n",
       "      <td>75</td>\n",
       "      <td>77</td>\n",
       "      <td>2</td>\n",
       "      <td>77|120|131|53|17|57</td>\n",
       "      <td>77|120|131|53|17|57</td>\n",
       "      <td>0.001</td>\n",
       "      <td>0.667</td>\n",
       "      <td>1.000</td>\n",
       "      <td>1.000</td>\n",
       "      <td>0.001</td>\n",
       "    </tr>\n",
       "    <tr>\n",
       "      <td>379</td>\n",
       "      <td>6</td>\n",
       "      <td>11|18</td>\n",
       "      <td>65</td>\n",
       "      <td>67</td>\n",
       "      <td>2</td>\n",
       "      <td>67</td>\n",
       "      <td>67|123|70|7|78|67|43</td>\n",
       "      <td>0.001</td>\n",
       "      <td>0.667</td>\n",
       "      <td>1.000</td>\n",
       "      <td>1.000</td>\n",
       "      <td>0.001</td>\n",
       "    </tr>\n",
       "    <tr>\n",
       "      <td>591</td>\n",
       "      <td>6</td>\n",
       "      <td>18|37</td>\n",
       "      <td>65</td>\n",
       "      <td>67</td>\n",
       "      <td>2</td>\n",
       "      <td>67|37|41|24|1|97|188</td>\n",
       "      <td>67|37|41|24|1|97|188</td>\n",
       "      <td>0.001</td>\n",
       "      <td>0.667</td>\n",
       "      <td>1.000</td>\n",
       "      <td>1.000</td>\n",
       "      <td>0.001</td>\n",
       "    </tr>\n",
       "    <tr>\n",
       "      <td>590</td>\n",
       "      <td>6</td>\n",
       "      <td>18|36</td>\n",
       "      <td>65</td>\n",
       "      <td>67</td>\n",
       "      <td>2</td>\n",
       "      <td>67</td>\n",
       "      <td>67|14|3|154|107|67|43</td>\n",
       "      <td>0.001</td>\n",
       "      <td>0.667</td>\n",
       "      <td>1.000</td>\n",
       "      <td>1.000</td>\n",
       "      <td>0.001</td>\n",
       "    </tr>\n",
       "    <tr>\n",
       "      <td>512</td>\n",
       "      <td>3</td>\n",
       "      <td>15|35</td>\n",
       "      <td>113</td>\n",
       "      <td>111</td>\n",
       "      <td>2</td>\n",
       "      <td>111|114|72|158</td>\n",
       "      <td>111|114|72|158</td>\n",
       "      <td>0.001</td>\n",
       "      <td>0.667</td>\n",
       "      <td>1.000</td>\n",
       "      <td>1.000</td>\n",
       "      <td>0.001</td>\n",
       "    </tr>\n",
       "    <tr>\n",
       "      <td>112</td>\n",
       "      <td>4</td>\n",
       "      <td>3|33</td>\n",
       "      <td>91</td>\n",
       "      <td>93</td>\n",
       "      <td>2</td>\n",
       "      <td>93|41|118|43|160</td>\n",
       "      <td>93|41|118|43|160</td>\n",
       "      <td>0.001</td>\n",
       "      <td>0.667</td>\n",
       "      <td>1.000</td>\n",
       "      <td>1.000</td>\n",
       "      <td>0.001</td>\n",
       "    </tr>\n",
       "  </tbody>\n",
       "</table>\n",
       "</div>"
      ],
      "text/plain": [
       "     conteo  tupla    X    L  R                                     M  \\\n",
       "307      12   9|10   35   35  0  35|12|90|58|2|5|28|40|19|117|24|25|0   \n",
       "785       6  28|39   65   65  0                  65|21|76|9|52|18|214   \n",
       "853       6  34|39   65   65  0                                    27   \n",
       "50        5   2|11   75   75  0                    75|18|62|210|27|63   \n",
       "807       7  30|35   56   56  0                56|2|228|7|25|109|4|24   \n",
       "595       4  18|41   91   91  0                                    43   \n",
       "338       5   9|41   75   76  1                    76|99|27|52|66|135   \n",
       "40        6   1|42   65   66  1                 66|64|127|21|3|112|62   \n",
       "168       6   5|12   65   64  1                   64|34|4|54|73|223|3   \n",
       "294       7   8|31   56   55  1                55|6|59|53|54|45|89|94   \n",
       "731       7  25|31   56   55  1                                    65   \n",
       "826       9  31|42   45   46  1         46|15|167|25|4|75|19|54|24|26   \n",
       "10        6   1|12   65   66  1                 66|128|53|12|24|84|88   \n",
       "840       8  33|35   50   49  1          49|19|171|13|23|26|18|107|29   \n",
       "592       3  18|38  113  112  1                        112|62|131|150   \n",
       "178      11   5|22   37   36  1                                    15   \n",
       "792       9  29|32   45   44  1                                    59   \n",
       "889       6  40|42   65   66  1                 66|4|120|21|70|133|41   \n",
       "732       7  25|32   56   55  1               55|34|14|181|90|60|15|6   \n",
       "47        8    2|8   50   52  2            52|92|163|16|55|12|2|33|30   \n",
       "789       7  28|43   56   54  2                                    65   \n",
       "174       9   5|18   45   47  2          47|36|1|7|15|44|10|59|191|45   \n",
       "238       5   7|10   75   77  2                   77|120|131|53|17|57   \n",
       "379       6  11|18   65   67  2                                    67   \n",
       "591       6  18|37   65   67  2                  67|37|41|24|1|97|188   \n",
       "590       6  18|36   65   67  2                                    67   \n",
       "512       3  15|35  113  111  2                        111|114|72|158   \n",
       "112       4   3|33   91   93  2                      93|41|118|43|160   \n",
       "\n",
       "                                        T     P    Pr   PrX   PrL   PrM  \n",
       "307  35|12|90|58|2|5|28|40|19|117|24|25|0 0.003 0.668 1.000 1.000 0.003  \n",
       "785                  65|21|76|9|52|18|214 0.001 0.667 1.000 1.000 0.001  \n",
       "853                 65|57|27|13|190|76|27 0.001 0.667 1.000 1.000 0.001  \n",
       "50                     75|18|62|210|27|63 0.001 0.667 1.000 1.000 0.001  \n",
       "807                56|2|228|7|25|109|4|24 0.002 0.667 1.000 1.000 0.002  \n",
       "595                      91|115|43|163|43 0.001 0.667 1.000 1.000 0.001  \n",
       "338                    76|99|27|52|66|135 0.001 0.667 1.000 1.000 0.001  \n",
       "40                  66|64|127|21|3|112|62 0.001 0.667 1.000 1.000 0.001  \n",
       "168                   64|34|4|54|73|223|3 0.001 0.667 1.000 1.000 0.001  \n",
       "294                55|6|59|53|54|45|89|94 0.002 0.667 1.000 1.000 0.002  \n",
       "731             55|65|13|18|65|101|117|21 0.002 0.667 1.000 1.000 0.002  \n",
       "826         46|15|167|25|4|75|19|54|24|26 0.002 0.667 1.000 1.000 0.002  \n",
       "10                  66|128|53|12|24|84|88 0.001 0.667 1.000 1.000 0.001  \n",
       "840          49|19|171|13|23|26|18|107|29 0.002 0.667 1.000 1.000 0.002  \n",
       "592                        112|62|131|150 0.001 0.667 1.000 1.000 0.001  \n",
       "178     36|15|6|41|52|9|62|104|2|74|39|15 0.002 0.667 1.000 1.000 0.002  \n",
       "792          44|59|7|105|59|82|18|5|13|63 0.002 0.667 1.000 1.000 0.002  \n",
       "889                 66|4|120|21|70|133|41 0.001 0.667 1.000 1.000 0.001  \n",
       "732               55|34|14|181|90|60|15|6 0.002 0.667 1.000 1.000 0.002  \n",
       "47             52|92|163|16|55|12|2|33|30 0.002 0.667 1.000 1.000 0.002  \n",
       "789               54|93|65|92|17|16|65|53 0.002 0.667 1.000 1.000 0.002  \n",
       "174          47|36|1|7|15|44|10|59|191|45 0.002 0.667 1.000 1.000 0.002  \n",
       "238                   77|120|131|53|17|57 0.001 0.667 1.000 1.000 0.001  \n",
       "379                  67|123|70|7|78|67|43 0.001 0.667 1.000 1.000 0.001  \n",
       "591                  67|37|41|24|1|97|188 0.001 0.667 1.000 1.000 0.001  \n",
       "590                 67|14|3|154|107|67|43 0.001 0.667 1.000 1.000 0.001  \n",
       "512                        111|114|72|158 0.001 0.667 1.000 1.000 0.001  \n",
       "112                      93|41|118|43|160 0.001 0.667 1.000 1.000 0.001  "
      ]
     },
     "metadata": {},
     "execution_count": 98
    }
   ],
   "metadata": {}
  },
  {
   "cell_type": "code",
   "execution_count": 99,
   "source": [
    "df_ct_re = procesa_conteo_triples(conteos_3d_re, df_re_fu_filt_delta)\r\n",
    "df_ct_re = df_ct_re.sort_values('R',ascending=True)\r\n",
    "#df_ct_re.head(25)"
   ],
   "outputs": [
    {
     "output_type": "stream",
     "name": "stdout",
     "text": [
      "valor de suma  conteo    4560\n",
      "dtype: int64\n"
     ]
    }
   ],
   "metadata": {}
  },
  {
   "cell_type": "code",
   "execution_count": 100,
   "source": [
    "df_ct_re = procesa_conteo_triples(conteos_3d_re, df_re_fu_filt_delta)\r\n",
    "df_ct_re = df_ct_re.sort_values('R',ascending=True)\r\n",
    "#df_ct_re.tail(25)\r\n",
    "#df_ct_re"
   ],
   "outputs": [
    {
     "output_type": "stream",
     "name": "stdout",
     "text": [
      "valor de suma  conteo    4560\n",
      "dtype: int64\n"
     ]
    }
   ],
   "metadata": {}
  },
  {
   "cell_type": "code",
   "execution_count": 101,
   "source": [
    "df_cc_re = procesa_conteo_cuartetos(conteos_4d_re, df_re_fu_filt_delta)\r\n",
    "df_cc_re = df_cc_re.sort_values('tupla',ascending=True)\r\n",
    "#df_cc_re.head(25)"
   ],
   "outputs": [
    {
     "output_type": "stream",
     "name": "stdout",
     "text": [
      "valor de suma  conteo    2280\n",
      "dtype: int64\n"
     ]
    }
   ],
   "metadata": {}
  },
  {
   "cell_type": "code",
   "execution_count": 102,
   "source": [
    "df_cq_re = procesa_conteo_quintetos(conteos_5d_re, df_re_fu_filt_delta)\r\n",
    "df_cq_re = df_cq_re.sort_values('tupla',ascending=True)\r\n",
    "#df_cq_re.head(25)"
   ],
   "outputs": [
    {
     "output_type": "stream",
     "name": "stdout",
     "text": [
      "valor de suma  conteo    456\n",
      "dtype: int64\n"
     ]
    }
   ],
   "metadata": {}
  },
  {
   "cell_type": "code",
   "execution_count": 103,
   "source": [
    "def crea_quintetos(df1, df2, df3, df4):\r\n",
    "    sbs_df = pd.concat([df1, df2], ignore_index=True)\r\n",
    "    singles_df = pd.concat([df3, df4], ignore_index = True)\r\n",
    "    print(sbs_df)\r\n",
    "\r\n",
    "    return sbs_df, singles_df"
   ],
   "outputs": [],
   "metadata": {}
  },
  {
   "cell_type": "code",
   "execution_count": 104,
   "source": [
    "sbs, singles = crea_quintetos(df_sel_sb_tr, df_sel_sb_re, df_sel_si_tr, df_sel_si_re)\r\n",
    "print(singles)"
   ],
   "outputs": [
    {
     "output_type": "stream",
     "name": "stdout",
     "text": [
      "   tupla  R\n",
      "0      5  4\n",
      "1     14  4\n",
      "2     15  0\n",
      "3      7  2\n",
      "4      5  3\n",
      "5      2  4\n",
      "    tupla  R\n",
      "0      30  0\n",
      "1      31  0\n",
      "2      25  0\n",
      "3       8  0\n",
      "4      34  1\n",
      "5      21  2\n",
      "6      18  2\n",
      "7      23  2\n",
      "8       7  2\n",
      "9      22  0\n",
      "10     32  1\n",
      "11     15  1\n",
      "12     28  1\n",
      "13     11  1\n",
      "14     34  2\n",
      "15      8  2\n",
      "16     35  2\n",
      "17     40  2\n"
     ]
    }
   ],
   "metadata": {}
  },
  {
   "cell_type": "markdown",
   "source": [
    "#### Aqui inicia el guardado de los dataframe del sorteo tradicional"
   ],
   "metadata": {}
  },
  {
   "cell_type": "code",
   "execution_count": 105,
   "source": [
    "df_cs_tr.to_csv(generaPath('O', 'df_cs_tr.csv'), header=['conteo','tupla','X', 'L', 'R', 'M', 'T', 'P','Pr','PrX', 'PrL','PrM'], index=None, sep=',', mode='w')\r\n",
    "df_cd_tr.to_csv(generaPath('O', 'df_cd_tr.csv'), header=['conteo','tupla','X', 'L', 'R', 'M', 'T', 'P','Pr','PrX', 'PrL','PrM'], index=None, sep=',', mode='w')\r\n",
    "df_ct_tr.to_csv(generaPath('O', 'df_ct_tr.csv'), header=['conteo','tupla','X', 'L', 'R', 'M', 'T', 'P','Pr','PrX', 'PrL','PrM'], index=None, sep=',', mode='w')\r\n",
    "df_cc_tr.to_csv(generaPath('O', 'df_cc_tr.csv'), header=['conteo','tupla','X', 'L', 'R', 'M', 'T', 'P','Pr','PrX', 'PrL','PrM'], index=None, sep=',', mode='w')\r\n",
    "df_cq_tr.to_csv(generaPath('O', 'df_cq_tr.csv'), header=['conteo','tupla','X', 'L', 'R', 'M', 'T', 'P','Pr','PrX', 'PrL','PrM'], index=None, sep=',', mode='w')"
   ],
   "outputs": [],
   "metadata": {}
  },
  {
   "cell_type": "markdown",
   "source": [
    "#### Aqui inicia el guardado de los dataframe del sorteo revancha"
   ],
   "metadata": {}
  },
  {
   "cell_type": "code",
   "execution_count": 106,
   "source": [
    "df_cs_re.to_csv(generaPath('O', 'df_cs_re.csv'), header=['conteo','tupla','X', 'L', 'R', 'M', 'T', 'P','Pr','PrX', 'PrL','PrM'], index=None, sep=',', mode='w')\r\n",
    "df_cd_re.to_csv(generaPath('O', 'df_cd_re.csv'), header=['conteo','tupla','X', 'L', 'R', 'M', 'T', 'P','Pr','PrX', 'PrL','PrM'], index=None, sep=',', mode='w')\r\n",
    "df_ct_re.to_csv(generaPath('O', 'df_ct_re.csv'), header=['conteo','tupla','X', 'L', 'R', 'M', 'T', 'P','Pr','PrX', 'PrL','PrM'], index=None, sep=',', mode='w')\r\n",
    "df_cc_re.to_csv(generaPath('O', 'df_cc_re.csv'), header=['conteo','tupla','X', 'L', 'R', 'M', 'T', 'P','Pr','PrX', 'PrL','PrM'], index=None, sep=',', mode='w')\r\n",
    "df_cq_re.to_csv(generaPath('O', 'df_cq_re.csv'), header=['conteo','tupla','X', 'L', 'R', 'M', 'T', 'P','Pr','PrX', 'PrL','PrM'], index=None, sep=',', mode='w')"
   ],
   "outputs": [],
   "metadata": {}
  },
  {
   "cell_type": "code",
   "execution_count": 107,
   "source": [
    "df_cs_tr_sb.to_csv(generaPath('O', 'df_cs_tr_sb.csv'), header=['conteo','tupla','X', 'L', 'R', 'M', 'T', 'P','Pr','PrX', 'PrL','PrM'], index=None, sep=',', mode='w')\r\n",
    "df_cs_re_sb.to_csv(generaPath('O', 'df_cs_re_sb.csv'), header=['conteo','tupla','X', 'L', 'R', 'M', 'T', 'P','Pr','PrX', 'PrL','PrM'], index=None, sep=',', mode='w')\r\n",
    "\r\n",
    "df_sel_sb_tr.to_csv(generaPath('O','df_sel_sb_tr.csv'), header=['tupla','R'], index=None, sep=',', mode='w' )\r\n",
    "df_sel_sb_re.to_csv(generaPath('O','df_sel_sb_re.csv'), header=['tupla','R'], index=None, sep=',', mode='w' )\r\n",
    "\r\n",
    "df_sel_si_tr.to_csv(generaPath('O','df_sel_si_tr.csv'), header=['tupla','R'], index=None, sep=',', mode='w' )\r\n",
    "df_sel_si_re.to_csv(generaPath('O','df_sel_si_re.csv'), header=['tupla','R'], index=None, sep=',', mode='w' )\r\n",
    "\r\n",
    "sbs.to_csv(generaPath('O','sbs.csv'), header=['tupla','R'], index=None, sep=',', mode='w' )\r\n",
    "singles.to_csv(generaPath('O','singles.csv'), header=['tupla','R'], index=None, sep=',', mode='w' )\r\n"
   ],
   "outputs": [],
   "metadata": {}
  },
  {
   "cell_type": "markdown",
   "source": [],
   "metadata": {}
  },
  {
   "cell_type": "code",
   "execution_count": null,
   "source": [],
   "outputs": [],
   "metadata": {}
  },
  {
   "cell_type": "code",
   "execution_count": null,
   "source": [],
   "outputs": [],
   "metadata": {}
  },
  {
   "cell_type": "code",
   "execution_count": 108,
   "source": [
    "#cayo_antes_quintetos()"
   ],
   "outputs": [],
   "metadata": {}
  },
  {
   "cell_type": "markdown",
   "source": [
    "#### El codigo validado ha concluido aquí, lo siguiente  son pruebas de concepto"
   ],
   "metadata": {}
  },
  {
   "cell_type": "code",
   "execution_count": 109,
   "source": [
    "import numpy as np\r\n",
    "import matplotlib.pyplot as plt"
   ],
   "outputs": [],
   "metadata": {}
  },
  {
   "cell_type": "code",
   "execution_count": 110,
   "source": [
    "x_s = np.array([1,2,3,1,2,2,3,4,1,2,3,4,1,2,4])\r\n",
    "n = len(x_s)\r\n",
    "\r\n",
    "#forma lenta\r\n",
    "x_mean = 0\r\n",
    "for x in x_s:\r\n",
    "    x_mean +=x\r\n",
    "x_mean/=n\r\n",
    "print(x_mean)"
   ],
   "outputs": [
    {
     "output_type": "stream",
     "name": "stdout",
     "text": [
      "2.3333333333333335\n"
     ]
    }
   ],
   "metadata": {}
  },
  {
   "cell_type": "code",
   "execution_count": 111,
   "source": [
    "df_topes2 = conteos_2d_tr.iloc[0::1,[0,1]]\r\n",
    "print(df_topes2)\r\n",
    "mu = 2.0\r\n",
    "sigma_1 = 5.0\r\n",
    "sigma_2 = 5.0\r\n",
    "muestras_1 = np.random.normal(loc = mu, scale = sigma_1, size = 100)\r\n",
    "muestras_2 = np.random.normal(loc = mu, scale = sigma_2, size = 100)\r\n",
    "print(type(muestras_1))\r\n",
    "#print(muestras_1, muestras_2)"
   ],
   "outputs": [
    {
     "output_type": "stream",
     "name": "stdout",
     "text": [
      "     conteo  tupla\n",
      "0         8    1|2\n",
      "1         5    1|3\n",
      "2        11    1|4\n",
      "3         8    1|5\n",
      "4         3    1|6\n",
      "..      ...    ...\n",
      "894       5  40|42\n",
      "895       4  40|43\n",
      "896       4  41|42\n",
      "897       6  41|43\n",
      "898       5  42|43\n",
      "\n",
      "[899 rows x 2 columns]\n",
      "<class 'numpy.ndarray'>\n"
     ]
    }
   ],
   "metadata": {}
  },
  {
   "cell_type": "code",
   "execution_count": 112,
   "source": [
    "plt.figure(figsize = (10,8))\r\n",
    "plt.hist(muestras_1, bins = 20, alpha = 0.5, label = 'Histograma Muestra 1')\r\n",
    "plt.hist(muestras_2, bins = 20, alpha = 0.5, label = 'Histograma Muestra 2')\r\n",
    "plt.legend()\r\n",
    "plt.grid()\r\n",
    "plt.show()"
   ],
   "outputs": [
    {
     "output_type": "display_data",
     "data": {
      "image/png": "[encoded data removed]",
      "text/plain": [
       "<Figure size 720x576 with 1 Axes>"
      ]
     },
     "metadata": {}
    }
   ],
   "metadata": {}
  },
  {
   "cell_type": "code",
   "execution_count": null,
   "source": [],
   "outputs": [],
   "metadata": {}
  },
  {
   "cell_type": "code",
   "execution_count": null,
   "source": [],
   "outputs": [],
   "metadata": {}
  },
  {
   "cell_type": "code",
   "execution_count": null,
   "source": [],
   "outputs": [],
   "metadata": {}
  },
  {
   "cell_type": "code",
   "execution_count": null,
   "source": [],
   "outputs": [],
   "metadata": {}
  },
  {
   "cell_type": "code",
   "execution_count": null,
   "source": [],
   "outputs": [],
   "metadata": {}
  }
 ],
 "metadata": {
  "kernelspec": {
   "name": "python3",
   "display_name": "Python 3.7.4 64-bit ('dsbasic': conda)"
  },
  "language_info": {
   "codemirror_mode": {
    "name": "ipython",
    "version": 3
   },
   "file_extension": ".py",
   "mimetype": "text/x-python",
   "name": "python",
   "nbconvert_exporter": "python",
   "pygments_lexer": "ipython3",
   "version": "3.7.4"
  },
  "interpreter": {
   "hash": "2d3d3270e417e1e52e34ac8b854cc2805d4f43e36bc3a05dc9d1a620d4ed2e67"
  }
 },
 "nbformat": 4,
 "nbformat_minor": 4
}