{
 "cells": [
  {
   "cell_type": "code",
   "execution_count": 1,
   "metadata": {},
   "outputs": [],
   "source": [
    "import random\n",
    "import pandas as pd\n",
    "import numpy as np\n",
    "import seaborn as sns\n",
    "import matplotlib.pyplot as plt\n",
    "import os\n",
    "import math\n",
    "from sklearn import metrics\n",
    "from sklearn.pipeline import Pipeline\n",
    "from sklearn.preprocessing import StandardScaler, LabelEncoder, OneHotEncoder, KBinsDiscretizer\n",
    "from sklearn.model_selection import train_test_split\n",
    "from sklearn.tree import DecisionTreeRegressor\n",
    "from sklearn.model_selection import cross_val_score\n",
    "from sklearn.metrics import mean_squared_error\n",
    "from sklearn.neighbors import KNeighborsClassifier, KNeighborsRegressor\n",
    "from sklearn.preprocessing import StandardScaler\n",
    "from time import sleep\n",
    "\n",
    "pd.set_option('display.float_format', lambda x: '%.3f' % x)\n",
    "\n",
    "sns.set()"
   ]
  },
  {
   "cell_type": "code",
   "execution_count": 2,
   "metadata": {},
   "outputs": [],
   "source": [
    "def generaPath(tipo, nombre):\n",
    "    prepath = str(os.getcwd())\n",
    "    if (tipo == \"I\"):\n",
    "        path = prepath + '\\\\origen\\\\' + nombre\n",
    "    else :\n",
    "        path = prepath + '\\\\generados\\\\' + nombre\n",
    "    return path"
   ]
  },
  {
   "cell_type": "code",
   "execution_count": 3,
   "metadata": {},
   "outputs": [],
   "source": [
    "df_tr_fu_filt_delta = pd.read_csv(generaPath('O', 'df_tr_fu_filt_delta.csv'))\n",
    "df_re_fu_filt_delta = pd.read_csv(generaPath('O', 'df_re_fu_filt_delta.csv'))"
   ]
  },
  {
   "cell_type": "code",
   "execution_count": 4,
   "metadata": {},
   "outputs": [],
   "source": [
    "conteos_1d_sb_tr = pd.read_csv(generaPath('O', 'conteos_1d_sb_tr.csv'))\n",
    "conteos_1d_sb_re = pd.read_csv(generaPath('O', 'conteos_1d_sb_re.csv'))"
   ]
  },
  {
   "cell_type": "code",
   "execution_count": 5,
   "metadata": {},
   "outputs": [],
   "source": [
    "conteos_1d_tr = pd.read_csv(generaPath('O', 'conteos_1d_tr.csv'))\n",
    "conteos_1d_re = pd.read_csv(generaPath('O', 'conteos_1d_re.csv'))"
   ]
  },
  {
   "cell_type": "code",
   "execution_count": 6,
   "metadata": {},
   "outputs": [],
   "source": [
    "conteos_2d_tr = pd.read_csv(generaPath('O', 'conteos_2d_tr.csv'))\n",
    "conteos_2d_re = pd.read_csv(generaPath('O', 'conteos_2d_re.csv'))"
   ]
  },
  {
   "cell_type": "code",
   "execution_count": 7,
   "metadata": {},
   "outputs": [],
   "source": [
    "conteos_3d_tr = pd.read_csv(generaPath('O', 'conteos_3d_tr.csv'))\n",
    "conteos_3d_re = pd.read_csv(generaPath('O', 'conteos_3d_re.csv'))"
   ]
  },
  {
   "cell_type": "code",
   "execution_count": 8,
   "metadata": {},
   "outputs": [],
   "source": [
    "conteos_4d_tr = pd.read_csv(generaPath('O', 'conteos_4d_tr.csv'))\n",
    "conteos_4d_re = pd.read_csv(generaPath('O', 'conteos_4d_re.csv'))"
   ]
  },
  {
   "cell_type": "code",
   "execution_count": 9,
   "metadata": {},
   "outputs": [],
   "source": [
    "conteos_5d_tr = pd.read_csv(generaPath('O', 'conteos_5d_tr.csv'))\n",
    "conteos_5d_re = pd.read_csv(generaPath('O', 'conteos_5d_re.csv'))"
   ]
  },
  {
   "cell_type": "markdown",
   "metadata": {},
   "source": [
    "#### Establezco los valores de inicio de los sorteos para calcular deltas"
   ]
  },
  {
   "cell_type": "code",
   "execution_count": 10,
   "metadata": {},
   "outputs": [
    {
     "name": "stdout",
     "output_type": "stream",
     "text": [
      "sorteo mas reciente  idSorteo    2130\n",
      "dtype: int64\n",
      "sorteo inicial  idSorteo    1671\n",
      "dtype: int64\n"
     ]
    }
   ],
   "source": [
    "df_topes = df_tr_fu_filt_delta.iloc[0::1,[0]]\n",
    "recent = df_topes.max()\n",
    "print(\"sorteo mas reciente \", recent)\n",
    "oldest = df_topes.min()\n",
    "print(\"sorteo inicial \", oldest)"
   ]
  },
  {
   "cell_type": "markdown",
   "metadata": {},
   "source": [
    "#### Se calcula los valores de diferencia entre los diversos sorteos"
   ]
  },
  {
   "cell_type": "code",
   "execution_count": 11,
   "metadata": {},
   "outputs": [],
   "source": [
    "def calcular_deltas_verticales(df):\n",
    "    delticas = []\n",
    "    previo = recent\n",
    "    for index, row in df.iterrows():\n",
    "        resta = int(previo) - int(row[0])\n",
    "        #print(\"resta : \", resta, \" previo \", previo, \" Sorteo: \", row[0], )\n",
    "        delticas.append(int(resta))\n",
    "        previo = int(row[0])\n",
    "    resta = int(previo) - int(oldest)\n",
    "    #print(resta)\n",
    "    delticas.append(int(resta))\n",
    "    return delticas"
   ]
  },
  {
   "cell_type": "code",
   "execution_count": 12,
   "metadata": {},
   "outputs": [],
   "source": [
    "def unsplited_tupla(sbs):\n",
    "    delticas = []\n",
    "    partido = sbs.split(sep='|') if (sbs.find(\"|\") >= 1) else sbs\n",
    "    return partido"
   ]
  },
  {
   "cell_type": "code",
   "execution_count": 13,
   "metadata": {},
   "outputs": [],
   "source": [
    "def calc_media(df):\n",
    "    acum = 0\n",
    "    media = 0\n",
    "    length = len(df) \n",
    "    for i in range(length): \n",
    "        acum += int(df[i])\n",
    "    media = int(acum/length)\n",
    "    #print(\"valor de media: \", media)\n",
    "    return media"
   ]
  },
  {
   "cell_type": "code",
   "execution_count": 14,
   "metadata": {},
   "outputs": [],
   "source": [
    "def calc_moda(df):\n",
    "    repetir = 0                                                                         \n",
    "    for i in df:                                                                              \n",
    "        aparece = df.count(i)                                                             \n",
    "        if aparece > repetir:                                                       \n",
    "            repetir = aparece \n",
    "    \n",
    "    moda = []                                                                               \n",
    "    for i in df:                                                                              \n",
    "        aparece = df.count(i)\n",
    "        #print(\"aparece \", aparece)\n",
    "        if aparece == repetir and i not in moda:                                   \n",
    "            moda.append(i) \n",
    "            #print(\"moda\", moda)\n",
    "            \n",
    "    return moda"
   ]
  },
  {
   "cell_type": "code",
   "execution_count": 15,
   "metadata": {},
   "outputs": [],
   "source": [
    "def calc_cant_moda(df_deltas, df_elected):\n",
    "    #print(df_elected)\n",
    "    num = str(df_elected[0])\n",
    "    partido = num.split(sep='|') if (num.find(\"|\") >= 1) else num\n",
    "    \n",
    "    #print(partido)\n",
    "    repetir = 0                                                                         \n",
    "    for i in df_deltas:\n",
    "        #print(\"valor de i :\", i)\n",
    "        aparece = df_deltas.count(df_elected[0])   \n",
    "        #print(\"valor de aparece:\", aparece)\n",
    "        if aparece > repetir:                                                       \n",
    "            repetir = aparece \n",
    "    \n",
    "    moda = []                                                                               \n",
    "    for i in df_deltas:                                                                              \n",
    "        aparece = df_deltas.count(i)\n",
    "        #print(\"aparece \", aparece)\n",
    "        if aparece == repetir and i not in moda:                                   \n",
    "            moda.append(i) \n",
    "            #print(\"moda\", moda)\n",
    "    #print(\"fin ciclo\", moda)        \n",
    "    return moda"
   ]
  },
  {
   "cell_type": "code",
   "execution_count": 16,
   "metadata": {},
   "outputs": [],
   "source": [
    "def sumarcol_peso(ldf):\n",
    "    #print(\"valor de ldf\", ldf)\n",
    "    df = pd.DataFrame(ldf)\n",
    "    #print(\"columna conteo \", df['conteo'])\n",
    "    suma = ldf.sum()\n",
    "    #suma = sumalista(df)\n",
    "    print(\"valor de suma \", suma  )\n",
    "    pesos = []                                                                               \n",
    "    for index, row in df.iterrows():\n",
    "        cant_tupla = int(row[0])\n",
    "        #print(\"can_tupla \", cant_tupla)\n",
    "        if cant_tupla > 0:\n",
    "            dividido = cant_tupla /suma \n",
    "        pesos.append(float(dividido))  \n",
    "    #print(type(pesos))\n",
    "    return pesos"
   ]
  },
  {
   "cell_type": "code",
   "execution_count": 17,
   "metadata": {},
   "outputs": [],
   "source": [
    "def sumalista(df):\n",
    "    acum = 0\n",
    "    #print(\"valor de listaNumeros \", df)\n",
    "    for index, row in df.iterrows():\n",
    "        cant_tupla = int(row[0])\n",
    "        #print(\"can_tupla \", cant_tupla)\n",
    "        acum = acum + cant_tupla\n",
    "        print(acum)\n",
    "    return acum"
   ]
  },
  {
   "cell_type": "code",
   "execution_count": 18,
   "metadata": {},
   "outputs": [],
   "source": [
    "def entire_part(res1):\n",
    "    pd, pe = math.modf(res1)\n",
    "    #print(\"entire Part: \", pe, \" decimal part: \", pd)\n",
    "    if (int(pe) >= int(1)):\n",
    "        res = pd\n",
    "    else: \n",
    "        res = 1 - pd\n",
    "    #print(\"res en entire_part\", res)\n",
    "    return res"
   ]
  },
  {
   "cell_type": "code",
   "execution_count": 19,
   "metadata": {},
   "outputs": [],
   "source": [
    "def set_hot_level(last_number, evaluated_number ):\n",
    "    #print(\"last:\",int(last_number), \" evaluated \",int(evaluated_number))\n",
    "    if (int(last_number) > int(0) & int(evaluated_number) > int(0)):\n",
    "        num = float(int(last_number) /int(evaluated_number))\n",
    "    else:\n",
    "        num = int(0)\n",
    "    #print(\"num:\", num)\n",
    "    ret = entire_part(num)\n",
    "    return ret"
   ]
  },
  {
   "cell_type": "code",
   "execution_count": 20,
   "metadata": {},
   "outputs": [],
   "source": [
    "def set_closer_to_1(actual_number, new_number ):\n",
    "    if actual_number >1:\n",
    "        dif1 = float(actual_number - 1)\n",
    "    else:\n",
    "        dif1 = float(1 - actual_number)\n",
    "    if new_number > 1:\n",
    "        dif2 = float(new_number - 1)\n",
    "    else:\n",
    "        dif2 = float(1- new_number) \n",
    "    \n",
    "    if dif1 > dif2:\n",
    "        dif = new_number\n",
    "    else:\n",
    "        dif = actual_number\n",
    "    return dif"
   ]
  },
  {
   "cell_type": "code",
   "execution_count": 21,
   "metadata": {},
   "outputs": [],
   "source": [
    "def retorna_valor(valor):\n",
    "    p2t = 0\n",
    "    if float(valor) == float(0.0):\n",
    "        p2t = float(0.3333)\n",
    "    else:    \n",
    "        p2t = valor\n",
    "    return p2t"
   ]
  },
  {
   "cell_type": "code",
   "execution_count": 22,
   "metadata": {},
   "outputs": [],
   "source": [
    "def how_hot_is(df, df_base):\n",
    "    anterior = 0\n",
    "    prob = []\n",
    "    prob1 = []\n",
    "    prob2 = []\n",
    "    prob3 = []\n",
    "    better = []\n",
    "    for index, row in df.iterrows():\n",
    "        last = int(row[3])\n",
    "        media = int(row[2])\n",
    "        moda = str(row[4]) \n",
    "        pesos = float(row[7])\n",
    "        #print(\"last: \",last,\" media: \", media, \" pesos: \", pesos, \" moda: \", moda)\n",
    "        if ((int(last) > int(0)) & (int(media) > int(0)) ):\n",
    "            res1 = set_hot_level(last, media)\n",
    "            p1 = float(res1)\n",
    "        else:\n",
    "            p1 = float(0.33)\n",
    "        prob1.append(p1)\n",
    "        \n",
    "        splitedtupla= unsplited_tupla(moda)\n",
    "        if type(splitedtupla) is not type(moda):\n",
    "            df_splited = pd.DataFrame(splitedtupla)\n",
    "            #print(\"df_splited:\", df_splited)\n",
    "            for index, row in df_splited.iterrows():\n",
    "                valor = int(row[0])\n",
    "                res2 = set_hot_level(last, valor)\n",
    "                better.append(float(res2)) \n",
    "            #print(\"valor de better \", better)\n",
    "            conteo = len(better)          \n",
    "            for i in better: \n",
    "                temp = float(i) \n",
    "                if int(conteo) == int(0):\n",
    "                    conteo = conteo +1\n",
    "                    anterior = i\n",
    "                else:\n",
    "                    conteo = conteo +1\n",
    "                    if float(temp) <= float(anterior):\n",
    "                        anterior = temp\n",
    "            p2 = retorna_valor(anterior)\n",
    "        else:\n",
    "            res2 = set_hot_level(last, moda)\n",
    "            p2 = retorna_valor(res2)\n",
    "        prob2.append(p2)        \n",
    "        \n",
    "        p3 = pesos\n",
    "        prob3.append(p3)\n",
    "        #print(\"p1: \",p1, \"p2: \", p2, \"p3: \", p3)\n",
    "        prob.append(float(p1 + p2 + p3)/ int(3))\n",
    "    return prob, prob1, prob2, prob3"
   ]
  },
  {
   "cell_type": "code",
   "execution_count": 23,
   "metadata": {},
   "outputs": [],
   "source": [
    "def procesa_conteo_sbs(conteos, df):\n",
    "    media = []\n",
    "    modaa = []\n",
    "    lasts = []\n",
    "    delta = []\n",
    "    resta = []\n",
    "    for index, row in conteos.iterrows():\n",
    "        sbs = str(row[1])\n",
    "        sbs1 = [str(sbs)]\n",
    "        dftx = df[df.sb.isin(sbs1)]\n",
    "        df_filt = dftx.iloc[0::1,[0]]\n",
    "        df_tupla = calcular_deltas_verticales(df_filt)\n",
    "        lasts.append(df_tupla[0])\n",
    "        media.append(calc_media(df_tupla))\n",
    "        resta.append(abs(int(df_tupla[0])- int(calc_media(df_tupla))))\n",
    "        df_moda = calc_moda(df_tupla)\n",
    "        pal = '|'.join([str(m) for m in df_moda]) if len(df_moda) > 1  else str(df_moda[0])\n",
    "        modaa.append(pal)\n",
    "        #conteos = calc_cant_moda(df_tupla, df_moda)\n",
    "        palabra = '|'.join([str(e) for e in df_tupla]) \n",
    "        delta.append(palabra)        \n",
    "        #print(sbs, \" X\", promedio, \" L\", last, \" M\", moda,\" T\",  df_tupla)\n",
    "    dft = conteos\n",
    "    dft['X'] = media\n",
    "    dft['L'] = lasts\n",
    "    dft['R'] = resta    \n",
    "    dft['M'] = modaa\n",
    "    dft['T'] = delta\n",
    "    df_filt2 = dft.iloc[0::1,[0]]\n",
    "    #print(\"df_filt2\", df_filt2)\n",
    "    df_pesos = sumarcol_peso(df_filt2)\n",
    "    #print(\"valor de df_pesos \", df_pesos)\n",
    "    \n",
    "    dft['P'] = df_pesos\n",
    "    #dft['Pr'], dft['Pr1'],dft['Pr2'],dft['Pr3'] = how_hot_is(dft, df_tr_fu_filt_delta)\n",
    "    proba, proba1,proba2,proba3 = how_hot_is(dft, df_tr_fu_filt_delta)\n",
    "    dft['Pr']= proba\n",
    "    dft['PrX'] = proba1\n",
    "    dft['PrL'] = proba2\n",
    "    dft['PrM'] = proba3\n",
    "    #dft.insert(2, \"P\", df_pesos, True) \n",
    "    return dft"
   ]
  },
  {
   "cell_type": "code",
   "execution_count": 24,
   "metadata": {},
   "outputs": [],
   "source": [
    "def procesa_conteo_singles(conteos, df):\n",
    "    media = []\n",
    "    modaa = []\n",
    "    lasts = []\n",
    "    delta = []\n",
    "    resta = []\n",
    "    for index, row in conteos.iterrows():\n",
    "        sbs = str(row[1])\n",
    "        sbs1 = [str(sbs)]\n",
    "        dftx = df[df.n1.isin(sbs1) | df.n2.isin(sbs1) |df.n3.isin(sbs1) | df.n4.isin(sbs1) |df.n5.isin(sbs1)]\n",
    "        df_filt = dftx.iloc[0::1,[0]]\n",
    "        df_tupla = calcular_deltas_verticales(df_filt)\n",
    "        lasts.append(df_tupla[0])\n",
    "        media.append(calc_media(df_tupla))\n",
    "        resta.append(abs(int(df_tupla[0])- int(calc_media(df_tupla))))\n",
    "        df_moda = calc_moda(df_tupla)\n",
    "        pal = '|'.join([str(m) for m in df_moda]) if len(df_moda) > 1  else str(df_moda[0])\n",
    "        modaa.append(pal)\n",
    "        #conteos = calc_cant_moda(df_tupla, df_moda)\n",
    "        palabra = '|'.join([str(e) for e in df_tupla]) \n",
    "        delta.append(palabra)        \n",
    "        #print(sbs, \" X\", promedio, \" L\", last, \" M\", moda,\" T\",  df_tupla)\n",
    "    dft = conteos\n",
    "    dft['X'] = media\n",
    "    dft['L'] = lasts\n",
    "    dft['R'] = resta  \n",
    "    dft['M'] = modaa\n",
    "    dft['T'] = delta\n",
    "    df_filt2 = dft.iloc[0::1,[0]]\n",
    "    #print(\"df_filt2\", df_filt2)\n",
    "    df_pesos = sumarcol_peso(df_filt2)\n",
    "    #print(\"valor de df_pesos \", df_pesos)\n",
    "    \n",
    "    dft['P'] = df_pesos\n",
    "    #dft['Pr'], dft['Pr1'],dft['Pr2'],dft['Pr3']  = how_hot_is(dft, df_tr_fu_filt_delta)\n",
    "    proba, proba1,proba2,proba3 = how_hot_is(dft, df_tr_fu_filt_delta)\n",
    "    dft['Pr']= proba\n",
    "    dft['PrX'] = proba1\n",
    "    dft['PrL'] = proba2\n",
    "    dft['PrM'] = proba3\n",
    "    #dft.insert(2, \"P\", df_pesos, True) \n",
    "    return dft"
   ]
  },
  {
   "cell_type": "code",
   "execution_count": 25,
   "metadata": {},
   "outputs": [],
   "source": [
    "def procesa_conteo_dobles(conteos, df):\n",
    "    media = []\n",
    "    modaa = []\n",
    "    lasts = []\n",
    "    delta = []\n",
    "    resta = []\n",
    "    for index, row in conteos.iterrows():\n",
    "        sbs = str(row[1])\n",
    "        splitedtupla= unsplited_tupla(sbs)\n",
    "        sbs1 = [str(splitedtupla[0])]\n",
    "        sbs2 = [str(splitedtupla[1])]\n",
    "        dftx = df[(df.n1.isin(sbs1) | df.n2.isin(sbs1) |df.n3.isin(sbs1) | df.n4.isin(sbs1) |df.n5.isin(sbs1)) \n",
    "                & (df.n1.isin(sbs2) | df.n2.isin(sbs2) |df.n3.isin(sbs2) | df.n4.isin(sbs2) |df.n5.isin(sbs2))]\n",
    "        df_filt = dftx.iloc[0::1,[0]]\n",
    "        df_tupla = calcular_deltas_verticales(df_filt)\n",
    "        lasts.append(df_tupla[0])\n",
    "        media.append(calc_media(df_tupla))\n",
    "        resta.append(abs(int(df_tupla[0])- int(calc_media(df_tupla))))\n",
    "        df_moda = calc_moda(df_tupla)\n",
    "        pal = '|'.join([str(m) for m in df_moda]) if len(df_moda) > 1  else str(df_moda[0])\n",
    "        modaa.append(pal)\n",
    "        palabra = '|'.join([str(e) for e in df_tupla]) \n",
    "        delta.append(palabra)\n",
    "    dft = conteos\n",
    "    #print(\"IMPRIMO DFT \", dft)\n",
    "    dft['X'] = media\n",
    "    dft['L'] = lasts\n",
    "    dft['R'] = resta    \n",
    "    dft['M'] = modaa\n",
    "    df_filt2 = dft.iloc[0::1,[0]]\n",
    "    #print(\"df_filt2\", df_filt2)\n",
    "    df_pesos = sumarcol_peso(df_filt2)\n",
    "    #print(\"valor de df_pesos \", df_pesos)\n",
    "    dft['T'] = delta\n",
    "    dft['P'] = df_pesos\n",
    "    #dft['Pr'], dft['Pr1'],dft['Pr2'],dft['Pr3']  =how_hot_is(dft, df_tr_fu_filt_delta)\n",
    "    proba, proba1,proba2,proba3 = how_hot_is(dft, df_tr_fu_filt_delta)\n",
    "    dft['Pr']= proba\n",
    "    dft['PrX'] = proba1\n",
    "    dft['PrL'] = proba2\n",
    "    dft['PrM'] = proba3\n",
    "    return dft"
   ]
  },
  {
   "cell_type": "code",
   "execution_count": 26,
   "metadata": {},
   "outputs": [],
   "source": [
    "def procesa_conteo_triples(conteos, df):\n",
    "    media = []\n",
    "    modaa = []\n",
    "    lasts = []\n",
    "    delta = []\n",
    "    resta = []\n",
    "    for index, row in conteos.iterrows():\n",
    "        sbs = str(row[1])\n",
    "        splitedtupla= unsplited_tupla(sbs)\n",
    "        sbs1 = [str(splitedtupla[0])]\n",
    "        sbs2 = [str(splitedtupla[1])]\n",
    "        sbs3 = [str(splitedtupla[2])]\n",
    "        dftx = df[(df.n1.isin(sbs1) | df.n2.isin(sbs1) |df.n3.isin(sbs1) | df.n4.isin(sbs1) |df.n5.isin(sbs1)) \n",
    "                & (df.n1.isin(sbs2) | df.n2.isin(sbs2) |df.n3.isin(sbs2) | df.n4.isin(sbs2) |df.n5.isin(sbs2)) \n",
    "                & (df.n1.isin(sbs3) | df.n2.isin(sbs3) |df.n3.isin(sbs3) | df.n4.isin(sbs3) |df.n5.isin(sbs3)) ]\n",
    "        #print(dftx)\n",
    "        df_filt = dftx.iloc[0::1,[0]]\n",
    "        df_tupla = calcular_deltas_verticales(df_filt)\n",
    "        lasts.append(df_tupla[0])\n",
    "        media.append(calc_media(df_tupla))\n",
    "        resta.append(abs(int(df_tupla[0])- int(calc_media(df_tupla))))\n",
    "        df_moda = calc_moda(df_tupla)\n",
    "        pal = '|'.join([str(m) for m in df_moda]) if len(df_moda) > 1  else str(df_moda[0])\n",
    "        modaa.append(pal)\n",
    "        palabra = '|'.join([str(e) for e in df_tupla]) \n",
    "        delta.append(palabra)\n",
    "    dft = conteos\n",
    "    dft['X'] = media\n",
    "    dft['L'] = lasts\n",
    "    dft['R'] = resta    \n",
    "    dft['M'] = modaa\n",
    "    df_filt2 = dft.iloc[0::1,[0]]\n",
    "    #print(\"df_filt2\", df_filt2)\n",
    "    df_pesos = sumarcol_peso(df_filt2)\n",
    "    #print(\"valor de df_pesos \", df_pesos)\n",
    "    dft['T'] = delta\n",
    "    dft['P'] = df_pesos\n",
    "    #dft['Pr'], dft['Pr1'],dft['Pr2'],dft['Pr3']  = how_hot_is(dft, df_tr_fu_filt_delta)\n",
    "    proba, proba1,proba2,proba3 = how_hot_is(dft, df_tr_fu_filt_delta)\n",
    "    dft['Pr']= proba\n",
    "    dft['PrX'] = proba1\n",
    "    dft['PrL'] = proba2\n",
    "    dft['PrM'] = proba3\n",
    "    return dft"
   ]
  },
  {
   "cell_type": "code",
   "execution_count": 27,
   "metadata": {},
   "outputs": [],
   "source": [
    "def procesa_conteo_cuartetos(conteos, df):\n",
    "    media = []\n",
    "    modaa = []\n",
    "    lasts = []\n",
    "    delta = []\n",
    "    resta = []\n",
    "    for index, row in conteos.iterrows():\n",
    "        sbs = str(row[1])\n",
    "        splitedtupla= unsplited_tupla(sbs)\n",
    "        sbs1 = [str(splitedtupla[0])]\n",
    "        sbs2 = [str(splitedtupla[1])]\n",
    "        sbs3 = [str(splitedtupla[2])]\n",
    "        sbs4 = [str(splitedtupla[3])]\n",
    "        dftx = df[(df.n1.isin(sbs1) | df.n2.isin(sbs1) |df.n3.isin(sbs1) | df.n4.isin(sbs1) |df.n5.isin(sbs1)) \n",
    "                & (df.n1.isin(sbs2) | df.n2.isin(sbs2) |df.n3.isin(sbs2) | df.n4.isin(sbs2) |df.n5.isin(sbs2)) \n",
    "                & (df.n1.isin(sbs3) | df.n2.isin(sbs3) |df.n3.isin(sbs3) | df.n4.isin(sbs3) |df.n5.isin(sbs3))\n",
    "                & (df.n1.isin(sbs4) | df.n2.isin(sbs4) |df.n3.isin(sbs4) | df.n4.isin(sbs4) |df.n5.isin(sbs4))]\n",
    "        #print(dftx)\n",
    "        df_filt = dftx.iloc[0::1,[0]]\n",
    "        df_tupla = calcular_deltas_verticales(df_filt)\n",
    "        lasts.append(df_tupla[0])\n",
    "        media.append(calc_media(df_tupla))\n",
    "        resta.append(abs(int(df_tupla[0])- int(calc_media(df_tupla))))\n",
    "        df_moda = calc_moda(df_tupla)\n",
    "        pal = '|'.join([str(m) for m in df_moda]) if len(df_moda) > 1  else str(df_moda[0])\n",
    "        modaa.append(pal)\n",
    "        palabra = '|'.join([str(e) for e in df_tupla]) \n",
    "        delta.append(palabra)\n",
    "    dft = conteos\n",
    "    dft['X'] = media\n",
    "    dft['L'] = lasts\n",
    "    dft['R'] = resta\n",
    "    dft['M'] = modaa\n",
    "    df_filt2 = dft.iloc[0::1,[0]]\n",
    "    #print(\"df_filt2\", df_filt2)\n",
    "    df_pesos = sumarcol_peso(df_filt2)\n",
    "    #print(\"valor de df_pesos \", df_pesos)\n",
    "    dft['T'] = delta\n",
    "    dft['P'] = df_pesos\n",
    "    #dft['Pr'], dft['Pr1'],dft['Pr2'],dft['Pr3']  = how_hot_is(dft, df_tr_fu_filt_delta)\n",
    "    proba, proba1,proba2,proba3 = how_hot_is(dft, df_tr_fu_filt_delta)\n",
    "    dft['Pr']= proba\n",
    "    dft['PrX'] = proba1\n",
    "    dft['PrL'] = proba2\n",
    "    dft['PrM'] = proba3\n",
    "    return dft"
   ]
  },
  {
   "cell_type": "code",
   "execution_count": 28,
   "metadata": {},
   "outputs": [],
   "source": [
    "def procesa_conteo_quintetos(conteos, df):\n",
    "    media = []\n",
    "    modaa = []\n",
    "    lasts = []\n",
    "    delta = []  \n",
    "    resta = []\n",
    "    for index, row in conteos.iterrows():\n",
    "        sbs = str(row[1])\n",
    "        splitedtupla= unsplited_tupla(sbs)\n",
    "        sbs1 = [str(splitedtupla[0])]\n",
    "        sbs2 = [str(splitedtupla[1])]\n",
    "        sbs3 = [str(splitedtupla[2])]\n",
    "        sbs4 = [str(splitedtupla[3])]\n",
    "        sbs5 = [str(splitedtupla[4])]\n",
    "        dftx = df[(df.n1.isin(sbs1) | df.n2.isin(sbs1) |df.n3.isin(sbs1) | df.n4.isin(sbs1) |df.n5.isin(sbs1)) \n",
    "                & (df.n1.isin(sbs2) | df.n2.isin(sbs2) |df.n3.isin(sbs2) | df.n4.isin(sbs2) |df.n5.isin(sbs2)) \n",
    "                & (df.n1.isin(sbs3) | df.n2.isin(sbs3) |df.n3.isin(sbs3) | df.n4.isin(sbs3) |df.n5.isin(sbs3))\n",
    "                & (df.n1.isin(sbs4) | df.n2.isin(sbs4) |df.n3.isin(sbs4) | df.n4.isin(sbs4) |df.n5.isin(sbs4))\n",
    "                & (df.n1.isin(sbs5) | df.n2.isin(sbs5) |df.n3.isin(sbs5) | df.n4.isin(sbs5) |df.n5.isin(sbs5)) ]\n",
    "        #print(dftx)\n",
    "        df_filt = dftx.iloc[0::1,[0]]\n",
    "        df_tupla = calcular_deltas_verticales(df_filt)\n",
    "        lasts.append(df_tupla[0])\n",
    "        media.append(calc_media(df_tupla))\n",
    "        resta.append(abs(int(df_tupla[0])- int(calc_media(df_tupla))))\n",
    "        df_moda = calc_moda(df_tupla)\n",
    "        pal = '|'.join([str(m) for m in df_moda]) if len(df_moda) > 1  else str(df_moda[0])\n",
    "        modaa.append(pal)\n",
    "        palabra = '|'.join([str(e) for e in df_tupla]) \n",
    "        delta.append(palabra)\n",
    "    dft = conteos\n",
    "    dft['X'] = media\n",
    "    dft['L'] = lasts\n",
    "    dft['R'] = resta\n",
    "    dft['M'] = modaa\n",
    "    df_filt2 = dft.iloc[0::1,[0]]\n",
    "    #print(\"df_filt2\", df_filt2)\n",
    "    df_pesos = sumarcol_peso(df_filt2)\n",
    "    #print(\"valor de df_pesos \", df_pesos)\n",
    "    dft['T'] = delta\n",
    "    dft['P'] = df_pesos\n",
    "    proba, proba1,proba2,proba3 = how_hot_is(dft, df_tr_fu_filt_delta)\n",
    "    dft['Pr']= proba\n",
    "    dft['PrX'] = proba1\n",
    "    dft['PrL'] = proba2\n",
    "    dft['PrM'] = proba3\n",
    "    return dft"
   ]
  },
  {
   "cell_type": "code",
   "execution_count": 29,
   "metadata": {},
   "outputs": [],
   "source": [
    "rangos = [*range(0, 3, 1)]\n",
    "rangos_sb = [*range(0, 5, 1)]"
   ]
  },
  {
   "cell_type": "code",
   "execution_count": 30,
   "metadata": {},
   "outputs": [
    {
     "name": "stdout",
     "output_type": "stream",
     "text": [
      "valor de suma  conteo    460\n",
      "dtype: int64\n"
     ]
    }
   ],
   "source": [
    "df_cs_tr_sb = procesa_conteo_sbs(conteos_1d_sb_tr, df_tr_fu_filt_delta)\n",
    "df_cs_tr_sb = df_cs_tr_sb.sort_values('R',ascending=True)\n",
    "df_cs_tr_sb_fi = df_cs_tr_sb[df_cs_tr_sb.R.isin(rangos_sb)]\n",
    "#df_cs_tr_sb_fi"
   ]
  },
  {
   "cell_type": "code",
   "execution_count": 31,
   "metadata": {},
   "outputs": [
    {
     "name": "stdout",
     "output_type": "stream",
     "text": [
      "    tupla  R\n",
      "4       5  0\n",
      "12     13  1\n",
      "13     14  1\n",
      "1       2  4\n"
     ]
    }
   ],
   "source": [
    "df_sel_sb_tr = df_cs_tr_sb_fi.iloc[0::1,[1,4]]\n",
    "df_sel_sb_tr\n",
    "print(df_sel_sb_tr)"
   ]
  },
  {
   "cell_type": "code",
   "execution_count": 32,
   "metadata": {},
   "outputs": [
    {
     "name": "stdout",
     "output_type": "stream",
     "text": [
      "valor de suma  conteo    2300\n",
      "dtype: int64\n"
     ]
    }
   ],
   "source": [
    "df_cs_tr = procesa_conteo_singles(conteos_1d_tr, df_tr_fu_filt_delta)\n",
    "df_cs_tr = df_cs_tr.sort_values('R',ascending=True)\n",
    "df_cs_tr_fi = df_cs_tr[df_cs_tr.R.isin(rangos)]\n",
    "#df_cs_tr"
   ]
  },
  {
   "cell_type": "code",
   "execution_count": 33,
   "metadata": {},
   "outputs": [
    {
     "data": {
      "text/html": [
       "<div>\n",
       "<style scoped>\n",
       "    .dataframe tbody tr th:only-of-type {\n",
       "        vertical-align: middle;\n",
       "    }\n",
       "\n",
       "    .dataframe tbody tr th {\n",
       "        vertical-align: top;\n",
       "    }\n",
       "\n",
       "    .dataframe thead th {\n",
       "        text-align: right;\n",
       "    }\n",
       "</style>\n",
       "<table border=\"1\" class=\"dataframe\">\n",
       "  <thead>\n",
       "    <tr style=\"text-align: right;\">\n",
       "      <th></th>\n",
       "      <th>tupla</th>\n",
       "      <th>R</th>\n",
       "    </tr>\n",
       "  </thead>\n",
       "  <tbody>\n",
       "    <tr>\n",
       "      <td>42</td>\n",
       "      <td>43</td>\n",
       "      <td>0</td>\n",
       "    </tr>\n",
       "    <tr>\n",
       "      <td>40</td>\n",
       "      <td>41</td>\n",
       "      <td>0</td>\n",
       "    </tr>\n",
       "    <tr>\n",
       "      <td>18</td>\n",
       "      <td>19</td>\n",
       "      <td>0</td>\n",
       "    </tr>\n",
       "    <tr>\n",
       "      <td>39</td>\n",
       "      <td>40</td>\n",
       "      <td>1</td>\n",
       "    </tr>\n",
       "    <tr>\n",
       "      <td>36</td>\n",
       "      <td>37</td>\n",
       "      <td>1</td>\n",
       "    </tr>\n",
       "    <tr>\n",
       "      <td>27</td>\n",
       "      <td>28</td>\n",
       "      <td>1</td>\n",
       "    </tr>\n",
       "    <tr>\n",
       "      <td>9</td>\n",
       "      <td>10</td>\n",
       "      <td>1</td>\n",
       "    </tr>\n",
       "    <tr>\n",
       "      <td>19</td>\n",
       "      <td>20</td>\n",
       "      <td>2</td>\n",
       "    </tr>\n",
       "    <tr>\n",
       "      <td>17</td>\n",
       "      <td>18</td>\n",
       "      <td>2</td>\n",
       "    </tr>\n",
       "    <tr>\n",
       "      <td>41</td>\n",
       "      <td>42</td>\n",
       "      <td>2</td>\n",
       "    </tr>\n",
       "    <tr>\n",
       "      <td>22</td>\n",
       "      <td>23</td>\n",
       "      <td>2</td>\n",
       "    </tr>\n",
       "    <tr>\n",
       "      <td>8</td>\n",
       "      <td>9</td>\n",
       "      <td>2</td>\n",
       "    </tr>\n",
       "    <tr>\n",
       "      <td>35</td>\n",
       "      <td>36</td>\n",
       "      <td>2</td>\n",
       "    </tr>\n",
       "    <tr>\n",
       "      <td>37</td>\n",
       "      <td>38</td>\n",
       "      <td>2</td>\n",
       "    </tr>\n",
       "  </tbody>\n",
       "</table>\n",
       "</div>"
      ],
      "text/plain": [
       "    tupla  R\n",
       "42     43  0\n",
       "40     41  0\n",
       "18     19  0\n",
       "39     40  1\n",
       "36     37  1\n",
       "27     28  1\n",
       "9      10  1\n",
       "19     20  2\n",
       "17     18  2\n",
       "41     42  2\n",
       "22     23  2\n",
       "8       9  2\n",
       "35     36  2\n",
       "37     38  2"
      ]
     },
     "execution_count": 33,
     "metadata": {},
     "output_type": "execute_result"
    }
   ],
   "source": [
    "df_sel_si_tr = df_cs_tr_fi.iloc[0::1,[1,4]]\n",
    "df_sel_si_tr"
   ]
  },
  {
   "cell_type": "code",
   "execution_count": 34,
   "metadata": {},
   "outputs": [
    {
     "name": "stdout",
     "output_type": "stream",
     "text": [
      "valor de suma  conteo    4600\n",
      "dtype: int64\n"
     ]
    }
   ],
   "source": [
    "df_cd_tr = procesa_conteo_dobles(conteos_2d_tr, df_tr_fu_filt_delta)\n",
    "df_cd_tr = df_cd_tr.sort_values('R',ascending=True)\n",
    "df_cd_tr_fi = df_cd_tr[df_cd_tr.R.isin(rangos)]\n",
    "#df_cd_tr_fi"
   ]
  },
  {
   "cell_type": "code",
   "execution_count": null,
   "metadata": {},
   "outputs": [],
   "source": []
  },
  {
   "cell_type": "code",
   "execution_count": 35,
   "metadata": {},
   "outputs": [
    {
     "name": "stdout",
     "output_type": "stream",
     "text": [
      "valor de suma  conteo    4600\n",
      "dtype: int64\n"
     ]
    }
   ],
   "source": [
    "df_ct_tr = procesa_conteo_triples(conteos_3d_tr, df_tr_fu_filt_delta)\n",
    "df_ct_tr = df_ct_tr.sort_values('R',ascending=True)\n",
    "#df_ct_tr.tail(25)\n",
    "#df_ct_tr"
   ]
  },
  {
   "cell_type": "code",
   "execution_count": 36,
   "metadata": {},
   "outputs": [
    {
     "name": "stdout",
     "output_type": "stream",
     "text": [
      "valor de suma  conteo    2300\n",
      "dtype: int64\n"
     ]
    }
   ],
   "source": [
    "df_cc_tr = procesa_conteo_cuartetos(conteos_4d_tr, df_tr_fu_filt_delta)\n",
    "df_cc_tr = df_cc_tr.sort_values('tupla',ascending=True)\n",
    "#df_cc_tr.head(25)\n",
    "#df_cc_tr"
   ]
  },
  {
   "cell_type": "code",
   "execution_count": 37,
   "metadata": {},
   "outputs": [
    {
     "name": "stdout",
     "output_type": "stream",
     "text": [
      "valor de suma  conteo    460\n",
      "dtype: int64\n"
     ]
    }
   ],
   "source": [
    "df_cq_tr = procesa_conteo_quintetos(conteos_5d_tr, df_tr_fu_filt_delta)\n",
    "df_cq_tr = df_cq_tr.sort_values('tupla',ascending=True)\n",
    "#df_cq_tr.head(25)"
   ]
  },
  {
   "cell_type": "markdown",
   "metadata": {},
   "source": [
    "#### Aqui empiezan los llamados a los calculos de revancha"
   ]
  },
  {
   "cell_type": "code",
   "execution_count": 38,
   "metadata": {},
   "outputs": [
    {
     "name": "stdout",
     "output_type": "stream",
     "text": [
      "valor de suma  conteo    460\n",
      "dtype: int64\n"
     ]
    }
   ],
   "source": [
    "df_cs_re_sb = procesa_conteo_sbs(conteos_1d_sb_re, df_re_fu_filt_delta)\n",
    "df_cs_re_sb = df_cs_re_sb.sort_values('R',ascending=True)\n",
    "df_cs_re_sb_fi = df_cs_re_sb[df_cs_re_sb.R.isin(rangos_sb)]\n",
    "#df_cs_re_sb_fi"
   ]
  },
  {
   "cell_type": "code",
   "execution_count": 39,
   "metadata": {},
   "outputs": [
    {
     "data": {
      "text/html": [
       "<div>\n",
       "<style scoped>\n",
       "    .dataframe tbody tr th:only-of-type {\n",
       "        vertical-align: middle;\n",
       "    }\n",
       "\n",
       "    .dataframe tbody tr th {\n",
       "        vertical-align: top;\n",
       "    }\n",
       "\n",
       "    .dataframe thead th {\n",
       "        text-align: right;\n",
       "    }\n",
       "</style>\n",
       "<table border=\"1\" class=\"dataframe\">\n",
       "  <thead>\n",
       "    <tr style=\"text-align: right;\">\n",
       "      <th></th>\n",
       "      <th>tupla</th>\n",
       "      <th>R</th>\n",
       "    </tr>\n",
       "  </thead>\n",
       "  <tbody>\n",
       "    <tr>\n",
       "      <td>1</td>\n",
       "      <td>2</td>\n",
       "      <td>0</td>\n",
       "    </tr>\n",
       "    <tr>\n",
       "      <td>13</td>\n",
       "      <td>14</td>\n",
       "      <td>2</td>\n",
       "    </tr>\n",
       "    <tr>\n",
       "      <td>14</td>\n",
       "      <td>15</td>\n",
       "      <td>4</td>\n",
       "    </tr>\n",
       "  </tbody>\n",
       "</table>\n",
       "</div>"
      ],
      "text/plain": [
       "    tupla  R\n",
       "1       2  0\n",
       "13     14  2\n",
       "14     15  4"
      ]
     },
     "execution_count": 39,
     "metadata": {},
     "output_type": "execute_result"
    }
   ],
   "source": [
    "df_sel_sb_re = df_cs_re_sb_fi.iloc[0::1,[1,4]]\n",
    "df_sel_sb_re"
   ]
  },
  {
   "cell_type": "code",
   "execution_count": 40,
   "metadata": {},
   "outputs": [
    {
     "name": "stdout",
     "output_type": "stream",
     "text": [
      "valor de suma  conteo    2300\n",
      "dtype: int64\n"
     ]
    }
   ],
   "source": [
    "df_cs_re = procesa_conteo_singles(conteos_1d_re, df_re_fu_filt_delta)\n",
    "df_cs_re = df_cs_re.sort_values('R',ascending=True)\n",
    "df_cs_re_fi = df_cs_re[df_cs_re.R.isin(rangos)]\n",
    "#df_cs_re_fi"
   ]
  },
  {
   "cell_type": "code",
   "execution_count": 41,
   "metadata": {},
   "outputs": [
    {
     "data": {
      "text/html": [
       "<div>\n",
       "<style scoped>\n",
       "    .dataframe tbody tr th:only-of-type {\n",
       "        vertical-align: middle;\n",
       "    }\n",
       "\n",
       "    .dataframe tbody tr th {\n",
       "        vertical-align: top;\n",
       "    }\n",
       "\n",
       "    .dataframe thead th {\n",
       "        text-align: right;\n",
       "    }\n",
       "</style>\n",
       "<table border=\"1\" class=\"dataframe\">\n",
       "  <thead>\n",
       "    <tr style=\"text-align: right;\">\n",
       "      <th></th>\n",
       "      <th>tupla</th>\n",
       "      <th>R</th>\n",
       "    </tr>\n",
       "  </thead>\n",
       "  <tbody>\n",
       "    <tr>\n",
       "      <td>36</td>\n",
       "      <td>37</td>\n",
       "      <td>0</td>\n",
       "    </tr>\n",
       "    <tr>\n",
       "      <td>22</td>\n",
       "      <td>23</td>\n",
       "      <td>1</td>\n",
       "    </tr>\n",
       "    <tr>\n",
       "      <td>6</td>\n",
       "      <td>7</td>\n",
       "      <td>1</td>\n",
       "    </tr>\n",
       "    <tr>\n",
       "      <td>23</td>\n",
       "      <td>24</td>\n",
       "      <td>1</td>\n",
       "    </tr>\n",
       "    <tr>\n",
       "      <td>33</td>\n",
       "      <td>34</td>\n",
       "      <td>2</td>\n",
       "    </tr>\n",
       "    <tr>\n",
       "      <td>39</td>\n",
       "      <td>40</td>\n",
       "      <td>2</td>\n",
       "    </tr>\n",
       "    <tr>\n",
       "      <td>41</td>\n",
       "      <td>42</td>\n",
       "      <td>2</td>\n",
       "    </tr>\n",
       "    <tr>\n",
       "      <td>34</td>\n",
       "      <td>35</td>\n",
       "      <td>2</td>\n",
       "    </tr>\n",
       "    <tr>\n",
       "      <td>27</td>\n",
       "      <td>28</td>\n",
       "      <td>2</td>\n",
       "    </tr>\n",
       "    <tr>\n",
       "      <td>32</td>\n",
       "      <td>33</td>\n",
       "      <td>2</td>\n",
       "    </tr>\n",
       "  </tbody>\n",
       "</table>\n",
       "</div>"
      ],
      "text/plain": [
       "    tupla  R\n",
       "36     37  0\n",
       "22     23  1\n",
       "6       7  1\n",
       "23     24  1\n",
       "33     34  2\n",
       "39     40  2\n",
       "41     42  2\n",
       "34     35  2\n",
       "27     28  2\n",
       "32     33  2"
      ]
     },
     "execution_count": 41,
     "metadata": {},
     "output_type": "execute_result"
    }
   ],
   "source": [
    "df_sel_si_re = df_cs_re_fi.iloc[0::1,[1,4]]\n",
    "df_sel_si_re"
   ]
  },
  {
   "cell_type": "code",
   "execution_count": null,
   "metadata": {},
   "outputs": [],
   "source": []
  },
  {
   "cell_type": "code",
   "execution_count": 42,
   "metadata": {},
   "outputs": [
    {
     "name": "stdout",
     "output_type": "stream",
     "text": [
      "valor de suma  conteo    4600\n",
      "dtype: int64\n"
     ]
    },
    {
     "data": {
      "text/html": [
       "<div>\n",
       "<style scoped>\n",
       "    .dataframe tbody tr th:only-of-type {\n",
       "        vertical-align: middle;\n",
       "    }\n",
       "\n",
       "    .dataframe tbody tr th {\n",
       "        vertical-align: top;\n",
       "    }\n",
       "\n",
       "    .dataframe thead th {\n",
       "        text-align: right;\n",
       "    }\n",
       "</style>\n",
       "<table border=\"1\" class=\"dataframe\">\n",
       "  <thead>\n",
       "    <tr style=\"text-align: right;\">\n",
       "      <th></th>\n",
       "      <th>conteo</th>\n",
       "      <th>tupla</th>\n",
       "      <th>X</th>\n",
       "      <th>L</th>\n",
       "      <th>R</th>\n",
       "      <th>M</th>\n",
       "      <th>T</th>\n",
       "      <th>P</th>\n",
       "      <th>Pr</th>\n",
       "      <th>PrX</th>\n",
       "      <th>PrL</th>\n",
       "      <th>PrM</th>\n",
       "    </tr>\n",
       "  </thead>\n",
       "  <tbody>\n",
       "    <tr>\n",
       "      <td>91</td>\n",
       "      <td>5</td>\n",
       "      <td>3|12</td>\n",
       "      <td>76</td>\n",
       "      <td>76</td>\n",
       "      <td>0</td>\n",
       "      <td>76|62|97|105|88|31</td>\n",
       "      <td>76|62|97|105|88|31</td>\n",
       "      <td>0.001</td>\n",
       "      <td>0.667</td>\n",
       "      <td>1.000</td>\n",
       "      <td>1.000</td>\n",
       "      <td>0.001</td>\n",
       "    </tr>\n",
       "    <tr>\n",
       "      <td>242</td>\n",
       "      <td>7</td>\n",
       "      <td>7|13</td>\n",
       "      <td>57</td>\n",
       "      <td>57</td>\n",
       "      <td>0</td>\n",
       "      <td>57|79|67|23|29|12|65|127</td>\n",
       "      <td>57|79|67|23|29|12|65|127</td>\n",
       "      <td>0.002</td>\n",
       "      <td>0.667</td>\n",
       "      <td>1.000</td>\n",
       "      <td>1.000</td>\n",
       "      <td>0.002</td>\n",
       "    </tr>\n",
       "    <tr>\n",
       "      <td>513</td>\n",
       "      <td>3</td>\n",
       "      <td>15|35</td>\n",
       "      <td>114</td>\n",
       "      <td>115</td>\n",
       "      <td>1</td>\n",
       "      <td>115|114|72|158</td>\n",
       "      <td>115|114|72|158</td>\n",
       "      <td>0.001</td>\n",
       "      <td>0.667</td>\n",
       "      <td>1.000</td>\n",
       "      <td>1.000</td>\n",
       "      <td>0.001</td>\n",
       "    </tr>\n",
       "    <tr>\n",
       "      <td>647</td>\n",
       "      <td>5</td>\n",
       "      <td>21|23</td>\n",
       "      <td>76</td>\n",
       "      <td>75</td>\n",
       "      <td>1</td>\n",
       "      <td>75|55|61|5|173|90</td>\n",
       "      <td>75|55|61|5|173|90</td>\n",
       "      <td>0.001</td>\n",
       "      <td>0.667</td>\n",
       "      <td>1.000</td>\n",
       "      <td>1.000</td>\n",
       "      <td>0.001</td>\n",
       "    </tr>\n",
       "    <tr>\n",
       "      <td>67</td>\n",
       "      <td>12</td>\n",
       "      <td>2|28</td>\n",
       "      <td>35</td>\n",
       "      <td>36</td>\n",
       "      <td>1</td>\n",
       "      <td>15</td>\n",
       "      <td>36|33|58|59|21|15|46|15|28|31|75|3|39</td>\n",
       "      <td>0.003</td>\n",
       "      <td>0.668</td>\n",
       "      <td>1.000</td>\n",
       "      <td>1.000</td>\n",
       "      <td>0.003</td>\n",
       "    </tr>\n",
       "    <tr>\n",
       "      <td>363</td>\n",
       "      <td>3</td>\n",
       "      <td>10|33</td>\n",
       "      <td>114</td>\n",
       "      <td>113</td>\n",
       "      <td>1</td>\n",
       "      <td>113|186|71|89</td>\n",
       "      <td>113|186|71|89</td>\n",
       "      <td>0.001</td>\n",
       "      <td>0.667</td>\n",
       "      <td>1.000</td>\n",
       "      <td>1.000</td>\n",
       "      <td>0.001</td>\n",
       "    </tr>\n",
       "    <tr>\n",
       "      <td>790</td>\n",
       "      <td>7</td>\n",
       "      <td>28|43</td>\n",
       "      <td>57</td>\n",
       "      <td>58</td>\n",
       "      <td>1</td>\n",
       "      <td>65</td>\n",
       "      <td>58|93|65|92|17|16|65|53</td>\n",
       "      <td>0.002</td>\n",
       "      <td>0.667</td>\n",
       "      <td>1.000</td>\n",
       "      <td>1.000</td>\n",
       "      <td>0.002</td>\n",
       "    </tr>\n",
       "    <tr>\n",
       "      <td>575</td>\n",
       "      <td>4</td>\n",
       "      <td>18|20</td>\n",
       "      <td>91</td>\n",
       "      <td>92</td>\n",
       "      <td>1</td>\n",
       "      <td>92</td>\n",
       "      <td>92|223|49|3|92</td>\n",
       "      <td>0.001</td>\n",
       "      <td>0.667</td>\n",
       "      <td>1.000</td>\n",
       "      <td>1.000</td>\n",
       "      <td>0.001</td>\n",
       "    </tr>\n",
       "    <tr>\n",
       "      <td>893</td>\n",
       "      <td>8</td>\n",
       "      <td>41|43</td>\n",
       "      <td>51</td>\n",
       "      <td>49</td>\n",
       "      <td>2</td>\n",
       "      <td>49|1</td>\n",
       "      <td>49|76|26|134|1|88|49|1|35</td>\n",
       "      <td>0.002</td>\n",
       "      <td>0.667</td>\n",
       "      <td>1.000</td>\n",
       "      <td>1.000</td>\n",
       "      <td>0.002</td>\n",
       "    </tr>\n",
       "    <tr>\n",
       "      <td>520</td>\n",
       "      <td>6</td>\n",
       "      <td>15|42</td>\n",
       "      <td>65</td>\n",
       "      <td>63</td>\n",
       "      <td>2</td>\n",
       "      <td>63|11|12|132|115|123|3</td>\n",
       "      <td>63|11|12|132|115|123|3</td>\n",
       "      <td>0.001</td>\n",
       "      <td>0.667</td>\n",
       "      <td>1.000</td>\n",
       "      <td>1.000</td>\n",
       "      <td>0.001</td>\n",
       "    </tr>\n",
       "    <tr>\n",
       "      <td>593</td>\n",
       "      <td>3</td>\n",
       "      <td>18|38</td>\n",
       "      <td>114</td>\n",
       "      <td>116</td>\n",
       "      <td>2</td>\n",
       "      <td>116|62|131|150</td>\n",
       "      <td>116|62|131|150</td>\n",
       "      <td>0.001</td>\n",
       "      <td>0.667</td>\n",
       "      <td>1.000</td>\n",
       "      <td>1.000</td>\n",
       "      <td>0.001</td>\n",
       "    </tr>\n",
       "    <tr>\n",
       "      <td>841</td>\n",
       "      <td>8</td>\n",
       "      <td>33|35</td>\n",
       "      <td>51</td>\n",
       "      <td>53</td>\n",
       "      <td>2</td>\n",
       "      <td>53|19|171|13|23|26|18|107|29</td>\n",
       "      <td>53|19|171|13|23|26|18|107|29</td>\n",
       "      <td>0.002</td>\n",
       "      <td>0.667</td>\n",
       "      <td>1.000</td>\n",
       "      <td>1.000</td>\n",
       "      <td>0.002</td>\n",
       "    </tr>\n",
       "    <tr>\n",
       "      <td>878</td>\n",
       "      <td>3</td>\n",
       "      <td>37|42</td>\n",
       "      <td>114</td>\n",
       "      <td>112</td>\n",
       "      <td>2</td>\n",
       "      <td>112|61|186|100</td>\n",
       "      <td>112|61|186|100</td>\n",
       "      <td>0.001</td>\n",
       "      <td>0.667</td>\n",
       "      <td>1.000</td>\n",
       "      <td>1.000</td>\n",
       "      <td>0.001</td>\n",
       "    </tr>\n",
       "    <tr>\n",
       "      <td>263</td>\n",
       "      <td>5</td>\n",
       "      <td>7|34</td>\n",
       "      <td>76</td>\n",
       "      <td>74</td>\n",
       "      <td>2</td>\n",
       "      <td>74|93|38|50|133|71</td>\n",
       "      <td>74|93|38|50|133|71</td>\n",
       "      <td>0.001</td>\n",
       "      <td>0.667</td>\n",
       "      <td>1.000</td>\n",
       "      <td>1.000</td>\n",
       "      <td>0.001</td>\n",
       "    </tr>\n",
       "    <tr>\n",
       "      <td>733</td>\n",
       "      <td>7</td>\n",
       "      <td>25|32</td>\n",
       "      <td>57</td>\n",
       "      <td>59</td>\n",
       "      <td>2</td>\n",
       "      <td>59|34|14|181|90|60|15|6</td>\n",
       "      <td>59|34|14|181|90|60|15|6</td>\n",
       "      <td>0.002</td>\n",
       "      <td>0.667</td>\n",
       "      <td>1.000</td>\n",
       "      <td>1.000</td>\n",
       "      <td>0.002</td>\n",
       "    </tr>\n",
       "    <tr>\n",
       "      <td>295</td>\n",
       "      <td>7</td>\n",
       "      <td>8|31</td>\n",
       "      <td>57</td>\n",
       "      <td>59</td>\n",
       "      <td>2</td>\n",
       "      <td>59</td>\n",
       "      <td>59|6|59|53|54|45|89|94</td>\n",
       "      <td>0.002</td>\n",
       "      <td>0.667</td>\n",
       "      <td>1.000</td>\n",
       "      <td>1.000</td>\n",
       "      <td>0.002</td>\n",
       "    </tr>\n",
       "    <tr>\n",
       "      <td>732</td>\n",
       "      <td>7</td>\n",
       "      <td>25|31</td>\n",
       "      <td>57</td>\n",
       "      <td>59</td>\n",
       "      <td>2</td>\n",
       "      <td>65</td>\n",
       "      <td>59|65|13|18|65|101|117|21</td>\n",
       "      <td>0.002</td>\n",
       "      <td>0.667</td>\n",
       "      <td>1.000</td>\n",
       "      <td>1.000</td>\n",
       "      <td>0.002</td>\n",
       "    </tr>\n",
       "    <tr>\n",
       "      <td>178</td>\n",
       "      <td>11</td>\n",
       "      <td>5|22</td>\n",
       "      <td>38</td>\n",
       "      <td>40</td>\n",
       "      <td>2</td>\n",
       "      <td>15</td>\n",
       "      <td>40|15|6|41|52|9|62|104|2|74|39|15</td>\n",
       "      <td>0.002</td>\n",
       "      <td>0.667</td>\n",
       "      <td>1.000</td>\n",
       "      <td>1.000</td>\n",
       "      <td>0.002</td>\n",
       "    </tr>\n",
       "  </tbody>\n",
       "</table>\n",
       "</div>"
      ],
      "text/plain": [
       "     conteo  tupla    X    L  R                             M  \\\n",
       "91        5   3|12   76   76  0            76|62|97|105|88|31   \n",
       "242       7   7|13   57   57  0      57|79|67|23|29|12|65|127   \n",
       "513       3  15|35  114  115  1                115|114|72|158   \n",
       "647       5  21|23   76   75  1             75|55|61|5|173|90   \n",
       "67       12   2|28   35   36  1                            15   \n",
       "363       3  10|33  114  113  1                 113|186|71|89   \n",
       "790       7  28|43   57   58  1                            65   \n",
       "575       4  18|20   91   92  1                            92   \n",
       "893       8  41|43   51   49  2                          49|1   \n",
       "520       6  15|42   65   63  2        63|11|12|132|115|123|3   \n",
       "593       3  18|38  114  116  2                116|62|131|150   \n",
       "841       8  33|35   51   53  2  53|19|171|13|23|26|18|107|29   \n",
       "878       3  37|42  114  112  2                112|61|186|100   \n",
       "263       5   7|34   76   74  2            74|93|38|50|133|71   \n",
       "733       7  25|32   57   59  2       59|34|14|181|90|60|15|6   \n",
       "295       7   8|31   57   59  2                            59   \n",
       "732       7  25|31   57   59  2                            65   \n",
       "178      11   5|22   38   40  2                            15   \n",
       "\n",
       "                                         T     P    Pr   PrX   PrL   PrM  \n",
       "91                      76|62|97|105|88|31 0.001 0.667 1.000 1.000 0.001  \n",
       "242               57|79|67|23|29|12|65|127 0.002 0.667 1.000 1.000 0.002  \n",
       "513                         115|114|72|158 0.001 0.667 1.000 1.000 0.001  \n",
       "647                      75|55|61|5|173|90 0.001 0.667 1.000 1.000 0.001  \n",
       "67   36|33|58|59|21|15|46|15|28|31|75|3|39 0.003 0.668 1.000 1.000 0.003  \n",
       "363                          113|186|71|89 0.001 0.667 1.000 1.000 0.001  \n",
       "790                58|93|65|92|17|16|65|53 0.002 0.667 1.000 1.000 0.002  \n",
       "575                         92|223|49|3|92 0.001 0.667 1.000 1.000 0.001  \n",
       "893              49|76|26|134|1|88|49|1|35 0.002 0.667 1.000 1.000 0.002  \n",
       "520                 63|11|12|132|115|123|3 0.001 0.667 1.000 1.000 0.001  \n",
       "593                         116|62|131|150 0.001 0.667 1.000 1.000 0.001  \n",
       "841           53|19|171|13|23|26|18|107|29 0.002 0.667 1.000 1.000 0.002  \n",
       "878                         112|61|186|100 0.001 0.667 1.000 1.000 0.001  \n",
       "263                     74|93|38|50|133|71 0.001 0.667 1.000 1.000 0.001  \n",
       "733                59|34|14|181|90|60|15|6 0.002 0.667 1.000 1.000 0.002  \n",
       "295                 59|6|59|53|54|45|89|94 0.002 0.667 1.000 1.000 0.002  \n",
       "732              59|65|13|18|65|101|117|21 0.002 0.667 1.000 1.000 0.002  \n",
       "178      40|15|6|41|52|9|62|104|2|74|39|15 0.002 0.667 1.000 1.000 0.002  "
      ]
     },
     "execution_count": 42,
     "metadata": {},
     "output_type": "execute_result"
    }
   ],
   "source": [
    "df_cd_re = procesa_conteo_dobles(conteos_2d_re, df_re_fu_filt_delta)\n",
    "df_cd_re = df_cd_re.sort_values('R',ascending=True)\n",
    "df_cd_re_fi = df_cd_re[df_cd_re.R.isin(rangos)]\n",
    "df_cd_re_fi"
   ]
  },
  {
   "cell_type": "code",
   "execution_count": 43,
   "metadata": {},
   "outputs": [
    {
     "name": "stdout",
     "output_type": "stream",
     "text": [
      "valor de suma  conteo    4600\n",
      "dtype: int64\n"
     ]
    }
   ],
   "source": [
    "df_ct_re = procesa_conteo_triples(conteos_3d_re, df_re_fu_filt_delta)\n",
    "df_ct_re = df_ct_re.sort_values('R',ascending=True)\n",
    "#df_ct_re.head(25)"
   ]
  },
  {
   "cell_type": "code",
   "execution_count": 44,
   "metadata": {},
   "outputs": [
    {
     "name": "stdout",
     "output_type": "stream",
     "text": [
      "valor de suma  conteo    4600\n",
      "dtype: int64\n"
     ]
    }
   ],
   "source": [
    "df_ct_re = procesa_conteo_triples(conteos_3d_re, df_re_fu_filt_delta)\n",
    "df_ct_re = df_ct_re.sort_values('R',ascending=True)\n",
    "#df_ct_re.tail(25)\n",
    "#df_ct_re"
   ]
  },
  {
   "cell_type": "code",
   "execution_count": 45,
   "metadata": {},
   "outputs": [
    {
     "name": "stdout",
     "output_type": "stream",
     "text": [
      "valor de suma  conteo    2300\n",
      "dtype: int64\n"
     ]
    }
   ],
   "source": [
    "df_cc_re = procesa_conteo_cuartetos(conteos_4d_re, df_re_fu_filt_delta)\n",
    "df_cc_re = df_cc_re.sort_values('tupla',ascending=True)\n",
    "#df_cc_re.head(25)"
   ]
  },
  {
   "cell_type": "code",
   "execution_count": 46,
   "metadata": {},
   "outputs": [
    {
     "name": "stdout",
     "output_type": "stream",
     "text": [
      "valor de suma  conteo    460\n",
      "dtype: int64\n"
     ]
    }
   ],
   "source": [
    "df_cq_re = procesa_conteo_quintetos(conteos_5d_re, df_re_fu_filt_delta)\n",
    "df_cq_re = df_cq_re.sort_values('tupla',ascending=True)\n",
    "#df_cq_re.head(25)"
   ]
  },
  {
   "cell_type": "code",
   "execution_count": 47,
   "metadata": {},
   "outputs": [],
   "source": [
    "def crea_quintetos(df1, df2, df3, df4):\n",
    "    sbs_df = pd.concat([df1, df2], ignore_index=True)\n",
    "    singles_df = pd.concat([df3, df4], ignore_index = True)\n",
    "    print(sbs_df)\n",
    "\n",
    "    return sbs_df, singles_df"
   ]
  },
  {
   "cell_type": "code",
   "execution_count": 48,
   "metadata": {},
   "outputs": [
    {
     "name": "stdout",
     "output_type": "stream",
     "text": [
      "   tupla  R\n",
      "0      5  0\n",
      "1     13  1\n",
      "2     14  1\n",
      "3      2  4\n",
      "4      2  0\n",
      "5     14  2\n",
      "6     15  4\n",
      "    tupla  R\n",
      "0      43  0\n",
      "1      41  0\n",
      "2      19  0\n",
      "3      40  1\n",
      "4      37  1\n",
      "5      28  1\n",
      "6      10  1\n",
      "7      20  2\n",
      "8      18  2\n",
      "9      42  2\n",
      "10     23  2\n",
      "11      9  2\n",
      "12     36  2\n",
      "13     38  2\n",
      "14     37  0\n",
      "15     23  1\n",
      "16      7  1\n",
      "17     24  1\n",
      "18     34  2\n",
      "19     40  2\n",
      "20     42  2\n",
      "21     35  2\n",
      "22     28  2\n",
      "23     33  2\n"
     ]
    }
   ],
   "source": [
    "sbs, singles = crea_quintetos(df_sel_sb_tr, df_sel_sb_re, df_sel_si_tr, df_sel_si_re)\n",
    "print(singles)"
   ]
  },
  {
   "cell_type": "markdown",
   "metadata": {},
   "source": [
    "#### Aqui inicia el guardado de los dataframe del sorteo tradicional"
   ]
  },
  {
   "cell_type": "code",
   "execution_count": 49,
   "metadata": {},
   "outputs": [],
   "source": [
    "df_cs_tr.to_csv(generaPath('O', 'df_cs_tr.csv'), header=['conteo','tupla','X', 'L', 'R', 'M', 'T', 'P','Pr','PrX', 'PrL','PrM'], index=None, sep=',', mode='w')\n",
    "df_cd_tr.to_csv(generaPath('O', 'df_cd_tr.csv'), header=['conteo','tupla','X', 'L', 'R', 'M', 'T', 'P','Pr','PrX', 'PrL','PrM'], index=None, sep=',', mode='w')\n",
    "df_ct_tr.to_csv(generaPath('O', 'df_ct_tr.csv'), header=['conteo','tupla','X', 'L', 'R', 'M', 'T', 'P','Pr','PrX', 'PrL','PrM'], index=None, sep=',', mode='w')\n",
    "df_cc_tr.to_csv(generaPath('O', 'df_cc_tr.csv'), header=['conteo','tupla','X', 'L', 'R', 'M', 'T', 'P','Pr','PrX', 'PrL','PrM'], index=None, sep=',', mode='w')\n",
    "df_cq_tr.to_csv(generaPath('O', 'df_cq_tr.csv'), header=['conteo','tupla','X', 'L', 'R', 'M', 'T', 'P','Pr','PrX', 'PrL','PrM'], index=None, sep=',', mode='w')"
   ]
  },
  {
   "cell_type": "markdown",
   "metadata": {},
   "source": [
    "#### Aqui inicia el guardado de los dataframe del sorteo revancha"
   ]
  },
  {
   "cell_type": "code",
   "execution_count": 50,
   "metadata": {},
   "outputs": [],
   "source": [
    "df_cs_re.to_csv(generaPath('O', 'df_cs_re.csv'), header=['conteo','tupla','X', 'L', 'R', 'M', 'T', 'P','Pr','PrX', 'PrL','PrM'], index=None, sep=',', mode='w')\n",
    "df_cd_re.to_csv(generaPath('O', 'df_cd_re.csv'), header=['conteo','tupla','X', 'L', 'R', 'M', 'T', 'P','Pr','PrX', 'PrL','PrM'], index=None, sep=',', mode='w')\n",
    "df_ct_re.to_csv(generaPath('O', 'df_ct_re.csv'), header=['conteo','tupla','X', 'L', 'R', 'M', 'T', 'P','Pr','PrX', 'PrL','PrM'], index=None, sep=',', mode='w')\n",
    "df_cc_re.to_csv(generaPath('O', 'df_cc_re.csv'), header=['conteo','tupla','X', 'L', 'R', 'M', 'T', 'P','Pr','PrX', 'PrL','PrM'], index=None, sep=',', mode='w')\n",
    "df_cq_re.to_csv(generaPath('O', 'df_cq_re.csv'), header=['conteo','tupla','X', 'L', 'R', 'M', 'T', 'P','Pr','PrX', 'PrL','PrM'], index=None, sep=',', mode='w')"
   ]
  },
  {
   "cell_type": "code",
   "execution_count": 51,
   "metadata": {},
   "outputs": [],
   "source": [
    "df_cs_tr_sb.to_csv(generaPath('O', 'df_cs_tr_sb.csv'), header=['conteo','tupla','X', 'L', 'R', 'M', 'T', 'P','Pr','PrX', 'PrL','PrM'], index=None, sep=',', mode='w')\n",
    "df_cs_re_sb.to_csv(generaPath('O', 'df_cs_re_sb.csv'), header=['conteo','tupla','X', 'L', 'R', 'M', 'T', 'P','Pr','PrX', 'PrL','PrM'], index=None, sep=',', mode='w')\n",
    "\n",
    "df_sel_sb_tr.to_csv(generaPath('O','df_sel_sb_tr.csv'), header=['tupla','R'], index=None, sep=',', mode='w' )\n",
    "df_sel_sb_re.to_csv(generaPath('O','df_sel_sb_re.csv'), header=['tupla','R'], index=None, sep=',', mode='w' )\n",
    "\n",
    "df_sel_si_tr.to_csv(generaPath('O','df_sel_si_tr.csv'), header=['tupla','R'], index=None, sep=',', mode='w' )\n",
    "df_sel_si_re.to_csv(generaPath('O','df_sel_si_re.csv'), header=['tupla','R'], index=None, sep=',', mode='w' )\n",
    "\n",
    "sbs.to_csv(generaPath('O','sbs.csv'), header=['tupla','R'], index=None, sep=',', mode='w' )\n",
    "singles.to_csv(generaPath('O','singles.csv'), header=['tupla','R'], index=None, sep=',', mode='w' )\n"
   ]
  },
  {
   "cell_type": "markdown",
   "metadata": {},
   "source": []
  },
  {
   "cell_type": "code",
   "execution_count": null,
   "metadata": {},
   "outputs": [],
   "source": []
  },
  {
   "cell_type": "code",
   "execution_count": null,
   "metadata": {},
   "outputs": [],
   "source": []
  },
  {
   "cell_type": "code",
   "execution_count": 52,
   "metadata": {},
   "outputs": [],
   "source": [
    "#cayo_antes_quintetos()"
   ]
  },
  {
   "cell_type": "markdown",
   "metadata": {},
   "source": [
    "#### El codigo validado ha concluido aquí, lo siguiente  son pruebas de concepto"
   ]
  },
  {
   "cell_type": "code",
   "execution_count": 53,
   "metadata": {},
   "outputs": [],
   "source": [
    "import numpy as np\n",
    "import matplotlib.pyplot as plt"
   ]
  },
  {
   "cell_type": "code",
   "execution_count": 54,
   "metadata": {},
   "outputs": [
    {
     "name": "stdout",
     "output_type": "stream",
     "text": [
      "2.3333333333333335\n"
     ]
    }
   ],
   "source": [
    "x_s = np.array([1,2,3,1,2,2,3,4,1,2,3,4,1,2,4])\n",
    "n = len(x_s)\n",
    "\n",
    "#forma lenta\n",
    "x_mean = 0\n",
    "for x in x_s:\n",
    "    x_mean +=x\n",
    "x_mean/=n\n",
    "print(x_mean)"
   ]
  },
  {
   "cell_type": "code",
   "execution_count": 55,
   "metadata": {},
   "outputs": [
    {
     "name": "stdout",
     "output_type": "stream",
     "text": [
      "     conteo  tupla\n",
      "0         9    1|2\n",
      "1         5    1|3\n",
      "2        11    1|4\n",
      "3         8    1|5\n",
      "4         3    1|6\n",
      "..      ...    ...\n",
      "895       5  40|42\n",
      "896       4  40|43\n",
      "897       4  41|42\n",
      "898       6  41|43\n",
      "899       5  42|43\n",
      "\n",
      "[900 rows x 2 columns]\n",
      "<class 'numpy.ndarray'>\n"
     ]
    }
   ],
   "source": [
    "df_topes2 = conteos_2d_tr.iloc[0::1,[0,1]]\n",
    "print(df_topes2)\n",
    "mu = 2.0\n",
    "sigma_1 = 5.0\n",
    "sigma_2 = 5.0\n",
    "muestras_1 = np.random.normal(loc = mu, scale = sigma_1, size = 100)\n",
    "muestras_2 = np.random.normal(loc = mu, scale = sigma_2, size = 100)\n",
    "print(type(muestras_1))\n",
    "#print(muestras_1, muestras_2)"
   ]
  },
  {
   "cell_type": "code",
   "execution_count": 56,
   "metadata": {},
   "outputs": [
    {
     "data": {
      "image/png": "[encoded data removed]",
      "text/plain": [
       "<Figure size 720x576 with 1 Axes>"
      ]
     },
     "metadata": {
      "needs_background": "light"
     },
     "output_type": "display_data"
    }
   ],
   "source": [
    "plt.figure(figsize = (10,8))\n",
    "plt.hist(muestras_1, bins = 20, alpha = 0.5, label = 'Histograma Muestra 1')\n",
    "plt.hist(muestras_2, bins = 20, alpha = 0.5, label = 'Histograma Muestra 2')\n",
    "plt.legend()\n",
    "plt.grid()\n",
    "plt.show()"
   ]
  },
  {
   "cell_type": "code",
   "execution_count": null,
   "metadata": {},
   "outputs": [],
   "source": []
  },
  {
   "cell_type": "code",
   "execution_count": null,
   "metadata": {},
   "outputs": [],
   "source": []
  },
  {
   "cell_type": "code",
   "execution_count": null,
   "metadata": {},
   "outputs": [],
   "source": []
  },
  {
   "cell_type": "code",
   "execution_count": null,
   "metadata": {},
   "outputs": [],
   "source": []
  },
  {
   "cell_type": "code",
   "execution_count": null,
   "metadata": {},
   "outputs": [],
   "source": []
  }
 ],
 "metadata": {
  "interpreter": {
   "hash": "2d3d3270e417e1e52e34ac8b854cc2805d4f43e36bc3a05dc9d1a620d4ed2e67"
  },
  "kernelspec": {
   "display_name": "Python 3.7.4 64-bit ('dsbasic': conda)",
   "name": "python3"
  },
  "language_info": {
   "codemirror_mode": {
    "name": "ipython",
    "version": 3
   },
   "file_extension": ".py",
   "mimetype": "text/x-python",
   "name": "python",
   "nbconvert_exporter": "python",
   "pygments_lexer": "ipython3",
   "version": "3.7.4"
  }
 },
 "nbformat": 4,
 "nbformat_minor": 4
}
