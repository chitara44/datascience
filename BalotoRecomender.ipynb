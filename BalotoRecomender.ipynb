{
 "cells": [
  {
   "cell_type": "code",
   "execution_count": 1,
   "metadata": {},
   "outputs": [],
   "source": [
    "import pandas as pd\n",
    "import numpy as np\n",
    "import seaborn as sns\n",
    "import matplotlib.pyplot as plt\n",
    "from sklearn import metrics\n",
    "from sklearn.pipeline import Pipeline\n",
    "from sklearn.preprocessing import StandardScaler, LabelEncoder, OneHotEncoder, KBinsDiscretizer\n",
    "from sklearn.model_selection import train_test_split\n",
    "from sklearn.tree import DecisionTreeRegressor\n",
    "from sklearn.model_selection import cross_val_score\n",
    "from sklearn.metrics import mean_squared_error\n",
    "from sklearn.neighbors import KNeighborsClassifier, KNeighborsRegressor\n",
    "from sklearn.preprocessing import StandardScaler\n",
    "from time import sleep\n",
    "\n",
    "pd.set_option('display.float_format', lambda x: '%.3f' % x)\n",
    "\n",
    "sns.set()"
   ]
  },
  {
   "cell_type": "markdown",
   "metadata": {},
   "source": [
    "#### Cargamos el dataset  que tiene el siguiente formato\n",
    "#### idSorteo,fecha,tipo,ganador,nuevo,n1,n2,n3,n4,n5,sb\n",
    "#### 1975,21/03/2020,Re,NO,SI,09,22,25,31,40,15\n",
    "#### 1975,21/03/2020,Tr,NO,SI,04,09,20,35,43,05"
   ]
  },
  {
   "cell_type": "code",
   "execution_count": 2,
   "metadata": {},
   "outputs": [],
   "source": [
    "path_dataset = 'expdata2.csv'\n",
    "df = pd.read_csv(path_dataset, parse_dates=['fecha'])"
   ]
  },
  {
   "cell_type": "code",
   "execution_count": 3,
   "metadata": {},
   "outputs": [
    {
     "name": "stdout",
     "output_type": "stream",
     "text": [
      "<class 'pandas.core.frame.DataFrame'>\n",
      "RangeIndex: 722 entries, 0 to 721\n",
      "Data columns (total 11 columns):\n",
      "idSorteo    722 non-null int64\n",
      "fecha       722 non-null datetime64[ns]\n",
      "tipo        722 non-null object\n",
      "ganador     722 non-null object\n",
      "nuevo       722 non-null object\n",
      "n1          722 non-null int64\n",
      "n2          722 non-null int64\n",
      "n3          722 non-null int64\n",
      "n4          722 non-null int64\n",
      "n5          722 non-null int64\n",
      "sb          722 non-null int64\n",
      "dtypes: datetime64[ns](1), int64(7), object(3)\n",
      "memory usage: 62.2+ KB\n"
     ]
    }
   ],
   "source": [
    "df.info()"
   ]
  },
  {
   "cell_type": "code",
   "execution_count": 4,
   "metadata": {},
   "outputs": [
    {
     "data": {
      "text/plain": [
       "Series([], dtype: int64)"
      ]
     },
     "execution_count": 4,
     "metadata": {},
     "output_type": "execute_result"
    }
   ],
   "source": [
    "conteo_agrupados = df.groupby(['n1', 'n2','n3', 'n4','n5', 'sb']).size()\n",
    "conteo_agrupados[conteo_agrupados > 1].sort_values(ascending=False).head(10)"
   ]
  },
  {
   "cell_type": "markdown",
   "metadata": {},
   "source": [
    "#### Definimos el contenido del diccionario que se encarga de interpretar los intervalos de los numeros"
   ]
  },
  {
   "cell_type": "code",
   "execution_count": 5,
   "metadata": {},
   "outputs": [],
   "source": [
    "deltas = {\n",
    "     0 : \"=\",  1 : \"A\",  2 : \"B\",  3 : \"C\",  4 : \"D\",  5 : \"E\",  6 : \"F\",  7 : \"G\",  8 : \"H\",  9 : \"I\", 10 : \"J\", 11 : \"K\", 12 : \"L\", 13 : \"M\", 14 : \"N\", 15 : \"Ñ\", 16 : \"O\", 17 : \"P\", 18 : \"Q\", \n",
    "    19 : \"R\", 20 : \"S\", 21 : \"T\", 22 : \"U\", 23 : \"V\", 24 : \"W\", 25 : \"X\", 26 : \"Y\", 27 : \"Z\", 28 : \"@\", 29 : \"a\", 30 : \"b\", 31 : \"c\", 32 : \"d\", 33 : \"e\", 34 : \"f\", 35 : \"g\", 36 : \"h\", 37 : \"i\", \n",
    "    38 : \"j\", 39 : \"k\", 40 : \"l\", 41 : \"m\", 42 : \"n\", 43 : \"ñ\", 44 : \"o\", 45 : \"p\", 46 : \"q\", 47 : \"r\", 48 : \"s\", 49 : \"t\", 50 : \"u\", 51 : \"v\", 52 : \"w\", 53 : \"x\", 54 : \"y\", 55 : \"z\" \n",
    "}"
   ]
  },
  {
   "cell_type": "markdown",
   "metadata": {},
   "source": [
    "#### Creamos nuevo diccionario de pesos por los diferentes analisis"
   ]
  },
  {
   "cell_type": "code",
   "execution_count": 6,
   "metadata": {},
   "outputs": [],
   "source": [
    "pesos = {\n",
    "    0 : \"0.0\", 1 : \"0.1\", 2 : \"0.2\", 3: \"0.3\", 4 : \"0.4\", 5 : \"0.5\", 6 : \"0.6\", 7 : \"0.7\", 8 : \"0.8\", 9 : \"0.9\"     \n",
    "}"
   ]
  },
  {
   "cell_type": "markdown",
   "metadata": {},
   "source": [
    "#### Aquí se asignó el valor correspondiente en el diccionario a la diferencia entre los numeros de cada sorteo"
   ]
  },
  {
   "cell_type": "code",
   "execution_count": 7,
   "metadata": {},
   "outputs": [],
   "source": [
    "def delta_translator(numero1, numero2, suma):\n",
    "    if (suma > 0):\n",
    "        return deltas[(suma - numero1) + numero2]\n",
    "    else:\n",
    "        return deltas[numero2 - numero1]"
   ]
  },
  {
   "cell_type": "code",
   "execution_count": 8,
   "metadata": {},
   "outputs": [
    {
     "data": {
      "text/plain": [
       "'E'"
      ]
     },
     "execution_count": 8,
     "metadata": {},
     "output_type": "execute_result"
    }
   ],
   "source": [
    "delta_translator(4,9,0)"
   ]
  },
  {
   "cell_type": "markdown",
   "metadata": {},
   "source": [
    "#### Se encarga de construir una lista con las diferencias numericas para la diferencia entre el ultimo y el primer numero se usa la resta contra el mayor numero permitido al 1 de mayo de 2020 =>> 43"
   ]
  },
  {
   "cell_type": "code",
   "execution_count": 9,
   "metadata": {},
   "outputs": [],
   "source": [
    "def word_maker(ent1, ent2, ent3, ent4, ent5):\n",
    "    valDefec = 0\n",
    "    maxValBal = 43\n",
    "    listik = []\n",
    "    listik.append(delta_translator(ent1, ent2, valDefec))\n",
    "    listik.append(delta_translator(ent2, ent3, valDefec))\n",
    "    listik.append(delta_translator(ent3, ent4, valDefec))\n",
    "    listik.append(delta_translator(ent4, ent5, valDefec))\n",
    "    listik.append(delta_translator(ent5, ent1, maxValBal))\n",
    "    palabra = \"\".join(listik)\n",
    "    return palabra"
   ]
  },
  {
   "cell_type": "code",
   "execution_count": 10,
   "metadata": {},
   "outputs": [],
   "source": [
    "#print(word_maker(1, 8,17,41,43))"
   ]
  },
  {
   "cell_type": "code",
   "execution_count": 11,
   "metadata": {},
   "outputs": [],
   "source": [
    "#df.describe()"
   ]
  },
  {
   "cell_type": "markdown",
   "metadata": {},
   "source": [
    "#### Este es el dataframe sin filtrar"
   ]
  },
  {
   "cell_type": "code",
   "execution_count": 12,
   "metadata": {},
   "outputs": [
    {
     "data": {
      "text/html": [
       "<div>\n",
       "<style scoped>\n",
       "    .dataframe tbody tr th:only-of-type {\n",
       "        vertical-align: middle;\n",
       "    }\n",
       "\n",
       "    .dataframe tbody tr th {\n",
       "        vertical-align: top;\n",
       "    }\n",
       "\n",
       "    .dataframe thead th {\n",
       "        text-align: right;\n",
       "    }\n",
       "</style>\n",
       "<table border=\"1\" class=\"dataframe\">\n",
       "  <thead>\n",
       "    <tr style=\"text-align: right;\">\n",
       "      <th></th>\n",
       "      <th>idSorteo</th>\n",
       "      <th>fecha</th>\n",
       "      <th>tipo</th>\n",
       "      <th>ganador</th>\n",
       "      <th>nuevo</th>\n",
       "      <th>n1</th>\n",
       "      <th>n2</th>\n",
       "      <th>n3</th>\n",
       "      <th>n4</th>\n",
       "      <th>n5</th>\n",
       "      <th>sb</th>\n",
       "    </tr>\n",
       "  </thead>\n",
       "  <tbody>\n",
       "    <tr>\n",
       "      <td>0</td>\n",
       "      <td>2031</td>\n",
       "      <td>2020-07-11</td>\n",
       "      <td>Re</td>\n",
       "      <td>NO</td>\n",
       "      <td>SI</td>\n",
       "      <td>3</td>\n",
       "      <td>8</td>\n",
       "      <td>9</td>\n",
       "      <td>23</td>\n",
       "      <td>35</td>\n",
       "      <td>8</td>\n",
       "    </tr>\n",
       "    <tr>\n",
       "      <td>1</td>\n",
       "      <td>2031</td>\n",
       "      <td>2020-07-11</td>\n",
       "      <td>Tr</td>\n",
       "      <td>NO</td>\n",
       "      <td>SI</td>\n",
       "      <td>22</td>\n",
       "      <td>30</td>\n",
       "      <td>32</td>\n",
       "      <td>40</td>\n",
       "      <td>42</td>\n",
       "      <td>12</td>\n",
       "    </tr>\n",
       "    <tr>\n",
       "      <td>2</td>\n",
       "      <td>2030</td>\n",
       "      <td>2020-04-11</td>\n",
       "      <td>Re</td>\n",
       "      <td>NO</td>\n",
       "      <td>SI</td>\n",
       "      <td>4</td>\n",
       "      <td>12</td>\n",
       "      <td>13</td>\n",
       "      <td>24</td>\n",
       "      <td>32</td>\n",
       "      <td>6</td>\n",
       "    </tr>\n",
       "    <tr>\n",
       "      <td>3</td>\n",
       "      <td>2030</td>\n",
       "      <td>2020-04-11</td>\n",
       "      <td>Tr</td>\n",
       "      <td>NO</td>\n",
       "      <td>SI</td>\n",
       "      <td>22</td>\n",
       "      <td>26</td>\n",
       "      <td>29</td>\n",
       "      <td>30</td>\n",
       "      <td>39</td>\n",
       "      <td>7</td>\n",
       "    </tr>\n",
       "    <tr>\n",
       "      <td>4</td>\n",
       "      <td>2029</td>\n",
       "      <td>2020-10-31</td>\n",
       "      <td>Re</td>\n",
       "      <td>NO</td>\n",
       "      <td>SI</td>\n",
       "      <td>9</td>\n",
       "      <td>17</td>\n",
       "      <td>21</td>\n",
       "      <td>34</td>\n",
       "      <td>40</td>\n",
       "      <td>4</td>\n",
       "    </tr>\n",
       "    <tr>\n",
       "      <td>5</td>\n",
       "      <td>2029</td>\n",
       "      <td>2020-10-31</td>\n",
       "      <td>Tr</td>\n",
       "      <td>NO</td>\n",
       "      <td>SI</td>\n",
       "      <td>1</td>\n",
       "      <td>2</td>\n",
       "      <td>5</td>\n",
       "      <td>16</td>\n",
       "      <td>23</td>\n",
       "      <td>11</td>\n",
       "    </tr>\n",
       "    <tr>\n",
       "      <td>6</td>\n",
       "      <td>2028</td>\n",
       "      <td>2020-10-28</td>\n",
       "      <td>Re</td>\n",
       "      <td>NO</td>\n",
       "      <td>SI</td>\n",
       "      <td>2</td>\n",
       "      <td>5</td>\n",
       "      <td>7</td>\n",
       "      <td>12</td>\n",
       "      <td>22</td>\n",
       "      <td>8</td>\n",
       "    </tr>\n",
       "    <tr>\n",
       "      <td>7</td>\n",
       "      <td>2028</td>\n",
       "      <td>2020-10-28</td>\n",
       "      <td>Tr</td>\n",
       "      <td>NO</td>\n",
       "      <td>SI</td>\n",
       "      <td>9</td>\n",
       "      <td>19</td>\n",
       "      <td>20</td>\n",
       "      <td>36</td>\n",
       "      <td>37</td>\n",
       "      <td>12</td>\n",
       "    </tr>\n",
       "    <tr>\n",
       "      <td>8</td>\n",
       "      <td>2027</td>\n",
       "      <td>2020-10-24</td>\n",
       "      <td>Re</td>\n",
       "      <td>NO</td>\n",
       "      <td>SI</td>\n",
       "      <td>6</td>\n",
       "      <td>10</td>\n",
       "      <td>18</td>\n",
       "      <td>27</td>\n",
       "      <td>35</td>\n",
       "      <td>10</td>\n",
       "    </tr>\n",
       "    <tr>\n",
       "      <td>9</td>\n",
       "      <td>2027</td>\n",
       "      <td>2020-10-24</td>\n",
       "      <td>Tr</td>\n",
       "      <td>NO</td>\n",
       "      <td>SI</td>\n",
       "      <td>19</td>\n",
       "      <td>20</td>\n",
       "      <td>28</td>\n",
       "      <td>40</td>\n",
       "      <td>42</td>\n",
       "      <td>13</td>\n",
       "    </tr>\n",
       "  </tbody>\n",
       "</table>\n",
       "</div>"
      ],
      "text/plain": [
       "   idSorteo      fecha tipo ganador nuevo  n1  n2  n3  n4  n5  sb\n",
       "0      2031 2020-07-11   Re      NO    SI   3   8   9  23  35   8\n",
       "1      2031 2020-07-11   Tr      NO    SI  22  30  32  40  42  12\n",
       "2      2030 2020-04-11   Re      NO    SI   4  12  13  24  32   6\n",
       "3      2030 2020-04-11   Tr      NO    SI  22  26  29  30  39   7\n",
       "4      2029 2020-10-31   Re      NO    SI   9  17  21  34  40   4\n",
       "5      2029 2020-10-31   Tr      NO    SI   1   2   5  16  23  11\n",
       "6      2028 2020-10-28   Re      NO    SI   2   5   7  12  22   8\n",
       "7      2028 2020-10-28   Tr      NO    SI   9  19  20  36  37  12\n",
       "8      2027 2020-10-24   Re      NO    SI   6  10  18  27  35  10\n",
       "9      2027 2020-10-24   Tr      NO    SI  19  20  28  40  42  13"
      ]
     },
     "execution_count": 12,
     "metadata": {},
     "output_type": "execute_result"
    }
   ],
   "source": [
    "df.head(10)"
   ]
  },
  {
   "cell_type": "markdown",
   "metadata": {},
   "source": [
    "#### Aqui se crean los dataframes filtrados"
   ]
  },
  {
   "cell_type": "code",
   "execution_count": 13,
   "metadata": {},
   "outputs": [],
   "source": [
    "propiedades = [\"Tr\"]\n",
    "df_tr = df[df.tipo.isin(propiedades)]\n",
    "propiedades = [\"Re\"]\n",
    "df_re = df[df.tipo.isin(propiedades)]\n",
    "#print(df_tr)"
   ]
  },
  {
   "cell_type": "markdown",
   "metadata": {},
   "source": [
    "#### Aqui se partirian los dataframe en segmentos de entrenamiento y de testeo, a mayor frecuencia mayor peso se puede validar en conjunto para apuntarle a un sorteo con mayor cantidad de veces de ocurrencia"
   ]
  },
  {
   "cell_type": "code",
   "execution_count": null,
   "metadata": {},
   "outputs": [],
   "source": []
  },
  {
   "cell_type": "markdown",
   "metadata": {},
   "source": [
    "#### En este punto se filtran los sorteos para que solo sean sorteos de los nuevos puesto que la superbalota esta entre 1 y 16"
   ]
  },
  {
   "cell_type": "code",
   "execution_count": 14,
   "metadata": {},
   "outputs": [],
   "source": [
    "sbs = [\"1\", \"2\", \"3\", \"4\", \"5\", \"6\", \"7\", \"8\", \"9\", \"10\", \"11\", \"12\", \"13\", \"14\", \"15\", \"16\"]\n",
    "df_sb_tr = df_tr[df_tr.sb.isin(sbs)]\n",
    "df_sb_re = df_re[df_re.sb.isin(sbs)]\n",
    "#print(df_sb_tr)"
   ]
  },
  {
   "cell_type": "markdown",
   "metadata": {},
   "source": [
    "#### En este punto hago analisis frecuentista de la superbalota (NM Se debe hacer analisis frecuentista de los numeros de manera individual)"
   ]
  },
  {
   "cell_type": "code",
   "execution_count": 15,
   "metadata": {},
   "outputs": [
    {
     "name": "stdout",
     "output_type": "stream",
     "text": [
      "{11: 37, 7: 32, 2: 28, 13: 26, 3: 26, 16: 23, 10: 21, 5: 21, 14: 19, 12: 19, 9: 19, 8: 19, 6: 19, 4: 19, 1: 19, 15: 14}\n"
     ]
    }
   ],
   "source": [
    "dict_sb_tr = dict(df_tr.sb.value_counts())\n",
    "print(dict_sb_tr)"
   ]
  },
  {
   "cell_type": "code",
   "execution_count": 16,
   "metadata": {},
   "outputs": [
    {
     "data": {
      "image/png": "[encoded data removed]",
      "text/plain": [
       "<Figure size 432x288 with 1 Axes>"
      ]
     },
     "metadata": {},
     "output_type": "display_data"
    }
   ],
   "source": [
    "sns.set(style=\"darkgrid\")\n",
    "ax = sns.countplot(x=\"sb\", data=df_sb_tr)"
   ]
  },
  {
   "cell_type": "code",
   "execution_count": 17,
   "metadata": {},
   "outputs": [
    {
     "name": "stdout",
     "output_type": "stream",
     "text": [
      "{12: 31, 10: 27, 3: 27, 15: 25, 13: 25, 1: 25, 9: 24, 4: 24, 14: 23, 7: 23, 8: 21, 6: 21, 11: 20, 5: 16, 16: 15, 2: 14}\n"
     ]
    }
   ],
   "source": [
    "dict_sb_re = dict(df_re.sb.value_counts())\n",
    "print(dict_sb_re)"
   ]
  },
  {
   "cell_type": "code",
   "execution_count": 18,
   "metadata": {},
   "outputs": [
    {
     "data": {
      "image/png": "[encoded data removed]",
      "text/plain": [
       "<Figure size 432x288 with 1 Axes>"
      ]
     },
     "metadata": {},
     "output_type": "display_data"
    }
   ],
   "source": [
    "sns.set(style=\"darkgrid\")\n",
    "ax = sns.countplot(x=\"sb\", data=df_sb_re)"
   ]
  },
  {
   "cell_type": "code",
   "execution_count": 19,
   "metadata": {},
   "outputs": [
    {
     "name": "stdout",
     "output_type": "stream",
     "text": [
      "{11: 57, 7: 55, 3: 53, 13: 51, 12: 50, 10: 48, 1: 44, 9: 43, 4: 43, 14: 42, 2: 42, 8: 40, 6: 40, 15: 39, 16: 38, 5: 37}\n"
     ]
    }
   ],
   "source": [
    "dict_sb = dict(df.sb.value_counts())\n",
    "print(dict_sb)"
   ]
  },
  {
   "cell_type": "code",
   "execution_count": 20,
   "metadata": {},
   "outputs": [
    {
     "data": {
      "image/png": "[encoded data removed]",
      "text/plain": [
       "<Figure size 432x288 with 1 Axes>"
      ]
     },
     "metadata": {},
     "output_type": "display_data"
    }
   ],
   "source": [
    "sns.set(style=\"darkgrid\")\n",
    "ax = sns.countplot(x=\"sb\", data=df)"
   ]
  },
  {
   "cell_type": "code",
   "execution_count": 21,
   "metadata": {},
   "outputs": [
    {
     "data": {
      "image/png": "[encoded data removed]",
      "text/plain": [
       "<Figure size 432x288 with 1 Axes>"
      ]
     },
     "metadata": {},
     "output_type": "display_data"
    }
   ],
   "source": [
    "sns.set(style=\"darkgrid\")\n",
    "x= df.sb\n",
    "ax = sns.distplot(x, bins=16)"
   ]
  },
  {
   "cell_type": "code",
   "execution_count": 22,
   "metadata": {},
   "outputs": [
    {
     "name": "stderr",
     "output_type": "stream",
     "text": [
      "C:\\Users\\Ricardo\\.conda\\envs\\dsbasic\\lib\\site-packages\\ipykernel_launcher.py:9: SettingWithCopyWarning: \n",
      "A value is trying to be set on a copy of a slice from a DataFrame.\n",
      "Try using .loc[row_indexer,col_indexer] = value instead\n",
      "\n",
      "See the caveats in the documentation: http://pandas.pydata.org/pandas-docs/stable/user_guide/indexing.html#returning-a-view-versus-a-copy\n",
      "  if __name__ == '__main__':\n",
      "C:\\Users\\Ricardo\\.conda\\envs\\dsbasic\\lib\\site-packages\\ipykernel_launcher.py:11: SettingWithCopyWarning: \n",
      "A value is trying to be set on a copy of a slice from a DataFrame.\n",
      "Try using .loc[row_indexer,col_indexer] = value instead\n",
      "\n",
      "See the caveats in the documentation: http://pandas.pydata.org/pandas-docs/stable/user_guide/indexing.html#returning-a-view-versus-a-copy\n",
      "  # This is added back by InteractiveShellApp.init_path()\n"
     ]
    }
   ],
   "source": [
    "#df.head()\n",
    "categorical_cols = ['tipo','ganador']\n",
    "unuseful_cols = ['fecha', 'nuevo']\n",
    "le = LabelEncoder()\n",
    "\n",
    "for item in categorical_cols[:]:\n",
    "    if item == 'tipo' or item == 'ganador':\n",
    "        nombre_col = str(item) + str('Tr')\n",
    "        df_tr[nombre_col]= le.fit_transform(df_tr[item])\n",
    "        nombre_col = str(item) + str('Re')\n",
    "        df_re[nombre_col]= le.fit_transform(df_re[item])\n",
    "#print(df_tr)\n",
    "#print(df_re)\n",
    "\n",
    "\n",
    "#df_tr = df_object.loc[:, (df.isin({\"Tr\"})).all(axis=0)]"
   ]
  },
  {
   "cell_type": "code",
   "execution_count": 23,
   "metadata": {},
   "outputs": [
    {
     "name": "stdout",
     "output_type": "stream",
     "text": [
      "     idSorteo      fecha tipo ganador nuevo  n1  n2  n3  n4  n5  sb  tipoTr  \\\n",
      "1        2031 2020-07-11   Tr      NO    SI  22  30  32  40  42  12       0   \n",
      "3        2030 2020-04-11   Tr      NO    SI  22  26  29  30  39   7       0   \n",
      "5        2029 2020-10-31   Tr      NO    SI   1   2   5  16  23  11       0   \n",
      "7        2028 2020-10-28   Tr      NO    SI   9  19  20  36  37  12       0   \n",
      "9        2027 2020-10-24   Tr      NO    SI  19  20  28  40  42  13       0   \n",
      "..        ...        ...  ...     ...   ...  ..  ..  ..  ..  ..  ..     ...   \n",
      "712      1675 2017-06-05   Tr      NO    SI   1  20  36  39  43  10       0   \n",
      "714      1674 2017-03-05   Tr      NO    SI   5   6   7  12  37   6       0   \n",
      "716      1673 2017-04-29   Tr      NO    SI   6  19  25  28  36   1       0   \n",
      "718      1672 2017-04-26   Tr      NO    SI   1   2  25  31  33  14       0   \n",
      "720      1671 2017-04-22   Tr      NO    SI  15  28  36  37  41  10       0   \n",
      "\n",
      "     ganadorTr  \n",
      "1            0  \n",
      "3            0  \n",
      "5            0  \n",
      "7            0  \n",
      "9            0  \n",
      "..         ...  \n",
      "712          0  \n",
      "714          0  \n",
      "716          0  \n",
      "718          0  \n",
      "720          0  \n",
      "\n",
      "[361 rows x 13 columns]\n",
      "     idSorteo tipo ganador  n1  n2  n3  n4  n5  sb  tipoTr  ganadorTr\n",
      "1        2031   Tr      NO  22  30  32  40  42  12       0          0\n",
      "3        2030   Tr      NO  22  26  29  30  39   7       0          0\n",
      "5        2029   Tr      NO   1   2   5  16  23  11       0          0\n",
      "7        2028   Tr      NO   9  19  20  36  37  12       0          0\n",
      "9        2027   Tr      NO  19  20  28  40  42  13       0          0\n",
      "..        ...  ...     ...  ..  ..  ..  ..  ..  ..     ...        ...\n",
      "712      1675   Tr      NO   1  20  36  39  43  10       0          0\n",
      "714      1674   Tr      NO   5   6   7  12  37   6       0          0\n",
      "716      1673   Tr      NO   6  19  25  28  36   1       0          0\n",
      "718      1672   Tr      NO   1   2  25  31  33  14       0          0\n",
      "720      1671   Tr      NO  15  28  36  37  41  10       0          0\n",
      "\n",
      "[361 rows x 11 columns]\n",
      "     idSorteo  n1  n2  n3  n4  n5  sb\n",
      "1        2031  22  30  32  40  42  12\n",
      "3        2030  22  26  29  30  39   7\n",
      "5        2029   1   2   5  16  23  11\n",
      "7        2028   9  19  20  36  37  12\n",
      "9        2027  19  20  28  40  42  13\n",
      "..        ...  ..  ..  ..  ..  ..  ..\n",
      "712      1675   1  20  36  39  43  10\n",
      "714      1674   5   6   7  12  37   6\n",
      "716      1673   6  19  25  28  36   1\n",
      "718      1672   1   2  25  31  33  14\n",
      "720      1671  15  28  36  37  41  10\n",
      "\n",
      "[361 rows x 7 columns]\n",
      "     idSorteo  n1  n2  n3  n4  n5  sb\n",
      "0        2031   3   8   9  23  35   8\n",
      "2        2030   4  12  13  24  32   6\n",
      "4        2029   9  17  21  34  40   4\n",
      "6        2028   2   5   7  12  22   8\n",
      "8        2027   6  10  18  27  35  10\n",
      "..        ...  ..  ..  ..  ..  ..  ..\n",
      "713      1675   3   5   8  20  24  14\n",
      "715      1674   5  12  15  20  42  14\n",
      "717      1673   8  21  22  37  38   4\n",
      "719      1672   9  12  16  28  38   1\n",
      "721      1671   3   9  10  21  40  10\n",
      "\n",
      "[361 rows x 7 columns]\n"
     ]
    }
   ],
   "source": [
    "df_tr_fusion = []\n",
    "df_re_fusion = []\n",
    "print(df_tr)\n",
    "df_tr_fusion = df_tr.drop(unuseful_cols, axis=1)\n",
    "df_re_fusion = df_re.drop(unuseful_cols, axis=1)\n",
    "print(df_tr_fusion)\n",
    "df_tr_fu_filt = df_tr_fusion.iloc[:, [0,3,4,5,6,7,8]]\n",
    "df_re_fu_filt = df_re_fusion.iloc[:, [0,3,4,5,6,7,8]]\n",
    "Y_tr = df_tr_fusion.iloc[:, 10]\n",
    "Y_re = df_re_fusion.iloc[:, 10]\n",
    "filas = int(df_sb_tr.shape[0])\n",
    "print(df_tr_fu_filt)\n",
    "print(df_re_fu_filt)"
   ]
  },
  {
   "cell_type": "code",
   "execution_count": 24,
   "metadata": {},
   "outputs": [],
   "source": [
    "def addcolumn(df):\n",
    "    delta=[]\n",
    "    for index, row in df.iterrows():\n",
    "        delta.append(word_maker(row.n1, row.n2, row.n3, row.n4, row.n5))\n",
    "    df['delta'] = delta\n",
    "    return df"
   ]
  },
  {
   "cell_type": "code",
   "execution_count": 25,
   "metadata": {},
   "outputs": [
    {
     "name": "stdout",
     "output_type": "stream",
     "text": [
      "     idSorteo  n1  n2  n3  n4  n5  sb\n",
      "1        2031  22  30  32  40  42  12\n",
      "3        2030  22  26  29  30  39   7\n",
      "5        2029   1   2   5  16  23  11\n",
      "7        2028   9  19  20  36  37  12\n",
      "9        2027  19  20  28  40  42  13\n",
      "..        ...  ..  ..  ..  ..  ..  ..\n",
      "712      1675   1  20  36  39  43  10\n",
      "714      1674   5   6   7  12  37   6\n",
      "716      1673   6  19  25  28  36   1\n",
      "718      1672   1   2  25  31  33  14\n",
      "720      1671  15  28  36  37  41  10\n",
      "\n",
      "[361 rows x 7 columns]\n",
      "range(0, 361)\n"
     ]
    }
   ],
   "source": [
    "sorteos = df_tr_fu_filt.shape\n",
    "print (df_tr_fu_filt)\n",
    "print(range(sorteos[0]))"
   ]
  },
  {
   "cell_type": "code",
   "execution_count": 26,
   "metadata": {},
   "outputs": [
    {
     "name": "stdout",
     "output_type": "stream",
     "text": [
      "     idSorteo  n1  n2  n3  n4  n5  sb\n",
      "5        2029   1   2   5  16  23  11\n",
      "17       2023   1   2  15  36  39   4\n",
      "262      1900   1   2   3  10  31   1\n",
      "282      1890   1   2  22  29  42  16\n",
      "572      1745   1   2   4   5  13  10\n",
      "574      1744   1   2  33  34  41  10\n",
      "640      1711   1   2  20  31  43   8\n",
      "718      1672   1   2  25  31  33  14\n",
      "range(0, 8)\n"
     ]
    }
   ],
   "source": [
    "df_tr_fu_filt_1 = df_tr_fu_filt[(df_tr_fu_filt['n1']==1) & (df_tr_fu_filt['n2']==2)]\n",
    "df_tr_fu_filt_2 = df_tr_fu_filt_1[df_tr_fu_filt_1['n2']==3]\n",
    "#df_tr_fu_filt_1 = df_tr_fu_filt.filter(='10', axis=0)\n",
    "sorteos2 = df_tr_fu_filt_1.shape\n",
    "print (df_tr_fu_filt_1)\n",
    "\n",
    "print(range(sorteos2[0]))"
   ]
  },
  {
   "cell_type": "markdown",
   "metadata": {},
   "source": [
    "#### Se definen los archivos a los que se exportaran los dataframes que incluyen los deltas Calculados  "
   ]
  },
  {
   "cell_type": "code",
   "execution_count": 27,
   "metadata": {},
   "outputs": [
    {
     "name": "stdout",
     "output_type": "stream",
     "text": [
      "     idSorteo  n1  n2  n3  n4  n5  sb  delta\n",
      "1        2031  22  30  32  40  42  12  HBHBV\n",
      "3        2030  22  26  29  30  39   7  DCAIY\n",
      "5        2029   1   2   5  16  23  11  ACKGT\n",
      "7        2028   9  19  20  36  37  12  JAOAÑ\n",
      "9        2027  19  20  28  40  42  13  AHLBS\n",
      "..        ...  ..  ..  ..  ..  ..  ..    ...\n",
      "712      1675   1  20  36  39  43  10  ROCDA\n",
      "714      1674   5   6   7  12  37   6  AAEXK\n",
      "716      1673   6  19  25  28  36   1  MFCHM\n",
      "718      1672   1   2  25  31  33  14  AVFBK\n",
      "720      1671  15  28  36  37  41  10  MHADP\n",
      "\n",
      "[361 rows x 8 columns]\n"
     ]
    },
    {
     "name": "stderr",
     "output_type": "stream",
     "text": [
      "C:\\Users\\Ricardo\\.conda\\envs\\dsbasic\\lib\\site-packages\\ipykernel_launcher.py:5: SettingWithCopyWarning: \n",
      "A value is trying to be set on a copy of a slice from a DataFrame.\n",
      "Try using .loc[row_indexer,col_indexer] = value instead\n",
      "\n",
      "See the caveats in the documentation: http://pandas.pydata.org/pandas-docs/stable/user_guide/indexing.html#returning-a-view-versus-a-copy\n",
      "  \"\"\"\n"
     ]
    }
   ],
   "source": [
    "df_tr_fu_filt = addcolumn(df_tr_fu_filt)\n",
    "df_tr_fu_filt.to_csv(r'df_tr_fu_filt_delta.csv', header=['idSorteo','n1','n2','n3','n4', 'n5','sb','delta'], index=None, sep=',', mode='w')\n",
    "print(df_tr_fu_filt)"
   ]
  },
  {
   "cell_type": "code",
   "execution_count": 28,
   "metadata": {},
   "outputs": [
    {
     "name": "stdout",
     "output_type": "stream",
     "text": [
      "     idSorteo  n1  n2  n3  n4  n5  sb  delta\n",
      "0        2031   3   8   9  23  35   8  EANLK\n",
      "2        2030   4  12  13  24  32   6  HAKHÑ\n",
      "4        2029   9  17  21  34  40   4  HDMFL\n",
      "6        2028   2   5   7  12  22   8  CBEJV\n",
      "8        2027   6  10  18  27  35  10  DHIHN\n",
      "..        ...  ..  ..  ..  ..  ..  ..    ...\n",
      "713      1675   3   5   8  20  24  14  BCLDU\n",
      "715      1674   5  12  15  20  42  14  GCEUF\n",
      "717      1673   8  21  22  37  38   4  MAÑAM\n",
      "719      1672   9  12  16  28  38   1  CDLJN\n",
      "721      1671   3   9  10  21  40  10  FAKRF\n",
      "\n",
      "[361 rows x 8 columns]\n"
     ]
    },
    {
     "name": "stderr",
     "output_type": "stream",
     "text": [
      "C:\\Users\\Ricardo\\.conda\\envs\\dsbasic\\lib\\site-packages\\ipykernel_launcher.py:5: SettingWithCopyWarning: \n",
      "A value is trying to be set on a copy of a slice from a DataFrame.\n",
      "Try using .loc[row_indexer,col_indexer] = value instead\n",
      "\n",
      "See the caveats in the documentation: http://pandas.pydata.org/pandas-docs/stable/user_guide/indexing.html#returning-a-view-versus-a-copy\n",
      "  \"\"\"\n"
     ]
    }
   ],
   "source": [
    "df_re_fu_filt = addcolumn(df_re_fu_filt)\n",
    "df_re_fu_filt.to_csv(r'df_re_fu_filt_delta.csv', header=['idSorteo','n1','n2','n3','n4', 'n5','sb','delta'], index=None, sep=',', mode='w')\n",
    "print(df_re_fu_filt)"
   ]
  },
  {
   "cell_type": "code",
   "execution_count": 29,
   "metadata": {},
   "outputs": [],
   "source": [
    "#sorteo = df_tr_fu_filt[df_tr_fu_filt.idSorteo == '198']\n",
    "#print(sorteo)\n",
    "#df_tr_fu_filt.loc['n1'].tolist()\n",
    "#idSorteo = '1975'\n",
    "#values = df_tr_fu_filt.loc[idSorteo].tolist()\n",
    "#print(values)\n"
   ]
  },
  {
   "cell_type": "markdown",
   "metadata": {},
   "source": [
    "#### Se hacen los conteos de  los deltas y sus ocurrencias (NM Con este listado se debe validar expresiones similares para determinar comportamiento y posibles semejanzas entre ellos Ej MCACV similar a MCBCV, debe validarse que porcion de una expresion esta en la otras, a futuro deberia validarse la correlacion entre sorteo TR y sorteo RE )"
   ]
  },
  {
   "cell_type": "code",
   "execution_count": 30,
   "metadata": {},
   "outputs": [
    {
     "data": {
      "text/plain": [
       "MCACV    2\n",
       "CDBOQ    1\n",
       "EEEBY    1\n",
       "OCCLI    1\n",
       "FCCIU    1\n",
       "        ..\n",
       "ÑGCHJ    1\n",
       "GKFBP    1\n",
       "IIADS    1\n",
       "AZCIC    1\n",
       "DCAIY    1\n",
       "Name: delta, Length: 360, dtype: int64"
      ]
     },
     "execution_count": 30,
     "metadata": {},
     "output_type": "execute_result"
    }
   ],
   "source": [
    "df_tr_fu_filt.delta.value_counts()"
   ]
  },
  {
   "cell_type": "code",
   "execution_count": 31,
   "metadata": {},
   "outputs": [
    {
     "data": {
      "text/plain": [
       "MKDAN    2\n",
       "GAMFO    1\n",
       "HAKHÑ    1\n",
       "ERFAL    1\n",
       "NDGCÑ    1\n",
       "        ..\n",
       "GMBAS    1\n",
       "GARBN    1\n",
       "CANML    1\n",
       "MCFIL    1\n",
       "CCÑFO    1\n",
       "Name: delta, Length: 360, dtype: int64"
      ]
     },
     "execution_count": 31,
     "metadata": {},
     "output_type": "execute_result"
    }
   ],
   "source": [
    "df_re_fu_filt.delta.value_counts()"
   ]
  },
  {
   "cell_type": "code",
   "execution_count": 32,
   "metadata": {},
   "outputs": [],
   "source": [
    "#def transforma_unos(df_tr_fu_filt)\n",
    "#    for i in range(0, df_tr_fu_filt.shape[1])\n",
    "        \n"
   ]
  },
  {
   "cell_type": "markdown",
   "metadata": {},
   "source": [
    "#### Los numeros de las columnas n1-n5 seran fusionadas, seran transformados a una sola dimension, para poder determinar la frecuencia con la que acontecen, en primera instancia seran separados por tipo de sorteo, y en el nuevo dataset tendremos el numero del sorteo y el numero"
   ]
  },
  {
   "cell_type": "code",
   "execution_count": 33,
   "metadata": {},
   "outputs": [],
   "source": [
    "#print(Y_tr)\n",
    "#print(Y_re)\n",
    "main_columns = ['n1','n2','n3', 'n4', 'n5', 'sb','tipo', 'ganador']"
   ]
  },
  {
   "cell_type": "markdown",
   "metadata": {},
   "source": [
    "#### Este contenido se usa para segmentar el dataframe en los siguientes contextos single, duplas, ternas cuartetos y quintetos con y sin superbalota"
   ]
  },
  {
   "cell_type": "code",
   "execution_count": 34,
   "metadata": {},
   "outputs": [],
   "source": [
    "def cortasingles(df, col0, col1):\n",
    "    df_filt = df.iloc[0::1,[col0, col1]]\n",
    "    df_filt = df_filt.rename(columns = {'n1':'num','n2':'num','n3':'num','n4':'num','n5':'num'})\n",
    "    return df_filt"
   ]
  },
  {
   "cell_type": "code",
   "execution_count": 35,
   "metadata": {},
   "outputs": [],
   "source": [
    "def cortasinglessb(df, col0, col1, sb):\n",
    "    df_filt = df.iloc[0::1,[col0, col1, sb]]\n",
    "    df_filt = df_filt.rename(columns = {'n1':'num','n2':'num','n3':'num','n4':'num','n5':'num'})\n",
    "    return df_filt"
   ]
  },
  {
   "cell_type": "code",
   "execution_count": 36,
   "metadata": {},
   "outputs": [],
   "source": [
    "def cortatrios(df, col0, col1, col2, col3):\n",
    "    df_filt = df.iloc[0::1,[col0, col1, col2, col3]]\n",
    "    df_filt = df_filt.rename(columns = {'n1':'num','n2':'num','n3':'num','n4':'num','n5':'num'})\n",
    "    return df_filt"
   ]
  },
  {
   "cell_type": "code",
   "execution_count": 37,
   "metadata": {},
   "outputs": [],
   "source": [
    "def cortatriossb(df, col0, col1, col2, col3, sb):\n",
    "    df_filt = df.iloc[0::1,[col0, col1, col2, col3, sb]]\n",
    "    df_filt = df_filt.rename(columns = {'n1':'num','n2':'num','n3':'num','n4':'num','n5':'num'})\n",
    "    return df_filt"
   ]
  },
  {
   "cell_type": "code",
   "execution_count": 38,
   "metadata": {},
   "outputs": [],
   "source": [
    "def cortacuartetos(df, col0, col1, col2, col3, col4):\n",
    "    df_filt = df.iloc[0::1,[col0, col1, col2, col3, col4]]\n",
    "    df_filt = df_filt.rename(columns = {'n1':'num','n2':'num','n3':'num','n4':'num','n5':'num'})\n",
    "    return df_filt"
   ]
  },
  {
   "cell_type": "code",
   "execution_count": 39,
   "metadata": {},
   "outputs": [],
   "source": [
    "def cortacuartetossb(df, col0, col1, col2, col3, col4, sb):\n",
    "    df_filt = df.iloc[0::1,[col0, col1, col2, col3, col4, sb]]\n",
    "    df_filt = df_filt.rename(columns = {'n1':'num','n2':'num','n3':'num','n4':'num','n5':'num'})\n",
    "    return df_filt"
   ]
  },
  {
   "cell_type": "code",
   "execution_count": 40,
   "metadata": {},
   "outputs": [],
   "source": [
    "def cortaquintetos(df, col0, col1, col2, col3, col4, col5):\n",
    "    df_filt = df.iloc[0::1,[col0, col1, col2, col3, col4, col5]]\n",
    "    df_filt = df_filt.rename(columns = {'n1':'num','n2':'num','n3':'num','n4':'num','n5':'num'})\n",
    "    return df_filt"
   ]
  },
  {
   "cell_type": "code",
   "execution_count": 41,
   "metadata": {},
   "outputs": [],
   "source": [
    "def cortaquintetossb(df, col0, col1, col2, col3, col4, col5, sb):\n",
    "    df_filt = df.iloc[0::1,[col0, col1, col2, col3, col4, col5, sb]]\n",
    "    df_filt = df_filt.rename(columns = {'n1':'num','n2':'num','n3':'num','n4':'num','n5':'num'})\n",
    "    return df_filt"
   ]
  },
  {
   "cell_type": "markdown",
   "metadata": {},
   "source": [
    "#### El siguiente contenido se usa para fusionar los dataframes desde los diferentes enfoques, singles, duplas, trios, etc"
   ]
  },
  {
   "cell_type": "code",
   "execution_count": 42,
   "metadata": {},
   "outputs": [],
   "source": [
    "def concatenador_singles(df, sb):\n",
    "    colid = 0\n",
    "    df_1d_fu_tr = cortasinglessb(df,colid,1, sb) if sb > 0 else cortasingles(df,colid,1)\n",
    "    inicial = 0\n",
    "    for i in range(1,6):\n",
    "        df_temp_fusion = cortasinglessb(df, colid, i, sb) if sb > 0 else cortasingles(df, colid, i)\n",
    "        if (inicial == 0):\n",
    "            df_1d_fu_tr = df_temp_fusion\n",
    "            inicial += 1\n",
    "        else :\n",
    "            df_1d_fu_tr = pd.concat([df_1d_fu_tr, df_temp_fusion], ignore_index=True)\n",
    "    df_1d_fu_tr.columns = ['idSorteo', 'num1', 'sb'] if sb > 0 else ['idSorteo', 'num1']\n",
    "    return df_1d_fu_tr"
   ]
  },
  {
   "cell_type": "code",
   "execution_count": 43,
   "metadata": {},
   "outputs": [],
   "source": [
    "def concatenador_duplas(df,sb):\n",
    "    colid = 0\n",
    "    inicial = 0\n",
    "    for i in range(1,6):\n",
    "        for ii in range(i+1, 6):\n",
    "            df_temp_fusion = cortaduplassb(df, colid, i, ii, sb) if sb > 0 else cortaduplas(df, colid, i, ii)\n",
    "            if (inicial == 0):\n",
    "                df_2d_fu_tr = df_temp_fusion\n",
    "                inicial += 1\n",
    "            else :\n",
    "                df_2d_fu_tr = pd.concat([df_2d_fu_tr, df_temp_fusion], ignore_index=True)\n",
    "    df_2d_fu_tr.columns = ['idSorteo', 'num1', 'num2', 'sb'] if sb > 0 else ['idSorteo', 'num1', 'num2']\n",
    "    return df_2d_fu_tr"
   ]
  },
  {
   "cell_type": "code",
   "execution_count": 44,
   "metadata": {},
   "outputs": [],
   "source": [
    "def concatenador_trios(df,sb):\n",
    "    colid = 0\n",
    "    df_3d_fu_tr = cortatriossb(df, colid, 1, 2, 3, sb) if sb > 0 else cortatrios(df, colid, 1, 2, 3)\n",
    "    inicial = 0\n",
    "    for i in range(1,6):\n",
    "        for ii in range(i + 1, 6):\n",
    "            for iii in range(ii + 1, 6):\n",
    "                df_temp_fusion = cortatriossb(df, colid, i, ii, iii, sb) if sb > 0 else cortatrios(df, colid, i, ii, iii)\n",
    "                if (inicial == 0):\n",
    "                    df_3d_fu_tr = df_temp_fusion\n",
    "                    inicial += 1\n",
    "                else :\n",
    "                    df_3d_fu_tr = pd.concat([df_3d_fu_tr, df_temp_fusion], ignore_index=True)\n",
    "    df_3d_fu_tr.columns = ['idSorteo', 'num1', 'num2', 'num3', 'sb'] if sb > 0 else ['idSorteo', 'num1', 'num2', 'num3']\n",
    "    return df_3d_fu_tr"
   ]
  },
  {
   "cell_type": "code",
   "execution_count": 45,
   "metadata": {},
   "outputs": [],
   "source": [
    "def concatenador_cuartetos(df, sb):\n",
    "    colid = 0\n",
    "    inicial = 0\n",
    "    for i in range(1,6):\n",
    "        for ii in range(i + 1, 6):\n",
    "            for iii in range(ii + 1, 6 ):\n",
    "                for iiii in range(iii + 1, 6 ):\n",
    "                    df_temp_fusion = cortacuartetossb(df, colid, i, ii, iii, iiii, sb) if sb > 0 else cortacuartetos(df, colid, i, ii, iii, iiii)\n",
    "                    if (inicial == 0):\n",
    "                        df_4d_fu_tr = df_temp_fusion\n",
    "                        inicial += 1\n",
    "                    else :\n",
    "                        df_4d_fu_tr = pd.concat([df_4d_fu_tr, df_temp_fusion], ignore_index=True)\n",
    "    df_4d_fu_tr.columns = ['idSorteo', 'num1', 'num2', 'num3', 'num4', 'sb'] if sb > 0 else ['idSorteo', 'num1', 'num2', 'num3', 'num4']\n",
    "    return df_4d_fu_tr"
   ]
  },
  {
   "cell_type": "code",
   "execution_count": 46,
   "metadata": {},
   "outputs": [],
   "source": [
    "def concatenador_quintetos(df, sb):\n",
    "    colid = 0\n",
    "    df_5d_fu_tr = cortaquintetossb(df, colid, 1, 2, 3, 4, 5, sb) if sb > 0 else  cortaquintetos(df, colid, 1, 2, 3, 4, 5)\n",
    "    df_5d_fu_tr.columns = ['idSorteo', 'num1', 'num2', 'num3', 'num4', 'num5', 'sb'] if sb > 0 else ['idSorteo', 'num1', 'num2', 'num3', 'num4', 'num5']\n",
    "    return df_5d_fu_tr"
   ]
  },
  {
   "cell_type": "code",
   "execution_count": 47,
   "metadata": {},
   "outputs": [],
   "source": [
    "def tuple_maker(ent1, ent2, ent3, ent4, ent5, cant):\n",
    "    listik = []\n",
    "    if (cant >= 1):\n",
    "        listik.append(str(ent1))\n",
    "    if (cant >= 2):       \n",
    "        listik.append(\"|\" + str(ent2))\n",
    "    if (cant >= 3):\n",
    "        listik.append(\"|\" + str(ent3))\n",
    "    if (cant >= 4):\n",
    "        listik.append(\"|\" + str(ent4))\n",
    "    if (cant >= 5):\n",
    "        listik.append(\"|\" + str(ent5))\n",
    "    palabra = \"\".join(listik)\n",
    "    return palabra"
   ]
  },
  {
   "cell_type": "markdown",
   "metadata": {},
   "source": [
    "#### Con la siguiente funcion adicionamos una nueva columna 'la de las tuplas'"
   ]
  },
  {
   "cell_type": "code",
   "execution_count": 48,
   "metadata": {},
   "outputs": [],
   "source": [
    "def addcolumntuplas(df, cant):\n",
    "    tupla=[]\n",
    "    val_defecto = 0\n",
    "    df.to_frame()\n",
    "    df2 = df.rename(None).to_frame().T\n",
    "    for index, row in df2.iteritems():\n",
    "        if (cant == 1): \n",
    "            tupla.append(tuple_maker(index, val_defecto, val_defecto, val_defecto, val_defecto, cant)) \n",
    "        if (cant == 2):\n",
    "            tupla.append(tuple_maker(index[0], index[1], val_defecto, val_defecto, val_defecto, cant))\n",
    "        if (cant == 3): \n",
    "            tupla.append(tuple_maker(index[0], index[1], index[2], val_defecto, val_defecto, cant))  \n",
    "        if (cant == 4): \n",
    "            tupla.append(tuple_maker(index[0], index[1], index[2], index[3], val_defecto, cant))  \n",
    "        if (cant == 5): \n",
    "            tupla.append(tuple_maker(index[0], index[1], index[2], index[3], index[4], cant))  \n",
    "    dft = df2.T\n",
    "    dft['tupla'] = tupla\n",
    "    dft = dft.reset_index(drop=True)\n",
    "    return dft"
   ]
  },
  {
   "cell_type": "code",
   "execution_count": 49,
   "metadata": {},
   "outputs": [],
   "source": [
    "def cortaduplas(df, col0, col1, col2):\n",
    "    df_filt = df.iloc[0::1,[col0, col1, col2]]\n",
    "    df_filt = df_filt.rename(columns = {'n1':'num','n2':'num','n3':'num','n4':'num','n5':'num'})\n",
    "    return df_filt"
   ]
  },
  {
   "cell_type": "code",
   "execution_count": 50,
   "metadata": {},
   "outputs": [],
   "source": [
    "def cortaduplassb(df, col0, col1, col2, sb):\n",
    "    df_filt = df.iloc[0::1,[col0, col1, col2, sb]]\n",
    "    df_filt = df_filt.rename(columns = {'n1':'num','n2':'num','n3':'num','n4':'num','n5':'num'})\n",
    "    return df_filt"
   ]
  },
  {
   "cell_type": "markdown",
   "metadata": {},
   "source": [
    "#### Se definen los metodos para agrupar el contenido del dataframe en grupos de acuerdo a cantidad de numeros involucrados"
   ]
  },
  {
   "cell_type": "code",
   "execution_count": 51,
   "metadata": {},
   "outputs": [],
   "source": [
    "def agrupa_duplas(df):\n",
    "    #print(\"dataframe en agrupa_duplas\", df)\n",
    "    conteo_nums = df.groupby(['num1', 'num2']).size()\n",
    "    print(\"conteo_nums\", conteo_nums)\n",
    "    tupla  = []\n",
    "    df = addcolumntuplas(conteo_nums, 2)\n",
    "    df.columns = ['conteo','tupla']\n",
    "    return df"
   ]
  },
  {
   "cell_type": "code",
   "execution_count": 52,
   "metadata": {},
   "outputs": [
    {
     "name": "stdout",
     "output_type": "stream",
     "text": [
      "conteo_nums num1  num2\n",
      "1     2       8\n",
      "      3       4\n",
      "      4       9\n",
      "      5       6\n",
      "      6       3\n",
      "             ..\n",
      "40    42      5\n",
      "      43      1\n",
      "41    42      3\n",
      "      43      3\n",
      "42    43      3\n",
      "Length: 892, dtype: int64\n"
     ]
    }
   ],
   "source": [
    "df_2d_fusion_tr = concatenador_duplas(df_tr_fu_filt, 0)\n",
    "#print(\"df_2d_fusion_tr \", df_2d_fusion_tr)\n",
    "#df_2d_fusion_tr.to_csv(r'df_2d_fusion_tr.csv', header=['idSorteo','num1', 'num2'], index=None, sep=',', mode='w')\n",
    "conteos_2d_tr = agrupa_duplas(df_2d_fusion_tr)\n",
    "conteos_2d_tr.to_csv(r'conteos_2d_tr.csv', header=['conteo','tupla'], index=None, sep=',', mode='w')"
   ]
  },
  {
   "cell_type": "code",
   "execution_count": 53,
   "metadata": {},
   "outputs": [],
   "source": [
    "def agrupa_singles(df):\n",
    "    conteo_nums = df.groupby(['num1']).size()\n",
    "    tupla  = []\n",
    "    df = addcolumntuplas(conteo_nums, 1)\n",
    "    df.columns = ['conteo','tupla']\n",
    "    return df"
   ]
  },
  {
   "cell_type": "code",
   "execution_count": 54,
   "metadata": {},
   "outputs": [],
   "source": [
    "def agrupa_trios(df):\n",
    "    conteo_nums = df.groupby(['num1', 'num2', 'num3']).size()\n",
    "    tupla  = []\n",
    "    df = addcolumntuplas(conteo_nums, 3)\n",
    "    df.columns = ['conteo','tupla']\n",
    "    return df"
   ]
  },
  {
   "cell_type": "code",
   "execution_count": 55,
   "metadata": {},
   "outputs": [],
   "source": [
    "def agrupa_cuartetos(df):\n",
    "    conteo_nums = df.groupby(['num1', 'num2', 'num3', 'num4']).size()\n",
    "    tupla  = []\n",
    "    df = addcolumntuplas(conteo_nums, 4)\n",
    "    df.columns = ['conteo','tupla']\n",
    "    return df"
   ]
  },
  {
   "cell_type": "code",
   "execution_count": 56,
   "metadata": {},
   "outputs": [],
   "source": [
    "def agrupa_quintetos(df):\n",
    "    conteo_nums = df.groupby(['num1', 'num2', 'num3', 'num4', 'num5']).size()\n",
    "    tupla  = []\n",
    "    df = addcolumntuplas(conteo_nums, 5)\n",
    "    df.columns = ['conteo','tupla']\n",
    "    return df"
   ]
  },
  {
   "cell_type": "markdown",
   "metadata": {},
   "source": [
    "#### Aquí se hace la separacion a un dataframe de solo 1 numero"
   ]
  },
  {
   "cell_type": "code",
   "execution_count": 57,
   "metadata": {},
   "outputs": [],
   "source": [
    "df_1d_fusion_tr = concatenador_singles(df_tr_fu_filt, 0)\n",
    "conteos_1d_tr = agrupa_singles(df_1d_fusion_tr)\n",
    "conteos_1d_tr.to_csv(r'conteos_1d_tr.csv', header=['conteo','tupla'], index=None, sep=',', mode='w') "
   ]
  },
  {
   "cell_type": "code",
   "execution_count": 58,
   "metadata": {},
   "outputs": [],
   "source": [
    "df_1d_fusion_re = concatenador_singles(df_re_fu_filt, 0)\n",
    "conteos_1d_re = agrupa_singles(df_1d_fusion_re)\n",
    "conteos_1d_re.to_csv(r'conteos_1d_re.csv', header=['conteo','tupla'], index=None, sep=',', mode='w')"
   ]
  },
  {
   "cell_type": "code",
   "execution_count": 59,
   "metadata": {},
   "outputs": [],
   "source": [
    "#sns.set(style=\"darkgrid\")\n",
    "#ax = sns.countplot(y=\"tupla\", data=conteos_2d_tr)"
   ]
  },
  {
   "cell_type": "code",
   "execution_count": 60,
   "metadata": {},
   "outputs": [
    {
     "name": "stdout",
     "output_type": "stream",
     "text": [
      "conteo_nums num1  num2\n",
      "1     2       4\n",
      "      3       3\n",
      "      4       4\n",
      "      5       9\n",
      "      6       2\n",
      "             ..\n",
      "40    42      4\n",
      "      43      4\n",
      "41    42      3\n",
      "      43      7\n",
      "42    43      3\n",
      "Length: 885, dtype: int64\n"
     ]
    }
   ],
   "source": [
    "df_2d_fusion_re = concatenador_duplas(df_re_fu_filt, 0)\n",
    "conteos_2d_re = agrupa_duplas(df_2d_fusion_re)\n",
    "conteos_2d_re.to_csv(r'conteos_2d_re.csv', header=['conteo','tupla'], index=None, sep=',', mode='w')"
   ]
  },
  {
   "cell_type": "code",
   "execution_count": 61,
   "metadata": {},
   "outputs": [],
   "source": [
    "#sns.set(style=\"darkgrid\")\n",
    "#ax = sns.countplot(y=\"tupla\", data=conteos_2d_re)"
   ]
  },
  {
   "cell_type": "code",
   "execution_count": 62,
   "metadata": {},
   "outputs": [],
   "source": [
    "df_3d_fusion_tr = concatenador_trios(df_tr_fu_filt, 0)\n",
    "conteos_3d_tr = agrupa_trios(df_3d_fusion_tr)\n",
    "conteos_3d_tr.to_csv(r'conteos_3d_tr.csv', header=['conteo','tupla'], index=None, sep=',', mode='w')"
   ]
  },
  {
   "cell_type": "code",
   "execution_count": 63,
   "metadata": {},
   "outputs": [],
   "source": [
    "df_3d_fusion_re = concatenador_trios(df_re_fu_filt, 0)\n",
    "conteos_3d_re = agrupa_trios(df_3d_fusion_re)\n",
    "conteos_3d_re.to_csv(r'conteos_3d_re.csv', header=['conteo','tupla'], index=None, sep=',', mode='w')"
   ]
  },
  {
   "cell_type": "code",
   "execution_count": 64,
   "metadata": {},
   "outputs": [],
   "source": [
    "df_4d_fusion_tr = concatenador_cuartetos(df_tr_fu_filt,0)\n",
    "conteos_4d_tr = agrupa_cuartetos(df_4d_fusion_tr)\n",
    "conteos_4d_tr.to_csv(r'conteos_4d_tr.csv', header=['conteo','tupla'], index=None, sep=',', mode='w')"
   ]
  },
  {
   "cell_type": "code",
   "execution_count": 65,
   "metadata": {},
   "outputs": [],
   "source": [
    "df_4d_fusion_re = concatenador_cuartetos(df_re_fu_filt,0)\n",
    "conteos_4d_re = agrupa_cuartetos(df_4d_fusion_re)\n",
    "conteos_4d_re.to_csv(r'conteos_4d_re.csv', header=['conteo','tupla'], index=None, sep=',', mode='w')"
   ]
  },
  {
   "cell_type": "code",
   "execution_count": 66,
   "metadata": {},
   "outputs": [],
   "source": [
    "df_5d_fusion_tr = concatenador_quintetos(df_tr_fu_filt, 0)\n",
    "conteos_5d_tr = agrupa_quintetos(df_5d_fusion_tr)\n",
    "conteos_5d_tr.to_csv(r'conteos_5d_tr.csv', header=['conteo','tupla'], index=None, sep=',', mode='w')"
   ]
  },
  {
   "cell_type": "code",
   "execution_count": 67,
   "metadata": {},
   "outputs": [],
   "source": [
    "df_5d_fusion_re = concatenador_quintetos(df_re_fu_filt, 0)\n",
    "conteos_5d_re = agrupa_quintetos(df_5d_fusion_re)\n",
    "conteos_5d_re.to_csv(r'conteos_5d_re.csv', header=['conteo','tupla'], index=None, sep=',', mode='w')"
   ]
  },
  {
   "cell_type": "code",
   "execution_count": 68,
   "metadata": {},
   "outputs": [],
   "source": [
    "df_final = df_3d_fusion_tr"
   ]
  },
  {
   "cell_type": "code",
   "execution_count": 69,
   "metadata": {},
   "outputs": [
    {
     "data": {
      "text/html": [
       "<div>\n",
       "<style scoped>\n",
       "    .dataframe tbody tr th:only-of-type {\n",
       "        vertical-align: middle;\n",
       "    }\n",
       "\n",
       "    .dataframe tbody tr th {\n",
       "        vertical-align: top;\n",
       "    }\n",
       "\n",
       "    .dataframe thead th {\n",
       "        text-align: right;\n",
       "    }\n",
       "</style>\n",
       "<table border=\"1\" class=\"dataframe\">\n",
       "  <thead>\n",
       "    <tr style=\"text-align: right;\">\n",
       "      <th></th>\n",
       "      <th>idSorteo</th>\n",
       "      <th>num1</th>\n",
       "      <th>num2</th>\n",
       "      <th>num3</th>\n",
       "    </tr>\n",
       "  </thead>\n",
       "  <tbody>\n",
       "    <tr>\n",
       "      <td>count</td>\n",
       "      <td>3610.000</td>\n",
       "      <td>3610.000</td>\n",
       "      <td>3610.000</td>\n",
       "      <td>3610.000</td>\n",
       "    </tr>\n",
       "    <tr>\n",
       "      <td>mean</td>\n",
       "      <td>1851.000</td>\n",
       "      <td>10.918</td>\n",
       "      <td>21.839</td>\n",
       "      <td>33.183</td>\n",
       "    </tr>\n",
       "    <tr>\n",
       "      <td>std</td>\n",
       "      <td>104.226</td>\n",
       "      <td>8.132</td>\n",
       "      <td>9.470</td>\n",
       "      <td>8.402</td>\n",
       "    </tr>\n",
       "    <tr>\n",
       "      <td>min</td>\n",
       "      <td>1671.000</td>\n",
       "      <td>1.000</td>\n",
       "      <td>2.000</td>\n",
       "      <td>3.000</td>\n",
       "    </tr>\n",
       "    <tr>\n",
       "      <td>25%</td>\n",
       "      <td>1761.000</td>\n",
       "      <td>4.000</td>\n",
       "      <td>14.000</td>\n",
       "      <td>28.000</td>\n",
       "    </tr>\n",
       "    <tr>\n",
       "      <td>50%</td>\n",
       "      <td>1851.000</td>\n",
       "      <td>9.000</td>\n",
       "      <td>22.000</td>\n",
       "      <td>35.000</td>\n",
       "    </tr>\n",
       "    <tr>\n",
       "      <td>75%</td>\n",
       "      <td>1941.000</td>\n",
       "      <td>16.000</td>\n",
       "      <td>29.000</td>\n",
       "      <td>40.000</td>\n",
       "    </tr>\n",
       "    <tr>\n",
       "      <td>max</td>\n",
       "      <td>2031.000</td>\n",
       "      <td>39.000</td>\n",
       "      <td>42.000</td>\n",
       "      <td>43.000</td>\n",
       "    </tr>\n",
       "  </tbody>\n",
       "</table>\n",
       "</div>"
      ],
      "text/plain": [
       "       idSorteo     num1     num2     num3\n",
       "count  3610.000 3610.000 3610.000 3610.000\n",
       "mean   1851.000   10.918   21.839   33.183\n",
       "std     104.226    8.132    9.470    8.402\n",
       "min    1671.000    1.000    2.000    3.000\n",
       "25%    1761.000    4.000   14.000   28.000\n",
       "50%    1851.000    9.000   22.000   35.000\n",
       "75%    1941.000   16.000   29.000   40.000\n",
       "max    2031.000   39.000   42.000   43.000"
      ]
     },
     "execution_count": 69,
     "metadata": {},
     "output_type": "execute_result"
    }
   ],
   "source": [
    "df_final.describe()"
   ]
  },
  {
   "cell_type": "code",
   "execution_count": 70,
   "metadata": {},
   "outputs": [],
   "source": [
    "#sns.set(style=\"darkgrid\")\n",
    "#ax = sns.countplot(y=\"num\", data=df_final)"
   ]
  },
  {
   "cell_type": "code",
   "execution_count": 71,
   "metadata": {},
   "outputs": [],
   "source": [
    "#sns.set(style=\"darkgrid\")\n",
    "#x= df_final.num\n",
    "#ax = sns.distplot(x, bins=43)"
   ]
  },
  {
   "cell_type": "code",
   "execution_count": 72,
   "metadata": {},
   "outputs": [
    {
     "ename": "TypeError",
     "evalue": "unsupported operand type(s) for /: 'str' and 'float'",
     "output_type": "error",
     "traceback": [
      "\u001b[1;31m---------------------------------------------------------------------------\u001b[0m",
      "\u001b[1;31mTypeError\u001b[0m                                 Traceback (most recent call last)",
      "\u001b[1;32m<ipython-input-72-e73a1251a4c0>\u001b[0m in \u001b[0;36m<module>\u001b[1;34m\u001b[0m\n\u001b[0;32m      1\u001b[0m \u001b[1;31m#df_topes = df_tr_fu_filt_delta.iloc[0::1,[0]]\u001b[0m\u001b[1;33m\u001b[0m\u001b[1;33m\u001b[0m\u001b[1;33m\u001b[0m\u001b[0m\n\u001b[1;32m----> 2\u001b[1;33m \u001b[0mg\u001b[0m \u001b[1;33m=\u001b[0m \u001b[0msns\u001b[0m\u001b[1;33m.\u001b[0m\u001b[0mjointplot\u001b[0m\u001b[1;33m(\u001b[0m\u001b[1;34m\"conteo\"\u001b[0m\u001b[1;33m,\u001b[0m \u001b[1;34m\"tupla\"\u001b[0m\u001b[1;33m,\u001b[0m  \u001b[0mdata\u001b[0m\u001b[1;33m=\u001b[0m\u001b[0mconteos_2d_re\u001b[0m\u001b[1;33m,\u001b[0m \u001b[0mkind\u001b[0m\u001b[1;33m=\u001b[0m\u001b[1;34m\"reg\"\u001b[0m\u001b[1;33m,\u001b[0m \u001b[0mxlim\u001b[0m\u001b[1;33m=\u001b[0m\u001b[1;33m(\u001b[0m\u001b[1;36m1\u001b[0m\u001b[1;33m,\u001b[0m \u001b[1;36m43\u001b[0m\u001b[1;33m)\u001b[0m\u001b[1;33m,\u001b[0m \u001b[0mylim\u001b[0m\u001b[1;33m=\u001b[0m\u001b[1;33m(\u001b[0m\u001b[1;36m1650\u001b[0m\u001b[1;33m,\u001b[0m \u001b[1;36m1940\u001b[0m\u001b[1;33m)\u001b[0m\u001b[1;33m,\u001b[0m \u001b[0mcolor\u001b[0m\u001b[1;33m=\u001b[0m\u001b[1;34m\"m\"\u001b[0m\u001b[1;33m,\u001b[0m \u001b[0mheight\u001b[0m\u001b[1;33m=\u001b[0m\u001b[1;36m15\u001b[0m\u001b[1;33m)\u001b[0m\u001b[1;33m\u001b[0m\u001b[1;33m\u001b[0m\u001b[0m\n\u001b[0m",
      "\u001b[1;32m~\\.conda\\envs\\dsbasic\\lib\\site-packages\\seaborn\\axisgrid.py\u001b[0m in \u001b[0;36mjointplot\u001b[1;34m(x, y, data, kind, stat_func, color, height, ratio, space, dropna, xlim, ylim, joint_kws, marginal_kws, annot_kws, **kwargs)\u001b[0m\n\u001b[0;32m   2323\u001b[0m \u001b[1;33m\u001b[0m\u001b[0m\n\u001b[0;32m   2324\u001b[0m         \u001b[0mmarginal_kws\u001b[0m\u001b[1;33m.\u001b[0m\u001b[0msetdefault\u001b[0m\u001b[1;33m(\u001b[0m\u001b[1;34m\"color\"\u001b[0m\u001b[1;33m,\u001b[0m \u001b[0mcolor\u001b[0m\u001b[1;33m)\u001b[0m\u001b[1;33m\u001b[0m\u001b[1;33m\u001b[0m\u001b[0m\n\u001b[1;32m-> 2325\u001b[1;33m         \u001b[0mgrid\u001b[0m\u001b[1;33m.\u001b[0m\u001b[0mplot_marginals\u001b[0m\u001b[1;33m(\u001b[0m\u001b[0mdistplot\u001b[0m\u001b[1;33m,\u001b[0m \u001b[1;33m**\u001b[0m\u001b[0mmarginal_kws\u001b[0m\u001b[1;33m)\u001b[0m\u001b[1;33m\u001b[0m\u001b[1;33m\u001b[0m\u001b[0m\n\u001b[0m\u001b[0;32m   2326\u001b[0m \u001b[1;33m\u001b[0m\u001b[0m\n\u001b[0;32m   2327\u001b[0m         \u001b[0mjoint_kws\u001b[0m\u001b[1;33m.\u001b[0m\u001b[0msetdefault\u001b[0m\u001b[1;33m(\u001b[0m\u001b[1;34m\"color\"\u001b[0m\u001b[1;33m,\u001b[0m \u001b[0mcolor\u001b[0m\u001b[1;33m)\u001b[0m\u001b[1;33m\u001b[0m\u001b[1;33m\u001b[0m\u001b[0m\n",
      "\u001b[1;32m~\\.conda\\envs\\dsbasic\\lib\\site-packages\\seaborn\\axisgrid.py\u001b[0m in \u001b[0;36mplot_marginals\u001b[1;34m(self, func, **kwargs)\u001b[0m\n\u001b[0;32m   1811\u001b[0m         \u001b[0mkwargs\u001b[0m\u001b[1;33m[\u001b[0m\u001b[1;34m\"vertical\"\u001b[0m\u001b[1;33m]\u001b[0m \u001b[1;33m=\u001b[0m \u001b[1;32mTrue\u001b[0m\u001b[1;33m\u001b[0m\u001b[1;33m\u001b[0m\u001b[0m\n\u001b[0;32m   1812\u001b[0m         \u001b[0mplt\u001b[0m\u001b[1;33m.\u001b[0m\u001b[0msca\u001b[0m\u001b[1;33m(\u001b[0m\u001b[0mself\u001b[0m\u001b[1;33m.\u001b[0m\u001b[0max_marg_y\u001b[0m\u001b[1;33m)\u001b[0m\u001b[1;33m\u001b[0m\u001b[1;33m\u001b[0m\u001b[0m\n\u001b[1;32m-> 1813\u001b[1;33m         \u001b[0mfunc\u001b[0m\u001b[1;33m(\u001b[0m\u001b[0mself\u001b[0m\u001b[1;33m.\u001b[0m\u001b[0my\u001b[0m\u001b[1;33m,\u001b[0m \u001b[1;33m**\u001b[0m\u001b[0mkwargs\u001b[0m\u001b[1;33m)\u001b[0m\u001b[1;33m\u001b[0m\u001b[1;33m\u001b[0m\u001b[0m\n\u001b[0m\u001b[0;32m   1814\u001b[0m \u001b[1;33m\u001b[0m\u001b[0m\n\u001b[0;32m   1815\u001b[0m         \u001b[1;32mreturn\u001b[0m \u001b[0mself\u001b[0m\u001b[1;33m\u001b[0m\u001b[1;33m\u001b[0m\u001b[0m\n",
      "\u001b[1;32m~\\.conda\\envs\\dsbasic\\lib\\site-packages\\seaborn\\distributions.py\u001b[0m in \u001b[0;36mdistplot\u001b[1;34m(a, bins, hist, kde, rug, fit, hist_kws, kde_kws, rug_kws, fit_kws, color, vertical, norm_hist, axlabel, label, ax)\u001b[0m\n\u001b[0;32m    213\u001b[0m     \u001b[1;32mif\u001b[0m \u001b[0mhist\u001b[0m\u001b[1;33m:\u001b[0m\u001b[1;33m\u001b[0m\u001b[1;33m\u001b[0m\u001b[0m\n\u001b[0;32m    214\u001b[0m         \u001b[1;32mif\u001b[0m \u001b[0mbins\u001b[0m \u001b[1;32mis\u001b[0m \u001b[1;32mNone\u001b[0m\u001b[1;33m:\u001b[0m\u001b[1;33m\u001b[0m\u001b[1;33m\u001b[0m\u001b[0m\n\u001b[1;32m--> 215\u001b[1;33m             \u001b[0mbins\u001b[0m \u001b[1;33m=\u001b[0m \u001b[0mmin\u001b[0m\u001b[1;33m(\u001b[0m\u001b[0m_freedman_diaconis_bins\u001b[0m\u001b[1;33m(\u001b[0m\u001b[0ma\u001b[0m\u001b[1;33m)\u001b[0m\u001b[1;33m,\u001b[0m \u001b[1;36m50\u001b[0m\u001b[1;33m)\u001b[0m\u001b[1;33m\u001b[0m\u001b[1;33m\u001b[0m\u001b[0m\n\u001b[0m\u001b[0;32m    216\u001b[0m         \u001b[0mhist_kws\u001b[0m\u001b[1;33m.\u001b[0m\u001b[0msetdefault\u001b[0m\u001b[1;33m(\u001b[0m\u001b[1;34m\"alpha\"\u001b[0m\u001b[1;33m,\u001b[0m \u001b[1;36m0.4\u001b[0m\u001b[1;33m)\u001b[0m\u001b[1;33m\u001b[0m\u001b[1;33m\u001b[0m\u001b[0m\n\u001b[0;32m    217\u001b[0m         \u001b[1;32mif\u001b[0m \u001b[0mLooseVersion\u001b[0m\u001b[1;33m(\u001b[0m\u001b[0mmpl\u001b[0m\u001b[1;33m.\u001b[0m\u001b[0m__version__\u001b[0m\u001b[1;33m)\u001b[0m \u001b[1;33m<\u001b[0m \u001b[0mLooseVersion\u001b[0m\u001b[1;33m(\u001b[0m\u001b[1;34m\"2.2\"\u001b[0m\u001b[1;33m)\u001b[0m\u001b[1;33m:\u001b[0m\u001b[1;33m\u001b[0m\u001b[1;33m\u001b[0m\u001b[0m\n",
      "\u001b[1;32m~\\.conda\\envs\\dsbasic\\lib\\site-packages\\seaborn\\distributions.py\u001b[0m in \u001b[0;36m_freedman_diaconis_bins\u001b[1;34m(a)\u001b[0m\n\u001b[0;32m     32\u001b[0m     \u001b[1;32mif\u001b[0m \u001b[0mlen\u001b[0m\u001b[1;33m(\u001b[0m\u001b[0ma\u001b[0m\u001b[1;33m)\u001b[0m \u001b[1;33m<\u001b[0m \u001b[1;36m2\u001b[0m\u001b[1;33m:\u001b[0m\u001b[1;33m\u001b[0m\u001b[1;33m\u001b[0m\u001b[0m\n\u001b[0;32m     33\u001b[0m         \u001b[1;32mreturn\u001b[0m \u001b[1;36m1\u001b[0m\u001b[1;33m\u001b[0m\u001b[1;33m\u001b[0m\u001b[0m\n\u001b[1;32m---> 34\u001b[1;33m     \u001b[0mh\u001b[0m \u001b[1;33m=\u001b[0m \u001b[1;36m2\u001b[0m \u001b[1;33m*\u001b[0m \u001b[0miqr\u001b[0m\u001b[1;33m(\u001b[0m\u001b[0ma\u001b[0m\u001b[1;33m)\u001b[0m \u001b[1;33m/\u001b[0m \u001b[1;33m(\u001b[0m\u001b[0mlen\u001b[0m\u001b[1;33m(\u001b[0m\u001b[0ma\u001b[0m\u001b[1;33m)\u001b[0m \u001b[1;33m**\u001b[0m \u001b[1;33m(\u001b[0m\u001b[1;36m1\u001b[0m \u001b[1;33m/\u001b[0m \u001b[1;36m3\u001b[0m\u001b[1;33m)\u001b[0m\u001b[1;33m)\u001b[0m\u001b[1;33m\u001b[0m\u001b[1;33m\u001b[0m\u001b[0m\n\u001b[0m\u001b[0;32m     35\u001b[0m     \u001b[1;31m# fall back to sqrt(a) bins if iqr is 0\u001b[0m\u001b[1;33m\u001b[0m\u001b[1;33m\u001b[0m\u001b[1;33m\u001b[0m\u001b[0m\n\u001b[0;32m     36\u001b[0m     \u001b[1;32mif\u001b[0m \u001b[0mh\u001b[0m \u001b[1;33m==\u001b[0m \u001b[1;36m0\u001b[0m\u001b[1;33m:\u001b[0m\u001b[1;33m\u001b[0m\u001b[1;33m\u001b[0m\u001b[0m\n",
      "\u001b[1;32m~\\.conda\\envs\\dsbasic\\lib\\site-packages\\seaborn\\utils.py\u001b[0m in \u001b[0;36miqr\u001b[1;34m(a)\u001b[0m\n\u001b[0;32m    364\u001b[0m     \u001b[1;34m\"\"\"Calculate the IQR for an array of numbers.\"\"\"\u001b[0m\u001b[1;33m\u001b[0m\u001b[1;33m\u001b[0m\u001b[0m\n\u001b[0;32m    365\u001b[0m     \u001b[0ma\u001b[0m \u001b[1;33m=\u001b[0m \u001b[0mnp\u001b[0m\u001b[1;33m.\u001b[0m\u001b[0masarray\u001b[0m\u001b[1;33m(\u001b[0m\u001b[0ma\u001b[0m\u001b[1;33m)\u001b[0m\u001b[1;33m\u001b[0m\u001b[1;33m\u001b[0m\u001b[0m\n\u001b[1;32m--> 366\u001b[1;33m     \u001b[0mq1\u001b[0m \u001b[1;33m=\u001b[0m \u001b[0mstats\u001b[0m\u001b[1;33m.\u001b[0m\u001b[0mscoreatpercentile\u001b[0m\u001b[1;33m(\u001b[0m\u001b[0ma\u001b[0m\u001b[1;33m,\u001b[0m \u001b[1;36m25\u001b[0m\u001b[1;33m)\u001b[0m\u001b[1;33m\u001b[0m\u001b[1;33m\u001b[0m\u001b[0m\n\u001b[0m\u001b[0;32m    367\u001b[0m     \u001b[0mq3\u001b[0m \u001b[1;33m=\u001b[0m \u001b[0mstats\u001b[0m\u001b[1;33m.\u001b[0m\u001b[0mscoreatpercentile\u001b[0m\u001b[1;33m(\u001b[0m\u001b[0ma\u001b[0m\u001b[1;33m,\u001b[0m \u001b[1;36m75\u001b[0m\u001b[1;33m)\u001b[0m\u001b[1;33m\u001b[0m\u001b[1;33m\u001b[0m\u001b[0m\n\u001b[0;32m    368\u001b[0m     \u001b[1;32mreturn\u001b[0m \u001b[0mq3\u001b[0m \u001b[1;33m-\u001b[0m \u001b[0mq1\u001b[0m\u001b[1;33m\u001b[0m\u001b[1;33m\u001b[0m\u001b[0m\n",
      "\u001b[1;32m~\\.conda\\envs\\dsbasic\\lib\\site-packages\\scipy\\stats\\stats.py\u001b[0m in \u001b[0;36mscoreatpercentile\u001b[1;34m(a, per, limit, interpolation_method, axis)\u001b[0m\n\u001b[0;32m   1729\u001b[0m         \u001b[0maxis\u001b[0m \u001b[1;33m=\u001b[0m \u001b[1;36m0\u001b[0m\u001b[1;33m\u001b[0m\u001b[1;33m\u001b[0m\u001b[0m\n\u001b[0;32m   1730\u001b[0m \u001b[1;33m\u001b[0m\u001b[0m\n\u001b[1;32m-> 1731\u001b[1;33m     \u001b[1;32mreturn\u001b[0m \u001b[0m_compute_qth_percentile\u001b[0m\u001b[1;33m(\u001b[0m\u001b[0msorted_\u001b[0m\u001b[1;33m,\u001b[0m \u001b[0mper\u001b[0m\u001b[1;33m,\u001b[0m \u001b[0minterpolation_method\u001b[0m\u001b[1;33m,\u001b[0m \u001b[0maxis\u001b[0m\u001b[1;33m)\u001b[0m\u001b[1;33m\u001b[0m\u001b[1;33m\u001b[0m\u001b[0m\n\u001b[0m\u001b[0;32m   1732\u001b[0m \u001b[1;33m\u001b[0m\u001b[0m\n\u001b[0;32m   1733\u001b[0m \u001b[1;33m\u001b[0m\u001b[0m\n",
      "\u001b[1;32m~\\.conda\\envs\\dsbasic\\lib\\site-packages\\scipy\\stats\\stats.py\u001b[0m in \u001b[0;36m_compute_qth_percentile\u001b[1;34m(sorted_, per, interpolation_method, axis)\u001b[0m\n\u001b[0;32m   1773\u001b[0m \u001b[1;33m\u001b[0m\u001b[0m\n\u001b[0;32m   1774\u001b[0m     \u001b[1;31m# Use np.add.reduce (== np.sum but a little faster) to coerce data type\u001b[0m\u001b[1;33m\u001b[0m\u001b[1;33m\u001b[0m\u001b[1;33m\u001b[0m\u001b[0m\n\u001b[1;32m-> 1775\u001b[1;33m     \u001b[1;32mreturn\u001b[0m \u001b[0mnp\u001b[0m\u001b[1;33m.\u001b[0m\u001b[0madd\u001b[0m\u001b[1;33m.\u001b[0m\u001b[0mreduce\u001b[0m\u001b[1;33m(\u001b[0m\u001b[0msorted_\u001b[0m\u001b[1;33m[\u001b[0m\u001b[0mtuple\u001b[0m\u001b[1;33m(\u001b[0m\u001b[0mindexer\u001b[0m\u001b[1;33m)\u001b[0m\u001b[1;33m]\u001b[0m \u001b[1;33m*\u001b[0m \u001b[0mweights\u001b[0m\u001b[1;33m,\u001b[0m \u001b[0maxis\u001b[0m\u001b[1;33m=\u001b[0m\u001b[0maxis\u001b[0m\u001b[1;33m)\u001b[0m \u001b[1;33m/\u001b[0m \u001b[0msumval\u001b[0m\u001b[1;33m\u001b[0m\u001b[1;33m\u001b[0m\u001b[0m\n\u001b[0m\u001b[0;32m   1776\u001b[0m \u001b[1;33m\u001b[0m\u001b[0m\n\u001b[0;32m   1777\u001b[0m \u001b[1;33m\u001b[0m\u001b[0m\n",
      "\u001b[1;31mTypeError\u001b[0m: unsupported operand type(s) for /: 'str' and 'float'"
     ]
    },
    {
     "data": {
      "image/png": "[encoded data removed]",
      "text/plain": [
       "<Figure size 1080x1080 with 3 Axes>"
      ]
     },
     "metadata": {},
     "output_type": "display_data"
    }
   ],
   "source": [
    "#df_topes = df_tr_fu_filt_delta.iloc[0::1,[0]]\n",
    "g = sns.jointplot(\"conteo\", \"tupla\",  data=conteos_2d_re, kind=\"reg\", xlim=(1, 43), ylim=(1650, 1940), color=\"m\", height=15)"
   ]
  },
  {
   "cell_type": "code",
   "execution_count": null,
   "metadata": {},
   "outputs": [],
   "source": [
    "sns.pairplot(df_final, hue=\"num\")"
   ]
  },
  {
   "cell_type": "code",
   "execution_count": null,
   "metadata": {},
   "outputs": [],
   "source": [
    "grid = sns.FacetGrid(df_final, col=\"num\", hue=\"num\", palette=\"tab20c\", col_wrap=4, height=4)\n",
    "grid.map(plt.axhline, y=0, ls=\":\", c=\".5\")\n",
    "grid.map(plt.plot, \"num\", \"idSorteo\", marker=\"o\")\n",
    "grid.set(xticks=np.arange(5), yticks=[-3, 3], xlim=(-.5, 4.5), ylim=(-3.5, 3.5))\n",
    "grid.fig.tight_layout(w_pad=1)"
   ]
  },
  {
   "cell_type": "code",
   "execution_count": null,
   "metadata": {},
   "outputs": [],
   "source": [
    "a4_dims = (11.7, 8.27)\n",
    "df = mylib.load_data()\n",
    "fig, ax = pyplot.subplots(figsize=a4_dims)\n",
    "seaborn.violinplot(ax=ax, data=df, **violin_options)\n",
    "\n",
    "ax = sns.barplot(x=\"num\", y=\"num\", data=df_final, estimator=lambda x: len(x) / len(df) * 100)\n",
    "ax.set(ylabel=\"Percent\")"
   ]
  },
  {
   "cell_type": "code",
   "execution_count": null,
   "metadata": {},
   "outputs": [],
   "source": [
    "df_conteos = df_final.num.value_counts()\n",
    "df_conteos.info()"
   ]
  },
  {
   "cell_type": "code",
   "execution_count": null,
   "metadata": {},
   "outputs": [],
   "source": [
    "sns.set(style=\"darkgrid\")\n",
    "x= df_conteos.num\n",
    "ax = sns.distplot(x, bins=43)"
   ]
  },
  {
   "cell_type": "code",
   "execution_count": null,
   "metadata": {},
   "outputs": [],
   "source": []
  },
  {
   "cell_type": "code",
   "execution_count": null,
   "metadata": {},
   "outputs": [],
   "source": []
  }
 ],
 "metadata": {
  "kernelspec": {
   "display_name": "Python 3",
   "language": "python",
   "name": "python3"
  },
  "language_info": {
   "codemirror_mode": {
    "name": "ipython",
    "version": 3
   },
   "file_extension": ".py",
   "mimetype": "text/x-python",
   "name": "python",
   "nbconvert_exporter": "python",
   "pygments_lexer": "ipython3",
   "version": "3.7.4"
  }
 },
 "nbformat": 4,
 "nbformat_minor": 4
}
