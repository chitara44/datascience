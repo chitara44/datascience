{
 "cells": [
  {
   "cell_type": "code",
   "execution_count": 4,
   "source": [
    "import pandas as pd\r\n",
    "import numpy as np\r\n",
    "import seaborn as sns\r\n",
    "import matplotlib.pyplot as plt\r\n",
    "import os\r\n",
    "from sklearn import metrics\r\n",
    "from sklearn.pipeline import Pipeline\r\n",
    "from sklearn.preprocessing import StandardScaler, LabelEncoder, OneHotEncoder, KBinsDiscretizer\r\n",
    "from sklearn.model_selection import train_test_split\r\n",
    "from sklearn.tree import DecisionTreeRegressor\r\n",
    "from sklearn.model_selection import cross_val_score\r\n",
    "from sklearn.metrics import mean_squared_error\r\n",
    "from sklearn.neighbors import KNeighborsClassifier, KNeighborsRegressor\r\n",
    "from sklearn.preprocessing import StandardScaler\r\n",
    "from time import sleep\r\n",
    "\r\n",
    "pd.set_option('display.float_format', lambda x: '%.3f' % x)\r\n",
    "\r\n",
    "sns.set()"
   ],
   "outputs": [],
   "metadata": {}
  },
  {
   "cell_type": "code",
   "execution_count": 5,
   "source": [
    "def construir_linea(sorteo, fecha, tiposorteo, winner, nuevo,n1,n2,n3,n4,n5, sb):\r\n",
    "    salida = str(sorteo) + \",\" + str(fecha) + \",\" + str(tiposorteo) + \",\" + str(winner) + \",\" + str(nuevo) + \",\" + str(n1) + \",\" + str(n2) + \",\" + str(n3) + \",\" + str(n4) + \",\" + str(n5) + \",\" + str(sb)\r\n",
    "    return salida"
   ],
   "outputs": [],
   "metadata": {}
  },
  {
   "cell_type": "code",
   "execution_count": 6,
   "source": [
    "sorteo = int(input(\"Dígame el numero del sorteo: \"))\r\n",
    "if(sorteo > 0 ):\r\n",
    "    fecha = input(f\"ingresa la fecha del sorteo en formato dd/MM/aaaa: {sorteo}: \")\r\n",
    "    winner = input(f\"ingresa en mayuscula SI o NO, si el sorteo {sorteo} entrego premio mayor o no: \")\r\n",
    "    nuevo = input(f\"ingresa en mayuscula SI o NO, si el sorteo {sorteo} es nuevo formato o no: \")\r\n",
    "    "
   ],
   "outputs": [],
   "metadata": {}
  },
  {
   "cell_type": "code",
   "execution_count": 7,
   "source": [
    "if(sorteo > 0 ):\r\n",
    "    tiposorteo = input(f\"ingresa el tipo de sorteo del sorteo {sorteo}: \")\r\n",
    "    n1 = input(f\"ingresa el primer numero del sorteo {sorteo}, si en menor a 10 antecede el 0: \")\r\n",
    "    n2 = input(f\"ingresa el segundo numero del sorteo {sorteo}, si en menor a 10 antecede el 0: \")\r\n",
    "    n3 = input(f\"ingresa el tercer numero del sorteo {sorteo}, si en menor a 10 antecede el 0: \")\r\n",
    "    n4 = input(f\"ingresa el cuarto numero del sorteo {sorteo}, si en menor a 10 antecede el 0: \")    \r\n",
    "    n5 = input(f\"ingresa el quinto numero del sorteo {sorteo}, si en menor a 10 antecede el 0: \")\r\n",
    "    sb = input(f\"ingresa la superbalota del sorteo {sorteo}, si en menor a 10 antecede el 0: \")\r\n",
    "    agregar_a_file = construir_linea(sorteo, fecha, tiposorteo, winner, nuevo,n1,n2,n3,n4,n5, sb)\r\n",
    "    print(agregar_a_file)"
   ],
   "outputs": [],
   "metadata": {}
  },
  {
   "cell_type": "code",
   "execution_count": null,
   "source": [],
   "outputs": [],
   "metadata": {}
  },
  {
   "cell_type": "markdown",
   "source": [
    "#### Cargamos el dataset  que tiene el siguiente formato\n",
    "#### idSorteo,fecha,tipo,ganador,nuevo,n1,n2,n3,n4,n5,sb\n",
    "#### 1975,21/03/2020,Re,NO,SI,09,22,25,31,40,15\n",
    "#### 1975,21/03/2020,Tr,NO,SI,04,09,20,35,43,05"
   ],
   "metadata": {}
  },
  {
   "cell_type": "code",
   "execution_count": 8,
   "source": [
    "def generaPath(tipo, nombre):\r\n",
    "    prepath = str(os.getcwd())\r\n",
    "    if (tipo == \"I\"):\r\n",
    "        path = prepath + '\\\\origen\\\\' + nombre\r\n",
    "    else :\r\n",
    "        path = prepath + '\\\\generados\\\\' + nombre\r\n",
    "    return path"
   ],
   "outputs": [],
   "metadata": {}
  },
  {
   "cell_type": "code",
   "execution_count": 9,
   "source": [
    "df = pd.read_csv(generaPath('I', 'expdata2.csv'), parse_dates=['fecha'])"
   ],
   "outputs": [],
   "metadata": {}
  },
  {
   "cell_type": "code",
   "execution_count": 10,
   "source": [
    "df.info()"
   ],
   "outputs": [
    {
     "output_type": "stream",
     "name": "stdout",
     "text": [
      "<class 'pandas.core.frame.DataFrame'>\n",
      "RangeIndex: 912 entries, 0 to 911\n",
      "Data columns (total 11 columns):\n",
      "idSorteo    912 non-null int64\n",
      "fecha       912 non-null datetime64[ns]\n",
      "tipo        912 non-null object\n",
      "ganador     912 non-null object\n",
      "nuevo       912 non-null object\n",
      "n1          912 non-null int64\n",
      "n2          912 non-null int64\n",
      "n3          912 non-null int64\n",
      "n4          912 non-null int64\n",
      "n5          912 non-null int64\n",
      "sb          912 non-null int64\n",
      "dtypes: datetime64[ns](1), int64(7), object(3)\n",
      "memory usage: 78.5+ KB\n"
     ]
    }
   ],
   "metadata": {}
  },
  {
   "cell_type": "code",
   "execution_count": 11,
   "source": [
    "conteo_agrupados = df.groupby(['n1', 'n2','n3', 'n4','n5', 'sb']).size()\r\n",
    "conteo_agrupados[conteo_agrupados > 1].sort_values(ascending=False).head(10)"
   ],
   "outputs": [
    {
     "output_type": "execute_result",
     "data": {
      "text/plain": [
       "Series([], dtype: int64)"
      ]
     },
     "metadata": {},
     "execution_count": 11
    }
   ],
   "metadata": {}
  },
  {
   "cell_type": "markdown",
   "source": [
    "#### Definimos el contenido del diccionario que se encarga de interpretar los intervalos de los numeros"
   ],
   "metadata": {}
  },
  {
   "cell_type": "code",
   "execution_count": 12,
   "source": [
    "deltas = {\r\n",
    "     0 : \"=\",  1 : \"A\",  2 : \"B\",  3 : \"C\",  4 : \"D\",  5 : \"E\",  6 : \"F\",  7 : \"G\",  8 : \"H\",  9 : \"I\", 10 : \"J\", 11 : \"K\", 12 : \"L\", 13 : \"M\", 14 : \"N\", 15 : \"Ñ\", 16 : \"O\", 17 : \"P\", 18 : \"Q\", \r\n",
    "    19 : \"R\", 20 : \"S\", 21 : \"T\", 22 : \"U\", 23 : \"V\", 24 : \"W\", 25 : \"X\", 26 : \"Y\", 27 : \"Z\", 28 : \"@\", 29 : \"a\", 30 : \"b\", 31 : \"c\", 32 : \"d\", 33 : \"e\", 34 : \"f\", 35 : \"g\", 36 : \"h\", 37 : \"i\", \r\n",
    "    38 : \"j\", 39 : \"k\", 40 : \"l\", 41 : \"m\", 42 : \"n\", 43 : \"ñ\", 44 : \"o\", 45 : \"p\", 46 : \"q\", 47 : \"r\", 48 : \"s\", 49 : \"t\", 50 : \"u\", 51 : \"v\", 52 : \"w\", 53 : \"x\", 54 : \"y\", 55 : \"z\" \r\n",
    "}"
   ],
   "outputs": [],
   "metadata": {}
  },
  {
   "cell_type": "markdown",
   "source": [
    "#### Creamos nuevo diccionario de pesos por los diferentes analisis"
   ],
   "metadata": {}
  },
  {
   "cell_type": "code",
   "execution_count": 13,
   "source": [
    "pesos = {\r\n",
    "    0 : \"0.0\", 1 : \"0.1\", 2 : \"0.2\", 3: \"0.3\", 4 : \"0.4\", 5 : \"0.5\", 6 : \"0.6\", 7 : \"0.7\", 8 : \"0.8\", 9 : \"0.9\"     \r\n",
    "}"
   ],
   "outputs": [],
   "metadata": {}
  },
  {
   "cell_type": "markdown",
   "source": [
    "#### Aquí se asignó el valor correspondiente en el diccionario a la diferencia entre los numeros de cada sorteo"
   ],
   "metadata": {}
  },
  {
   "cell_type": "code",
   "execution_count": 14,
   "source": [
    "def delta_translator(numero1, numero2, suma):\r\n",
    "    if (suma > 0):\r\n",
    "        return deltas[(suma - numero1) + numero2]\r\n",
    "    else:\r\n",
    "        #print(\"num2: \", numero2, \" num1 \", numero1)\r\n",
    "        return deltas[numero2 - numero1]"
   ],
   "outputs": [],
   "metadata": {}
  },
  {
   "cell_type": "code",
   "execution_count": 15,
   "source": [
    "delta_translator(4,9,0)"
   ],
   "outputs": [
    {
     "output_type": "execute_result",
     "data": {
      "text/plain": [
       "'E'"
      ]
     },
     "metadata": {},
     "execution_count": 15
    }
   ],
   "metadata": {}
  },
  {
   "cell_type": "markdown",
   "source": [
    "#### Se encarga de construir una lista con las diferencias numericas para la diferencia entre el ultimo y el primer numero se usa la resta contra el mayor numero permitido al 1 de mayo de 2020 =>> 43"
   ],
   "metadata": {}
  },
  {
   "cell_type": "code",
   "execution_count": 16,
   "source": [
    "def word_maker(ent1, ent2, ent3, ent4, ent5):\r\n",
    "    valDefec = 0\r\n",
    "    maxValBal = 43\r\n",
    "    listik = []\r\n",
    "    listik.append(delta_translator(ent1, ent2, valDefec))\r\n",
    "    listik.append(delta_translator(ent2, ent3, valDefec))\r\n",
    "    listik.append(delta_translator(ent3, ent4, valDefec))\r\n",
    "    listik.append(delta_translator(ent4, ent5, valDefec))\r\n",
    "    listik.append(delta_translator(ent5, ent1, maxValBal))\r\n",
    "    palabra = \"\".join(listik)\r\n",
    "    return palabra"
   ],
   "outputs": [],
   "metadata": {}
  },
  {
   "cell_type": "code",
   "execution_count": 17,
   "source": [
    "#print(word_maker(1, 8,17,41,43))"
   ],
   "outputs": [],
   "metadata": {}
  },
  {
   "cell_type": "code",
   "execution_count": 18,
   "source": [
    "#df.describe()"
   ],
   "outputs": [],
   "metadata": {}
  },
  {
   "cell_type": "markdown",
   "source": [
    "#### Este es el dataframe sin filtrar"
   ],
   "metadata": {}
  },
  {
   "cell_type": "code",
   "execution_count": 19,
   "source": [
    "df.head(10)"
   ],
   "outputs": [
    {
     "output_type": "execute_result",
     "data": {
      "text/html": [
       "<div>\n",
       "<style scoped>\n",
       "    .dataframe tbody tr th:only-of-type {\n",
       "        vertical-align: middle;\n",
       "    }\n",
       "\n",
       "    .dataframe tbody tr th {\n",
       "        vertical-align: top;\n",
       "    }\n",
       "\n",
       "    .dataframe thead th {\n",
       "        text-align: right;\n",
       "    }\n",
       "</style>\n",
       "<table border=\"1\" class=\"dataframe\">\n",
       "  <thead>\n",
       "    <tr style=\"text-align: right;\">\n",
       "      <th></th>\n",
       "      <th>idSorteo</th>\n",
       "      <th>fecha</th>\n",
       "      <th>tipo</th>\n",
       "      <th>ganador</th>\n",
       "      <th>nuevo</th>\n",
       "      <th>n1</th>\n",
       "      <th>n2</th>\n",
       "      <th>n3</th>\n",
       "      <th>n4</th>\n",
       "      <th>n5</th>\n",
       "      <th>sb</th>\n",
       "    </tr>\n",
       "  </thead>\n",
       "  <tbody>\n",
       "    <tr>\n",
       "      <td>0</td>\n",
       "      <td>2126</td>\n",
       "      <td>2021-06-10</td>\n",
       "      <td>Re</td>\n",
       "      <td>NO</td>\n",
       "      <td>SI</td>\n",
       "      <td>10</td>\n",
       "      <td>20</td>\n",
       "      <td>25</td>\n",
       "      <td>30</td>\n",
       "      <td>36</td>\n",
       "      <td>16</td>\n",
       "    </tr>\n",
       "    <tr>\n",
       "      <td>1</td>\n",
       "      <td>2126</td>\n",
       "      <td>2021-06-10</td>\n",
       "      <td>Tr</td>\n",
       "      <td>NO</td>\n",
       "      <td>SI</td>\n",
       "      <td>5</td>\n",
       "      <td>20</td>\n",
       "      <td>22</td>\n",
       "      <td>32</td>\n",
       "      <td>35</td>\n",
       "      <td>16</td>\n",
       "    </tr>\n",
       "    <tr>\n",
       "      <td>2</td>\n",
       "      <td>2125</td>\n",
       "      <td>2021-02-10</td>\n",
       "      <td>Re</td>\n",
       "      <td>NO</td>\n",
       "      <td>SI</td>\n",
       "      <td>19</td>\n",
       "      <td>30</td>\n",
       "      <td>38</td>\n",
       "      <td>39</td>\n",
       "      <td>41</td>\n",
       "      <td>1</td>\n",
       "    </tr>\n",
       "    <tr>\n",
       "      <td>3</td>\n",
       "      <td>2125</td>\n",
       "      <td>2021-02-10</td>\n",
       "      <td>Tr</td>\n",
       "      <td>NO</td>\n",
       "      <td>SI</td>\n",
       "      <td>1</td>\n",
       "      <td>16</td>\n",
       "      <td>24</td>\n",
       "      <td>36</td>\n",
       "      <td>42</td>\n",
       "      <td>11</td>\n",
       "    </tr>\n",
       "    <tr>\n",
       "      <td>4</td>\n",
       "      <td>2124</td>\n",
       "      <td>2021-09-29</td>\n",
       "      <td>Re</td>\n",
       "      <td>NO</td>\n",
       "      <td>SI</td>\n",
       "      <td>4</td>\n",
       "      <td>9</td>\n",
       "      <td>13</td>\n",
       "      <td>18</td>\n",
       "      <td>25</td>\n",
       "      <td>9</td>\n",
       "    </tr>\n",
       "    <tr>\n",
       "      <td>5</td>\n",
       "      <td>2124</td>\n",
       "      <td>2021-09-29</td>\n",
       "      <td>Tr</td>\n",
       "      <td>NO</td>\n",
       "      <td>SI</td>\n",
       "      <td>20</td>\n",
       "      <td>28</td>\n",
       "      <td>35</td>\n",
       "      <td>37</td>\n",
       "      <td>39</td>\n",
       "      <td>3</td>\n",
       "    </tr>\n",
       "    <tr>\n",
       "      <td>6</td>\n",
       "      <td>2123</td>\n",
       "      <td>2021-09-25</td>\n",
       "      <td>Re</td>\n",
       "      <td>NO</td>\n",
       "      <td>SI</td>\n",
       "      <td>6</td>\n",
       "      <td>7</td>\n",
       "      <td>23</td>\n",
       "      <td>36</td>\n",
       "      <td>43</td>\n",
       "      <td>10</td>\n",
       "    </tr>\n",
       "    <tr>\n",
       "      <td>7</td>\n",
       "      <td>2123</td>\n",
       "      <td>2021-09-25</td>\n",
       "      <td>Tr</td>\n",
       "      <td>NO</td>\n",
       "      <td>SI</td>\n",
       "      <td>9</td>\n",
       "      <td>17</td>\n",
       "      <td>39</td>\n",
       "      <td>41</td>\n",
       "      <td>43</td>\n",
       "      <td>1</td>\n",
       "    </tr>\n",
       "    <tr>\n",
       "      <td>8</td>\n",
       "      <td>2122</td>\n",
       "      <td>2021-09-22</td>\n",
       "      <td>Re</td>\n",
       "      <td>NO</td>\n",
       "      <td>SI</td>\n",
       "      <td>8</td>\n",
       "      <td>23</td>\n",
       "      <td>27</td>\n",
       "      <td>33</td>\n",
       "      <td>42</td>\n",
       "      <td>9</td>\n",
       "    </tr>\n",
       "    <tr>\n",
       "      <td>9</td>\n",
       "      <td>2122</td>\n",
       "      <td>2021-09-22</td>\n",
       "      <td>Tr</td>\n",
       "      <td>NO</td>\n",
       "      <td>SI</td>\n",
       "      <td>14</td>\n",
       "      <td>19</td>\n",
       "      <td>40</td>\n",
       "      <td>41</td>\n",
       "      <td>43</td>\n",
       "      <td>2</td>\n",
       "    </tr>\n",
       "  </tbody>\n",
       "</table>\n",
       "</div>"
      ],
      "text/plain": [
       "   idSorteo      fecha tipo ganador nuevo  n1  n2  n3  n4  n5  sb\n",
       "0      2126 2021-06-10   Re      NO    SI  10  20  25  30  36  16\n",
       "1      2126 2021-06-10   Tr      NO    SI   5  20  22  32  35  16\n",
       "2      2125 2021-02-10   Re      NO    SI  19  30  38  39  41   1\n",
       "3      2125 2021-02-10   Tr      NO    SI   1  16  24  36  42  11\n",
       "4      2124 2021-09-29   Re      NO    SI   4   9  13  18  25   9\n",
       "5      2124 2021-09-29   Tr      NO    SI  20  28  35  37  39   3\n",
       "6      2123 2021-09-25   Re      NO    SI   6   7  23  36  43  10\n",
       "7      2123 2021-09-25   Tr      NO    SI   9  17  39  41  43   1\n",
       "8      2122 2021-09-22   Re      NO    SI   8  23  27  33  42   9\n",
       "9      2122 2021-09-22   Tr      NO    SI  14  19  40  41  43   2"
      ]
     },
     "metadata": {},
     "execution_count": 19
    }
   ],
   "metadata": {}
  },
  {
   "cell_type": "markdown",
   "source": [
    "#### Aqui se crean los dataframes filtrados"
   ],
   "metadata": {}
  },
  {
   "cell_type": "code",
   "execution_count": 20,
   "source": [
    "propiedades = [\"Tr\"]\r\n",
    "df_tr = df[df.tipo.isin(propiedades)]\r\n",
    "propiedades = [\"Re\"]\r\n",
    "df_re = df[df.tipo.isin(propiedades)]\r\n",
    "#print(df_tr)"
   ],
   "outputs": [],
   "metadata": {}
  },
  {
   "cell_type": "markdown",
   "source": [
    "#### Aqui se partirian los dataframe en segmentos de entrenamiento y de testeo, a mayor frecuencia mayor peso se puede validar en conjunto para apuntarle a un sorteo con mayor cantidad de veces de ocurrencia"
   ],
   "metadata": {}
  },
  {
   "cell_type": "code",
   "execution_count": null,
   "source": [],
   "outputs": [],
   "metadata": {}
  },
  {
   "cell_type": "markdown",
   "source": [
    "#### En este punto se filtran los sorteos para que solo sean sorteos de los nuevos puesto que la superbalota esta entre 1 y 16"
   ],
   "metadata": {}
  },
  {
   "cell_type": "code",
   "execution_count": 21,
   "source": [
    "sbs = [\"1\", \"2\", \"3\", \"4\", \"5\", \"6\", \"7\", \"8\", \"9\", \"10\", \"11\", \"12\", \"13\", \"14\", \"15\", \"16\"]\r\n",
    "df_sb_tr = df_tr[df_tr.sb.isin(sbs)]\r\n",
    "df_sb_re = df_re[df_re.sb.isin(sbs)]\r\n",
    "#print(df_sb_tr)"
   ],
   "outputs": [],
   "metadata": {}
  },
  {
   "cell_type": "markdown",
   "source": [
    "#### En este punto hago analisis frecuentista de la superbalota (NM Se debe hacer analisis frecuentista de los numeros de manera individual)"
   ],
   "metadata": {}
  },
  {
   "cell_type": "code",
   "execution_count": 22,
   "source": [
    "dict_sb_tr = dict(df_tr.sb.value_counts())\r\n",
    "print(dict_sb_tr)"
   ],
   "outputs": [
    {
     "output_type": "stream",
     "name": "stdout",
     "text": [
      "{11: 44, 13: 38, 2: 37, 7: 36, 16: 33, 3: 32, 5: 28, 4: 28, 8: 26, 10: 25, 1: 24, 14: 23, 6: 23, 12: 22, 9: 21, 15: 16}\n"
     ]
    }
   ],
   "metadata": {}
  },
  {
   "cell_type": "code",
   "execution_count": 23,
   "source": [
    "sns.set(style=\"darkgrid\")\r\n",
    "ax = sns.countplot(x=\"sb\", data=df_sb_tr)"
   ],
   "outputs": [
    {
     "output_type": "display_data",
     "data": {
      "image/png": "[encoded data removed]",
      "text/plain": [
       "<Figure size 432x288 with 1 Axes>"
      ]
     },
     "metadata": {}
    }
   ],
   "metadata": {}
  },
  {
   "cell_type": "code",
   "execution_count": 24,
   "source": [
    "dict_sb_re = dict(df_re.sb.value_counts())\r\n",
    "print(dict_sb_re)"
   ],
   "outputs": [
    {
     "output_type": "stream",
     "name": "stdout",
     "text": [
      "{12: 35, 10: 35, 1: 34, 3: 32, 15: 31, 9: 31, 14: 29, 8: 29, 13: 28, 7: 28, 4: 27, 16: 24, 11: 24, 6: 24, 5: 24, 2: 21}\n"
     ]
    }
   ],
   "metadata": {}
  },
  {
   "cell_type": "code",
   "execution_count": 25,
   "source": [
    "sns.set(style=\"darkgrid\")\r\n",
    "ax = sns.countplot(x=\"sb\", data=df_sb_re)"
   ],
   "outputs": [
    {
     "output_type": "display_data",
     "data": {
      "image/png": "[encoded data removed]",
      "text/plain": [
       "<Figure size 432x288 with 1 Axes>"
      ]
     },
     "metadata": {}
    }
   ],
   "metadata": {}
  },
  {
   "cell_type": "code",
   "execution_count": 26,
   "source": [
    "dict_sb = dict(df.sb.value_counts())\r\n",
    "print(dict_sb)"
   ],
   "outputs": [
    {
     "output_type": "stream",
     "name": "stdout",
     "text": [
      "{11: 68, 13: 66, 7: 64, 3: 64, 10: 60, 2: 58, 1: 58, 16: 57, 12: 57, 8: 55, 4: 55, 14: 52, 9: 52, 5: 52, 15: 47, 6: 47}\n"
     ]
    }
   ],
   "metadata": {}
  },
  {
   "cell_type": "code",
   "execution_count": 27,
   "source": [
    "sns.set(style=\"darkgrid\")\r\n",
    "ax = sns.countplot(x=\"sb\", data=df)"
   ],
   "outputs": [
    {
     "output_type": "display_data",
     "data": {
      "image/png": "[encoded data removed]",
      "text/plain": [
       "<Figure size 432x288 with 1 Axes>"
      ]
     },
     "metadata": {}
    }
   ],
   "metadata": {}
  },
  {
   "cell_type": "code",
   "execution_count": 28,
   "source": [
    "sns.set(style=\"darkgrid\")\r\n",
    "x= df.sb\r\n",
    "ax = sns.distplot(x, bins=16)"
   ],
   "outputs": [
    {
     "output_type": "display_data",
     "data": {
      "image/png": "[encoded data removed]",
      "text/plain": [
       "<Figure size 432x288 with 1 Axes>"
      ]
     },
     "metadata": {}
    }
   ],
   "metadata": {}
  },
  {
   "cell_type": "code",
   "execution_count": 29,
   "source": [
    "#df.head()\r\n",
    "categorical_cols = ['tipo','ganador']\r\n",
    "unuseful_cols = ['fecha', 'nuevo']\r\n",
    "le = LabelEncoder()\r\n",
    "\r\n",
    "for item in categorical_cols[:]:\r\n",
    "    if item == 'tipo' or item == 'ganador':\r\n",
    "        nombre_col = str(item) + str('Tr')\r\n",
    "        df_tr[nombre_col]= le.fit_transform(df_tr[item])\r\n",
    "        nombre_col = str(item) + str('Re')\r\n",
    "        df_re[nombre_col]= le.fit_transform(df_re[item])\r\n",
    "#print(df_tr)\r\n",
    "#print(df_re)\r\n",
    "\r\n",
    "\r\n",
    "#df_tr = df_object.loc[:, (df.isin({\"Tr\"})).all(axis=0)]"
   ],
   "outputs": [
    {
     "output_type": "stream",
     "name": "stderr",
     "text": [
      "C:\\Users\\Ricardo\\.conda\\envs\\dsbasic\\lib\\site-packages\\ipykernel_launcher.py:9: SettingWithCopyWarning: \n",
      "A value is trying to be set on a copy of a slice from a DataFrame.\n",
      "Try using .loc[row_indexer,col_indexer] = value instead\n",
      "\n",
      "See the caveats in the documentation: http://pandas.pydata.org/pandas-docs/stable/user_guide/indexing.html#returning-a-view-versus-a-copy\n",
      "  if __name__ == '__main__':\n",
      "C:\\Users\\Ricardo\\.conda\\envs\\dsbasic\\lib\\site-packages\\ipykernel_launcher.py:11: SettingWithCopyWarning: \n",
      "A value is trying to be set on a copy of a slice from a DataFrame.\n",
      "Try using .loc[row_indexer,col_indexer] = value instead\n",
      "\n",
      "See the caveats in the documentation: http://pandas.pydata.org/pandas-docs/stable/user_guide/indexing.html#returning-a-view-versus-a-copy\n",
      "  # This is added back by InteractiveShellApp.init_path()\n"
     ]
    }
   ],
   "metadata": {}
  },
  {
   "cell_type": "code",
   "execution_count": 30,
   "source": [
    "df_tr_fusion = []\r\n",
    "df_re_fusion = []\r\n",
    "#print(df_tr)\r\n",
    "df_tr_fusion = df_tr.drop(unuseful_cols, axis=1)\r\n",
    "df_re_fusion = df_re.drop(unuseful_cols, axis=1)\r\n",
    "#print(df_tr_fusion)\r\n",
    "df_tr_fu_filt = df_tr_fusion.iloc[:, [0,3,4,5,6,7,8]]\r\n",
    "df_re_fu_filt = df_re_fusion.iloc[:, [0,3,4,5,6,7,8]]\r\n",
    "Y_tr = df_tr_fusion.iloc[:, 10]\r\n",
    "Y_re = df_re_fusion.iloc[:, 10]\r\n",
    "filas = int(df_sb_tr.shape[0])\r\n",
    "#print(df_tr_fu_filt)\r\n",
    "#print(df_re_fu_filt)"
   ],
   "outputs": [],
   "metadata": {}
  },
  {
   "cell_type": "code",
   "execution_count": 31,
   "source": [
    "def addcolumn(df):\r\n",
    "    delta=[]\r\n",
    "    for index, row in df.iterrows():\r\n",
    "        delta.append(word_maker(row.n1, row.n2, row.n3, row.n4, row.n5))\r\n",
    "    df['delta'] = delta\r\n",
    "    return df"
   ],
   "outputs": [],
   "metadata": {}
  },
  {
   "cell_type": "code",
   "execution_count": 32,
   "source": [
    "sorteos = df_tr_fu_filt.shape\r\n",
    "print (df_tr_fu_filt)\r\n",
    "print(range(sorteos[0]))"
   ],
   "outputs": [
    {
     "output_type": "stream",
     "name": "stdout",
     "text": [
      "     idSorteo  n1  n2  n3  n4  n5  sb\n",
      "1        2126   5  20  22  32  35  16\n",
      "3        2125   1  16  24  36  42  11\n",
      "5        2124  20  28  35  37  39   3\n",
      "7        2123   9  17  39  41  43   1\n",
      "9        2122  14  19  40  41  43   2\n",
      "..        ...  ..  ..  ..  ..  ..  ..\n",
      "902      1675   1  20  36  39  43  10\n",
      "904      1674   5   6   7  12  37   6\n",
      "906      1673   6  19  25  28  36   1\n",
      "908      1672   1   2  25  31  33  14\n",
      "910      1671  15  28  36  37  41  10\n",
      "\n",
      "[456 rows x 7 columns]\n",
      "range(0, 456)\n"
     ]
    }
   ],
   "metadata": {}
  },
  {
   "cell_type": "code",
   "execution_count": 33,
   "source": [
    "df_tr_fu_filt_1 = df_tr_fu_filt[(df_tr_fu_filt['n1']==1) & (df_tr_fu_filt['n2']==2)]\r\n",
    "df_tr_fu_filt_2 = df_tr_fu_filt_1[df_tr_fu_filt_1['n2']==3]\r\n",
    "#df_tr_fu_filt_1 = df_tr_fu_filt.filter(='10', axis=0)\r\n",
    "sorteos2 = df_tr_fu_filt_1.shape\r\n",
    "print (df_tr_fu_filt_1)\r\n",
    "\r\n",
    "print(range(sorteos2[0]))"
   ],
   "outputs": [
    {
     "output_type": "stream",
     "name": "stdout",
     "text": [
      "     idSorteo  n1  n2  n3  n4  n5  sb\n",
      "195      2029   1   2   5  16  23  11\n",
      "207      2023   1   2  15  36  39   4\n",
      "452      1900   1   2   3  10  31   1\n",
      "472      1890   1   2  22  29  42  16\n",
      "762      1745   1   2   4   5  13  10\n",
      "764      1744   1   2  33  34  41  10\n",
      "830      1711   1   2  20  31  43   8\n",
      "908      1672   1   2  25  31  33  14\n",
      "range(0, 8)\n"
     ]
    }
   ],
   "metadata": {}
  },
  {
   "cell_type": "markdown",
   "source": [
    "#### Se definen los archivos a los que se exportaran los dataframes que incluyen los deltas Calculados  "
   ],
   "metadata": {}
  },
  {
   "cell_type": "code",
   "execution_count": 34,
   "source": [
    "df_tr_fu_filt = addcolumn(df_tr_fu_filt)\r\n",
    "df_tr_fu_filt.to_csv(generaPath('O', 'df_tr_fu_filt_delta.csv'), header=['idSorteo','n1','n2','n3','n4', 'n5','sb','delta'], index=None, sep=',', mode='w')\r\n",
    "print(df_tr_fu_filt)"
   ],
   "outputs": [
    {
     "output_type": "stream",
     "name": "stderr",
     "text": [
      "C:\\Users\\Ricardo\\.conda\\envs\\dsbasic\\lib\\site-packages\\ipykernel_launcher.py:5: SettingWithCopyWarning: \n",
      "A value is trying to be set on a copy of a slice from a DataFrame.\n",
      "Try using .loc[row_indexer,col_indexer] = value instead\n",
      "\n",
      "See the caveats in the documentation: http://pandas.pydata.org/pandas-docs/stable/user_guide/indexing.html#returning-a-view-versus-a-copy\n",
      "  \"\"\"\n"
     ]
    },
    {
     "output_type": "stream",
     "name": "stdout",
     "text": [
      "     idSorteo  n1  n2  n3  n4  n5  sb  delta\n",
      "1        2126   5  20  22  32  35  16  ÑBJCM\n",
      "3        2125   1  16  24  36  42  11  ÑHLFB\n",
      "5        2124  20  28  35  37  39   3  HGBBW\n",
      "7        2123   9  17  39  41  43   1  HUBBI\n",
      "9        2122  14  19  40  41  43   2  ETABN\n",
      "..        ...  ..  ..  ..  ..  ..  ..    ...\n",
      "902      1675   1  20  36  39  43  10  ROCDA\n",
      "904      1674   5   6   7  12  37   6  AAEXK\n",
      "906      1673   6  19  25  28  36   1  MFCHM\n",
      "908      1672   1   2  25  31  33  14  AVFBK\n",
      "910      1671  15  28  36  37  41  10  MHADP\n",
      "\n",
      "[456 rows x 8 columns]\n"
     ]
    }
   ],
   "metadata": {}
  },
  {
   "cell_type": "code",
   "execution_count": 35,
   "source": [
    "print(df_re_fu_filt)\r\n",
    "df_re_fu_filt = addcolumn(df_re_fu_filt)\r\n",
    "df_re_fu_filt.to_csv(generaPath('O', 'df_re_fu_filt_delta.csv'), header=['idSorteo','n1','n2','n3','n4', 'n5','sb','delta'], index=None, sep=',', mode='w')\r\n",
    "print(df_re_fu_filt)"
   ],
   "outputs": [
    {
     "output_type": "stream",
     "name": "stdout",
     "text": [
      "     idSorteo  n1  n2  n3  n4  n5  sb\n",
      "0        2126  10  20  25  30  36  16\n",
      "2        2125  19  30  38  39  41   1\n",
      "4        2124   4   9  13  18  25   9\n",
      "6        2123   6   7  23  36  43  10\n",
      "8        2122   8  23  27  33  42   9\n",
      "..        ...  ..  ..  ..  ..  ..  ..\n",
      "903      1675   3   5   8  20  24  14\n",
      "905      1674   5  12  15  20  42  14\n",
      "907      1673   8  21  22  37  38   4\n",
      "909      1672   9  12  16  28  38   1\n",
      "911      1671   3   9  10  21  40  10\n",
      "\n",
      "[456 rows x 7 columns]\n",
      "     idSorteo  n1  n2  n3  n4  n5  sb  delta\n",
      "0        2126  10  20  25  30  36  16  JEEFP\n",
      "2        2125  19  30  38  39  41   1  KHABT\n",
      "4        2124   4   9  13  18  25   9  EDEGU\n",
      "6        2123   6   7  23  36  43  10  AOMGF\n",
      "8        2122   8  23  27  33  42   9  ÑDFII\n",
      "..        ...  ..  ..  ..  ..  ..  ..    ...\n",
      "903      1675   3   5   8  20  24  14  BCLDU\n",
      "905      1674   5  12  15  20  42  14  GCEUF\n",
      "907      1673   8  21  22  37  38   4  MAÑAM\n",
      "909      1672   9  12  16  28  38   1  CDLJN\n",
      "911      1671   3   9  10  21  40  10  FAKRF\n",
      "\n",
      "[456 rows x 8 columns]\n"
     ]
    },
    {
     "output_type": "stream",
     "name": "stderr",
     "text": [
      "C:\\Users\\Ricardo\\.conda\\envs\\dsbasic\\lib\\site-packages\\ipykernel_launcher.py:5: SettingWithCopyWarning: \n",
      "A value is trying to be set on a copy of a slice from a DataFrame.\n",
      "Try using .loc[row_indexer,col_indexer] = value instead\n",
      "\n",
      "See the caveats in the documentation: http://pandas.pydata.org/pandas-docs/stable/user_guide/indexing.html#returning-a-view-versus-a-copy\n",
      "  \"\"\"\n"
     ]
    }
   ],
   "metadata": {}
  },
  {
   "cell_type": "markdown",
   "source": [
    "#### validar cuantas veces se repiten los deltas, para validar si existe algun patron de repeticion"
   ],
   "metadata": {}
  },
  {
   "cell_type": "code",
   "execution_count": 36,
   "source": [
    "#sorteo = df_tr_fu_filt[df_tr_fu_filt.idSorteo == '198']\r\n",
    "#print(sorteo)\r\n",
    "#df_tr_fu_filt.loc['n1'].tolist()\r\n",
    "#idSorteo = '1975'\r\n",
    "#values = df_tr_fu_filt.loc[idSorteo].tolist()\r\n",
    "#print(values)\r\n"
   ],
   "outputs": [],
   "metadata": {}
  },
  {
   "cell_type": "markdown",
   "source": [
    "#### Se hacen los conteos de  los deltas y sus ocurrencias (NM Con este listado se debe validar expresiones similares para determinar comportamiento y posibles semejanzas entre ellos Ej MCACV similar a MCBCV, debe validarse que porcion de una expresion esta en la otras, a futuro deberia validarse la correlacion entre sorteo TR y sorteo RE )"
   ],
   "metadata": {}
  },
  {
   "cell_type": "code",
   "execution_count": 37,
   "source": [
    "df_tr_fu_filt.delta.value_counts()"
   ],
   "outputs": [
    {
     "output_type": "execute_result",
     "data": {
      "text/plain": [
       "MCACV    2\n",
       "ILFBN    1\n",
       "BNFIL    1\n",
       "KFDEP    1\n",
       "AYCAL    1\n",
       "        ..\n",
       "BADMV    1\n",
       "PBBLJ    1\n",
       "AABNX    1\n",
       "ZBFCE    1\n",
       "QLEFB    1\n",
       "Name: delta, Length: 455, dtype: int64"
      ]
     },
     "metadata": {},
     "execution_count": 37
    }
   ],
   "metadata": {}
  },
  {
   "cell_type": "code",
   "execution_count": 38,
   "source": [
    "df_re_fu_filt.delta.value_counts()"
   ],
   "outputs": [
    {
     "output_type": "execute_result",
     "data": {
      "text/plain": [
       "MKDAN    2\n",
       "BECLT    1\n",
       "LLCKE    1\n",
       "BNIII    1\n",
       "CHKAS    1\n",
       "        ..\n",
       "HKÑBG    1\n",
       "QFBHI    1\n",
       "IHBBU    1\n",
       "JLIBJ    1\n",
       "AAGUL    1\n",
       "Name: delta, Length: 455, dtype: int64"
      ]
     },
     "metadata": {},
     "execution_count": 38
    }
   ],
   "metadata": {}
  },
  {
   "cell_type": "code",
   "execution_count": 39,
   "source": [
    "#def transforma_unos(df_tr_fu_filt)\r\n",
    "#    for i in range(0, df_tr_fu_filt.shape[1])\r\n",
    "        \r\n"
   ],
   "outputs": [],
   "metadata": {}
  },
  {
   "cell_type": "markdown",
   "source": [
    "#### Los numeros de las columnas n1-n5 seran fusionadas, seran transformados a una sola dimension, para poder determinar la frecuencia con la que acontecen, en primera instancia seran separados por tipo de sorteo, y en el nuevo dataset tendremos el numero del sorteo y el numero"
   ],
   "metadata": {}
  },
  {
   "cell_type": "code",
   "execution_count": 40,
   "source": [
    "#print(Y_tr)\r\n",
    "#print(Y_re)\r\n",
    "main_columns = ['n1','n2','n3', 'n4', 'n5', 'sb','tipo', 'ganador']"
   ],
   "outputs": [],
   "metadata": {}
  },
  {
   "cell_type": "markdown",
   "source": [
    "#### Este contenido se usa para segmentar el dataframe en los siguientes contextos single, duplas, ternas cuartetos y quintetos con y sin superbalota"
   ],
   "metadata": {}
  },
  {
   "cell_type": "code",
   "execution_count": 41,
   "source": [
    "df"
   ],
   "outputs": [
    {
     "output_type": "execute_result",
     "data": {
      "text/html": [
       "<div>\n",
       "<style scoped>\n",
       "    .dataframe tbody tr th:only-of-type {\n",
       "        vertical-align: middle;\n",
       "    }\n",
       "\n",
       "    .dataframe tbody tr th {\n",
       "        vertical-align: top;\n",
       "    }\n",
       "\n",
       "    .dataframe thead th {\n",
       "        text-align: right;\n",
       "    }\n",
       "</style>\n",
       "<table border=\"1\" class=\"dataframe\">\n",
       "  <thead>\n",
       "    <tr style=\"text-align: right;\">\n",
       "      <th></th>\n",
       "      <th>idSorteo</th>\n",
       "      <th>fecha</th>\n",
       "      <th>tipo</th>\n",
       "      <th>ganador</th>\n",
       "      <th>nuevo</th>\n",
       "      <th>n1</th>\n",
       "      <th>n2</th>\n",
       "      <th>n3</th>\n",
       "      <th>n4</th>\n",
       "      <th>n5</th>\n",
       "      <th>sb</th>\n",
       "    </tr>\n",
       "  </thead>\n",
       "  <tbody>\n",
       "    <tr>\n",
       "      <td>0</td>\n",
       "      <td>2126</td>\n",
       "      <td>2021-06-10</td>\n",
       "      <td>Re</td>\n",
       "      <td>NO</td>\n",
       "      <td>SI</td>\n",
       "      <td>10</td>\n",
       "      <td>20</td>\n",
       "      <td>25</td>\n",
       "      <td>30</td>\n",
       "      <td>36</td>\n",
       "      <td>16</td>\n",
       "    </tr>\n",
       "    <tr>\n",
       "      <td>1</td>\n",
       "      <td>2126</td>\n",
       "      <td>2021-06-10</td>\n",
       "      <td>Tr</td>\n",
       "      <td>NO</td>\n",
       "      <td>SI</td>\n",
       "      <td>5</td>\n",
       "      <td>20</td>\n",
       "      <td>22</td>\n",
       "      <td>32</td>\n",
       "      <td>35</td>\n",
       "      <td>16</td>\n",
       "    </tr>\n",
       "    <tr>\n",
       "      <td>2</td>\n",
       "      <td>2125</td>\n",
       "      <td>2021-02-10</td>\n",
       "      <td>Re</td>\n",
       "      <td>NO</td>\n",
       "      <td>SI</td>\n",
       "      <td>19</td>\n",
       "      <td>30</td>\n",
       "      <td>38</td>\n",
       "      <td>39</td>\n",
       "      <td>41</td>\n",
       "      <td>1</td>\n",
       "    </tr>\n",
       "    <tr>\n",
       "      <td>3</td>\n",
       "      <td>2125</td>\n",
       "      <td>2021-02-10</td>\n",
       "      <td>Tr</td>\n",
       "      <td>NO</td>\n",
       "      <td>SI</td>\n",
       "      <td>1</td>\n",
       "      <td>16</td>\n",
       "      <td>24</td>\n",
       "      <td>36</td>\n",
       "      <td>42</td>\n",
       "      <td>11</td>\n",
       "    </tr>\n",
       "    <tr>\n",
       "      <td>4</td>\n",
       "      <td>2124</td>\n",
       "      <td>2021-09-29</td>\n",
       "      <td>Re</td>\n",
       "      <td>NO</td>\n",
       "      <td>SI</td>\n",
       "      <td>4</td>\n",
       "      <td>9</td>\n",
       "      <td>13</td>\n",
       "      <td>18</td>\n",
       "      <td>25</td>\n",
       "      <td>9</td>\n",
       "    </tr>\n",
       "    <tr>\n",
       "      <td>...</td>\n",
       "      <td>...</td>\n",
       "      <td>...</td>\n",
       "      <td>...</td>\n",
       "      <td>...</td>\n",
       "      <td>...</td>\n",
       "      <td>...</td>\n",
       "      <td>...</td>\n",
       "      <td>...</td>\n",
       "      <td>...</td>\n",
       "      <td>...</td>\n",
       "      <td>...</td>\n",
       "    </tr>\n",
       "    <tr>\n",
       "      <td>907</td>\n",
       "      <td>1673</td>\n",
       "      <td>2017-04-29</td>\n",
       "      <td>Re</td>\n",
       "      <td>NO</td>\n",
       "      <td>SI</td>\n",
       "      <td>8</td>\n",
       "      <td>21</td>\n",
       "      <td>22</td>\n",
       "      <td>37</td>\n",
       "      <td>38</td>\n",
       "      <td>4</td>\n",
       "    </tr>\n",
       "    <tr>\n",
       "      <td>908</td>\n",
       "      <td>1672</td>\n",
       "      <td>2017-04-26</td>\n",
       "      <td>Tr</td>\n",
       "      <td>NO</td>\n",
       "      <td>SI</td>\n",
       "      <td>1</td>\n",
       "      <td>2</td>\n",
       "      <td>25</td>\n",
       "      <td>31</td>\n",
       "      <td>33</td>\n",
       "      <td>14</td>\n",
       "    </tr>\n",
       "    <tr>\n",
       "      <td>909</td>\n",
       "      <td>1672</td>\n",
       "      <td>2017-04-26</td>\n",
       "      <td>Re</td>\n",
       "      <td>NO</td>\n",
       "      <td>SI</td>\n",
       "      <td>9</td>\n",
       "      <td>12</td>\n",
       "      <td>16</td>\n",
       "      <td>28</td>\n",
       "      <td>38</td>\n",
       "      <td>1</td>\n",
       "    </tr>\n",
       "    <tr>\n",
       "      <td>910</td>\n",
       "      <td>1671</td>\n",
       "      <td>2017-04-22</td>\n",
       "      <td>Tr</td>\n",
       "      <td>NO</td>\n",
       "      <td>SI</td>\n",
       "      <td>15</td>\n",
       "      <td>28</td>\n",
       "      <td>36</td>\n",
       "      <td>37</td>\n",
       "      <td>41</td>\n",
       "      <td>10</td>\n",
       "    </tr>\n",
       "    <tr>\n",
       "      <td>911</td>\n",
       "      <td>1671</td>\n",
       "      <td>2017-04-22</td>\n",
       "      <td>Re</td>\n",
       "      <td>NO</td>\n",
       "      <td>SI</td>\n",
       "      <td>3</td>\n",
       "      <td>9</td>\n",
       "      <td>10</td>\n",
       "      <td>21</td>\n",
       "      <td>40</td>\n",
       "      <td>10</td>\n",
       "    </tr>\n",
       "  </tbody>\n",
       "</table>\n",
       "<p>912 rows × 11 columns</p>\n",
       "</div>"
      ],
      "text/plain": [
       "     idSorteo      fecha tipo ganador nuevo  n1  n2  n3  n4  n5  sb\n",
       "0        2126 2021-06-10   Re      NO    SI  10  20  25  30  36  16\n",
       "1        2126 2021-06-10   Tr      NO    SI   5  20  22  32  35  16\n",
       "2        2125 2021-02-10   Re      NO    SI  19  30  38  39  41   1\n",
       "3        2125 2021-02-10   Tr      NO    SI   1  16  24  36  42  11\n",
       "4        2124 2021-09-29   Re      NO    SI   4   9  13  18  25   9\n",
       "..        ...        ...  ...     ...   ...  ..  ..  ..  ..  ..  ..\n",
       "907      1673 2017-04-29   Re      NO    SI   8  21  22  37  38   4\n",
       "908      1672 2017-04-26   Tr      NO    SI   1   2  25  31  33  14\n",
       "909      1672 2017-04-26   Re      NO    SI   9  12  16  28  38   1\n",
       "910      1671 2017-04-22   Tr      NO    SI  15  28  36  37  41  10\n",
       "911      1671 2017-04-22   Re      NO    SI   3   9  10  21  40  10\n",
       "\n",
       "[912 rows x 11 columns]"
      ]
     },
     "metadata": {},
     "execution_count": 41
    }
   ],
   "metadata": {}
  },
  {
   "cell_type": "code",
   "execution_count": null,
   "source": [],
   "outputs": [],
   "metadata": {}
  },
  {
   "cell_type": "code",
   "execution_count": 42,
   "source": [
    "def cortasbs(df, sb):\r\n",
    "    df_filt = df.iloc[0::1,[0, 6]]\r\n",
    "    print (df_filt)\r\n",
    "    df_filt = df_filt.rename(columns = {'n1':'num','n2':'num','n3':'num','n4':'num','n5':'num'})\r\n",
    "    return df_filt"
   ],
   "outputs": [],
   "metadata": {}
  },
  {
   "cell_type": "code",
   "execution_count": 43,
   "source": [
    "def cortasingles(df, col0, col1):\r\n",
    "    df_filt = df.iloc[0::1,[col0, col1]]\r\n",
    "    print (df_filt)\r\n",
    "    df_filt = df_filt.rename(columns = {'n1':'num','n2':'num','n3':'num','n4':'num','n5':'num'})\r\n",
    "    return df_filt"
   ],
   "outputs": [],
   "metadata": {}
  },
  {
   "cell_type": "code",
   "execution_count": 44,
   "source": [
    "def cortasinglessb(df, col0, col1, sb):\r\n",
    "    df_filt = df.iloc[0::1,[col0, col1, sb]]\r\n",
    "    df_filt = df_filt.rename(columns = {'n1':'num','n2':'num','n3':'num','n4':'num','n5':'num'})\r\n",
    "    return df_filt"
   ],
   "outputs": [],
   "metadata": {}
  },
  {
   "cell_type": "code",
   "execution_count": 45,
   "source": [
    "def cortaduplas(df, col0, col1, col2):\r\n",
    "    df_filt = df.iloc[0::1,[col0, col1, col2]]\r\n",
    "    df_filt = df_filt.rename(columns = {'n1':'num','n2':'num','n3':'num','n4':'num','n5':'num'})\r\n",
    "    return df_filt"
   ],
   "outputs": [],
   "metadata": {}
  },
  {
   "cell_type": "code",
   "execution_count": 46,
   "source": [
    "def cortaduplassb(df, col0, col1, col2, sb):\r\n",
    "    df_filt = df.iloc[0::1,[col0, col1, col2, sb]]\r\n",
    "    df_filt = df_filt.rename(columns = {'n1':'num','n2':'num','n3':'num','n4':'num','n5':'num'})\r\n",
    "    return df_filt"
   ],
   "outputs": [],
   "metadata": {}
  },
  {
   "cell_type": "code",
   "execution_count": 47,
   "source": [
    "def cortatrios(df, col0, col1, col2, col3):\r\n",
    "    df_filt = df.iloc[0::1,[col0, col1, col2, col3]]\r\n",
    "    df_filt = df_filt.rename(columns = {'n1':'num','n2':'num','n3':'num','n4':'num','n5':'num'})\r\n",
    "    return df_filt"
   ],
   "outputs": [],
   "metadata": {}
  },
  {
   "cell_type": "code",
   "execution_count": 48,
   "source": [
    "def cortatriossb(df, col0, col1, col2, col3, sb):\r\n",
    "    df_filt = df.iloc[0::1,[col0, col1, col2, col3, sb]]\r\n",
    "    df_filt = df_filt.rename(columns = {'n1':'num','n2':'num','n3':'num','n4':'num','n5':'num'})\r\n",
    "    return df_filt"
   ],
   "outputs": [],
   "metadata": {}
  },
  {
   "cell_type": "code",
   "execution_count": 49,
   "source": [
    "def cortacuartetos(df, col0, col1, col2, col3, col4):\r\n",
    "    df_filt = df.iloc[0::1,[col0, col1, col2, col3, col4]]\r\n",
    "    df_filt = df_filt.rename(columns = {'n1':'num','n2':'num','n3':'num','n4':'num','n5':'num'})\r\n",
    "    return df_filt"
   ],
   "outputs": [],
   "metadata": {}
  },
  {
   "cell_type": "code",
   "execution_count": 50,
   "source": [
    "def cortacuartetossb(df, col0, col1, col2, col3, col4, sb):\r\n",
    "    df_filt = df.iloc[0::1,[col0, col1, col2, col3, col4, sb]]\r\n",
    "    df_filt = df_filt.rename(columns = {'n1':'num','n2':'num','n3':'num','n4':'num','n5':'num'})\r\n",
    "    return df_filt"
   ],
   "outputs": [],
   "metadata": {}
  },
  {
   "cell_type": "code",
   "execution_count": 51,
   "source": [
    "def cortaquintetos(df, col0, col1, col2, col3, col4, col5):\r\n",
    "    df_filt = df.iloc[0::1,[col0, col1, col2, col3, col4, col5]]\r\n",
    "    df_filt = df_filt.rename(columns = {'n1':'num','n2':'num','n3':'num','n4':'num','n5':'num'})\r\n",
    "    return df_filt"
   ],
   "outputs": [],
   "metadata": {}
  },
  {
   "cell_type": "code",
   "execution_count": 52,
   "source": [
    "def cortaquintetossb(df, col0, col1, col2, col3, col4, col5, sb):\r\n",
    "    df_filt = df.iloc[0::1,[col0, col1, col2, col3, col4, col5, sb]]\r\n",
    "    df_filt = df_filt.rename(columns = {'n1':'num','n2':'num','n3':'num','n4':'num','n5':'num'})\r\n",
    "    return df_filt"
   ],
   "outputs": [],
   "metadata": {}
  },
  {
   "cell_type": "markdown",
   "source": [
    "#### El siguiente contenido se usa para fusionar los dataframes desde los diferentes enfoques, singles, duplas, trios, etc"
   ],
   "metadata": {}
  },
  {
   "cell_type": "code",
   "execution_count": null,
   "source": [],
   "outputs": [],
   "metadata": {}
  },
  {
   "cell_type": "code",
   "execution_count": 53,
   "source": [
    "def concatenador_sbs(df, sb):\r\n",
    "    colid = 0\r\n",
    "    df_1d_sb_tr = cortasbs(df, sb) # if sb > 0 else cortasingles(df,colid,1)\r\n",
    "    df_1d_sb_tr.columns = ['idSorteo', 'sb'] # if sb > 0 else ['idSorteo', 'num1']\r\n",
    "    print(\"final: \",df_1d_sb_tr)\r\n",
    "    return df_1d_sb_tr"
   ],
   "outputs": [],
   "metadata": {}
  },
  {
   "cell_type": "code",
   "execution_count": 54,
   "source": [
    "def concatenador_singles(df, sb):\r\n",
    "    colid = 0\r\n",
    "    df_1d_fu_tr = cortasinglessb(df,colid,1, sb) if sb > 0 else cortasingles(df,colid,1)\r\n",
    "    print (df_1d_fu_tr)\r\n",
    "    inicial = 0\r\n",
    "    for i in range(1,6):\r\n",
    "        df_temp_fusion = cortasinglessb(df, colid, i, sb) if sb > 0 else cortasingles(df, colid, i)\r\n",
    "        if (inicial == 0):\r\n",
    "            df_1d_fu_tr = df_temp_fusion\r\n",
    "            inicial += 1\r\n",
    "        else :\r\n",
    "            df_1d_fu_tr = pd.concat([df_1d_fu_tr, df_temp_fusion], ignore_index=True)\r\n",
    "    df_1d_fu_tr.columns = ['idSorteo', 'num1', 'sb'] if sb > 0 else ['idSorteo', 'num1']\r\n",
    "    return df_1d_fu_tr"
   ],
   "outputs": [],
   "metadata": {}
  },
  {
   "cell_type": "code",
   "execution_count": 55,
   "source": [
    "def concatenador_duplas(df,sb):\r\n",
    "    colid = 0\r\n",
    "    inicial = 0\r\n",
    "    for i in range(1,6):\r\n",
    "        for ii in range(i+1, 6):\r\n",
    "            df_temp_fusion = cortaduplassb(df, colid, i, ii, sb) if sb > 0 else cortaduplas(df, colid, i, ii)\r\n",
    "            if (inicial == 0):\r\n",
    "                df_2d_fu_tr = df_temp_fusion\r\n",
    "                inicial += 1\r\n",
    "            else :\r\n",
    "                df_2d_fu_tr = pd.concat([df_2d_fu_tr, df_temp_fusion], ignore_index=True)\r\n",
    "    df_2d_fu_tr.columns = ['idSorteo', 'num1', 'num2', 'sb'] if sb > 0 else ['idSorteo', 'num1', 'num2']\r\n",
    "    return df_2d_fu_tr"
   ],
   "outputs": [],
   "metadata": {}
  },
  {
   "cell_type": "code",
   "execution_count": 56,
   "source": [
    "def concatenador_trios(df,sb):\r\n",
    "    colid = 0\r\n",
    "    df_3d_fu_tr = cortatriossb(df, colid, 1, 2, 3, sb) if sb > 0 else cortatrios(df, colid, 1, 2, 3)\r\n",
    "    inicial = 0\r\n",
    "    for i in range(1,6):\r\n",
    "        for ii in range(i + 1, 6):\r\n",
    "            for iii in range(ii + 1, 6):\r\n",
    "                df_temp_fusion = cortatriossb(df, colid, i, ii, iii, sb) if sb > 0 else cortatrios(df, colid, i, ii, iii)\r\n",
    "                if (inicial == 0):\r\n",
    "                    df_3d_fu_tr = df_temp_fusion\r\n",
    "                    inicial += 1\r\n",
    "                else :\r\n",
    "                    df_3d_fu_tr = pd.concat([df_3d_fu_tr, df_temp_fusion], ignore_index=True)\r\n",
    "    df_3d_fu_tr.columns = ['idSorteo', 'num1', 'num2', 'num3', 'sb'] if sb > 0 else ['idSorteo', 'num1', 'num2', 'num3']\r\n",
    "    return df_3d_fu_tr"
   ],
   "outputs": [],
   "metadata": {}
  },
  {
   "cell_type": "code",
   "execution_count": 57,
   "source": [
    "def concatenador_cuartetos(df, sb):\r\n",
    "    colid = 0\r\n",
    "    inicial = 0\r\n",
    "    for i in range(1,6):\r\n",
    "        for ii in range(i + 1, 6):\r\n",
    "            for iii in range(ii + 1, 6 ):\r\n",
    "                for iiii in range(iii + 1, 6 ):\r\n",
    "                    df_temp_fusion = cortacuartetossb(df, colid, i, ii, iii, iiii, sb) if sb > 0 else cortacuartetos(df, colid, i, ii, iii, iiii)\r\n",
    "                    if (inicial == 0):\r\n",
    "                        df_4d_fu_tr = df_temp_fusion\r\n",
    "                        inicial += 1\r\n",
    "                    else :\r\n",
    "                        df_4d_fu_tr = pd.concat([df_4d_fu_tr, df_temp_fusion], ignore_index=True)\r\n",
    "    df_4d_fu_tr.columns = ['idSorteo', 'num1', 'num2', 'num3', 'num4', 'sb'] if sb > 0 else ['idSorteo', 'num1', 'num2', 'num3', 'num4']\r\n",
    "    return df_4d_fu_tr"
   ],
   "outputs": [],
   "metadata": {}
  },
  {
   "cell_type": "code",
   "execution_count": 58,
   "source": [
    "def concatenador_quintetos(df, sb):\r\n",
    "    colid = 0\r\n",
    "    df_5d_fu_tr = cortaquintetossb(df, colid, 1, 2, 3, 4, 5, sb) if sb > 0 else  cortaquintetos(df, colid, 1, 2, 3, 4, 5)\r\n",
    "    df_5d_fu_tr.columns = ['idSorteo', 'num1', 'num2', 'num3', 'num4', 'num5', 'sb'] if sb > 0 else ['idSorteo', 'num1', 'num2', 'num3', 'num4', 'num5']\r\n",
    "    return df_5d_fu_tr"
   ],
   "outputs": [],
   "metadata": {}
  },
  {
   "cell_type": "code",
   "execution_count": 59,
   "source": [
    "def tuple_maker(ent1, ent2, ent3, ent4, ent5, cant):\r\n",
    "    listik = []\r\n",
    "    if (cant >= 1):\r\n",
    "        listik.append(str(ent1))\r\n",
    "    if (cant >= 2):       \r\n",
    "        listik.append(\"|\" + str(ent2))\r\n",
    "    if (cant >= 3):\r\n",
    "        listik.append(\"|\" + str(ent3))\r\n",
    "    if (cant >= 4):\r\n",
    "        listik.append(\"|\" + str(ent4))\r\n",
    "    if (cant >= 5):\r\n",
    "        listik.append(\"|\" + str(ent5))\r\n",
    "    palabra = \"\".join(listik)\r\n",
    "    return palabra"
   ],
   "outputs": [],
   "metadata": {}
  },
  {
   "cell_type": "markdown",
   "source": [
    "#### Con la siguiente funcion adicionamos una nueva columna 'la de las tuplas'"
   ],
   "metadata": {}
  },
  {
   "cell_type": "code",
   "execution_count": 60,
   "source": [
    "def addcolumntuplas(df, cant):\r\n",
    "    tupla=[]\r\n",
    "    val_defecto = 0\r\n",
    "    df.to_frame()\r\n",
    "    df2 = df.rename(None).to_frame().T\r\n",
    "    for index, row in df2.iteritems():\r\n",
    "        if (cant == 1): \r\n",
    "            tupla.append(tuple_maker(index, val_defecto, val_defecto, val_defecto, val_defecto, cant)) \r\n",
    "        if (cant == 2):\r\n",
    "            tupla.append(tuple_maker(index[0], index[1], val_defecto, val_defecto, val_defecto, cant))\r\n",
    "        if (cant == 3): \r\n",
    "            tupla.append(tuple_maker(index[0], index[1], index[2], val_defecto, val_defecto, cant))  \r\n",
    "        if (cant == 4): \r\n",
    "            tupla.append(tuple_maker(index[0], index[1], index[2], index[3], val_defecto, cant))  \r\n",
    "        if (cant == 5): \r\n",
    "            tupla.append(tuple_maker(index[0], index[1], index[2], index[3], index[4], cant))  \r\n",
    "    dft = df2.T\r\n",
    "    dft['tupla'] = tupla\r\n",
    "    dft = dft.reset_index(drop=True)\r\n",
    "    return dft"
   ],
   "outputs": [],
   "metadata": {}
  },
  {
   "cell_type": "markdown",
   "source": [
    "#### Se definen los metodos para agrupar el contenido del dataframe en grupos de acuerdo a cantidad de numeros involucrados"
   ],
   "metadata": {}
  },
  {
   "cell_type": "code",
   "execution_count": 61,
   "source": [
    "def agrupa_sbs(df):\r\n",
    "    conteo_nums = df.groupby(['sb']).size()\r\n",
    "    tupla  = []\r\n",
    "    df = addcolumntuplas(conteo_nums, 1)\r\n",
    "    df.columns = ['conteo','tupla']\r\n",
    "    return df"
   ],
   "outputs": [],
   "metadata": {}
  },
  {
   "cell_type": "code",
   "execution_count": 62,
   "source": [
    "def agrupa_singles(df):\r\n",
    "    conteo_nums = df.groupby(['num1']).size()\r\n",
    "    tupla  = []\r\n",
    "    df = addcolumntuplas(conteo_nums, 1)\r\n",
    "    df.columns = ['conteo','tupla']\r\n",
    "    return df"
   ],
   "outputs": [],
   "metadata": {}
  },
  {
   "cell_type": "code",
   "execution_count": 63,
   "source": [
    "def agrupa_duplas(df):\r\n",
    "    conteo_nums = df.groupby(['num1', 'num2']).size()\r\n",
    "    tupla  = []\r\n",
    "    df = addcolumntuplas(conteo_nums, 2)\r\n",
    "    df.columns = ['conteo','tupla']\r\n",
    "    return df"
   ],
   "outputs": [],
   "metadata": {}
  },
  {
   "cell_type": "code",
   "execution_count": 64,
   "source": [
    "def agrupa_trios(df):\r\n",
    "    conteo_nums = df.groupby(['num1', 'num2', 'num3']).size()\r\n",
    "    tupla  = []\r\n",
    "    df = addcolumntuplas(conteo_nums, 3)\r\n",
    "    df.columns = ['conteo','tupla']\r\n",
    "    return df"
   ],
   "outputs": [],
   "metadata": {}
  },
  {
   "cell_type": "code",
   "execution_count": 65,
   "source": [
    "def agrupa_cuartetos(df):\r\n",
    "    conteo_nums = df.groupby(['num1', 'num2', 'num3', 'num4']).size()\r\n",
    "    tupla  = []\r\n",
    "    df = addcolumntuplas(conteo_nums, 4)\r\n",
    "    df.columns = ['conteo','tupla']\r\n",
    "    return df"
   ],
   "outputs": [],
   "metadata": {}
  },
  {
   "cell_type": "code",
   "execution_count": 66,
   "source": [
    "def agrupa_quintetos(df):\r\n",
    "    conteo_nums = df.groupby(['num1', 'num2', 'num3', 'num4', 'num5']).size()\r\n",
    "    tupla  = []\r\n",
    "    df = addcolumntuplas(conteo_nums, 5)\r\n",
    "    df.columns = ['conteo','tupla']\r\n",
    "    return df"
   ],
   "outputs": [],
   "metadata": {}
  },
  {
   "cell_type": "markdown",
   "source": [
    "#### Aquí se hace la separacion a un dataframe de solo 1 numero"
   ],
   "metadata": {}
  },
  {
   "cell_type": "code",
   "execution_count": 67,
   "source": [
    "df_1d_sb_tr = concatenador_sbs(df_tr_fu_filt, 0)\r\n",
    "conteos_1d_sb_tr = agrupa_sbs(df_1d_sb_tr)\r\n",
    "conteos_1d_sb_tr.to_csv(generaPath('O', 'conteos_1d_sb_tr.csv'), header=['conteo','tupla'], index=None, sep=',', mode='w') "
   ],
   "outputs": [
    {
     "output_type": "stream",
     "name": "stdout",
     "text": [
      "     idSorteo  sb\n",
      "1        2126  16\n",
      "3        2125  11\n",
      "5        2124   3\n",
      "7        2123   1\n",
      "9        2122   2\n",
      "..        ...  ..\n",
      "902      1675  10\n",
      "904      1674   6\n",
      "906      1673   1\n",
      "908      1672  14\n",
      "910      1671  10\n",
      "\n",
      "[456 rows x 2 columns]\n",
      "final:       idSorteo  sb\n",
      "1        2126  16\n",
      "3        2125  11\n",
      "5        2124   3\n",
      "7        2123   1\n",
      "9        2122   2\n",
      "..        ...  ..\n",
      "902      1675  10\n",
      "904      1674   6\n",
      "906      1673   1\n",
      "908      1672  14\n",
      "910      1671  10\n",
      "\n",
      "[456 rows x 2 columns]\n"
     ]
    }
   ],
   "metadata": {}
  },
  {
   "cell_type": "code",
   "execution_count": 68,
   "source": [
    "df_1d_sb_re = concatenador_sbs(df_re_fu_filt, 0)\r\n",
    "conteos_1d_sb_re = agrupa_sbs(df_1d_sb_re)\r\n",
    "conteos_1d_sb_re.to_csv(generaPath('O', 'conteos_1d_sb_re.csv'), header=['conteo','tupla'], index=None, sep=',', mode='w') "
   ],
   "outputs": [
    {
     "output_type": "stream",
     "name": "stdout",
     "text": [
      "     idSorteo  sb\n",
      "0        2126  16\n",
      "2        2125   1\n",
      "4        2124   9\n",
      "6        2123  10\n",
      "8        2122   9\n",
      "..        ...  ..\n",
      "903      1675  14\n",
      "905      1674  14\n",
      "907      1673   4\n",
      "909      1672   1\n",
      "911      1671  10\n",
      "\n",
      "[456 rows x 2 columns]\n",
      "final:       idSorteo  sb\n",
      "0        2126  16\n",
      "2        2125   1\n",
      "4        2124   9\n",
      "6        2123  10\n",
      "8        2122   9\n",
      "..        ...  ..\n",
      "903      1675  14\n",
      "905      1674  14\n",
      "907      1673   4\n",
      "909      1672   1\n",
      "911      1671  10\n",
      "\n",
      "[456 rows x 2 columns]\n"
     ]
    }
   ],
   "metadata": {}
  },
  {
   "cell_type": "code",
   "execution_count": 69,
   "source": [
    "df_1d_fusion_tr = concatenador_singles(df_tr_fu_filt, 0)\r\n",
    "conteos_1d_tr = agrupa_singles(df_1d_fusion_tr)\r\n",
    "conteos_1d_tr.to_csv(generaPath('O', 'conteos_1d_tr.csv'), header=['conteo','tupla'], index=None, sep=',', mode='w')"
   ],
   "outputs": [
    {
     "output_type": "stream",
     "name": "stdout",
     "text": [
      "     idSorteo  n1\n",
      "1        2126   5\n",
      "3        2125   1\n",
      "5        2124  20\n",
      "7        2123   9\n",
      "9        2122  14\n",
      "..        ...  ..\n",
      "902      1675   1\n",
      "904      1674   5\n",
      "906      1673   6\n",
      "908      1672   1\n",
      "910      1671  15\n",
      "\n",
      "[456 rows x 2 columns]\n",
      "     idSorteo  num\n",
      "1        2126    5\n",
      "3        2125    1\n",
      "5        2124   20\n",
      "7        2123    9\n",
      "9        2122   14\n",
      "..        ...  ...\n",
      "902      1675    1\n",
      "904      1674    5\n",
      "906      1673    6\n",
      "908      1672    1\n",
      "910      1671   15\n",
      "\n",
      "[456 rows x 2 columns]\n",
      "     idSorteo  n1\n",
      "1        2126   5\n",
      "3        2125   1\n",
      "5        2124  20\n",
      "7        2123   9\n",
      "9        2122  14\n",
      "..        ...  ..\n",
      "902      1675   1\n",
      "904      1674   5\n",
      "906      1673   6\n",
      "908      1672   1\n",
      "910      1671  15\n",
      "\n",
      "[456 rows x 2 columns]\n",
      "     idSorteo  n2\n",
      "1        2126  20\n",
      "3        2125  16\n",
      "5        2124  28\n",
      "7        2123  17\n",
      "9        2122  19\n",
      "..        ...  ..\n",
      "902      1675  20\n",
      "904      1674   6\n",
      "906      1673  19\n",
      "908      1672   2\n",
      "910      1671  28\n",
      "\n",
      "[456 rows x 2 columns]\n",
      "     idSorteo  n3\n",
      "1        2126  22\n",
      "3        2125  24\n",
      "5        2124  35\n",
      "7        2123  39\n",
      "9        2122  40\n",
      "..        ...  ..\n",
      "902      1675  36\n",
      "904      1674   7\n",
      "906      1673  25\n",
      "908      1672  25\n",
      "910      1671  36\n",
      "\n",
      "[456 rows x 2 columns]\n",
      "     idSorteo  n4\n",
      "1        2126  32\n",
      "3        2125  36\n",
      "5        2124  37\n",
      "7        2123  41\n",
      "9        2122  41\n",
      "..        ...  ..\n",
      "902      1675  39\n",
      "904      1674  12\n",
      "906      1673  28\n",
      "908      1672  31\n",
      "910      1671  37\n",
      "\n",
      "[456 rows x 2 columns]\n",
      "     idSorteo  n5\n",
      "1        2126  35\n",
      "3        2125  42\n",
      "5        2124  39\n",
      "7        2123  43\n",
      "9        2122  43\n",
      "..        ...  ..\n",
      "902      1675  43\n",
      "904      1674  37\n",
      "906      1673  36\n",
      "908      1672  33\n",
      "910      1671  41\n",
      "\n",
      "[456 rows x 2 columns]\n"
     ]
    }
   ],
   "metadata": {}
  },
  {
   "cell_type": "code",
   "execution_count": 70,
   "source": [
    "df_1d_fusion_re = concatenador_singles(df_re_fu_filt, 0)\r\n",
    "conteos_1d_re = agrupa_singles(df_1d_fusion_re)\r\n",
    "conteos_1d_re.to_csv(generaPath('O', 'conteos_1d_re.csv'), header=['conteo','tupla'], index=None, sep=',', mode='w')"
   ],
   "outputs": [
    {
     "output_type": "stream",
     "name": "stdout",
     "text": [
      "     idSorteo  n1\n",
      "0        2126  10\n",
      "2        2125  19\n",
      "4        2124   4\n",
      "6        2123   6\n",
      "8        2122   8\n",
      "..        ...  ..\n",
      "903      1675   3\n",
      "905      1674   5\n",
      "907      1673   8\n",
      "909      1672   9\n",
      "911      1671   3\n",
      "\n",
      "[456 rows x 2 columns]\n",
      "     idSorteo  num\n",
      "0        2126   10\n",
      "2        2125   19\n",
      "4        2124    4\n",
      "6        2123    6\n",
      "8        2122    8\n",
      "..        ...  ...\n",
      "903      1675    3\n",
      "905      1674    5\n",
      "907      1673    8\n",
      "909      1672    9\n",
      "911      1671    3\n",
      "\n",
      "[456 rows x 2 columns]\n",
      "     idSorteo  n1\n",
      "0        2126  10\n",
      "2        2125  19\n",
      "4        2124   4\n",
      "6        2123   6\n",
      "8        2122   8\n",
      "..        ...  ..\n",
      "903      1675   3\n",
      "905      1674   5\n",
      "907      1673   8\n",
      "909      1672   9\n",
      "911      1671   3\n",
      "\n",
      "[456 rows x 2 columns]\n",
      "     idSorteo  n2\n",
      "0        2126  20\n",
      "2        2125  30\n",
      "4        2124   9\n",
      "6        2123   7\n",
      "8        2122  23\n",
      "..        ...  ..\n",
      "903      1675   5\n",
      "905      1674  12\n",
      "907      1673  21\n",
      "909      1672  12\n",
      "911      1671   9\n",
      "\n",
      "[456 rows x 2 columns]\n",
      "     idSorteo  n3\n",
      "0        2126  25\n",
      "2        2125  38\n",
      "4        2124  13\n",
      "6        2123  23\n",
      "8        2122  27\n",
      "..        ...  ..\n",
      "903      1675   8\n",
      "905      1674  15\n",
      "907      1673  22\n",
      "909      1672  16\n",
      "911      1671  10\n",
      "\n",
      "[456 rows x 2 columns]\n",
      "     idSorteo  n4\n",
      "0        2126  30\n",
      "2        2125  39\n",
      "4        2124  18\n",
      "6        2123  36\n",
      "8        2122  33\n",
      "..        ...  ..\n",
      "903      1675  20\n",
      "905      1674  20\n",
      "907      1673  37\n",
      "909      1672  28\n",
      "911      1671  21\n",
      "\n",
      "[456 rows x 2 columns]\n",
      "     idSorteo  n5\n",
      "0        2126  36\n",
      "2        2125  41\n",
      "4        2124  25\n",
      "6        2123  43\n",
      "8        2122  42\n",
      "..        ...  ..\n",
      "903      1675  24\n",
      "905      1674  42\n",
      "907      1673  38\n",
      "909      1672  38\n",
      "911      1671  40\n",
      "\n",
      "[456 rows x 2 columns]\n"
     ]
    }
   ],
   "metadata": {}
  },
  {
   "cell_type": "code",
   "execution_count": 71,
   "source": [
    "df_2d_fusion_tr = concatenador_duplas(df_tr_fu_filt, 0)\r\n",
    "conteos_2d_tr = agrupa_duplas(df_2d_fusion_tr)\r\n",
    "conteos_2d_tr.to_csv(generaPath('O', 'conteos_2d_tr.csv'), header=['conteo','tupla'], index=None, sep=',', mode='w')"
   ],
   "outputs": [],
   "metadata": {}
  },
  {
   "cell_type": "code",
   "execution_count": 72,
   "source": [
    "df_2d_fusion_re = concatenador_duplas(df_re_fu_filt, 0)\r\n",
    "conteos_2d_re = agrupa_duplas(df_2d_fusion_re)\r\n",
    "conteos_2d_re.to_csv(generaPath('O', 'conteos_2d_re.csv'), header=['conteo','tupla'], index=None, sep=',', mode='w')"
   ],
   "outputs": [],
   "metadata": {}
  },
  {
   "cell_type": "code",
   "execution_count": 73,
   "source": [
    "df_3d_fusion_tr = concatenador_trios(df_tr_fu_filt, 0)\r\n",
    "conteos_3d_tr = agrupa_trios(df_3d_fusion_tr)\r\n",
    "conteos_3d_tr.to_csv(generaPath('O', 'conteos_3d_tr.csv'), header=['conteo','tupla'], index=None, sep=',', mode='w')"
   ],
   "outputs": [],
   "metadata": {}
  },
  {
   "cell_type": "code",
   "execution_count": 74,
   "source": [
    "df_3d_fusion_re = concatenador_trios(df_re_fu_filt, 0)\n",
    "conteos_3d_re = agrupa_trios(df_3d_fusion_re)\n",
    "conteos_3d_re.to_csv(generaPath('O', 'conteos_3d_re.csv'), header=['conteo','tupla'], index=None, sep=',', mode='w')"
   ],
   "outputs": [],
   "metadata": {}
  },
  {
   "cell_type": "code",
   "execution_count": 75,
   "source": [
    "df_4d_fusion_tr = concatenador_cuartetos(df_tr_fu_filt,0)\n",
    "conteos_4d_tr = agrupa_cuartetos(df_4d_fusion_tr)\n",
    "conteos_4d_tr.to_csv(generaPath('O', 'conteos_4d_tr.csv'), header=['conteo','tupla'], index=None, sep=',', mode='w')"
   ],
   "outputs": [],
   "metadata": {}
  },
  {
   "cell_type": "code",
   "execution_count": 76,
   "source": [
    "df_4d_fusion_re = concatenador_cuartetos(df_re_fu_filt,0)\n",
    "conteos_4d_re = agrupa_cuartetos(df_4d_fusion_re)\n",
    "conteos_4d_re.to_csv(generaPath('O', 'conteos_4d_re.csv'), header=['conteo','tupla'], index=None, sep=',', mode='w')"
   ],
   "outputs": [],
   "metadata": {}
  },
  {
   "cell_type": "code",
   "execution_count": 77,
   "source": [
    "df_5d_fusion_tr = concatenador_quintetos(df_tr_fu_filt, 0)\n",
    "conteos_5d_tr = agrupa_quintetos(df_5d_fusion_tr)\n",
    "conteos_5d_tr.to_csv(generaPath('O', 'conteos_5d_tr.csv'), header=['conteo','tupla'], index=None, sep=',', mode='w')"
   ],
   "outputs": [],
   "metadata": {}
  },
  {
   "cell_type": "code",
   "execution_count": 78,
   "source": [
    "df_5d_fusion_re = concatenador_quintetos(df_re_fu_filt, 0)\n",
    "conteos_5d_re = agrupa_quintetos(df_5d_fusion_re)\n",
    "conteos_5d_re.to_csv(generaPath('O', 'conteos_5d_re.csv'), header=['conteo','tupla'], index=None, sep=',', mode='w')"
   ],
   "outputs": [],
   "metadata": {}
  },
  {
   "cell_type": "code",
   "execution_count": 79,
   "source": [
    "df_final = df_3d_fusion_tr"
   ],
   "outputs": [],
   "metadata": {}
  },
  {
   "cell_type": "code",
   "execution_count": 80,
   "source": [
    "df_final"
   ],
   "outputs": [
    {
     "output_type": "execute_result",
     "data": {
      "text/html": [
       "<div>\n",
       "<style scoped>\n",
       "    .dataframe tbody tr th:only-of-type {\n",
       "        vertical-align: middle;\n",
       "    }\n",
       "\n",
       "    .dataframe tbody tr th {\n",
       "        vertical-align: top;\n",
       "    }\n",
       "\n",
       "    .dataframe thead th {\n",
       "        text-align: right;\n",
       "    }\n",
       "</style>\n",
       "<table border=\"1\" class=\"dataframe\">\n",
       "  <thead>\n",
       "    <tr style=\"text-align: right;\">\n",
       "      <th></th>\n",
       "      <th>idSorteo</th>\n",
       "      <th>num1</th>\n",
       "      <th>num2</th>\n",
       "      <th>num3</th>\n",
       "    </tr>\n",
       "  </thead>\n",
       "  <tbody>\n",
       "    <tr>\n",
       "      <td>0</td>\n",
       "      <td>2126</td>\n",
       "      <td>5</td>\n",
       "      <td>20</td>\n",
       "      <td>22</td>\n",
       "    </tr>\n",
       "    <tr>\n",
       "      <td>1</td>\n",
       "      <td>2125</td>\n",
       "      <td>1</td>\n",
       "      <td>16</td>\n",
       "      <td>24</td>\n",
       "    </tr>\n",
       "    <tr>\n",
       "      <td>2</td>\n",
       "      <td>2124</td>\n",
       "      <td>20</td>\n",
       "      <td>28</td>\n",
       "      <td>35</td>\n",
       "    </tr>\n",
       "    <tr>\n",
       "      <td>3</td>\n",
       "      <td>2123</td>\n",
       "      <td>9</td>\n",
       "      <td>17</td>\n",
       "      <td>39</td>\n",
       "    </tr>\n",
       "    <tr>\n",
       "      <td>4</td>\n",
       "      <td>2122</td>\n",
       "      <td>14</td>\n",
       "      <td>19</td>\n",
       "      <td>40</td>\n",
       "    </tr>\n",
       "    <tr>\n",
       "      <td>...</td>\n",
       "      <td>...</td>\n",
       "      <td>...</td>\n",
       "      <td>...</td>\n",
       "      <td>...</td>\n",
       "    </tr>\n",
       "    <tr>\n",
       "      <td>4555</td>\n",
       "      <td>1675</td>\n",
       "      <td>36</td>\n",
       "      <td>39</td>\n",
       "      <td>43</td>\n",
       "    </tr>\n",
       "    <tr>\n",
       "      <td>4556</td>\n",
       "      <td>1674</td>\n",
       "      <td>7</td>\n",
       "      <td>12</td>\n",
       "      <td>37</td>\n",
       "    </tr>\n",
       "    <tr>\n",
       "      <td>4557</td>\n",
       "      <td>1673</td>\n",
       "      <td>25</td>\n",
       "      <td>28</td>\n",
       "      <td>36</td>\n",
       "    </tr>\n",
       "    <tr>\n",
       "      <td>4558</td>\n",
       "      <td>1672</td>\n",
       "      <td>25</td>\n",
       "      <td>31</td>\n",
       "      <td>33</td>\n",
       "    </tr>\n",
       "    <tr>\n",
       "      <td>4559</td>\n",
       "      <td>1671</td>\n",
       "      <td>36</td>\n",
       "      <td>37</td>\n",
       "      <td>41</td>\n",
       "    </tr>\n",
       "  </tbody>\n",
       "</table>\n",
       "<p>4560 rows × 4 columns</p>\n",
       "</div>"
      ],
      "text/plain": [
       "      idSorteo  num1  num2  num3\n",
       "0         2126     5    20    22\n",
       "1         2125     1    16    24\n",
       "2         2124    20    28    35\n",
       "3         2123     9    17    39\n",
       "4         2122    14    19    40\n",
       "...        ...   ...   ...   ...\n",
       "4555      1675    36    39    43\n",
       "4556      1674     7    12    37\n",
       "4557      1673    25    28    36\n",
       "4558      1672    25    31    33\n",
       "4559      1671    36    37    41\n",
       "\n",
       "[4560 rows x 4 columns]"
      ]
     },
     "metadata": {},
     "execution_count": 80
    }
   ],
   "metadata": {}
  },
  {
   "cell_type": "code",
   "execution_count": 81,
   "source": [
    "#sns.set(style=\"darkgrid\")\n",
    "#ax = sns.countplot(y=\"num\", data=df_final)"
   ],
   "outputs": [],
   "metadata": {}
  },
  {
   "cell_type": "code",
   "execution_count": 82,
   "source": [
    "#sns.set(style=\"darkgrid\")\n",
    "#x= df_final.num\n",
    "#ax = sns.distplot(x, bins=43)"
   ],
   "outputs": [],
   "metadata": {}
  },
  {
   "cell_type": "code",
   "execution_count": 83,
   "source": [
    "#df_topes = df_tr_fu_filt_delta.iloc[0::1,[0]]\n",
    "g = sns.jointplot(\"conteo\", \"tupla\",  data=conteos_2d_re, kind=\"reg\", xlim=(1, 43), ylim=(1650, 1940), color=\"m\", height=15)"
   ],
   "outputs": [
    {
     "output_type": "error",
     "ename": "TypeError",
     "evalue": "can't multiply sequence by non-int of type 'float'",
     "traceback": [
      "\u001b[1;31m---------------------------------------------------------------------------\u001b[0m",
      "\u001b[1;31mTypeError\u001b[0m                                 Traceback (most recent call last)",
      "\u001b[1;32m<ipython-input-83-e73a1251a4c0>\u001b[0m in \u001b[0;36m<module>\u001b[1;34m\u001b[0m\n\u001b[0;32m      1\u001b[0m \u001b[1;31m#df_topes = df_tr_fu_filt_delta.iloc[0::1,[0]]\u001b[0m\u001b[1;33m\u001b[0m\u001b[1;33m\u001b[0m\u001b[1;33m\u001b[0m\u001b[0m\n\u001b[1;32m----> 2\u001b[1;33m \u001b[0mg\u001b[0m \u001b[1;33m=\u001b[0m \u001b[0msns\u001b[0m\u001b[1;33m.\u001b[0m\u001b[0mjointplot\u001b[0m\u001b[1;33m(\u001b[0m\u001b[1;34m\"conteo\"\u001b[0m\u001b[1;33m,\u001b[0m \u001b[1;34m\"tupla\"\u001b[0m\u001b[1;33m,\u001b[0m  \u001b[0mdata\u001b[0m\u001b[1;33m=\u001b[0m\u001b[0mconteos_2d_re\u001b[0m\u001b[1;33m,\u001b[0m \u001b[0mkind\u001b[0m\u001b[1;33m=\u001b[0m\u001b[1;34m\"reg\"\u001b[0m\u001b[1;33m,\u001b[0m \u001b[0mxlim\u001b[0m\u001b[1;33m=\u001b[0m\u001b[1;33m(\u001b[0m\u001b[1;36m1\u001b[0m\u001b[1;33m,\u001b[0m \u001b[1;36m43\u001b[0m\u001b[1;33m)\u001b[0m\u001b[1;33m,\u001b[0m \u001b[0mylim\u001b[0m\u001b[1;33m=\u001b[0m\u001b[1;33m(\u001b[0m\u001b[1;36m1650\u001b[0m\u001b[1;33m,\u001b[0m \u001b[1;36m1940\u001b[0m\u001b[1;33m)\u001b[0m\u001b[1;33m,\u001b[0m \u001b[0mcolor\u001b[0m\u001b[1;33m=\u001b[0m\u001b[1;34m\"m\"\u001b[0m\u001b[1;33m,\u001b[0m \u001b[0mheight\u001b[0m\u001b[1;33m=\u001b[0m\u001b[1;36m15\u001b[0m\u001b[1;33m)\u001b[0m\u001b[1;33m\u001b[0m\u001b[1;33m\u001b[0m\u001b[0m\n\u001b[0m",
      "\u001b[1;32m~\\.conda\\envs\\dsbasic\\lib\\site-packages\\seaborn\\axisgrid.py\u001b[0m in \u001b[0;36mjointplot\u001b[1;34m(x, y, data, kind, stat_func, color, height, ratio, space, dropna, xlim, ylim, joint_kws, marginal_kws, annot_kws, **kwargs)\u001b[0m\n\u001b[0;32m   2323\u001b[0m \u001b[1;33m\u001b[0m\u001b[0m\n\u001b[0;32m   2324\u001b[0m         \u001b[0mmarginal_kws\u001b[0m\u001b[1;33m.\u001b[0m\u001b[0msetdefault\u001b[0m\u001b[1;33m(\u001b[0m\u001b[1;34m\"color\"\u001b[0m\u001b[1;33m,\u001b[0m \u001b[0mcolor\u001b[0m\u001b[1;33m)\u001b[0m\u001b[1;33m\u001b[0m\u001b[1;33m\u001b[0m\u001b[0m\n\u001b[1;32m-> 2325\u001b[1;33m         \u001b[0mgrid\u001b[0m\u001b[1;33m.\u001b[0m\u001b[0mplot_marginals\u001b[0m\u001b[1;33m(\u001b[0m\u001b[0mdistplot\u001b[0m\u001b[1;33m,\u001b[0m \u001b[1;33m**\u001b[0m\u001b[0mmarginal_kws\u001b[0m\u001b[1;33m)\u001b[0m\u001b[1;33m\u001b[0m\u001b[1;33m\u001b[0m\u001b[0m\n\u001b[0m\u001b[0;32m   2326\u001b[0m \u001b[1;33m\u001b[0m\u001b[0m\n\u001b[0;32m   2327\u001b[0m         \u001b[0mjoint_kws\u001b[0m\u001b[1;33m.\u001b[0m\u001b[0msetdefault\u001b[0m\u001b[1;33m(\u001b[0m\u001b[1;34m\"color\"\u001b[0m\u001b[1;33m,\u001b[0m \u001b[0mcolor\u001b[0m\u001b[1;33m)\u001b[0m\u001b[1;33m\u001b[0m\u001b[1;33m\u001b[0m\u001b[0m\n",
      "\u001b[1;32m~\\.conda\\envs\\dsbasic\\lib\\site-packages\\seaborn\\axisgrid.py\u001b[0m in \u001b[0;36mplot_marginals\u001b[1;34m(self, func, **kwargs)\u001b[0m\n\u001b[0;32m   1811\u001b[0m         \u001b[0mkwargs\u001b[0m\u001b[1;33m[\u001b[0m\u001b[1;34m\"vertical\"\u001b[0m\u001b[1;33m]\u001b[0m \u001b[1;33m=\u001b[0m \u001b[1;32mTrue\u001b[0m\u001b[1;33m\u001b[0m\u001b[1;33m\u001b[0m\u001b[0m\n\u001b[0;32m   1812\u001b[0m         \u001b[0mplt\u001b[0m\u001b[1;33m.\u001b[0m\u001b[0msca\u001b[0m\u001b[1;33m(\u001b[0m\u001b[0mself\u001b[0m\u001b[1;33m.\u001b[0m\u001b[0max_marg_y\u001b[0m\u001b[1;33m)\u001b[0m\u001b[1;33m\u001b[0m\u001b[1;33m\u001b[0m\u001b[0m\n\u001b[1;32m-> 1813\u001b[1;33m         \u001b[0mfunc\u001b[0m\u001b[1;33m(\u001b[0m\u001b[0mself\u001b[0m\u001b[1;33m.\u001b[0m\u001b[0my\u001b[0m\u001b[1;33m,\u001b[0m \u001b[1;33m**\u001b[0m\u001b[0mkwargs\u001b[0m\u001b[1;33m)\u001b[0m\u001b[1;33m\u001b[0m\u001b[1;33m\u001b[0m\u001b[0m\n\u001b[0m\u001b[0;32m   1814\u001b[0m \u001b[1;33m\u001b[0m\u001b[0m\n\u001b[0;32m   1815\u001b[0m         \u001b[1;32mreturn\u001b[0m \u001b[0mself\u001b[0m\u001b[1;33m\u001b[0m\u001b[1;33m\u001b[0m\u001b[0m\n",
      "\u001b[1;32m~\\.conda\\envs\\dsbasic\\lib\\site-packages\\seaborn\\distributions.py\u001b[0m in \u001b[0;36mdistplot\u001b[1;34m(a, bins, hist, kde, rug, fit, hist_kws, kde_kws, rug_kws, fit_kws, color, vertical, norm_hist, axlabel, label, ax)\u001b[0m\n\u001b[0;32m    213\u001b[0m     \u001b[1;32mif\u001b[0m \u001b[0mhist\u001b[0m\u001b[1;33m:\u001b[0m\u001b[1;33m\u001b[0m\u001b[1;33m\u001b[0m\u001b[0m\n\u001b[0;32m    214\u001b[0m         \u001b[1;32mif\u001b[0m \u001b[0mbins\u001b[0m \u001b[1;32mis\u001b[0m \u001b[1;32mNone\u001b[0m\u001b[1;33m:\u001b[0m\u001b[1;33m\u001b[0m\u001b[1;33m\u001b[0m\u001b[0m\n\u001b[1;32m--> 215\u001b[1;33m             \u001b[0mbins\u001b[0m \u001b[1;33m=\u001b[0m \u001b[0mmin\u001b[0m\u001b[1;33m(\u001b[0m\u001b[0m_freedman_diaconis_bins\u001b[0m\u001b[1;33m(\u001b[0m\u001b[0ma\u001b[0m\u001b[1;33m)\u001b[0m\u001b[1;33m,\u001b[0m \u001b[1;36m50\u001b[0m\u001b[1;33m)\u001b[0m\u001b[1;33m\u001b[0m\u001b[1;33m\u001b[0m\u001b[0m\n\u001b[0m\u001b[0;32m    216\u001b[0m         \u001b[0mhist_kws\u001b[0m\u001b[1;33m.\u001b[0m\u001b[0msetdefault\u001b[0m\u001b[1;33m(\u001b[0m\u001b[1;34m\"alpha\"\u001b[0m\u001b[1;33m,\u001b[0m \u001b[1;36m0.4\u001b[0m\u001b[1;33m)\u001b[0m\u001b[1;33m\u001b[0m\u001b[1;33m\u001b[0m\u001b[0m\n\u001b[0;32m    217\u001b[0m         \u001b[1;32mif\u001b[0m \u001b[0mLooseVersion\u001b[0m\u001b[1;33m(\u001b[0m\u001b[0mmpl\u001b[0m\u001b[1;33m.\u001b[0m\u001b[0m__version__\u001b[0m\u001b[1;33m)\u001b[0m \u001b[1;33m<\u001b[0m \u001b[0mLooseVersion\u001b[0m\u001b[1;33m(\u001b[0m\u001b[1;34m\"2.2\"\u001b[0m\u001b[1;33m)\u001b[0m\u001b[1;33m:\u001b[0m\u001b[1;33m\u001b[0m\u001b[1;33m\u001b[0m\u001b[0m\n",
      "\u001b[1;32m~\\.conda\\envs\\dsbasic\\lib\\site-packages\\seaborn\\distributions.py\u001b[0m in \u001b[0;36m_freedman_diaconis_bins\u001b[1;34m(a)\u001b[0m\n\u001b[0;32m     32\u001b[0m     \u001b[1;32mif\u001b[0m \u001b[0mlen\u001b[0m\u001b[1;33m(\u001b[0m\u001b[0ma\u001b[0m\u001b[1;33m)\u001b[0m \u001b[1;33m<\u001b[0m \u001b[1;36m2\u001b[0m\u001b[1;33m:\u001b[0m\u001b[1;33m\u001b[0m\u001b[1;33m\u001b[0m\u001b[0m\n\u001b[0;32m     33\u001b[0m         \u001b[1;32mreturn\u001b[0m \u001b[1;36m1\u001b[0m\u001b[1;33m\u001b[0m\u001b[1;33m\u001b[0m\u001b[0m\n\u001b[1;32m---> 34\u001b[1;33m     \u001b[0mh\u001b[0m \u001b[1;33m=\u001b[0m \u001b[1;36m2\u001b[0m \u001b[1;33m*\u001b[0m \u001b[0miqr\u001b[0m\u001b[1;33m(\u001b[0m\u001b[0ma\u001b[0m\u001b[1;33m)\u001b[0m \u001b[1;33m/\u001b[0m \u001b[1;33m(\u001b[0m\u001b[0mlen\u001b[0m\u001b[1;33m(\u001b[0m\u001b[0ma\u001b[0m\u001b[1;33m)\u001b[0m \u001b[1;33m**\u001b[0m \u001b[1;33m(\u001b[0m\u001b[1;36m1\u001b[0m \u001b[1;33m/\u001b[0m \u001b[1;36m3\u001b[0m\u001b[1;33m)\u001b[0m\u001b[1;33m)\u001b[0m\u001b[1;33m\u001b[0m\u001b[1;33m\u001b[0m\u001b[0m\n\u001b[0m\u001b[0;32m     35\u001b[0m     \u001b[1;31m# fall back to sqrt(a) bins if iqr is 0\u001b[0m\u001b[1;33m\u001b[0m\u001b[1;33m\u001b[0m\u001b[1;33m\u001b[0m\u001b[0m\n\u001b[0;32m     36\u001b[0m     \u001b[1;32mif\u001b[0m \u001b[0mh\u001b[0m \u001b[1;33m==\u001b[0m \u001b[1;36m0\u001b[0m\u001b[1;33m:\u001b[0m\u001b[1;33m\u001b[0m\u001b[1;33m\u001b[0m\u001b[0m\n",
      "\u001b[1;32m~\\.conda\\envs\\dsbasic\\lib\\site-packages\\seaborn\\utils.py\u001b[0m in \u001b[0;36miqr\u001b[1;34m(a)\u001b[0m\n\u001b[0;32m    364\u001b[0m     \u001b[1;34m\"\"\"Calculate the IQR for an array of numbers.\"\"\"\u001b[0m\u001b[1;33m\u001b[0m\u001b[1;33m\u001b[0m\u001b[0m\n\u001b[0;32m    365\u001b[0m     \u001b[0ma\u001b[0m \u001b[1;33m=\u001b[0m \u001b[0mnp\u001b[0m\u001b[1;33m.\u001b[0m\u001b[0masarray\u001b[0m\u001b[1;33m(\u001b[0m\u001b[0ma\u001b[0m\u001b[1;33m)\u001b[0m\u001b[1;33m\u001b[0m\u001b[1;33m\u001b[0m\u001b[0m\n\u001b[1;32m--> 366\u001b[1;33m     \u001b[0mq1\u001b[0m \u001b[1;33m=\u001b[0m \u001b[0mstats\u001b[0m\u001b[1;33m.\u001b[0m\u001b[0mscoreatpercentile\u001b[0m\u001b[1;33m(\u001b[0m\u001b[0ma\u001b[0m\u001b[1;33m,\u001b[0m \u001b[1;36m25\u001b[0m\u001b[1;33m)\u001b[0m\u001b[1;33m\u001b[0m\u001b[1;33m\u001b[0m\u001b[0m\n\u001b[0m\u001b[0;32m    367\u001b[0m     \u001b[0mq3\u001b[0m \u001b[1;33m=\u001b[0m \u001b[0mstats\u001b[0m\u001b[1;33m.\u001b[0m\u001b[0mscoreatpercentile\u001b[0m\u001b[1;33m(\u001b[0m\u001b[0ma\u001b[0m\u001b[1;33m,\u001b[0m \u001b[1;36m75\u001b[0m\u001b[1;33m)\u001b[0m\u001b[1;33m\u001b[0m\u001b[1;33m\u001b[0m\u001b[0m\n\u001b[0;32m    368\u001b[0m     \u001b[1;32mreturn\u001b[0m \u001b[0mq3\u001b[0m \u001b[1;33m-\u001b[0m \u001b[0mq1\u001b[0m\u001b[1;33m\u001b[0m\u001b[1;33m\u001b[0m\u001b[0m\n",
      "\u001b[1;32m~\\.conda\\envs\\dsbasic\\lib\\site-packages\\scipy\\stats\\stats.py\u001b[0m in \u001b[0;36mscoreatpercentile\u001b[1;34m(a, per, limit, interpolation_method, axis)\u001b[0m\n\u001b[0;32m   1729\u001b[0m         \u001b[0maxis\u001b[0m \u001b[1;33m=\u001b[0m \u001b[1;36m0\u001b[0m\u001b[1;33m\u001b[0m\u001b[1;33m\u001b[0m\u001b[0m\n\u001b[0;32m   1730\u001b[0m \u001b[1;33m\u001b[0m\u001b[0m\n\u001b[1;32m-> 1731\u001b[1;33m     \u001b[1;32mreturn\u001b[0m \u001b[0m_compute_qth_percentile\u001b[0m\u001b[1;33m(\u001b[0m\u001b[0msorted_\u001b[0m\u001b[1;33m,\u001b[0m \u001b[0mper\u001b[0m\u001b[1;33m,\u001b[0m \u001b[0minterpolation_method\u001b[0m\u001b[1;33m,\u001b[0m \u001b[0maxis\u001b[0m\u001b[1;33m)\u001b[0m\u001b[1;33m\u001b[0m\u001b[1;33m\u001b[0m\u001b[0m\n\u001b[0m\u001b[0;32m   1732\u001b[0m \u001b[1;33m\u001b[0m\u001b[0m\n\u001b[0;32m   1733\u001b[0m \u001b[1;33m\u001b[0m\u001b[0m\n",
      "\u001b[1;32m~\\.conda\\envs\\dsbasic\\lib\\site-packages\\scipy\\stats\\stats.py\u001b[0m in \u001b[0;36m_compute_qth_percentile\u001b[1;34m(sorted_, per, interpolation_method, axis)\u001b[0m\n\u001b[0;32m   1773\u001b[0m \u001b[1;33m\u001b[0m\u001b[0m\n\u001b[0;32m   1774\u001b[0m     \u001b[1;31m# Use np.add.reduce (== np.sum but a little faster) to coerce data type\u001b[0m\u001b[1;33m\u001b[0m\u001b[1;33m\u001b[0m\u001b[1;33m\u001b[0m\u001b[0m\n\u001b[1;32m-> 1775\u001b[1;33m     \u001b[1;32mreturn\u001b[0m \u001b[0mnp\u001b[0m\u001b[1;33m.\u001b[0m\u001b[0madd\u001b[0m\u001b[1;33m.\u001b[0m\u001b[0mreduce\u001b[0m\u001b[1;33m(\u001b[0m\u001b[0msorted_\u001b[0m\u001b[1;33m[\u001b[0m\u001b[0mtuple\u001b[0m\u001b[1;33m(\u001b[0m\u001b[0mindexer\u001b[0m\u001b[1;33m)\u001b[0m\u001b[1;33m]\u001b[0m \u001b[1;33m*\u001b[0m \u001b[0mweights\u001b[0m\u001b[1;33m,\u001b[0m \u001b[0maxis\u001b[0m\u001b[1;33m=\u001b[0m\u001b[0maxis\u001b[0m\u001b[1;33m)\u001b[0m \u001b[1;33m/\u001b[0m \u001b[0msumval\u001b[0m\u001b[1;33m\u001b[0m\u001b[1;33m\u001b[0m\u001b[0m\n\u001b[0m\u001b[0;32m   1776\u001b[0m \u001b[1;33m\u001b[0m\u001b[0m\n\u001b[0;32m   1777\u001b[0m \u001b[1;33m\u001b[0m\u001b[0m\n",
      "\u001b[1;31mTypeError\u001b[0m: can't multiply sequence by non-int of type 'float'"
     ]
    },
    {
     "output_type": "display_data",
     "data": {
      "image/png": "[encoded data removed]",
      "text/plain": [
       "<Figure size 1080x1080 with 3 Axes>"
      ]
     },
     "metadata": {}
    }
   ],
   "metadata": {}
  },
  {
   "cell_type": "code",
   "execution_count": null,
   "source": [
    "sns.pairplot(df_final, hue=\"num\")"
   ],
   "outputs": [],
   "metadata": {}
  },
  {
   "cell_type": "code",
   "execution_count": null,
   "source": [
    "grid = sns.FacetGrid(df_final, col=\"num\", hue=\"num\", palette=\"tab20c\", col_wrap=4, height=4)\n",
    "grid.map(plt.axhline, y=0, ls=\":\", c=\".5\")\n",
    "grid.map(plt.plot, \"num\", \"idSorteo\", marker=\"o\")\n",
    "grid.set(xticks=np.arange(5), yticks=[-3, 3], xlim=(-.5, 4.5), ylim=(-3.5, 3.5))\n",
    "grid.fig.tight_layout(w_pad=1)"
   ],
   "outputs": [],
   "metadata": {}
  },
  {
   "cell_type": "code",
   "execution_count": null,
   "source": [
    "a4_dims = (11.7, 8.27)\n",
    "df = mylib.load_data()\n",
    "fig, ax = pyplot.subplots(figsize=a4_dims)\n",
    "seaborn.violinplot(ax=ax, data=df, **violin_options)\n",
    "\n",
    "ax = sns.barplot(x=\"num\", y=\"num\", data=df_final, estimator=lambda x: len(x) / len(df) * 100)\n",
    "ax.set(ylabel=\"Percent\")"
   ],
   "outputs": [],
   "metadata": {}
  },
  {
   "cell_type": "code",
   "execution_count": null,
   "source": [
    "df_conteos = df_final.num.value_counts()\n",
    "df_conteos.info()"
   ],
   "outputs": [],
   "metadata": {}
  },
  {
   "cell_type": "code",
   "execution_count": null,
   "source": [
    "sns.set(style=\"darkgrid\")\n",
    "x= df_conteos.num\n",
    "ax = sns.distplot(x, bins=43)"
   ],
   "outputs": [],
   "metadata": {}
  },
  {
   "cell_type": "code",
   "execution_count": null,
   "source": [],
   "outputs": [],
   "metadata": {}
  },
  {
   "cell_type": "code",
   "execution_count": null,
   "source": [],
   "outputs": [],
   "metadata": {}
  }
 ],
 "metadata": {
  "kernelspec": {
   "name": "python3",
   "display_name": "Python 3.7.4 64-bit ('dsbasic': conda)"
  },
  "language_info": {
   "codemirror_mode": {
    "name": "ipython",
    "version": 3
   },
   "file_extension": ".py",
   "mimetype": "text/x-python",
   "name": "python",
   "nbconvert_exporter": "python",
   "pygments_lexer": "ipython3",
   "version": "3.7.4"
  },
  "interpreter": {
   "hash": "2d3d3270e417e1e52e34ac8b854cc2805d4f43e36bc3a05dc9d1a620d4ed2e67"
  }
 },
 "nbformat": 4,
 "nbformat_minor": 4
}