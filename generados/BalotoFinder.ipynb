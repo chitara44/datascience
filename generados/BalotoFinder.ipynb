{
 "cells": [
  {
   "cell_type": "code",
   "execution_count": 1,
   "metadata": {},
   "outputs": [],
   "source": [
    "import random\n",
    "import pandas as pd\n",
    "import numpy as np\n",
    "import seaborn as sns\n",
    "import matplotlib.pyplot as plt\n",
    "import os\n",
    "import math\n",
    "from sklearn import metrics\n",
    "from sklearn.pipeline import Pipeline\n",
    "from sklearn.preprocessing import StandardScaler, LabelEncoder, OneHotEncoder, KBinsDiscretizer\n",
    "from sklearn.model_selection import train_test_split\n",
    "from sklearn.tree import DecisionTreeRegressor\n",
    "from sklearn.model_selection import cross_val_score\n",
    "from sklearn.metrics import mean_squared_error\n",
    "from sklearn.neighbors import KNeighborsClassifier, KNeighborsRegressor\n",
    "from sklearn.preprocessing import StandardScaler\n",
    "from time import sleep\n",
    "\n",
    "pd.set_option('display.float_format', lambda x: '%.3f' % x)\n",
    "\n",
    "sns.set()"
   ]
  },
  {
   "cell_type": "code",
   "execution_count": 2,
   "metadata": {},
   "outputs": [],
   "source": [
    "def generaPath(tipo, nombre):\n",
    "    prepath = str(os.getcwd())\n",
    "    #print(prepath)\n",
    "    if (tipo == \"I\"):\n",
    "        path = prepath + '\\\\' + nombre\n",
    "    else :\n",
    "        path = prepath + '\\\\generados\\\\' + nombre\n",
    "    return path"
   ]
  },
  {
   "cell_type": "code",
   "execution_count": 3,
   "metadata": {},
   "outputs": [],
   "source": [
    "df_cq_tr = pd.read_csv(generaPath('I', 'df_cq_tr.csv'))\n",
    "df_cq_re = pd.read_csv(generaPath('I', 'df_cq_re.csv'))\n",
    "\n",
    "df_cc_tr = pd.read_csv(generaPath('I', 'df_cc_tr.csv'))\n",
    "df_cc_re = pd.read_csv(generaPath('I', 'df_cc_re.csv'))\n"
   ]
  },
  {
   "cell_type": "code",
   "execution_count": 4,
   "metadata": {},
   "outputs": [
    {
     "data": {
      "text/html": [
       "<div>\n",
       "<style scoped>\n",
       "    .dataframe tbody tr th:only-of-type {\n",
       "        vertical-align: middle;\n",
       "    }\n",
       "\n",
       "    .dataframe tbody tr th {\n",
       "        vertical-align: top;\n",
       "    }\n",
       "\n",
       "    .dataframe thead th {\n",
       "        text-align: right;\n",
       "    }\n",
       "</style>\n",
       "<table border=\"1\" class=\"dataframe\">\n",
       "  <thead>\n",
       "    <tr style=\"text-align: right;\">\n",
       "      <th></th>\n",
       "      <th>conteo</th>\n",
       "      <th>tupla</th>\n",
       "      <th>X</th>\n",
       "      <th>L</th>\n",
       "      <th>R</th>\n",
       "      <th>M</th>\n",
       "      <th>T</th>\n",
       "      <th>P</th>\n",
       "      <th>Pr</th>\n",
       "      <th>PrX</th>\n",
       "      <th>PrL</th>\n",
       "      <th>PrM</th>\n",
       "    </tr>\n",
       "  </thead>\n",
       "  <tbody>\n",
       "    <tr>\n",
       "      <td>0</td>\n",
       "      <td>1</td>\n",
       "      <td>10|11|15|28|35</td>\n",
       "      <td>218</td>\n",
       "      <td>153</td>\n",
       "      <td>65</td>\n",
       "      <td>153|283</td>\n",
       "      <td>153|283</td>\n",
       "      <td>0.002</td>\n",
       "      <td>0.667</td>\n",
       "      <td>1.000</td>\n",
       "      <td>1.000</td>\n",
       "      <td>0.002</td>\n",
       "    </tr>\n",
       "    <tr>\n",
       "      <td>1</td>\n",
       "      <td>1</td>\n",
       "      <td>10|11|15|31|38</td>\n",
       "      <td>218</td>\n",
       "      <td>202</td>\n",
       "      <td>16</td>\n",
       "      <td>202|234</td>\n",
       "      <td>202|234</td>\n",
       "      <td>0.002</td>\n",
       "      <td>0.667</td>\n",
       "      <td>1.000</td>\n",
       "      <td>1.000</td>\n",
       "      <td>0.002</td>\n",
       "    </tr>\n",
       "    <tr>\n",
       "      <td>2</td>\n",
       "      <td>1</td>\n",
       "      <td>10|11|37|40|41</td>\n",
       "      <td>218</td>\n",
       "      <td>92</td>\n",
       "      <td>126</td>\n",
       "      <td>92|344</td>\n",
       "      <td>92|344</td>\n",
       "      <td>0.002</td>\n",
       "      <td>0.667</td>\n",
       "      <td>1.000</td>\n",
       "      <td>1.000</td>\n",
       "      <td>0.002</td>\n",
       "    </tr>\n",
       "    <tr>\n",
       "      <td>3</td>\n",
       "      <td>1</td>\n",
       "      <td>10|12|13|32|38</td>\n",
       "      <td>218</td>\n",
       "      <td>272</td>\n",
       "      <td>54</td>\n",
       "      <td>272|164</td>\n",
       "      <td>272|164</td>\n",
       "      <td>0.002</td>\n",
       "      <td>0.667</td>\n",
       "      <td>1.000</td>\n",
       "      <td>1.000</td>\n",
       "      <td>0.002</td>\n",
       "    </tr>\n",
       "    <tr>\n",
       "      <td>4</td>\n",
       "      <td>1</td>\n",
       "      <td>10|12|16|17|27</td>\n",
       "      <td>218</td>\n",
       "      <td>332</td>\n",
       "      <td>114</td>\n",
       "      <td>332|104</td>\n",
       "      <td>332|104</td>\n",
       "      <td>0.002</td>\n",
       "      <td>0.667</td>\n",
       "      <td>1.000</td>\n",
       "      <td>1.000</td>\n",
       "      <td>0.002</td>\n",
       "    </tr>\n",
       "    <tr>\n",
       "      <td>...</td>\n",
       "      <td>...</td>\n",
       "      <td>...</td>\n",
       "      <td>...</td>\n",
       "      <td>...</td>\n",
       "      <td>...</td>\n",
       "      <td>...</td>\n",
       "      <td>...</td>\n",
       "      <td>...</td>\n",
       "      <td>...</td>\n",
       "      <td>...</td>\n",
       "      <td>...</td>\n",
       "      <td>...</td>\n",
       "    </tr>\n",
       "    <tr>\n",
       "      <td>432</td>\n",
       "      <td>1</td>\n",
       "      <td>9|17|28|31|40</td>\n",
       "      <td>218</td>\n",
       "      <td>129</td>\n",
       "      <td>89</td>\n",
       "      <td>129|307</td>\n",
       "      <td>129|307</td>\n",
       "      <td>0.002</td>\n",
       "      <td>0.667</td>\n",
       "      <td>1.000</td>\n",
       "      <td>1.000</td>\n",
       "      <td>0.002</td>\n",
       "    </tr>\n",
       "    <tr>\n",
       "      <td>433</td>\n",
       "      <td>1</td>\n",
       "      <td>9|17|28|35|38</td>\n",
       "      <td>218</td>\n",
       "      <td>86</td>\n",
       "      <td>132</td>\n",
       "      <td>86|350</td>\n",
       "      <td>86|350</td>\n",
       "      <td>0.002</td>\n",
       "      <td>0.667</td>\n",
       "      <td>1.000</td>\n",
       "      <td>1.000</td>\n",
       "      <td>0.002</td>\n",
       "    </tr>\n",
       "    <tr>\n",
       "      <td>434</td>\n",
       "      <td>1</td>\n",
       "      <td>9|19|20|36|37</td>\n",
       "      <td>218</td>\n",
       "      <td>79</td>\n",
       "      <td>139</td>\n",
       "      <td>79|357</td>\n",
       "      <td>79|357</td>\n",
       "      <td>0.002</td>\n",
       "      <td>0.667</td>\n",
       "      <td>1.000</td>\n",
       "      <td>1.000</td>\n",
       "      <td>0.002</td>\n",
       "    </tr>\n",
       "    <tr>\n",
       "      <td>435</td>\n",
       "      <td>1</td>\n",
       "      <td>9|20|24|31|33</td>\n",
       "      <td>218</td>\n",
       "      <td>420</td>\n",
       "      <td>202</td>\n",
       "      <td>420|16</td>\n",
       "      <td>420|16</td>\n",
       "      <td>0.002</td>\n",
       "      <td>0.667</td>\n",
       "      <td>1.000</td>\n",
       "      <td>1.000</td>\n",
       "      <td>0.002</td>\n",
       "    </tr>\n",
       "    <tr>\n",
       "      <td>436</td>\n",
       "      <td>1</td>\n",
       "      <td>9|24|25|27|40</td>\n",
       "      <td>218</td>\n",
       "      <td>65</td>\n",
       "      <td>153</td>\n",
       "      <td>65|371</td>\n",
       "      <td>65|371</td>\n",
       "      <td>0.002</td>\n",
       "      <td>0.667</td>\n",
       "      <td>1.000</td>\n",
       "      <td>1.000</td>\n",
       "      <td>0.002</td>\n",
       "    </tr>\n",
       "  </tbody>\n",
       "</table>\n",
       "<p>437 rows × 12 columns</p>\n",
       "</div>"
      ],
      "text/plain": [
       "     conteo           tupla    X    L    R        M        T     P    Pr  \\\n",
       "0         1  10|11|15|28|35  218  153   65  153|283  153|283 0.002 0.667   \n",
       "1         1  10|11|15|31|38  218  202   16  202|234  202|234 0.002 0.667   \n",
       "2         1  10|11|37|40|41  218   92  126   92|344   92|344 0.002 0.667   \n",
       "3         1  10|12|13|32|38  218  272   54  272|164  272|164 0.002 0.667   \n",
       "4         1  10|12|16|17|27  218  332  114  332|104  332|104 0.002 0.667   \n",
       "..      ...             ...  ...  ...  ...      ...      ...   ...   ...   \n",
       "432       1   9|17|28|31|40  218  129   89  129|307  129|307 0.002 0.667   \n",
       "433       1   9|17|28|35|38  218   86  132   86|350   86|350 0.002 0.667   \n",
       "434       1   9|19|20|36|37  218   79  139   79|357   79|357 0.002 0.667   \n",
       "435       1   9|20|24|31|33  218  420  202   420|16   420|16 0.002 0.667   \n",
       "436       1   9|24|25|27|40  218   65  153   65|371   65|371 0.002 0.667   \n",
       "\n",
       "      PrX   PrL   PrM  \n",
       "0   1.000 1.000 0.002  \n",
       "1   1.000 1.000 0.002  \n",
       "2   1.000 1.000 0.002  \n",
       "3   1.000 1.000 0.002  \n",
       "4   1.000 1.000 0.002  \n",
       "..    ...   ...   ...  \n",
       "432 1.000 1.000 0.002  \n",
       "433 1.000 1.000 0.002  \n",
       "434 1.000 1.000 0.002  \n",
       "435 1.000 1.000 0.002  \n",
       "436 1.000 1.000 0.002  \n",
       "\n",
       "[437 rows x 12 columns]"
      ]
     },
     "execution_count": 4,
     "metadata": {},
     "output_type": "execute_result"
    }
   ],
   "source": [
    "df_cq_tr"
   ]
  },
  {
   "cell_type": "markdown",
   "metadata": {},
   "source": [
    "#### Introduzca datos para validar cuartetos y quintetos"
   ]
  },
  {
   "cell_type": "code",
   "execution_count": 5,
   "metadata": {},
   "outputs": [],
   "source": [
    "def cayo_antestetos(conteos, df):\n",
    "    media = []\n",
    "    modaa = []\n",
    "    lasts = []\n",
    "    delta = []  \n",
    "    resta = []\n",
    "    for index, row in conteos.iterrows():\n",
    "        sbs = str(row[1])\n",
    "        splitedtupla= unsplited_tupla(sbs)\n",
    "        sbs1 = [str(splitedtupla[0])]\n",
    "        sbs2 = [str(splitedtupla[1])]\n",
    "        sbs3 = [str(splitedtupla[2])]\n",
    "        sbs4 = [str(splitedtupla[3])]\n",
    "        sbs5 = [str(splitedtupla[4])]\n",
    "        dftx = df[(df.n1.isin(sbs1) | df.n2.isin(sbs1) |df.n3.isin(sbs1) | df.n4.isin(sbs1) |df.n5.isin(sbs1)) \n",
    "                & (df.n1.isin(sbs2) | df.n2.isin(sbs2) |df.n3.isin(sbs2) | df.n4.isin(sbs2) |df.n5.isin(sbs2)) \n",
    "                & (df.n1.isin(sbs3) | df.n2.isin(sbs3) |df.n3.isin(sbs3) | df.n4.isin(sbs3) |df.n5.isin(sbs3))\n",
    "                & (df.n1.isin(sbs4) | df.n2.isin(sbs4) |df.n3.isin(sbs4) | df.n4.isin(sbs4) |df.n5.isin(sbs4))\n",
    "                & (df.n1.isin(sbs5) | df.n2.isin(sbs5) |df.n3.isin(sbs5) | df.n4.isin(sbs5) |df.n5.isin(sbs5)) ]\n",
    "        #print(dftx)\n",
    "        df_filt = dftx.iloc[0::1,[0]]\n",
    "        df_tupla = calcular_deltas_verticales(df_filt)\n",
    "        lasts.append(df_tupla[0])\n",
    "        media.append(calc_media(df_tupla))\n",
    "        resta.append(abs(int(df_tupla[0])- int(calc_media(df_tupla))))\n",
    "        df_moda = calc_moda(df_tupla)\n",
    "        pal = '|'.join([str(m) for m in df_moda]) if len(df_moda) > 1  else str(df_moda[0])\n",
    "        modaa.append(pal)\n",
    "        palabra = '|'.join([str(e) for e in df_tupla]) \n",
    "        delta.append(palabra)\n",
    "    dft = conteos\n",
    "    dft['X'] = media\n",
    "    dft['L'] = lasts\n",
    "    dft['R'] = resta\n",
    "    dft['M'] = modaa\n",
    "    df_filt2 = dft.iloc[0::1,[0]]\n",
    "    #print(\"df_filt2\", df_filt2)\n",
    "    df_pesos = sumarcol_peso(df_filt2)\n",
    "    #print(\"valor de df_pesos \", df_pesos)\n",
    "    dft['T'] = delta\n",
    "    dft['P'] = df_pesos\n",
    "    proba, proba1,proba2,proba3 = how_hot_is(dft, df_tr_fu_filt_delta)\n",
    "    dft['Pr']= proba\n",
    "    dft['PrX'] = proba1\n",
    "    dft['PrL'] = proba2\n",
    "    dft['PrM'] = proba3\n",
    "    return dft"
   ]
  },
  {
   "cell_type": "code",
   "execution_count": 6,
   "metadata": {},
   "outputs": [],
   "source": [
    "def construir_linea(n1,n2,n3,n4,n5):\n",
    "    salida = str(n1) + \"|\" + str(n2) + \"|\" + str(n3) + \"|\" + str(n4) + \"|\" + str(n5)\n",
    "    return salida"
   ]
  },
  {
   "cell_type": "code",
   "execution_count": 7,
   "metadata": {},
   "outputs": [],
   "source": [
    "def construir_cuarteto(n1,n2,n3,n4):\n",
    "    salida = str(n1) + \"|\" + str(n2) + \"|\" + str(n3) + \"|\" + str(n4)\n",
    "    return salida"
   ]
  },
  {
   "cell_type": "code",
   "execution_count": 8,
   "metadata": {},
   "outputs": [],
   "source": [
    "def ingresar_sorteo_validar():\n",
    "    n1 = int(input(f\"ingresa el primer numero del sorteo: \"))\n",
    "    n2 = int(input(f\"ingresa el segundo numero del sorteo: \"))\n",
    "    n3 = int(input(f\"ingresa el tercer numero del sorteo: \"))\n",
    "    n4 = int(input(f\"ingresa el cuarto numero del sorteo: \"))    \n",
    "    n5 = int(input(f\"ingresa el quinto numero del sorteo: \"))\n",
    "    quinteto = construir_linea(n1, n2, n3, n4, n5)\n",
    "    cuarteto1 = construir_cuarteto(n1, n2, n3, n4)\n",
    "    cuarteto2 = construir_cuarteto(n1, n2, n3, n5)\n",
    "    cuarteto3 = construir_cuarteto(n1, n2, n4, n5)\n",
    "    cuarteto4 = construir_cuarteto(n1, n3, n4, n5)\n",
    "    cuarteto5 = construir_cuarteto(n2, n3, n4, n5)\n",
    "    return quinteto, cuarteto1, cuarteto2, cuarteto3, cuarteto4, cuarteto5"
   ]
  },
  {
   "cell_type": "code",
   "execution_count": 9,
   "metadata": {},
   "outputs": [],
   "source": [
    "def find_previous_coincidence(value_to_search, df):\n",
    "    df_found = df.loc[df['tupla']== value_to_search]\n",
    "    total_rows = int(df_found.shape[0])\n",
    "    if total_rows > 0:\n",
    "        return \"Records Found: \" + str(total_rows)\n",
    "    else:\n",
    "        return \"No Records Found\""
   ]
  },
  {
   "cell_type": "code",
   "execution_count": 24,
   "metadata": {},
   "outputs": [
    {
     "name": "stdin",
     "output_type": "stream",
     "text": [
      "ingresa el primer numero del sorteo:  5\n",
      "ingresa el segundo numero del sorteo:  23\n",
      "ingresa el tercer numero del sorteo:  39\n",
      "ingresa el cuarto numero del sorteo:  41\n",
      "ingresa el quinto numero del sorteo:  43\n"
     ]
    }
   ],
   "source": [
    "quinteto, cuarteto1, cuarteto2, cuarteto3, cuarteto4, cuarteto5 = ingresar_sorteo_validar()"
   ]
  },
  {
   "cell_type": "code",
   "execution_count": 25,
   "metadata": {},
   "outputs": [
    {
     "name": "stdout",
     "output_type": "stream",
     "text": [
      "No Records Found\n"
     ]
    }
   ],
   "source": [
    "print(find_previous_coincidence(quinteto, df_cq_tr))"
   ]
  },
  {
   "cell_type": "code",
   "execution_count": 26,
   "metadata": {},
   "outputs": [
    {
     "name": "stdout",
     "output_type": "stream",
     "text": [
      "No Records Found\n"
     ]
    }
   ],
   "source": [
    "print(find_previous_coincidence(quinteto, df_cq_re))"
   ]
  },
  {
   "cell_type": "code",
   "execution_count": 27,
   "metadata": {},
   "outputs": [
    {
     "name": "stdout",
     "output_type": "stream",
     "text": [
      "No Records Found\n"
     ]
    }
   ],
   "source": [
    "print(find_previous_coincidence(cuarteto1, df_cc_tr))"
   ]
  },
  {
   "cell_type": "code",
   "execution_count": 28,
   "metadata": {},
   "outputs": [
    {
     "name": "stdout",
     "output_type": "stream",
     "text": [
      "No Records Found\n"
     ]
    }
   ],
   "source": [
    "print(find_previous_coincidence(cuarteto1, df_cc_re))"
   ]
  },
  {
   "cell_type": "code",
   "execution_count": 29,
   "metadata": {},
   "outputs": [
    {
     "name": "stdout",
     "output_type": "stream",
     "text": [
      "No Records Found\n"
     ]
    }
   ],
   "source": [
    "print(find_previous_coincidence(cuarteto2, df_cc_tr))"
   ]
  },
  {
   "cell_type": "code",
   "execution_count": 30,
   "metadata": {},
   "outputs": [
    {
     "name": "stdout",
     "output_type": "stream",
     "text": [
      "No Records Found\n"
     ]
    }
   ],
   "source": [
    "print(find_previous_coincidence(cuarteto2, df_cc_re))"
   ]
  },
  {
   "cell_type": "code",
   "execution_count": 31,
   "metadata": {},
   "outputs": [
    {
     "name": "stdout",
     "output_type": "stream",
     "text": [
      "No Records Found\n"
     ]
    }
   ],
   "source": [
    "print(find_previous_coincidence(cuarteto3, df_cc_tr))"
   ]
  },
  {
   "cell_type": "code",
   "execution_count": 32,
   "metadata": {},
   "outputs": [
    {
     "name": "stdout",
     "output_type": "stream",
     "text": [
      "No Records Found\n"
     ]
    }
   ],
   "source": [
    "print(find_previous_coincidence(cuarteto3, df_cc_re))"
   ]
  },
  {
   "cell_type": "code",
   "execution_count": 33,
   "metadata": {},
   "outputs": [
    {
     "name": "stdout",
     "output_type": "stream",
     "text": [
      "No Records Found\n"
     ]
    }
   ],
   "source": [
    "print(find_previous_coincidence(cuarteto4, df_cc_tr))"
   ]
  },
  {
   "cell_type": "code",
   "execution_count": 34,
   "metadata": {},
   "outputs": [
    {
     "name": "stdout",
     "output_type": "stream",
     "text": [
      "No Records Found\n"
     ]
    }
   ],
   "source": [
    "print(find_previous_coincidence(cuarteto4, df_cc_re))"
   ]
  },
  {
   "cell_type": "code",
   "execution_count": 35,
   "metadata": {},
   "outputs": [
    {
     "name": "stdout",
     "output_type": "stream",
     "text": [
      "No Records Found\n"
     ]
    }
   ],
   "source": [
    "print(find_previous_coincidence(cuarteto5, df_cc_tr))"
   ]
  },
  {
   "cell_type": "code",
   "execution_count": 36,
   "metadata": {},
   "outputs": [
    {
     "name": "stdout",
     "output_type": "stream",
     "text": [
      "No Records Found\n"
     ]
    }
   ],
   "source": [
    "print(find_previous_coincidence(cuarteto5, df_cc_re))"
   ]
  },
  {
   "cell_type": "code",
   "execution_count": null,
   "metadata": {},
   "outputs": [],
   "source": []
  }
 ],
 "metadata": {
  "kernelspec": {
   "display_name": "Python 3",
   "language": "python",
   "name": "python3"
  },
  "language_info": {
   "codemirror_mode": {
    "name": "ipython",
    "version": 3
   },
   "file_extension": ".py",
   "mimetype": "text/x-python",
   "name": "python",
   "nbconvert_exporter": "python",
   "pygments_lexer": "ipython3",
   "version": "3.7.4"
  }
 },
 "nbformat": 4,
 "nbformat_minor": 4
}
