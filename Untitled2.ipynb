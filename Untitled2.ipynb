{
 "cells": [
  {
   "cell_type": "code",
   "execution_count": 1,
   "metadata": {},
   "outputs": [],
   "source": [
    "import pandas as pd\n",
    "import numpy as np\n",
    "import seaborn as sns\n",
    "import matplotlib.pyplot as plt\n",
    "from sklearn import metrics\n",
    "from sklearn.pipeline import Pipeline\n",
    "from sklearn.preprocessing import StandardScaler, LabelEncoder, OneHotEncoder, KBinsDiscretizer\n",
    "from sklearn.model_selection import train_test_split\n",
    "from sklearn.tree import DecisionTreeRegressor\n",
    "from sklearn.model_selection import cross_val_score\n",
    "from sklearn.metrics import mean_squared_error\n",
    "from sklearn.neighbors import KNeighborsClassifier, KNeighborsRegressor\n",
    "from sklearn.preprocessing import StandardScaler\n",
    "pd.set_option('display.float_format', lambda x: '%.3f' % x)\n",
    "\n",
    "sns.set()"
   ]
  },
  {
   "cell_type": "markdown",
   "metadata": {},
   "source": [
    "cargamos el dataset"
   ]
  },
  {
   "cell_type": "code",
   "execution_count": 2,
   "metadata": {},
   "outputs": [],
   "source": [
    "path_dataset = 'expdata2.csv'\n",
    "df = pd.read_csv(path_dataset, parse_dates=['fecha'])\n",
    "#df = df[df.sb  int('16'), inplace = True]"
   ]
  },
  {
   "cell_type": "code",
   "execution_count": 3,
   "metadata": {},
   "outputs": [
    {
     "name": "stdout",
     "output_type": "stream",
     "text": [
      "<class 'pandas.core.frame.DataFrame'>\n",
      "RangeIndex: 562 entries, 0 to 561\n",
      "Data columns (total 11 columns):\n",
      "idSorteo    562 non-null int64\n",
      "fecha       562 non-null datetime64[ns]\n",
      "tipo        562 non-null object\n",
      "ganador     562 non-null object\n",
      "nuevo       562 non-null object\n",
      "n1          562 non-null int64\n",
      "n2          562 non-null int64\n",
      "n3          562 non-null int64\n",
      "n4          562 non-null int64\n",
      "n5          562 non-null int64\n",
      "sb          562 non-null int64\n",
      "dtypes: datetime64[ns](1), int64(7), object(3)\n",
      "memory usage: 48.4+ KB\n"
     ]
    }
   ],
   "source": [
    "df.info()"
   ]
  },
  {
   "cell_type": "code",
   "execution_count": 4,
   "metadata": {},
   "outputs": [
    {
     "data": {
      "text/plain": [
       "Series([], dtype: int64)"
      ]
     },
     "execution_count": 4,
     "metadata": {},
     "output_type": "execute_result"
    }
   ],
   "source": [
    "conteo_agrupados = df.groupby(['n1', 'n2','n3', 'n4','n5', 'sb']).size()\n",
    "conteo_agrupados[conteo_agrupados > 1].sort_values(ascending=False).head(10)"
   ]
  },
  {
   "cell_type": "code",
   "execution_count": 5,
   "metadata": {},
   "outputs": [
    {
     "data": {
      "text/html": [
       "<div>\n",
       "<style scoped>\n",
       "    .dataframe tbody tr th:only-of-type {\n",
       "        vertical-align: middle;\n",
       "    }\n",
       "\n",
       "    .dataframe tbody tr th {\n",
       "        vertical-align: top;\n",
       "    }\n",
       "\n",
       "    .dataframe thead th {\n",
       "        text-align: right;\n",
       "    }\n",
       "</style>\n",
       "<table border=\"1\" class=\"dataframe\">\n",
       "  <thead>\n",
       "    <tr style=\"text-align: right;\">\n",
       "      <th></th>\n",
       "      <th>idSorteo</th>\n",
       "      <th>n1</th>\n",
       "      <th>n2</th>\n",
       "      <th>n3</th>\n",
       "      <th>n4</th>\n",
       "      <th>n5</th>\n",
       "      <th>sb</th>\n",
       "    </tr>\n",
       "  </thead>\n",
       "  <tbody>\n",
       "    <tr>\n",
       "      <th>count</th>\n",
       "      <td>562.000</td>\n",
       "      <td>562.000</td>\n",
       "      <td>562.000</td>\n",
       "      <td>562.000</td>\n",
       "      <td>562.000</td>\n",
       "      <td>562.000</td>\n",
       "      <td>562.000</td>\n",
       "    </tr>\n",
       "    <tr>\n",
       "      <th>mean</th>\n",
       "      <td>1811.000</td>\n",
       "      <td>7.192</td>\n",
       "      <td>14.854</td>\n",
       "      <td>21.842</td>\n",
       "      <td>29.027</td>\n",
       "      <td>36.737</td>\n",
       "      <td>8.400</td>\n",
       "    </tr>\n",
       "    <tr>\n",
       "      <th>std</th>\n",
       "      <td>81.189</td>\n",
       "      <td>5.651</td>\n",
       "      <td>7.465</td>\n",
       "      <td>7.818</td>\n",
       "      <td>7.497</td>\n",
       "      <td>5.748</td>\n",
       "      <td>4.604</td>\n",
       "    </tr>\n",
       "    <tr>\n",
       "      <th>min</th>\n",
       "      <td>1671.000</td>\n",
       "      <td>1.000</td>\n",
       "      <td>2.000</td>\n",
       "      <td>3.000</td>\n",
       "      <td>5.000</td>\n",
       "      <td>13.000</td>\n",
       "      <td>1.000</td>\n",
       "    </tr>\n",
       "    <tr>\n",
       "      <th>25%</th>\n",
       "      <td>1741.000</td>\n",
       "      <td>3.000</td>\n",
       "      <td>9.000</td>\n",
       "      <td>16.000</td>\n",
       "      <td>23.250</td>\n",
       "      <td>33.000</td>\n",
       "      <td>4.000</td>\n",
       "    </tr>\n",
       "    <tr>\n",
       "      <th>50%</th>\n",
       "      <td>1811.000</td>\n",
       "      <td>6.000</td>\n",
       "      <td>14.000</td>\n",
       "      <td>22.000</td>\n",
       "      <td>30.000</td>\n",
       "      <td>38.500</td>\n",
       "      <td>9.000</td>\n",
       "    </tr>\n",
       "    <tr>\n",
       "      <th>75%</th>\n",
       "      <td>1881.000</td>\n",
       "      <td>10.000</td>\n",
       "      <td>20.000</td>\n",
       "      <td>28.000</td>\n",
       "      <td>35.000</td>\n",
       "      <td>41.000</td>\n",
       "      <td>12.000</td>\n",
       "    </tr>\n",
       "    <tr>\n",
       "      <th>max</th>\n",
       "      <td>1951.000</td>\n",
       "      <td>27.000</td>\n",
       "      <td>40.000</td>\n",
       "      <td>41.000</td>\n",
       "      <td>42.000</td>\n",
       "      <td>43.000</td>\n",
       "      <td>16.000</td>\n",
       "    </tr>\n",
       "  </tbody>\n",
       "</table>\n",
       "</div>"
      ],
      "text/plain": [
       "       idSorteo      n1      n2      n3      n4      n5      sb\n",
       "count   562.000 562.000 562.000 562.000 562.000 562.000 562.000\n",
       "mean   1811.000   7.192  14.854  21.842  29.027  36.737   8.400\n",
       "std      81.189   5.651   7.465   7.818   7.497   5.748   4.604\n",
       "min    1671.000   1.000   2.000   3.000   5.000  13.000   1.000\n",
       "25%    1741.000   3.000   9.000  16.000  23.250  33.000   4.000\n",
       "50%    1811.000   6.000  14.000  22.000  30.000  38.500   9.000\n",
       "75%    1881.000  10.000  20.000  28.000  35.000  41.000  12.000\n",
       "max    1951.000  27.000  40.000  41.000  42.000  43.000  16.000"
      ]
     },
     "execution_count": 5,
     "metadata": {},
     "output_type": "execute_result"
    }
   ],
   "source": [
    "df.describe()"
   ]
  },
  {
   "cell_type": "code",
   "execution_count": 6,
   "metadata": {},
   "outputs": [
    {
     "data": {
      "text/html": [
       "<div>\n",
       "<style scoped>\n",
       "    .dataframe tbody tr th:only-of-type {\n",
       "        vertical-align: middle;\n",
       "    }\n",
       "\n",
       "    .dataframe tbody tr th {\n",
       "        vertical-align: top;\n",
       "    }\n",
       "\n",
       "    .dataframe thead th {\n",
       "        text-align: right;\n",
       "    }\n",
       "</style>\n",
       "<table border=\"1\" class=\"dataframe\">\n",
       "  <thead>\n",
       "    <tr style=\"text-align: right;\">\n",
       "      <th></th>\n",
       "      <th>idSorteo</th>\n",
       "      <th>fecha</th>\n",
       "      <th>tipo</th>\n",
       "      <th>ganador</th>\n",
       "      <th>nuevo</th>\n",
       "      <th>n1</th>\n",
       "      <th>n2</th>\n",
       "      <th>n3</th>\n",
       "      <th>n4</th>\n",
       "      <th>n5</th>\n",
       "      <th>sb</th>\n",
       "    </tr>\n",
       "  </thead>\n",
       "  <tbody>\n",
       "    <tr>\n",
       "      <th>0</th>\n",
       "      <td>1951</td>\n",
       "      <td>2019-12-28</td>\n",
       "      <td>Tr</td>\n",
       "      <td>NO</td>\n",
       "      <td>SI</td>\n",
       "      <td>2</td>\n",
       "      <td>9</td>\n",
       "      <td>17</td>\n",
       "      <td>27</td>\n",
       "      <td>42</td>\n",
       "      <td>11</td>\n",
       "    </tr>\n",
       "    <tr>\n",
       "      <th>1</th>\n",
       "      <td>1951</td>\n",
       "      <td>2019-12-28</td>\n",
       "      <td>Re</td>\n",
       "      <td>NO</td>\n",
       "      <td>SI</td>\n",
       "      <td>1</td>\n",
       "      <td>9</td>\n",
       "      <td>20</td>\n",
       "      <td>33</td>\n",
       "      <td>41</td>\n",
       "      <td>9</td>\n",
       "    </tr>\n",
       "    <tr>\n",
       "      <th>2</th>\n",
       "      <td>1950</td>\n",
       "      <td>2019-12-25</td>\n",
       "      <td>Tr</td>\n",
       "      <td>NO</td>\n",
       "      <td>SI</td>\n",
       "      <td>21</td>\n",
       "      <td>30</td>\n",
       "      <td>35</td>\n",
       "      <td>36</td>\n",
       "      <td>41</td>\n",
       "      <td>2</td>\n",
       "    </tr>\n",
       "    <tr>\n",
       "      <th>3</th>\n",
       "      <td>1950</td>\n",
       "      <td>2019-12-25</td>\n",
       "      <td>Re</td>\n",
       "      <td>NO</td>\n",
       "      <td>SI</td>\n",
       "      <td>9</td>\n",
       "      <td>19</td>\n",
       "      <td>20</td>\n",
       "      <td>35</td>\n",
       "      <td>39</td>\n",
       "      <td>12</td>\n",
       "    </tr>\n",
       "    <tr>\n",
       "      <th>4</th>\n",
       "      <td>1949</td>\n",
       "      <td>2019-12-21</td>\n",
       "      <td>Tr</td>\n",
       "      <td>NO</td>\n",
       "      <td>SI</td>\n",
       "      <td>8</td>\n",
       "      <td>14</td>\n",
       "      <td>17</td>\n",
       "      <td>23</td>\n",
       "      <td>37</td>\n",
       "      <td>13</td>\n",
       "    </tr>\n",
       "    <tr>\n",
       "      <th>5</th>\n",
       "      <td>1949</td>\n",
       "      <td>2019-12-21</td>\n",
       "      <td>Re</td>\n",
       "      <td>NO</td>\n",
       "      <td>SI</td>\n",
       "      <td>13</td>\n",
       "      <td>21</td>\n",
       "      <td>22</td>\n",
       "      <td>24</td>\n",
       "      <td>32</td>\n",
       "      <td>16</td>\n",
       "    </tr>\n",
       "    <tr>\n",
       "      <th>6</th>\n",
       "      <td>1948</td>\n",
       "      <td>2019-12-18</td>\n",
       "      <td>Tr</td>\n",
       "      <td>NO</td>\n",
       "      <td>SI</td>\n",
       "      <td>8</td>\n",
       "      <td>19</td>\n",
       "      <td>22</td>\n",
       "      <td>25</td>\n",
       "      <td>38</td>\n",
       "      <td>2</td>\n",
       "    </tr>\n",
       "    <tr>\n",
       "      <th>7</th>\n",
       "      <td>1948</td>\n",
       "      <td>2019-12-18</td>\n",
       "      <td>Re</td>\n",
       "      <td>NO</td>\n",
       "      <td>SI</td>\n",
       "      <td>6</td>\n",
       "      <td>7</td>\n",
       "      <td>15</td>\n",
       "      <td>38</td>\n",
       "      <td>40</td>\n",
       "      <td>16</td>\n",
       "    </tr>\n",
       "    <tr>\n",
       "      <th>8</th>\n",
       "      <td>1947</td>\n",
       "      <td>2019-12-14</td>\n",
       "      <td>Tr</td>\n",
       "      <td>NO</td>\n",
       "      <td>SI</td>\n",
       "      <td>11</td>\n",
       "      <td>21</td>\n",
       "      <td>33</td>\n",
       "      <td>39</td>\n",
       "      <td>43</td>\n",
       "      <td>8</td>\n",
       "    </tr>\n",
       "    <tr>\n",
       "      <th>9</th>\n",
       "      <td>1947</td>\n",
       "      <td>2019-12-14</td>\n",
       "      <td>Re</td>\n",
       "      <td>NO</td>\n",
       "      <td>SI</td>\n",
       "      <td>1</td>\n",
       "      <td>8</td>\n",
       "      <td>9</td>\n",
       "      <td>22</td>\n",
       "      <td>23</td>\n",
       "      <td>7</td>\n",
       "    </tr>\n",
       "    <tr>\n",
       "      <th>10</th>\n",
       "      <td>1946</td>\n",
       "      <td>2019-11-12</td>\n",
       "      <td>Tr</td>\n",
       "      <td>NO</td>\n",
       "      <td>SI</td>\n",
       "      <td>4</td>\n",
       "      <td>13</td>\n",
       "      <td>24</td>\n",
       "      <td>39</td>\n",
       "      <td>41</td>\n",
       "      <td>1</td>\n",
       "    </tr>\n",
       "    <tr>\n",
       "      <th>11</th>\n",
       "      <td>1946</td>\n",
       "      <td>2019-11-12</td>\n",
       "      <td>Re</td>\n",
       "      <td>NO</td>\n",
       "      <td>SI</td>\n",
       "      <td>8</td>\n",
       "      <td>15</td>\n",
       "      <td>26</td>\n",
       "      <td>32</td>\n",
       "      <td>37</td>\n",
       "      <td>3</td>\n",
       "    </tr>\n",
       "    <tr>\n",
       "      <th>12</th>\n",
       "      <td>1945</td>\n",
       "      <td>2019-07-12</td>\n",
       "      <td>Tr</td>\n",
       "      <td>NO</td>\n",
       "      <td>SI</td>\n",
       "      <td>12</td>\n",
       "      <td>15</td>\n",
       "      <td>16</td>\n",
       "      <td>38</td>\n",
       "      <td>39</td>\n",
       "      <td>10</td>\n",
       "    </tr>\n",
       "    <tr>\n",
       "      <th>13</th>\n",
       "      <td>1945</td>\n",
       "      <td>2019-07-12</td>\n",
       "      <td>Re</td>\n",
       "      <td>NO</td>\n",
       "      <td>SI</td>\n",
       "      <td>2</td>\n",
       "      <td>10</td>\n",
       "      <td>36</td>\n",
       "      <td>37</td>\n",
       "      <td>40</td>\n",
       "      <td>15</td>\n",
       "    </tr>\n",
       "    <tr>\n",
       "      <th>14</th>\n",
       "      <td>1944</td>\n",
       "      <td>2019-04-12</td>\n",
       "      <td>Tr</td>\n",
       "      <td>NO</td>\n",
       "      <td>SI</td>\n",
       "      <td>10</td>\n",
       "      <td>15</td>\n",
       "      <td>16</td>\n",
       "      <td>29</td>\n",
       "      <td>39</td>\n",
       "      <td>16</td>\n",
       "    </tr>\n",
       "    <tr>\n",
       "      <th>15</th>\n",
       "      <td>1944</td>\n",
       "      <td>2019-04-12</td>\n",
       "      <td>Re</td>\n",
       "      <td>NO</td>\n",
       "      <td>SI</td>\n",
       "      <td>2</td>\n",
       "      <td>4</td>\n",
       "      <td>18</td>\n",
       "      <td>28</td>\n",
       "      <td>33</td>\n",
       "      <td>11</td>\n",
       "    </tr>\n",
       "    <tr>\n",
       "      <th>16</th>\n",
       "      <td>1943</td>\n",
       "      <td>2019-11-30</td>\n",
       "      <td>Tr</td>\n",
       "      <td>NO</td>\n",
       "      <td>SI</td>\n",
       "      <td>2</td>\n",
       "      <td>3</td>\n",
       "      <td>18</td>\n",
       "      <td>21</td>\n",
       "      <td>36</td>\n",
       "      <td>13</td>\n",
       "    </tr>\n",
       "    <tr>\n",
       "      <th>17</th>\n",
       "      <td>1943</td>\n",
       "      <td>2019-11-30</td>\n",
       "      <td>Re</td>\n",
       "      <td>NO</td>\n",
       "      <td>SI</td>\n",
       "      <td>8</td>\n",
       "      <td>22</td>\n",
       "      <td>24</td>\n",
       "      <td>25</td>\n",
       "      <td>40</td>\n",
       "      <td>12</td>\n",
       "    </tr>\n",
       "    <tr>\n",
       "      <th>18</th>\n",
       "      <td>1942</td>\n",
       "      <td>2019-11-27</td>\n",
       "      <td>Tr</td>\n",
       "      <td>NO</td>\n",
       "      <td>SI</td>\n",
       "      <td>11</td>\n",
       "      <td>19</td>\n",
       "      <td>29</td>\n",
       "      <td>36</td>\n",
       "      <td>40</td>\n",
       "      <td>7</td>\n",
       "    </tr>\n",
       "    <tr>\n",
       "      <th>19</th>\n",
       "      <td>1942</td>\n",
       "      <td>2019-11-27</td>\n",
       "      <td>Re</td>\n",
       "      <td>NO</td>\n",
       "      <td>SI</td>\n",
       "      <td>8</td>\n",
       "      <td>18</td>\n",
       "      <td>22</td>\n",
       "      <td>23</td>\n",
       "      <td>28</td>\n",
       "      <td>11</td>\n",
       "    </tr>\n",
       "  </tbody>\n",
       "</table>\n",
       "</div>"
      ],
      "text/plain": [
       "    idSorteo      fecha tipo ganador nuevo  n1  n2  n3  n4  n5  sb\n",
       "0       1951 2019-12-28   Tr      NO    SI   2   9  17  27  42  11\n",
       "1       1951 2019-12-28   Re      NO    SI   1   9  20  33  41   9\n",
       "2       1950 2019-12-25   Tr      NO    SI  21  30  35  36  41   2\n",
       "3       1950 2019-12-25   Re      NO    SI   9  19  20  35  39  12\n",
       "4       1949 2019-12-21   Tr      NO    SI   8  14  17  23  37  13\n",
       "5       1949 2019-12-21   Re      NO    SI  13  21  22  24  32  16\n",
       "6       1948 2019-12-18   Tr      NO    SI   8  19  22  25  38   2\n",
       "7       1948 2019-12-18   Re      NO    SI   6   7  15  38  40  16\n",
       "8       1947 2019-12-14   Tr      NO    SI  11  21  33  39  43   8\n",
       "9       1947 2019-12-14   Re      NO    SI   1   8   9  22  23   7\n",
       "10      1946 2019-11-12   Tr      NO    SI   4  13  24  39  41   1\n",
       "11      1946 2019-11-12   Re      NO    SI   8  15  26  32  37   3\n",
       "12      1945 2019-07-12   Tr      NO    SI  12  15  16  38  39  10\n",
       "13      1945 2019-07-12   Re      NO    SI   2  10  36  37  40  15\n",
       "14      1944 2019-04-12   Tr      NO    SI  10  15  16  29  39  16\n",
       "15      1944 2019-04-12   Re      NO    SI   2   4  18  28  33  11\n",
       "16      1943 2019-11-30   Tr      NO    SI   2   3  18  21  36  13\n",
       "17      1943 2019-11-30   Re      NO    SI   8  22  24  25  40  12\n",
       "18      1942 2019-11-27   Tr      NO    SI  11  19  29  36  40   7\n",
       "19      1942 2019-11-27   Re      NO    SI   8  18  22  23  28  11"
      ]
     },
     "execution_count": 6,
     "metadata": {},
     "output_type": "execute_result"
    }
   ],
   "source": [
    "df.head(20)"
   ]
  },
  {
   "cell_type": "code",
   "execution_count": 7,
   "metadata": {},
   "outputs": [
    {
     "name": "stdout",
     "output_type": "stream",
     "text": [
      "     idSorteo      fecha tipo ganador nuevo  n1  n2  n3  n4  n5  sb\n",
      "0        1951 2019-12-28   Tr      NO    SI   2   9  17  27  42  11\n",
      "2        1950 2019-12-25   Tr      NO    SI  21  30  35  36  41   2\n",
      "4        1949 2019-12-21   Tr      NO    SI   8  14  17  23  37  13\n",
      "6        1948 2019-12-18   Tr      NO    SI   8  19  22  25  38   2\n",
      "8        1947 2019-12-14   Tr      NO    SI  11  21  33  39  43   8\n",
      "10       1946 2019-11-12   Tr      NO    SI   4  13  24  39  41   1\n",
      "12       1945 2019-07-12   Tr      NO    SI  12  15  16  38  39  10\n",
      "14       1944 2019-04-12   Tr      NO    SI  10  15  16  29  39  16\n",
      "16       1943 2019-11-30   Tr      NO    SI   2   3  18  21  36  13\n",
      "18       1942 2019-11-27   Tr      NO    SI  11  19  29  36  40   7\n",
      "20       1941 2019-11-23   Tr      NO    SI  17  18  20  27  29  11\n",
      "22       1940 2019-11-20   Tr      NO    SI   2  14  16  17  31   2\n",
      "24       1939 2019-11-16   Tr      NO    SI   3   7  23  30  35   5\n",
      "26       1938 2019-11-13   Tr      SI    SI   8  11  13  18  27  12\n",
      "28       1937 2019-09-11   Tr      NO    SI   2  10  16  23  25  11\n",
      "30       1936 2019-06-11   Tr      NO    SI   7  16  19  20  37   2\n",
      "32       1935 2019-02-11   Tr      NO    SI   2   3   4  12  16  10\n",
      "34       1934 2019-10-30   Tr      NO    SI   3  10  16  25  41   8\n",
      "36       1933 2019-10-26   Tr      NO    SI   2  11  24  28  39   3\n",
      "38       1932 2019-10-23   Tr      NO    SI  12  19  20  29  43   1\n",
      "40       1931 2019-10-19   Tr      NO    SI   4   8  19  20  35   9\n",
      "42       1930 2019-10-16   Tr      NO    SI   5  13  14  26  31  15\n",
      "44       1929 2019-12-10   Tr      NO    SI   2   8   9  12  39  13\n",
      "46       1928 2019-09-10   Tr      NO    SI   4   9  10  35  40  11\n",
      "48       1927 2019-05-10   Tr      NO    SI  19  23  26  30  36  11\n",
      "50       1926 2019-02-10   Tr      NO    SI   3  10  20  30  39  11\n",
      "52       1925 2019-09-28   Tr      NO    SI   1   9  27  29  35  13\n",
      "54       1924 2019-09-25   Tr      NO    SI   4  11  14  16  36  15\n",
      "56       1923 2019-09-21   Tr      NO    SI  21  23  26  37  43  11\n",
      "58       1922 2019-09-18   Tr      NO    SI  18  23  28  33  35  12\n",
      "..        ...        ...  ...     ...   ...  ..  ..  ..  ..  ..  ..\n",
      "502      1700 2017-02-08   Tr      NO    SI   1  22  31  32  37  16\n",
      "504      1699 2017-07-29   Tr      NO    SI   3  13  14  17  23   2\n",
      "506      1698 2017-07-26   Tr      NO    SI   1  27  31  34  36  11\n",
      "508      1697 2017-07-22   Tr      NO    SI   6   9  15  37  42  16\n",
      "510      1696 2017-07-19   Tr      NO    SI  14  15  20  25  40  12\n",
      "512      1695 2017-07-15   Tr      NO    SI   7  23  24  34  39   4\n",
      "514      1694 2017-12-07   Tr      NO    SI   7  23  30  33  36   4\n",
      "516      1693 2017-08-07   Tr      NO    SI   1   7  12  19  21   8\n",
      "518      1692 2017-05-07   Tr      NO    SI  20  22  25  37  43   8\n",
      "520      1691 2017-01-07   Tr      NO    SI  10  16  18  35  40   6\n",
      "522      1690 2017-06-28   Tr      NO    SI  18  22  32  37  39   2\n",
      "524      1689 2017-06-24   Tr      NO    SI   3   4   9  20  32  11\n",
      "526      1688 2017-06-21   Tr      NO    SI   4   6  14  17  29   5\n",
      "528      1687 2017-06-17   Tr      NO    SI   9  20  24  31  33  16\n",
      "530      1686 2017-06-14   Tr      NO    SI   2   9  12  34  40   7\n",
      "532      1685 2017-10-06   Tr      NO    SI  13  20  26  29  40   7\n",
      "534      1684 2017-07-06   Tr      NO    SI   3  20  33  34  40  14\n",
      "536      1683 2017-03-06   Tr      NO    SI   3  26  33  34  38  16\n",
      "538      1682 2017-05-31   Tr      NO    SI  12  13  25  31  42  16\n",
      "540      1681 2017-05-27   Tr      NO    SI   8  12  20  36  40   1\n",
      "542      1680 2017-05-24   Tr      NO    SI   7  22  29  32  41  14\n",
      "544      1679 2017-05-20   Tr      NO    SI   1  11  28  31  41   9\n",
      "546      1678 2017-05-17   Tr      NO    SI  15  21  26  28  36   3\n",
      "548      1677 2017-05-13   Tr      NO    SI  11  19  27  28  37   8\n",
      "550      1676 2017-10-05   Tr      NO    SI  12  19  22  35  38   1\n",
      "552      1675 2017-06-05   Tr      NO    SI   1  20  36  39  43  10\n",
      "554      1674 2017-03-05   Tr      NO    SI   5   6   7  12  37   6\n",
      "556      1673 2017-04-29   Tr      NO    SI   6  19  25  28  36   1\n",
      "558      1672 2017-04-26   Tr      NO    SI   1   2  25  31  33  14\n",
      "560      1671 2017-04-22   Tr      NO    SI  15  28  36  37  41  10\n",
      "\n",
      "[281 rows x 11 columns]\n"
     ]
    }
   ],
   "source": [
    "propiedades = [\"Tr\"]\n",
    "df_tr = df[df.tipo.isin(propiedades)]\n",
    "print(df_tr)"
   ]
  },
  {
   "cell_type": "code",
   "execution_count": 8,
   "metadata": {},
   "outputs": [
    {
     "name": "stdout",
     "output_type": "stream",
     "text": [
      "     idSorteo      fecha tipo ganador nuevo  n1  n2  n3  n4  n5  sb\n",
      "1        1951 2019-12-28   Re      NO    SI   1   9  20  33  41   9\n",
      "3        1950 2019-12-25   Re      NO    SI   9  19  20  35  39  12\n",
      "5        1949 2019-12-21   Re      NO    SI  13  21  22  24  32  16\n",
      "7        1948 2019-12-18   Re      NO    SI   6   7  15  38  40  16\n",
      "9        1947 2019-12-14   Re      NO    SI   1   8   9  22  23   7\n",
      "11       1946 2019-11-12   Re      NO    SI   8  15  26  32  37   3\n",
      "13       1945 2019-07-12   Re      NO    SI   2  10  36  37  40  15\n",
      "15       1944 2019-04-12   Re      NO    SI   2   4  18  28  33  11\n",
      "17       1943 2019-11-30   Re      NO    SI   8  22  24  25  40  12\n",
      "19       1942 2019-11-27   Re      NO    SI   8  18  22  23  28  11\n",
      "21       1941 2019-11-23   Re      NO    SI   2   5  13  27  41   7\n",
      "23       1940 2019-11-20   Re      NO    SI   1  10  15  20  28  15\n",
      "25       1939 2019-11-16   Re      NO    SI   6  21  23  31  32  15\n",
      "27       1938 2019-11-13   Re      NO    SI   8  14  20  23  28   7\n",
      "29       1937 2019-09-11   Re      NO    SI   4   8  10  26  32   3\n",
      "31       1936 2019-06-11   Re      NO    SI  11  18  30  40  42  10\n",
      "33       1935 2019-02-11   Re      NO    SI  11  19  20  27  28   4\n",
      "35       1934 2019-10-30   Re      NO    SI   7  18  21  23  28  13\n",
      "37       1933 2019-10-26   Re      NO    SI   1  19  31  36  41  15\n",
      "39       1932 2019-10-23   Re      NO    SI   1  12  23  29  38   9\n",
      "41       1931 2019-10-19   Re      NO    SI   4   9  10  17  25   6\n",
      "43       1930 2019-10-16   Re      NO    SI   3  20  24  37  38  11\n",
      "45       1929 2019-12-10   Re      NO    SI   7   9  10  22  39   8\n",
      "47       1928 2019-09-10   Re      NO    SI   2   7  26  32  33  12\n",
      "49       1927 2019-05-10   Re      NO    SI   3   4   7  13  24  14\n",
      "51       1926 2019-02-10   Re      NO    SI   4   8  14  29  41  10\n",
      "53       1925 2019-09-28   Re      NO    SI   1   7  19  22  34   3\n",
      "55       1924 2019-09-25   Re      NO    SI   9  10  14  41  42  11\n",
      "57       1923 2019-09-21   Re      NO    SI   2  25  26  28  35   1\n",
      "59       1922 2019-09-18   Re      NO    SI  14  20  23  33  38  10\n",
      "..        ...        ...  ...     ...   ...  ..  ..  ..  ..  ..  ..\n",
      "503      1700 2017-02-08   Re      NO    SI   4  17  33  34  35  14\n",
      "505      1699 2017-07-29   Re      NO    SI  11  14  23  30  35  12\n",
      "507      1698 2017-07-26   Re      NO    SI  17  18  31  34  39  14\n",
      "509      1697 2017-07-22   Re      NO    SI   4  29  30  31  42  16\n",
      "511      1696 2017-07-19   Re      NO    SI   9  10  27  35  42  12\n",
      "513      1695 2017-07-15   Re      NO    SI  26  29  30  35  36   6\n",
      "515      1694 2017-12-07   Re      NO    SI   1  11  19  20  37   5\n",
      "517      1693 2017-08-07   Re      NO    SI  13  15  16  31  37  14\n",
      "519      1692 2017-05-07   Re      NO    SI  16  25  31  32  34   5\n",
      "521      1691 2017-01-07   Re      NO    SI   4  17  21  35  40   1\n",
      "523      1690 2017-06-28   Re      NO    SI   4   7   8  24  41  13\n",
      "525      1689 2017-06-24   Re      NO    SI   1   3   7  16  32   4\n",
      "527      1688 2017-06-21   Re      NO    SI  12  21  25  27  34  10\n",
      "529      1687 2017-06-17   Re      NO    SI  10  19  32  38  40  14\n",
      "531      1686 2017-06-14   Re      NO    SI   5  13  17  22  40  13\n",
      "533      1685 2017-10-06   Re      NO    SI  22  25  26  40  43  14\n",
      "535      1684 2017-07-06   Re      NO    SI   3  13  16  20  26   1\n",
      "537      1683 2017-03-06   Re      NO    SI   8  10  19  22  30   3\n",
      "539      1682 2017-05-31   Re      NO    SI   5  20  21  25  26   3\n",
      "541      1681 2017-05-27   Re      NO    SI  17  28  29  37  40  14\n",
      "543      1680 2017-05-24   Re      NO    SI  11  28  31  33  41   7\n",
      "545      1679 2017-05-20   Re      NO    SI   4  13  20  31  33   8\n",
      "547      1678 2017-05-17   Re      NO    SI   1  20  25  27  34   3\n",
      "549      1677 2017-05-13   Re      NO    SI  14  22  24  25  32   7\n",
      "551      1676 2017-10-05   Re      NO    SI   3   4  29  40  43   4\n",
      "553      1675 2017-06-05   Re      NO    SI   3   5   8  20  24  14\n",
      "555      1674 2017-03-05   Re      NO    SI   5  12  15  20  42  14\n",
      "557      1673 2017-04-29   Re      NO    SI   8  21  22  37  38   4\n",
      "559      1672 2017-04-26   Re      NO    SI   9  12  16  28  38   1\n",
      "561      1671 2017-04-22   Re      NO    SI   3   9  10  21  40  10\n",
      "\n",
      "[281 rows x 11 columns]\n"
     ]
    }
   ],
   "source": [
    "propiedades = [\"Re\"]\n",
    "df_re = df[df.tipo.isin(propiedades)]\n",
    "print(df_re)"
   ]
  },
  {
   "cell_type": "code",
   "execution_count": 9,
   "metadata": {},
   "outputs": [],
   "source": [
    "sbs = [\"1\", \"2\", \"3\", \"4\", \"5\", \"6\",\"7\", \"8\", \"9\", \"10\", \"11\", \"12\",\"13\", \"14\", \"15\", \"16\"]\n",
    "df_sb_tr = df_tr[df_tr.sb.isin(sbs)]\n",
    "df_sb_re = df_re[df_re.sb.isin(sbs)]"
   ]
  },
  {
   "cell_type": "code",
   "execution_count": 10,
   "metadata": {},
   "outputs": [
    {
     "data": {
      "image/png": "[encoded data removed]",
      "text/plain": [
       "<Figure size 432x288 with 1 Axes>"
      ]
     },
     "metadata": {},
     "output_type": "display_data"
    }
   ],
   "source": [
    "sns.set(style=\"darkgrid\")\n",
    "ax = sns.countplot(x=\"sb\", data=df_sb_tr)"
   ]
  },
  {
   "cell_type": "code",
   "execution_count": 11,
   "metadata": {},
   "outputs": [
    {
     "data": {
      "image/png": "[encoded data removed]",
      "text/plain": [
       "<Figure size 432x288 with 1 Axes>"
      ]
     },
     "metadata": {},
     "output_type": "display_data"
    }
   ],
   "source": [
    "sns.set(style=\"darkgrid\")\n",
    "ax = sns.countplot(x=\"sb\", data=df_sb_re)"
   ]
  },
  {
   "cell_type": "code",
   "execution_count": 12,
   "metadata": {},
   "outputs": [
    {
     "data": {
      "image/png": "[encoded data removed]",
      "text/plain": [
       "<Figure size 432x288 with 1 Axes>"
      ]
     },
     "metadata": {},
     "output_type": "display_data"
    }
   ],
   "source": [
    "sns.set(style=\"darkgrid\")\n",
    "ax = sns.countplot(x=\"sb\", data=df)"
   ]
  },
  {
   "cell_type": "code",
   "execution_count": 13,
   "metadata": {},
   "outputs": [
    {
     "data": {
      "image/png": "[encoded data removed]",
      "text/plain": [
       "<Figure size 432x288 with 1 Axes>"
      ]
     },
     "metadata": {},
     "output_type": "display_data"
    }
   ],
   "source": [
    "sns.set(style=\"darkgrid\")\n",
    "x= df.sb\n",
    "ax = sns.distplot(x, bins=16)"
   ]
  },
  {
   "cell_type": "code",
   "execution_count": 14,
   "metadata": {},
   "outputs": [
    {
     "name": "stderr",
     "output_type": "stream",
     "text": [
      "C:\\ProgramData\\Anaconda3\\lib\\site-packages\\ipykernel_launcher.py:9: SettingWithCopyWarning: \n",
      "A value is trying to be set on a copy of a slice from a DataFrame.\n",
      "Try using .loc[row_indexer,col_indexer] = value instead\n",
      "\n",
      "See the caveats in the documentation: http://pandas.pydata.org/pandas-docs/stable/indexing.html#indexing-view-versus-copy\n",
      "  if __name__ == '__main__':\n",
      "C:\\ProgramData\\Anaconda3\\lib\\site-packages\\ipykernel_launcher.py:11: SettingWithCopyWarning: \n",
      "A value is trying to be set on a copy of a slice from a DataFrame.\n",
      "Try using .loc[row_indexer,col_indexer] = value instead\n",
      "\n",
      "See the caveats in the documentation: http://pandas.pydata.org/pandas-docs/stable/indexing.html#indexing-view-versus-copy\n",
      "  # This is added back by InteractiveShellApp.init_path()\n"
     ]
    }
   ],
   "source": [
    "df.head()\n",
    "categorical_cols = ['tipo','ganador']\n",
    "unuseful_cols = ['fecha', 'nuevo']\n",
    "le = LabelEncoder()\n",
    "\n",
    "for item in categorical_cols[:]:\n",
    "    if item == 'tipo' or item == 'ganador':\n",
    "        nombre_col = str(item) + str('Tr')\n",
    "        df_tr[nombre_col]= le.fit_transform(df_tr[item])\n",
    "        nombre_col = str(item) + str('Re')\n",
    "        df_re[nombre_col]= le.fit_transform(df_re[item])\n",
    "#print(df_tr)\n",
    "#print(df_re)"
   ]
  },
  {
   "cell_type": "code",
   "execution_count": 15,
   "metadata": {},
   "outputs": [
    {
     "name": "stdout",
     "output_type": "stream",
     "text": [
      "     idSorteo  n1  n2  n3  n4  n5  sb\n",
      "0        1951   2   9  17  27  42  11\n",
      "2        1950  21  30  35  36  41   2\n",
      "4        1949   8  14  17  23  37  13\n",
      "6        1948   8  19  22  25  38   2\n",
      "8        1947  11  21  33  39  43   8\n",
      "10       1946   4  13  24  39  41   1\n",
      "12       1945  12  15  16  38  39  10\n",
      "14       1944  10  15  16  29  39  16\n",
      "16       1943   2   3  18  21  36  13\n",
      "18       1942  11  19  29  36  40   7\n",
      "20       1941  17  18  20  27  29  11\n",
      "22       1940   2  14  16  17  31   2\n",
      "24       1939   3   7  23  30  35   5\n",
      "26       1938   8  11  13  18  27  12\n",
      "28       1937   2  10  16  23  25  11\n",
      "30       1936   7  16  19  20  37   2\n",
      "32       1935   2   3   4  12  16  10\n",
      "34       1934   3  10  16  25  41   8\n",
      "36       1933   2  11  24  28  39   3\n",
      "38       1932  12  19  20  29  43   1\n",
      "40       1931   4   8  19  20  35   9\n",
      "42       1930   5  13  14  26  31  15\n",
      "44       1929   2   8   9  12  39  13\n",
      "46       1928   4   9  10  35  40  11\n",
      "48       1927  19  23  26  30  36  11\n",
      "50       1926   3  10  20  30  39  11\n",
      "52       1925   1   9  27  29  35  13\n",
      "54       1924   4  11  14  16  36  15\n",
      "56       1923  21  23  26  37  43  11\n",
      "58       1922  18  23  28  33  35  12\n",
      "..        ...  ..  ..  ..  ..  ..  ..\n",
      "502      1700   1  22  31  32  37  16\n",
      "504      1699   3  13  14  17  23   2\n",
      "506      1698   1  27  31  34  36  11\n",
      "508      1697   6   9  15  37  42  16\n",
      "510      1696  14  15  20  25  40  12\n",
      "512      1695   7  23  24  34  39   4\n",
      "514      1694   7  23  30  33  36   4\n",
      "516      1693   1   7  12  19  21   8\n",
      "518      1692  20  22  25  37  43   8\n",
      "520      1691  10  16  18  35  40   6\n",
      "522      1690  18  22  32  37  39   2\n",
      "524      1689   3   4   9  20  32  11\n",
      "526      1688   4   6  14  17  29   5\n",
      "528      1687   9  20  24  31  33  16\n",
      "530      1686   2   9  12  34  40   7\n",
      "532      1685  13  20  26  29  40   7\n",
      "534      1684   3  20  33  34  40  14\n",
      "536      1683   3  26  33  34  38  16\n",
      "538      1682  12  13  25  31  42  16\n",
      "540      1681   8  12  20  36  40   1\n",
      "542      1680   7  22  29  32  41  14\n",
      "544      1679   1  11  28  31  41   9\n",
      "546      1678  15  21  26  28  36   3\n",
      "548      1677  11  19  27  28  37   8\n",
      "550      1676  12  19  22  35  38   1\n",
      "552      1675   1  20  36  39  43  10\n",
      "554      1674   5   6   7  12  37   6\n",
      "556      1673   6  19  25  28  36   1\n",
      "558      1672   1   2  25  31  33  14\n",
      "560      1671  15  28  36  37  41  10\n",
      "\n",
      "[281 rows x 7 columns]\n",
      "     idSorteo  n1  n2  n3  n4  n5  sb\n",
      "1        1951   1   9  20  33  41   9\n",
      "3        1950   9  19  20  35  39  12\n",
      "5        1949  13  21  22  24  32  16\n",
      "7        1948   6   7  15  38  40  16\n",
      "9        1947   1   8   9  22  23   7\n",
      "11       1946   8  15  26  32  37   3\n",
      "13       1945   2  10  36  37  40  15\n",
      "15       1944   2   4  18  28  33  11\n",
      "17       1943   8  22  24  25  40  12\n",
      "19       1942   8  18  22  23  28  11\n",
      "21       1941   2   5  13  27  41   7\n",
      "23       1940   1  10  15  20  28  15\n",
      "25       1939   6  21  23  31  32  15\n",
      "27       1938   8  14  20  23  28   7\n",
      "29       1937   4   8  10  26  32   3\n",
      "31       1936  11  18  30  40  42  10\n",
      "33       1935  11  19  20  27  28   4\n",
      "35       1934   7  18  21  23  28  13\n",
      "37       1933   1  19  31  36  41  15\n",
      "39       1932   1  12  23  29  38   9\n",
      "41       1931   4   9  10  17  25   6\n",
      "43       1930   3  20  24  37  38  11\n",
      "45       1929   7   9  10  22  39   8\n",
      "47       1928   2   7  26  32  33  12\n",
      "49       1927   3   4   7  13  24  14\n",
      "51       1926   4   8  14  29  41  10\n",
      "53       1925   1   7  19  22  34   3\n",
      "55       1924   9  10  14  41  42  11\n",
      "57       1923   2  25  26  28  35   1\n",
      "59       1922  14  20  23  33  38  10\n",
      "..        ...  ..  ..  ..  ..  ..  ..\n",
      "503      1700   4  17  33  34  35  14\n",
      "505      1699  11  14  23  30  35  12\n",
      "507      1698  17  18  31  34  39  14\n",
      "509      1697   4  29  30  31  42  16\n",
      "511      1696   9  10  27  35  42  12\n",
      "513      1695  26  29  30  35  36   6\n",
      "515      1694   1  11  19  20  37   5\n",
      "517      1693  13  15  16  31  37  14\n",
      "519      1692  16  25  31  32  34   5\n",
      "521      1691   4  17  21  35  40   1\n",
      "523      1690   4   7   8  24  41  13\n",
      "525      1689   1   3   7  16  32   4\n",
      "527      1688  12  21  25  27  34  10\n",
      "529      1687  10  19  32  38  40  14\n",
      "531      1686   5  13  17  22  40  13\n",
      "533      1685  22  25  26  40  43  14\n",
      "535      1684   3  13  16  20  26   1\n",
      "537      1683   8  10  19  22  30   3\n",
      "539      1682   5  20  21  25  26   3\n",
      "541      1681  17  28  29  37  40  14\n",
      "543      1680  11  28  31  33  41   7\n",
      "545      1679   4  13  20  31  33   8\n",
      "547      1678   1  20  25  27  34   3\n",
      "549      1677  14  22  24  25  32   7\n",
      "551      1676   3   4  29  40  43   4\n",
      "553      1675   3   5   8  20  24  14\n",
      "555      1674   5  12  15  20  42  14\n",
      "557      1673   8  21  22  37  38   4\n",
      "559      1672   9  12  16  28  38   1\n",
      "561      1671   3   9  10  21  40  10\n",
      "\n",
      "[281 rows x 7 columns]\n"
     ]
    }
   ],
   "source": [
    "df_tr_fusion = []\n",
    "df_re_fusion = []\n",
    "df_tr_fusion = df_tr.drop(unuseful_cols, axis=1)\n",
    "df_re_fusion = df_re.drop(unuseful_cols, axis=1)\n",
    "df_tr_fu_filt = df_tr_fusion.iloc[:, [0,3,4,5,6,7,8]]\n",
    "df_re_fu_filt = df_re_fusion.iloc[:, [0,3,4,5,6,7,8]]\n",
    "Y_tr = df_tr_fusion.iloc[:, 10]\n",
    "Y_re = df_re_fusion.iloc[:, 10]\n",
    "filas = int(df_sb_tr.shape[0])\n",
    "print(df_tr_fu_filt)\n",
    "print(df_re_fu_filt)"
   ]
  },
  {
   "cell_type": "markdown",
   "metadata": {},
   "source": [
    "los numeros de las columnas n1-n5 seran fusionadas, seran transformados a una sola dimension, para poder determinar la frecuencia con la que acontecen, en primera instancia seran separados por tipo de sorteo, y en el nuevo dataset tendremos el numero del sorteo y el numero"
   ]
  },
  {
   "cell_type": "code",
   "execution_count": 16,
   "metadata": {},
   "outputs": [],
   "source": [
    "#print(Y_tr)\n",
    "#print(Y_re)\n",
    "main_columns = ['n1','n2','n3', 'n4', 'n5', 'sb','tipo', 'ganador']"
   ]
  },
  {
   "cell_type": "markdown",
   "metadata": {},
   "source": [
    "Este contenido se usa para segmentar el dataframe"
   ]
  },
  {
   "cell_type": "code",
   "execution_count": 17,
   "metadata": {},
   "outputs": [],
   "source": [
    "def cortasingles(df, col0, col1):\n",
    "    df_filt = df.iloc[0::1,[col0, col1]]\n",
    "    df_filt = df_filt.rename(columns = {'n1':'num','n2':'num','n3':'num','n4':'num','n5':'num'})\n",
    "    return df_filt"
   ]
  },
  {
   "cell_type": "code",
   "execution_count": 18,
   "metadata": {},
   "outputs": [],
   "source": [
    "def cortasinglessb(df, col0, col1, sb):\n",
    "    df_filt = df.iloc[0::1,[col0, col1, sb]]\n",
    "    df_filt = df_filt.rename(columns = {'n1':'num','n2':'num','n3':'num','n4':'num','n5':'num'})\n",
    "    return df_filt"
   ]
  },
  {
   "cell_type": "code",
   "execution_count": 19,
   "metadata": {},
   "outputs": [],
   "source": [
    "def cortaduplas(df, col0, col1, col2):\n",
    "    df_filt = df.iloc[0::1,[col0, col1, col2]]\n",
    "    df_filt = df_filt.rename(columns = {'n1':'num','n2':'num','n3':'num','n4':'num','n5':'num'})\n",
    "    return df_filt"
   ]
  },
  {
   "cell_type": "code",
   "execution_count": 20,
   "metadata": {},
   "outputs": [],
   "source": [
    "def cortaduplassb(df, col0, col1, col2, sb):\n",
    "    df_filt = df.iloc[0::1,[col0, col1, col2, sb]]\n",
    "    df_filt = df_filt.rename(columns = {'n1':'num','n2':'num','n3':'num','n4':'num','n5':'num'})\n",
    "    return df_filt"
   ]
  },
  {
   "cell_type": "code",
   "execution_count": 21,
   "metadata": {},
   "outputs": [],
   "source": [
    "def cortatrios(df, col0, col1, col2, col3):\n",
    "    df_filt = df.iloc[0::1,[col0, col1, col2, col3]]\n",
    "    df_filt = df_filt.rename(columns = {'n1':'num','n2':'num','n3':'num','n4':'num','n5':'num'})\n",
    "    return df_filt"
   ]
  },
  {
   "cell_type": "code",
   "execution_count": 22,
   "metadata": {},
   "outputs": [],
   "source": [
    "def cortatriossb(df, col0, col1, col2, col3, sb):\n",
    "    df_filt = df.iloc[0::1,[col0, col1, col2, col3, sb]]\n",
    "    df_filt = df_filt.rename(columns = {'n1':'num','n2':'num','n3':'num','n4':'num','n5':'num'})\n",
    "    return df_filt"
   ]
  },
  {
   "cell_type": "code",
   "execution_count": 23,
   "metadata": {},
   "outputs": [],
   "source": [
    "def cortacuartetos(df, col0, col1, col2, col3, col4):\n",
    "    df_filt = df.iloc[0::1,[col0, col1, col2, col3, col4]]\n",
    "    df_filt = df_filt.rename(columns = {'n1':'num','n2':'num','n3':'num','n4':'num','n5':'num'})\n",
    "    return df_filt"
   ]
  },
  {
   "cell_type": "code",
   "execution_count": 24,
   "metadata": {},
   "outputs": [],
   "source": [
    "def cortacuartetossb(df, col0, col1, col2, col3, col4, sb):\n",
    "    df_filt = df.iloc[0::1,[col0, col1, col2, col3, col4, sb]]\n",
    "    df_filt = df_filt.rename(columns = {'n1':'num','n2':'num','n3':'num','n4':'num','n5':'num'})\n",
    "    return df_filt"
   ]
  },
  {
   "cell_type": "code",
   "execution_count": 25,
   "metadata": {},
   "outputs": [],
   "source": [
    "def cortaquintetos(df, col0, col1, col2, col3, col4, col5):\n",
    "    df_filt = df.iloc[0::1,[col0, col1, col2, col3, col4, col5]]\n",
    "    df_filt = df_filt.rename(columns = {'n1':'num','n2':'num','n3':'num','n4':'num','n5':'num'})\n",
    "    return df_filt"
   ]
  },
  {
   "cell_type": "code",
   "execution_count": 26,
   "metadata": {},
   "outputs": [],
   "source": [
    "def cortaquintetossb(df, col0, col1, col2, col3, col4, col5, sb):\n",
    "    df_filt = df.iloc[0::1,[col0, col1, col2, col3, col4, col5, sb]]\n",
    "    df_filt = df_filt.rename(columns = {'n1':'num','n2':'num','n3':'num','n4':'num','n5':'num'})\n",
    "    return df_filt"
   ]
  },
  {
   "cell_type": "markdown",
   "metadata": {},
   "source": [
    "El siguiente contenido se usa para fusioinar los dataframes desde los diferentes enfoques, singles, duplas, trios, etc"
   ]
  },
  {
   "cell_type": "code",
   "execution_count": 27,
   "metadata": {},
   "outputs": [],
   "source": [
    "def concatenador_singles(df, sb):\n",
    "    colid = 0\n",
    "    df_1d_fu_tr = cortasinglessb(df,colid,1, sb) if sb > 0 else cortasingles(df,colid,1)\n",
    "    for i in range(1,6):\n",
    "        if (i == 1) :\n",
    "            i = i+1\n",
    "            df_temp_fusion = cortasinglessb(df, colid, i, sb) if sb > 0 else cortasingles(df, colid, i)\n",
    "            df_1d_fu_tr = pd.concat([df_1d_fu_tr, df_temp_fusion], ignore_index=True)\n",
    "        else :\n",
    "            df_temp_fusion = cortasinglessb(df, colid, i, sb) if sb > 0 else cortasingles(df, colid, i)\n",
    "            df_1d_fu_tr = pd.concat([df_1d_fu_tr, df_temp_fusion], ignore_index=True)\n",
    "    df_1d_fu_tr.columns = ['idSorteo', 'num1', 'sb'] if sb > 0 else ['idSorteo', 'num1']\n",
    "    return df_1d_fu_tr"
   ]
  },
  {
   "cell_type": "code",
   "execution_count": 28,
   "metadata": {},
   "outputs": [],
   "source": [
    "def concatenador_duplas(df,sb):\n",
    "    colid = 0\n",
    "    df_2d_fu_tr = cortaduplassb(df, colid, 1, 2, sb) if sb > 0 else cortaduplas(df, colid, 1, 2)\n",
    "    for i in range(1,6):\n",
    "        for ii in range(i+1, 6):\n",
    "            if (i == 1 & ii == 2) :\n",
    "                ii = ii+1\n",
    "                df_temp_fusion = cortaduplassb(df, colid, i, ii, sb) if sb > 0 else cortaduplas(df, colid, i, ii)\n",
    "                df_2d_fu_tr = pd.concat([df_2d_fu_tr, df_temp_fusion], ignore_index=True)\n",
    "            else :\n",
    "                df_temp_fusion = cortaduplassb(df, colid, i, ii, sb) if sb > 0 else cortaduplas(df, colid, i, ii)\n",
    "                df_2d_fu_tr = pd.concat([df_2d_fu_tr, df_temp_fusion], ignore_index=True)\n",
    "    df_2d_fu_tr.columns = ['idSorteo', 'num1', 'num2', 'sb'] if sb > 0 else ['idSorteo', 'num1', 'num2']\n",
    "    return df_2d_fu_tr"
   ]
  },
  {
   "cell_type": "code",
   "execution_count": 29,
   "metadata": {},
   "outputs": [],
   "source": [
    "def concatenador_trios(df,sb):\n",
    "    colid = 0\n",
    "    df_3d_fu_tr = cortatriossb(df, colid, 1, 2, 3, sb) if sb > 0 else cortatrios(df, colid, 1, 2, 3)\n",
    "    for i in range(1,6):\n",
    "        for ii in range(i + 1, 6):\n",
    "            for iii in range(ii + 1, 6):\n",
    "                if (i == 1 & ii == 2 & iii == 3) :\n",
    "                    iii = iii + 1\n",
    "                    df_temp_fusion = cortatriossb(df, colid, i, ii, iii, sb) if sb > 0 else cortatrios(df, colid, i, ii, iii)\n",
    "                    df_3d_fu_tr = pd.concat([df_3d_fu_tr, df_temp_fusion], ignore_index=True)\n",
    "                else :\n",
    "                    df_temp_fusion = cortatriossb(df, colid, i, ii, iii, sb) if sb > 0 else cortatrios(df, colid, i, ii, iii)\n",
    "                    df_3d_fu_tr = pd.concat([df_3d_fu_tr, df_temp_fusion], ignore_index=True)\n",
    "                print(str(i), ' - ', str(ii), ' - ', str(iii) )\n",
    "    df_3d_fu_tr.columns = ['idSorteo', 'num1', 'num2', 'num3', 'sb'] if sb > 0 else ['idSorteo', 'num1', 'num2', 'num3']\n",
    "    return df_3d_fu_tr"
   ]
  },
  {
   "cell_type": "code",
   "execution_count": 30,
   "metadata": {},
   "outputs": [],
   "source": [
    "def concatenador_cuartetos(df, sb):\n",
    "    colid = 0\n",
    "    df_4d_fu_tr = cortacuartetossb(df, colid, 1, 2, 3, 4, sb) if sb > 0 else cortacuartetos(df, colid, 1, 2, 3, 4)\n",
    "    for i in range(1,6):\n",
    "        for ii in range(i + 1, 6):\n",
    "            for iii in range(ii + 1, 6 ):\n",
    "                for iiii in range(iii + 1, 6 ):\n",
    "                    if (i == 1 & ii == 2 & iii == 3 & iiii == 4 ) :\n",
    "                        iiii = iiii + 1\n",
    "                        age = 15\n",
    "                        df_temp_fusion = cortacuartetossb(df, colid, i, ii, iii, iiii, sb) if sb > 0 else cortacuartetos(df, colid, i, ii, iii, iiii)\n",
    "                        df_4d_fu_tr = pd.concat([df_4d_fu_tr, df_temp_fusion], ignore_index=True)\n",
    "                    else :\n",
    "                        df_temp_fusion = cortacuartetossb(df, colid, i, ii, iii, iiii, sb) if sb > 0 else cortacuartetos(df, colid, i, ii, iii, iiii)\n",
    "                        df_4d_fu_tr = pd.concat([df_4d_fu_tr, df_temp_fusion], ignore_index=True)\n",
    "    df_4d_fu_tr.columns = ['idSorteo', 'num1', 'num2', 'num3', 'num4', 'sb'] if sb > 0 else ['idSorteo', 'num1', 'num2', 'num3', 'num4']\n",
    "    return df_4d_fu_tr"
   ]
  },
  {
   "cell_type": "code",
   "execution_count": 31,
   "metadata": {},
   "outputs": [],
   "source": [
    "def concatenador_quintetos(df, sb):\n",
    "    colid = 0\n",
    "    df_5d_fu_tr = cortaquintetossb(df, colid, 1, 2, 3, 4, 5, sb) if sb > 0 else  cortaquintetos(df, colid, 1, 2, 3, 4, 5)\n",
    "    df_5d_fu_tr.columns = ['idSorteo', 'num1', 'num2', 'num3', 'num4', 'num5', 'sb'] if sb > 0 else ['idSorteo', 'num1', 'num2', 'num3', 'num4', 'num5']\n",
    "    return df_5d_fu_tr"
   ]
  },
  {
   "cell_type": "code",
   "execution_count": 40,
   "metadata": {},
   "outputs": [],
   "source": [
    "def agrupa_duplas(df):\n",
    "    conteo_nums = df.groupby(['num1', 'num2']).size()\n",
    "    conteo_nums[conteo_nums > 1].sort_values(ascending=False)\n",
    "    return conteo_nums"
   ]
  },
  {
   "cell_type": "code",
   "execution_count": 44,
   "metadata": {},
   "outputs": [],
   "source": [
    "def agrupa_trios(df):\n",
    "    conteo_nums = df.groupby(['num1', 'num2', 'num3']).size()\n",
    "    conteo_nums[conteo_nums > 1].sort_values(ascending=True)\n",
    "    return conteo_nums"
   ]
  },
  {
   "cell_type": "code",
   "execution_count": 34,
   "metadata": {},
   "outputs": [],
   "source": [
    "def agrupa_cuartetos(df):\n",
    "    conteo_nums = df.groupby(['num1', 'num2', 'num3', 'num4']).size()\n",
    "    conteo_nums[conteo_nums > 1].sort_values(ascending=False).head(10)\n",
    "    return conteo_nums"
   ]
  },
  {
   "cell_type": "code",
   "execution_count": 35,
   "metadata": {},
   "outputs": [],
   "source": [
    "def agrupa_quintetos(df):\n",
    "    conteo_nums = df.groupby(['num1', 'num2', 'num3', 'num4', 'num5']).size()\n",
    "    conteo_nums[conteo_nums > 1].sort_values(ascending=False).head(10)\n",
    "    return conteo_nums"
   ]
  },
  {
   "cell_type": "code",
   "execution_count": 49,
   "metadata": {},
   "outputs": [
    {
     "name": "stdout",
     "output_type": "stream",
     "text": [
      "1  -  2  -  3\n",
      "1  -  2  -  4\n",
      "1  -  2  -  5\n",
      "1  -  3  -  4\n",
      "1  -  3  -  5\n",
      "1  -  4  -  5\n",
      "2  -  3  -  4\n",
      "2  -  3  -  5\n",
      "2  -  4  -  5\n",
      "3  -  4  -  5\n"
     ]
    },
    {
     "data": {
      "text/html": [
       "<div>\n",
       "<style scoped>\n",
       "    .dataframe tbody tr th:only-of-type {\n",
       "        vertical-align: middle;\n",
       "    }\n",
       "\n",
       "    .dataframe tbody tr th {\n",
       "        vertical-align: top;\n",
       "    }\n",
       "\n",
       "    .dataframe thead th {\n",
       "        text-align: right;\n",
       "    }\n",
       "</style>\n",
       "<table border=\"1\" class=\"dataframe\">\n",
       "  <thead>\n",
       "    <tr style=\"text-align: right;\">\n",
       "      <th></th>\n",
       "      <th>Resultados</th>\n",
       "    </tr>\n",
       "  </thead>\n",
       "  <tbody>\n",
       "    <tr>\n",
       "      <th>count</th>\n",
       "      <td>2534.000</td>\n",
       "    </tr>\n",
       "    <tr>\n",
       "      <th>mean</th>\n",
       "      <td>1.220</td>\n",
       "    </tr>\n",
       "    <tr>\n",
       "      <th>std</th>\n",
       "      <td>0.491</td>\n",
       "    </tr>\n",
       "    <tr>\n",
       "      <th>min</th>\n",
       "      <td>1.000</td>\n",
       "    </tr>\n",
       "    <tr>\n",
       "      <th>25%</th>\n",
       "      <td>1.000</td>\n",
       "    </tr>\n",
       "    <tr>\n",
       "      <th>50%</th>\n",
       "      <td>1.000</td>\n",
       "    </tr>\n",
       "    <tr>\n",
       "      <th>75%</th>\n",
       "      <td>1.000</td>\n",
       "    </tr>\n",
       "    <tr>\n",
       "      <th>max</th>\n",
       "      <td>6.000</td>\n",
       "    </tr>\n",
       "  </tbody>\n",
       "</table>\n",
       "</div>"
      ],
      "text/plain": [
       "       Resultados\n",
       "count    2534.000\n",
       "mean        1.220\n",
       "std         0.491\n",
       "min         1.000\n",
       "25%         1.000\n",
       "50%         1.000\n",
       "75%         1.000\n",
       "max         6.000"
      ]
     },
     "execution_count": 49,
     "metadata": {},
     "output_type": "execute_result"
    }
   ],
   "source": [
    "#df_1d_fusion_tr = concatenador_singles(df_tr_fu_filt, 0)\n",
    "#df_1d_fusion_tr.num.value_counts()\n",
    "#df_1d_fusion_re = concatenador_singles(df_re_fu_filt, 0)\n",
    "#print(df_1d_fusion_re)\n",
    "\n",
    "#df_2d_fusion_tr = concatenador_duplas(df_tr_fu_filt, 1)\n",
    "#conteos = agrupa_duplas(df_2d_fusion_tr)\n",
    "#df_2d_fusion_tr = renombrador_duplas(df_2d_fusion_tr)\n",
    "#df_2d_fusion_tr.rename({1: 'num1', 2: 'num2'}, axis=1, inplace=True)\n",
    "#df_2d_fusion_tr.rename(index=str).index\n",
    "\n",
    "#df_final = df_2d_fusion_tr.rename({1:'log(gdp)'}, axis='columns') # df.rename({'gdp':'log(gdp)'}, axis='columns') y log(gdp) cap 0 xxx 1 xxx 2 xxx 3 xxx 4 xxx\n",
    "#df_2d_fusion_re = concatenador_duplas(df_re_fu_filt)\n",
    "#df_2d_fusion_tr.num.value_counts()\n",
    "#df_2d_fusion_re.idSorteo.value_counts()\n",
    "\n",
    "df_3d_fusion_tr = concatenador_trios(df_tr_fu_filt, 1)\n",
    "conteos = agrupa_trios(df_3d_fusion_tr)\n",
    "#conteos.describe()\n",
    "#df_2d_fusion_tr = df_2d_fusion_tr.rename(columns = {'n1':'num','n2':'num','n3':'num','n4':'num','n5':'num'})\n",
    "\n",
    "#author = ['Jitender', 'Purnima', 'Arpit', 'Jyoti'] \n",
    "#article = [210, 211, 114, 178] \n",
    "\n",
    "conteos_series = pd.Series(conteos) \n",
    "#article_series = pd.Series(article) \n",
    "\n",
    "frame = { 'Resultados': conteos_series } \n",
    "\n",
    "result = pd.DataFrame(frame) \n",
    "result.describe()\n",
    "#print(result.info()) \n",
    "\n",
    "\n",
    "#df_3d_fusion_tr = concatenador_trios(df_tr_fu_filt, 6)\n",
    "#df_3d_fusion_re = concatenador_trios(df_re_fu_filt, 6)\n",
    "#df_3d_fusion_tr.idSorteo.value_counts()\n",
    "#df_3d_fusion_re.idSorteo.value_counts()\n",
    "#print(df_3d_fusion_re)\n",
    "\n",
    "#df_4d_fusion_tr = concatenador_cuartetos(df_tr_fu_filt)\n",
    "#df_4d_fusion_re = concatenador_cuartetos(df_re_fu_filt)\n",
    "#df_4d_fusion_tr.idSorteo.value_counts()\n",
    "#df_4d_fusion_re.idSorteo.value_counts()\n",
    "#print(df_4d_fusion_re)\n",
    "\n",
    "#df_5d_fusion_tr = concatenador_quintetos(df_tr_fu_filt, 6)\n",
    "#df_5d_fusion_re = concatenador_quintetos(df_re_fu_filt, 6)\n",
    "#print(df_5d_fusion_re)\n"
   ]
  },
  {
   "cell_type": "code",
   "execution_count": 37,
   "metadata": {},
   "outputs": [],
   "source": [
    "#df_temp_fusion = cortaduplas(df_tr_fu_filt,0,6,5)\n",
    "#df_2d_fusion = pd.concat([df_2d_fusion, df_temp_fusion], ignore_index=True)\n",
    "#print(df_temp_fusion)"
   ]
  },
  {
   "cell_type": "code",
   "execution_count": null,
   "metadata": {},
   "outputs": [],
   "source": []
  },
  {
   "cell_type": "code",
   "execution_count": null,
   "metadata": {},
   "outputs": [],
   "source": []
  },
  {
   "cell_type": "code",
   "execution_count": null,
   "metadata": {},
   "outputs": [],
   "source": []
  },
  {
   "cell_type": "code",
   "execution_count": null,
   "metadata": {},
   "outputs": [],
   "source": [
    "\n"
   ]
  },
  {
   "cell_type": "code",
   "execution_count": 38,
   "metadata": {},
   "outputs": [
    {
     "ename": "NameError",
     "evalue": "name 'df_1d_fusion_tr' is not defined",
     "output_type": "error",
     "traceback": [
      "\u001b[1;31m---------------------------------------------------------------------------\u001b[0m",
      "\u001b[1;31mNameError\u001b[0m                                 Traceback (most recent call last)",
      "\u001b[1;32m<ipython-input-38-88761c790f95>\u001b[0m in \u001b[0;36m<module>\u001b[1;34m\u001b[0m\n\u001b[1;32m----> 1\u001b[1;33m \u001b[0mdf_final\u001b[0m \u001b[1;33m=\u001b[0m \u001b[0mdf_1d_fusion_tr\u001b[0m\u001b[1;33m\u001b[0m\u001b[1;33m\u001b[0m\u001b[0m\n\u001b[0m",
      "\u001b[1;31mNameError\u001b[0m: name 'df_1d_fusion_tr' is not defined"
     ]
    }
   ],
   "source": [
    "df_final = df_1d_fusion_tr"
   ]
  },
  {
   "cell_type": "code",
   "execution_count": null,
   "metadata": {},
   "outputs": [],
   "source": [
    "df_final.describe()"
   ]
  },
  {
   "cell_type": "code",
   "execution_count": null,
   "metadata": {},
   "outputs": [],
   "source": [
    "sns.set(style=\"darkgrid\")\n",
    "ax = sns.countplot(y=\"num\", data=df_final)"
   ]
  },
  {
   "cell_type": "code",
   "execution_count": null,
   "metadata": {},
   "outputs": [],
   "source": [
    "sns.set(style=\"darkgrid\")\n",
    "x= df_final.num\n",
    "ax = sns.distplot(x, bins=43)"
   ]
  },
  {
   "cell_type": "code",
   "execution_count": null,
   "metadata": {},
   "outputs": [],
   "source": [
    "g = sns.jointplot(\"num\", \"idSorteo\",  data=df_final, kind=\"reg\", xlim=(1, 43), ylim=(1650, 1940), color=\"m\", height=15)"
   ]
  },
  {
   "cell_type": "code",
   "execution_count": null,
   "metadata": {},
   "outputs": [],
   "source": [
    "sns.pairplot(df_final, hue=\"num\")"
   ]
  },
  {
   "cell_type": "code",
   "execution_count": null,
   "metadata": {},
   "outputs": [],
   "source": [
    "grid = sns.FacetGrid(df_final, col=\"num\", hue=\"num\", palette=\"tab20c\", col_wrap=4, height=4)\n",
    "grid.map(plt.axhline, y=0, ls=\":\", c=\".5\")\n",
    "grid.map(plt.plot, \"num\", \"idSorteo\", marker=\"o\")\n",
    "grid.set(xticks=np.arange(5), yticks=[-3, 3], xlim=(-.5, 4.5), ylim=(-3.5, 3.5))\n",
    "grid.fig.tight_layout(w_pad=1)"
   ]
  },
  {
   "cell_type": "code",
   "execution_count": null,
   "metadata": {},
   "outputs": [],
   "source": [
    "a4_dims = (11.7, 8.27)\n",
    "df = mylib.load_data()\n",
    "fig, ax = pyplot.subplots(figsize=a4_dims)\n",
    "seaborn.violinplot(ax=ax, data=df, **violin_options)\n",
    "\n",
    "ax = sns.barplot(x=\"num\", y=\"num\", data=df_final, estimator=lambda x: len(x) / len(df) * 100)\n",
    "ax.set(ylabel=\"Percent\")"
   ]
  },
  {
   "cell_type": "code",
   "execution_count": null,
   "metadata": {},
   "outputs": [],
   "source": [
    "df_conteos = df_final.num.value_counts()\n",
    "df_conteos.info()"
   ]
  },
  {
   "cell_type": "code",
   "execution_count": null,
   "metadata": {},
   "outputs": [],
   "source": [
    "sns.set(style=\"darkgrid\")\n",
    "x= df_conteos.num\n",
    "ax = sns.distplot(x, bins=43)"
   ]
  },
  {
   "cell_type": "code",
   "execution_count": null,
   "metadata": {},
   "outputs": [],
   "source": []
  }
 ],
 "metadata": {
  "kernelspec": {
   "display_name": "Python 3",
   "language": "python",
   "name": "python3"
  },
  "language_info": {
   "codemirror_mode": {
    "name": "ipython",
    "version": 3
   },
   "file_extension": ".py",
   "mimetype": "text/x-python",
   "name": "python",
   "nbconvert_exporter": "python",
   "pygments_lexer": "ipython3",
   "version": "3.7.3"
  }
 },
 "nbformat": 4,
 "nbformat_minor": 4
}
