{
 "cells": [
  {
   "cell_type": "code",
   "execution_count": 1,
   "metadata": {},
   "outputs": [],
   "source": [
    "import random\n",
    "import pandas as pd\n",
    "import numpy as np\n",
    "import seaborn as sns\n",
    "import matplotlib.pyplot as plt\n",
    "import importlib\n",
    "import os\n",
    "import math\n",
    "from sklearn import metrics\n",
    "from sklearn.pipeline import Pipeline\n",
    "from sklearn.preprocessing import StandardScaler, LabelEncoder, OneHotEncoder, KBinsDiscretizer\n",
    "from sklearn.model_selection import train_test_split\n",
    "from sklearn.tree import DecisionTreeRegressor\n",
    "from sklearn.model_selection import cross_val_score\n",
    "from sklearn.metrics import mean_squared_error\n",
    "from sklearn.neighbors import KNeighborsClassifier, KNeighborsRegressor\n",
    "from sklearn.preprocessing import StandardScaler\n",
    "from time import sleep\n",
    "\n",
    "\n",
    "pd.set_option('display.float_format', lambda x: '%.3f' % x)\n",
    "\n",
    "sns.set()"
   ]
  },
  {
   "cell_type": "code",
   "execution_count": 2,
   "metadata": {},
   "outputs": [],
   "source": [
    "def generaPath(tipo, nombre):\n",
    "    prepath = str(os.getcwd())\n",
    "    if (tipo == \"I\"):\n",
    "        path = prepath + '\\\\origen\\\\' + nombre\n",
    "    else :\n",
    "        path = prepath + '\\\\generados\\\\' + nombre\n",
    "    return path"
   ]
  },
  {
   "cell_type": "code",
   "execution_count": 3,
   "metadata": {},
   "outputs": [],
   "source": [
    "df_tr_fu_filt_delta = pd.read_csv(generaPath('O', 'df_tr_fu_filt_delta.csv'))\n",
    "df_re_fu_filt_delta = pd.read_csv(generaPath('O', 'df_re_fu_filt_delta.csv'))"
   ]
  },
  {
   "cell_type": "code",
   "execution_count": 4,
   "metadata": {},
   "outputs": [],
   "source": [
    "df_cs_tr = pd.read_csv(generaPath('O', 'df_cs_tr.csv'))\n",
    "df_cd_tr = pd.read_csv(generaPath('O', 'df_cd_tr.csv'))\n",
    "df_ct_tr = pd.read_csv(generaPath('O', 'df_ct_tr.csv'))\n",
    "df_cc_tr = pd.read_csv(generaPath('O', 'df_cc_tr.csv'))\n",
    "df_cq_tr = pd.read_csv(generaPath('O', 'df_cq_tr.csv'))"
   ]
  },
  {
   "cell_type": "code",
   "execution_count": 5,
   "metadata": {},
   "outputs": [],
   "source": [
    "df_cs_re = pd.read_csv(generaPath('O', 'df_cs_re.csv'))\n",
    "df_cd_re = pd.read_csv(generaPath('O', 'df_cd_re.csv'))\n",
    "df_ct_re = pd.read_csv(generaPath('O', 'df_ct_re.csv'))\n",
    "df_cc_re = pd.read_csv(generaPath('O', 'df_cc_re.csv'))\n",
    "df_cq_re = pd.read_csv(generaPath('O', 'df_cq_re.csv'))"
   ]
  },
  {
   "cell_type": "code",
   "execution_count": 6,
   "metadata": {},
   "outputs": [],
   "source": [
    "def unsplited_tupla(sbs):\n",
    "    delticas = []\n",
    "    partido = sbs.split(sep='|') if (sbs.find(\"|\") >= 1) else sbs\n",
    "    return partido"
   ]
  },
  {
   "cell_type": "code",
   "execution_count": 7,
   "metadata": {},
   "outputs": [],
   "source": [
    "def entire_part(res1):\n",
    "    pd, pe = math.modf(res1)\n",
    "    #print(\"entire Part: \", pe, \" decimal part: \", pd)\n",
    "    if (int(pe) >= int(1)):\n",
    "        res = pd\n",
    "    else: \n",
    "        res = 1 - pd\n",
    "    #print(\"res en entire_part\", res)\n",
    "    return res"
   ]
  },
  {
   "cell_type": "code",
   "execution_count": 8,
   "metadata": {},
   "outputs": [],
   "source": [
    "def set_hot_level(last_number, evaluated_number ):\n",
    "    num = float(int(last_number) /int(evaluated_number))\n",
    "    #print(\"num:\", num)\n",
    "    ret = entire_part(num)\n",
    "    return ret"
   ]
  },
  {
   "cell_type": "code",
   "execution_count": 9,
   "metadata": {},
   "outputs": [],
   "source": [
    "def set_closer_to_1(actual_number, new_number ):\n",
    "    if actual_number >1:\n",
    "        dif1 = float(actual_number - 1)\n",
    "    else:\n",
    "        dif1 = float(1 - actual_number)\n",
    "    if new_number > 1:\n",
    "        dif2 = float(new_number - 1)\n",
    "    else:\n",
    "        dif2 = float(1- new_number) \n",
    "    \n",
    "    if dif1 > dif2:\n",
    "        dif = new_number\n",
    "    else:\n",
    "        dif = actual_number\n",
    "    return dif"
   ]
  },
  {
   "cell_type": "code",
   "execution_count": 10,
   "metadata": {},
   "outputs": [],
   "source": [
    "def retorna_valor(valor):\n",
    "    p2t = 0\n",
    "    if float(valor) == float(0.0):\n",
    "        p2t = float(0.3333)\n",
    "    else:    \n",
    "        p2t = valor\n",
    "    return p2t\n"
   ]
  },
  {
   "cell_type": "code",
   "execution_count": 11,
   "metadata": {},
   "outputs": [],
   "source": [
    "def how_hot_is(df, df_base):\n",
    "    anterior = 0\n",
    "    prob = []\n",
    "    prob1 = []\n",
    "    better = []\n",
    "    for index, row in df.iterrows():\n",
    "        last = int(row[3])\n",
    "        media = int(row[2])\n",
    "        moda = str(row[4]) \n",
    "        pesos = float(row[6])\n",
    "        #print(\"last: \",last,\" media: \", media, \" pesos: \", pesos, \" moda: \", moda)\n",
    "        if ((int(last) > int(0)) & (int(media) > int(0)) ):\n",
    "            res1 = set_hot_level(last, media)\n",
    "            p1 = float(res1)\n",
    "        else:\n",
    "            p1 = float(0.33)\n",
    "        prob1.append(p1)\n",
    "        \n",
    "        splitedtupla= unsplited_tupla(moda)\n",
    "        if type(splitedtupla) is not type(moda):\n",
    "            df_splited = pd.DataFrame(splitedtupla)\n",
    "            #print(\"df_splited:\", df_splited)\n",
    "            for index, row in df_splited.iterrows():\n",
    "                valor = int(row[0])\n",
    "                res2 = set_hot_level(last, valor)\n",
    "                better.append(float(res2)) \n",
    "            #print(\"valor de better \", better)\n",
    "            conteo = len(better)          \n",
    "            for i in better: \n",
    "                temp = float(i) \n",
    "                if int(conteo) == int(0):\n",
    "                    conteo = conteo +1\n",
    "                    anterior = i\n",
    "                else:\n",
    "                    conteo = conteo +1\n",
    "                    if float(temp) <= float(anterior):\n",
    "                        anterior = temp\n",
    "            p2 = retorna_valor(anterior)\n",
    "        else:\n",
    "            res2 = set_hot_level(last, moda)\n",
    "            p2 = retorna_valor(res2)\n",
    "        \n",
    "        p3 = pesos\n",
    "        print(\"p1: \",p1, \"p2: \", p2, \"p3: \", p3)\n",
    "        prob.append(float(p1 + p2 + p3)/ int(3))\n",
    "    return prob, prob1"
   ]
  },
  {
   "cell_type": "code",
   "execution_count": 12,
   "metadata": {},
   "outputs": [
    {
     "name": "stdout",
     "output_type": "stream",
     "text": [
      "p1:  0.8571428571428572 p2:  0.3333 p3:  0.027296587926509186\n",
      "p1:  0.1428571428571428 p2:  0.3333 p3:  0.025721784776902887\n",
      "p1:  0.25 p2:  0.5 p3:  0.023097112860892388\n",
      "p1:  0.75 p2:  0.3333 p3:  0.024146981627296588\n",
      "p1:  0.4444444444444444 p2:  0.3333 p3:  0.02099737532808399\n",
      "p1:  0.625 p2:  0.3333 p3:  0.022572178477690292\n",
      "p1:  0.33 p2:  1.0 p3:  0.02047244094488189\n",
      "p1:  0.7142857142857143 p2:  0.3333 p3:  0.024671916010498687\n",
      "p1:  0.0 p2:  0.5 p3:  0.01994750656167979\n",
      "p1:  0.5714285714285714 p2:  0.5 p3:  0.025196850393700787\n",
      "p1:  0.375 p2:  0.3333 p3:  0.022047244094488192\n",
      "p1:  0.1428571428571429 p2:  0.3333 p3:  0.027296587926509186\n",
      "p1:  0.33333333333333326 p2:  0.3333 p3:  0.02152230971128609\n",
      "p1:  0.33 p2:  0.3333 p3:  0.024671916010498687\n",
      "p1:  0.11111111111111116 p2:  0.3333 p3:  0.01994750656167979\n",
      "p1:  0.5 p2:  0.3333 p3:  0.023622047244094488\n",
      "p1:  0.7 p2:  0.5 p3:  0.01784776902887139\n",
      "p1:  0.33 p2:  1.0 p3:  0.025721784776902887\n",
      "p1:  0.2857142857142857 p2:  0.3333 p3:  0.024671916010498687\n",
      "p1:  0.8333333333333335 p2:  0.5 p3:  0.028346456692913382\n",
      "p1:  0.6 p2:  0.3333 p3:  0.01942257217847769\n",
      "p1:  0.6666666666666667 p2:  0.3333 p3:  0.02047244094488189\n",
      "p1:  0.0 p2:  0.3333 p3:  0.025196850393700787\n",
      "p1:  0.5555555555555556 p2:  0.33333333333333326 p3:  0.02099737532808399\n",
      "p1:  0.5 p2:  0.3333 p3:  0.028346456692913382\n",
      "p1:  0.5555555555555556 p2:  0.3333 p3:  0.02099737532808399\n",
      "p1:  0.33 p2:  0.3333 p3:  0.022572178477690292\n",
      "p1:  0.33 p2:  1.0 p3:  0.026246719160104987\n",
      "p1:  0.625 p2:  0.3333 p3:  0.022572178477690292\n",
      "p1:  0.2727272727272727 p2:  0.3333 p3:  0.01732283464566929\n",
      "p1:  0.4444444444444444 p2:  0.5 p3:  0.02099737532808399\n",
      "p1:  0.5555555555555556 p2:  0.3333 p3:  0.02099737532808399\n",
      "p1:  0.75 p2:  0.3333 p3:  0.023622047244094488\n",
      "p1:  0.1428571428571428 p2:  0.3333 p3:  0.025196850393700787\n",
      "p1:  0.125 p2:  0.3333333333333335 p3:  0.022047244094488192\n",
      "p1:  0.8571428571428572 p2:  0.3333 p3:  0.025721784776902887\n",
      "p1:  0.8333333333333334 p2:  0.3333 p3:  0.028346456692913382\n",
      "p1:  0.5 p2:  0.3333 p3:  0.015748031496062992\n",
      "p1:  0.625 p2:  0.3333 p3:  0.022572178477690292\n",
      "p1:  0.8571428571428572 p2:  0.3333 p3:  0.027296587926509186\n",
      "p1:  0.7142857142857143 p2:  0.3333 p3:  0.026246719160104987\n",
      "p1:  0.25 p2:  0.3333 p3:  0.022047244094488192\n",
      "p1:  0.7142857142857143 p2:  0.3333 p3:  0.025196850393700787\n"
     ]
    },
    {
     "data": {
      "text/plain": [
       "[0.4059131483564555,\n",
       " 0.1672929758780152,\n",
       " 0.25769903762029744,\n",
       " 0.3691489938757655,\n",
       " 0.26624727325750946,\n",
       " 0.32695739282589675,\n",
       " 0.45015748031496067,\n",
       " 0.35741921009873767,\n",
       " 0.17331583552055993,\n",
       " 0.36554180727409075,\n",
       " 0.24344908136482937,\n",
       " 0.16781791026121737,\n",
       " 0.22938521434820644,\n",
       " 0.22932397200349955,\n",
       " 0.1547862058909303,\n",
       " 0.28564068241469814,\n",
       " 0.40594925634295714,\n",
       " 0.451907261592301,\n",
       " 0.2145620672415948,\n",
       " 0.4538932633420823,\n",
       " 0.3175741907261592,\n",
       " 0.34014636920384955,\n",
       " 0.11949895013123359,\n",
       " 0.30329542140565763,\n",
       " 0.28721548556430443,\n",
       " 0.3032843102945465,\n",
       " 0.22862405949256345,\n",
       " 0.45208223972003503,\n",
       " 0.32695739282589675,\n",
       " 0.20778336912431397,\n",
       " 0.3218139399241761,\n",
       " 0.3032843102945465,\n",
       " 0.36897401574803146,\n",
       " 0.16711799775028116,\n",
       " 0.16012685914260724,\n",
       " 0.40538821397325336,\n",
       " 0.39832659667541565,\n",
       " 0.28301601049868763,\n",
       " 0.32695739282589675,\n",
       " 0.4059131483564555,\n",
       " 0.3579441444819398,\n",
       " 0.20178241469816272,\n",
       " 0.3575941882264717]"
      ]
     },
     "execution_count": 12,
     "metadata": {},
     "output_type": "execute_result"
    }
   ],
   "source": [
    "proba, proba1 = how_hot_is(df_cs_tr, df_tr_fu_filt_delta)\n",
    "proba\n",
    "#dft['Pr'] = proba"
   ]
  },
  {
   "cell_type": "code",
   "execution_count": null,
   "metadata": {},
   "outputs": [],
   "source": [
    "proba1"
   ]
  },
  {
   "cell_type": "code",
   "execution_count": null,
   "metadata": {},
   "outputs": [],
   "source": []
  }
 ],
 "metadata": {
  "kernelspec": {
   "display_name": "Python 3",
   "language": "python",
   "name": "python3"
  },
  "language_info": {
   "codemirror_mode": {
    "name": "ipython",
    "version": 3
   },
   "file_extension": ".py",
   "mimetype": "text/x-python",
   "name": "python",
   "nbconvert_exporter": "python",
   "pygments_lexer": "ipython3",
   "version": "3.7.4"
  }
 },
 "nbformat": 4,
 "nbformat_minor": 4
}
