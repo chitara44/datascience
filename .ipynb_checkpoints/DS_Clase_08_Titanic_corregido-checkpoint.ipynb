{
 "cells": [
  {
   "cell_type": "markdown",
   "metadata": {},
   "source": [
    "# Titanic - Exploración de datos\n",
    "\n",
    "El objetivo del siguiente notebook es hacer una exploración de los datos del Dataset del Titanic (\"DS_Clase_05_titanic.csv\").\n",
    "\n",
    "Pueden encontrar más información al respecto en el siguiente link:\n",
    "\n",
    "https://www.kaggle.com/c/titanic\n",
    "\n",
    "Más adelante hablaremos más acerca de Kaggle, pero por ahora les comentamos que es una página donde se suben Dataset y la gente los analiza. En general los datasets están bastante curados y la gente sube los \"Kernels\" (Notebooks) que usaron para analizarlos. La página está buenísima, recomendamos que exploren los kernels de análisis del Titanic - al menos los de mayor puntaje - y miren las competencias que hay.\n",
    "\n",
    "## 1. Análisis Exploratorio de Datos\n",
    "\n",
    "La idea del siguiente análisis es que sea lo menos guiado posible. De todas formas, dejamos una serie de preguntas y pistas que no deberían faltar:\n",
    "\n",
    "1. ¿Qué forma tiene el dataset? Hacer una descripción rápida. Pista: `.describe()`\n",
    "2. ¿De qué tipo son las variables y qué valores toman? Pista: `.info()`\n",
    "3. ¿En qué columnas hay valores faltantes?¿Cuántos? Pista: `.info(), .isna(), sum()`\n",
    "4. ¿Cómo son las distribuciones y las relaciones entre variables?¿Son informativos esos gráficos? Concentrarse en las variables más relevantes: género, edad, clase, etc. Pista: `pairplot()`\n",
    "5. ¿Cómo están correlacionadas las variables?\n",
    "\n",
    "## 2. Extrayendo información\n",
    "\n",
    "\"Mujeres y niños primero\". ¿Será cierto? Intentemos fundamentar (o no) esa afirmación con la información disponible en el dataset. Para ello, responder las siguientes preguntas:\n",
    "\n",
    "1. ¿Cuántos hombres y mujeres sobrevivieron a la tragedia?¿Alcanza con esa información para afirmar que las mujeres tenían mayor probabilidad de supervivencia o necesitamos algo más?\n",
    "2. ¿Cuál era la distribución de edades en el Titanic?¿Es la misma para hombres y mujeres?\n",
    "3. ¿Cuál era la distribución de edades en el Titanic?¿Es la misma para hombres y mujeres?\n",
    "\n",
    "Recuerden, siempre que puedan, hacer un lindo gráfico. \n"
   ]
  },
  {
   "cell_type": "markdown",
   "metadata": {},
   "source": [
    "### 1. Cargamos las librerías y los datos"
   ]
  },
  {
   "cell_type": "code",
   "execution_count": null,
   "metadata": {},
   "outputs": [],
   "source": [
    "import pandas as pd\n",
    "import numpy as np\n",
    "import seaborn as sns\n",
    "import matplotlib.pyplot as plt\n",
    "sns.set()"
   ]
  },
  {
   "cell_type": "code",
   "execution_count": null,
   "metadata": {},
   "outputs": [],
   "source": [
    "df = pd.read_csv('DS_Clase_05_titanic.csv')\n",
    "df.head(5)"
   ]
  },
  {
   "cell_type": "markdown",
   "metadata": {},
   "source": [
    "Y nos fijamos cuántas columnas y cuántas filas tiene del dataset"
   ]
  },
  {
   "cell_type": "code",
   "execution_count": null,
   "metadata": {},
   "outputs": [],
   "source": [
    "print(df.shape)"
   ]
  },
  {
   "cell_type": "markdown",
   "metadata": {},
   "source": [
    "Es decir, tiene 891 entradas y 14 features o variables.\n",
    "\n",
    "¿Recuerdan lo que hace el comando *.describe()*?¿Y *.info*?"
   ]
  },
  {
   "cell_type": "code",
   "execution_count": null,
   "metadata": {},
   "outputs": [],
   "source": [
    "# completar"
   ]
  },
  {
   "cell_type": "code",
   "execution_count": null,
   "metadata": {},
   "outputs": [],
   "source": [
    "# completar"
   ]
  },
  {
   "cell_type": "code",
   "execution_count": null,
   "metadata": {},
   "outputs": [],
   "source": [
    "# insicar cuantos nulos hay por cada variable (columna)"
   ]
  },
  {
   "cell_type": "markdown",
   "metadata": {},
   "source": [
    "**Hacer un gráfico donde se puedan observar las relaciones entre variables y sus histogramas**"
   ]
  },
  {
   "cell_type": "code",
   "execution_count": null,
   "metadata": {},
   "outputs": [],
   "source": [
    "# completar (ayuda, recuerde pairplot)"
   ]
  },
  {
   "cell_type": "markdown",
   "metadata": {},
   "source": [
    "Pandas también tiene una función incorporada similar a `sns.pairplot()`"
   ]
  },
  {
   "cell_type": "code",
   "execution_count": null,
   "metadata": {},
   "outputs": [],
   "source": [
    "# pd.plotting.scatter_matrix(df,figsize = (15,10))\n",
    "pd.plotting.scatter_matrix(df[['Sex', 'Age', 'Pclass', 'Fare', 'Survived']],figsize = (15,10))\n",
    "plt.show()"
   ]
  },
  {
   "cell_type": "markdown",
   "metadata": {},
   "source": [
    "## Distribuciones de algunas variables que nos pueden interesar\n",
    "\n"
   ]
  },
  {
   "cell_type": "markdown",
   "metadata": {},
   "source": [
    "**1 - Distribucion de género**\n",
    "\n",
    "Elegimos usar `sns.countplot` pero no es la única opción."
   ]
  },
  {
   "cell_type": "code",
   "execution_count": null,
   "metadata": {},
   "outputs": [],
   "source": [
    "# presentar el resultado de countplot"
   ]
  },
  {
   "cell_type": "markdown",
   "metadata": {},
   "source": [
    "**2 - Distribucion de edades**\n",
    "\n",
    "Hacemos un histograma, ya que los valores que puede tomar esta variable es mucho mayor que para género o clase, por mencionar dos."
   ]
  },
  {
   "cell_type": "code",
   "execution_count": null,
   "metadata": {},
   "outputs": [],
   "source": [
    "# completar"
   ]
  },
  {
   "cell_type": "code",
   "execution_count": null,
   "metadata": {},
   "outputs": [],
   "source": [
    "# ### OTRA FORMA\n",
    "# sns.distplot(df.Age,bins = np.arange(0,80,5), kde = False)\n",
    "# plt.show()"
   ]
  },
  {
   "cell_type": "markdown",
   "metadata": {},
   "source": [
    "**3 - Distribucion de pasajeros por clases**"
   ]
  },
  {
   "cell_type": "code",
   "execution_count": null,
   "metadata": {},
   "outputs": [],
   "source": [
    "sns.countplot(x=\"Pclass\", data=df)\n",
    "plt.show()"
   ]
  },
  {
   "cell_type": "markdown",
   "metadata": {},
   "source": [
    "**4 - Distribucion de las tarifas pagadas**"
   ]
  },
  {
   "cell_type": "code",
   "execution_count": null,
   "metadata": {},
   "outputs": [],
   "source": [
    "df.Fare.hist(bins = np.arange(0,350,10))\n",
    "plt.show()"
   ]
  },
  {
   "cell_type": "markdown",
   "metadata": {},
   "source": [
    "**Ejercicio opcional:** separar el histograma de tarifas pagas por clase."
   ]
  },
  {
   "cell_type": "markdown",
   "metadata": {},
   "source": [
    "**5 - Supervivencia**"
   ]
  },
  {
   "cell_type": "code",
   "execution_count": null,
   "metadata": {},
   "outputs": [],
   "source": [
    "df.Survived.hist()\n",
    "plt.show()"
   ]
  },
  {
   "cell_type": "markdown",
   "metadata": {},
   "source": [
    "### Combinaciones de dos variables\n",
    "\n",
    "**Observación**:\n",
    "```python\n",
    "sns.countplot(x='sex', hue='survived', data=df)\n",
    "```\n",
    ",\n",
    "```python\n",
    "sns.countplot(x=df.sex, hue=df.survived)\n",
    "```\n",
    "y\n",
    "```python\n",
    "sns.catplot(x='sex', hue='survived', data=df, kind=\"count\")\n",
    "```\n",
    "son todas equivalentes. Elegir las que más guste.\n",
    "\n",
    "\n",
    "\n",
    "## 2. Extrayendo información\n",
    "\n",
    "\"Mujeres y niños primero\". ¿Será cierto? Tratemos de graficar la supervivencia discrimando por edad y género.\n",
    "\n",
    "En general, un paso inicial para estudiar el efecto de una variable - en este caso, *género* y *edad* - sobre otra variable - en este caso, *supervivencia* - es desagregar los gráficos de acuerdo a aquellas variables. \n",
    "\n",
    "**Género**: empezamos por género. Para eso, tratamos de graficar la supervivencia separando hombres y mujeres."
   ]
  },
  {
   "cell_type": "code",
   "execution_count": null,
   "metadata": {},
   "outputs": [],
   "source": [
    "sns.countplot(x='Sex', hue='Survived', data=df)\n",
    "plt.title('Supervivencia desagregada por genero')\n",
    "plt.show()\n",
    "\n",
    "### NOTAR QUE EN ESTE CASO NO HAY GRANDES DIFERENCIAS CON \n",
    "# sns.countplot(x='survived', hue='sex', data=df)\n",
    "### SALVO POR COMO QUEDAN ORDENADAS LAS VARIABLES"
   ]
  },
  {
   "cell_type": "markdown",
   "metadata": {},
   "source": [
    "**Conclusiones**: Todo parece indicar que la probabilidad de supervivencia era mayor en las mujeres que en los hombres."
   ]
  },
  {
   "cell_type": "markdown",
   "metadata": {},
   "source": [
    "**Edad**: Acá la cosa se complica un poco porque la edad no toma dos valores, como en el género, sino muchos más. Entonces creamos una *máscara* de supervivencia."
   ]
  },
  {
   "cell_type": "code",
   "execution_count": null,
   "metadata": {},
   "outputs": [],
   "source": [
    "survived_bool = df.Survived.values.astype(bool)\n",
    "\n",
    "### NOTA: .values pasa de un objeto de pandas a un arreglo de numpy\n",
    "### OTRA OPCION\n",
    "# survived_bool = df.survived.values == 1"
   ]
  },
  {
   "cell_type": "markdown",
   "metadata": {},
   "source": [
    "Y separamos la variable edad en dos grupos, la edad de los que sobrevivieron y la edad de los que no. Luego, hacemos un histograma para cada uno y lo superponemos."
   ]
  },
  {
   "cell_type": "code",
   "execution_count": null,
   "metadata": {},
   "outputs": [],
   "source": [
    "# completar"
   ]
  },
  {
   "cell_type": "markdown",
   "metadata": {},
   "source": [
    "Otra forma de hacer un gráfico con la misma información es hacer un gráfico de la distribución de edades total (de la gente que sobrevivió y la que no juntas) y superponerle la distribución de la que sobrevivió. Por ahora, es una cuestión de gustos."
   ]
  },
  {
   "cell_type": "code",
   "execution_count": null,
   "metadata": {},
   "outputs": [],
   "source": [
    "# completar"
   ]
  },
  {
   "cell_type": "markdown",
   "metadata": {},
   "source": [
    "**Conclusiones parciales**: en todos los rangos de edades (bines del histograma) la cantidad de gente que sobrevivió es menor que la que no, salvo en los dos primeros (0-5 y 5-10). Esto podría indicar que la probabilidad de supervivencia, siendo niño/niña, era mayor que siendo adolescente, adulto, etc. Sin embargo, podría suceder que en esos rangos de edades haya habido, por alguna razón, muchas más mujeres que hombres o que simplemente haya sido una cuestión de azar. Tratemos de analizar un poco más el dataset y ver si podemos echar luz sobre ese aspecto.\n",
    "\n",
    "En primer lugar, separamos la distribucíon de edades por género."
   ]
  },
  {
   "cell_type": "code",
   "execution_count": null,
   "metadata": {},
   "outputs": [],
   "source": [
    "edad_hombres = df.Age[df.Sex == 'male']\n",
    "edad_mujeres = df.Age[df.Sex == 'female']\n",
    "\n",
    "edad_hombres.hist(bins = np.arange(0,80,5),label = 'Hombres', alpha = 0.5)\n",
    "edad_mujeres.hist(bins = np.arange(0,80,5),label = 'Mujeres', alpha = 0.5)\n",
    "\n",
    "plt.title('Distribución de edades separadas por género de los pasajeros del Titanic')\n",
    "plt.xlabel('Edad')\n",
    "plt.legend()\n",
    "plt.show()"
   ]
  },
  {
   "cell_type": "markdown",
   "metadata": {},
   "source": [
    "Hasta casi los 20 años la diferencia de cantidad entre hombres y mujeres es muy poca. Lo segundo que podemos hacer es separar, dentro de la gente que sobrevivió, el histograma por género. ¿Para qué hacemos eso? Si tenemos evidencia de que las mujeres tenían mayor probabilidad de supervivencia que los hombres, tal vez esta tendencia no sea tan clara en los rangos etarios más bajos. Esto se va a entender mejor una vez que tengamos el gráfico hecho."
   ]
  },
  {
   "cell_type": "code",
   "execution_count": null,
   "metadata": {},
   "outputs": [],
   "source": [
    "edad_survived = df.Age[survived_bool]\n",
    "\n",
    "edad_survived[df.Sex == 'male'].hist(bins = np.arange(0,80,5),label = 'Hombres', alpha = 0.75)\n",
    "edad_survived[df.Sex == 'female'].hist(bins = np.arange(0,80,5),label = 'Mujeres', alpha = 0.5)\n",
    "\n",
    "plt.title('Distribución de edades dentro de las personas que sobrevivieron separadas por género')\n",
    "plt.xlabel('Edad')\n",
    "plt.legend()\n",
    "plt.show()"
   ]
  },
  {
   "cell_type": "markdown",
   "metadata": {},
   "source": [
    "Notar que en todos los rangos de edad sobrevivieron más mujeres que hombres, excepto en los dos primeros, donde sobrevivieron más niños que niñas."
   ]
  },
  {
   "cell_type": "markdown",
   "metadata": {},
   "source": [
    "**Conclusiones**:\n",
    "\n",
    "1. Las mujeres tenían una mayor probabilidad de supervivencia. ¿Por qué? Porque si bien entre los pasajeros había más hombres que mujeres, dentro de los que sobrevivieron hay más mujeres que hombres, con una diferencia que parece ser *significativa*.\n",
    "2. Los bebes y niños tenían una probabilidad de supervivencia más grande que el resto de los grupos etarios. Acá la cosa se complicó un poco, pero repasemos qué nos lleva a concluir eso:\n",
    "    1. En todos los rangos de edades la cantidad de gente que sobrevivió es menor que la que no, salvo en el rango 0 - 12. Esto no se debe a que en ese rango de edades haya habido una mayoría de mujeres.\n",
    "    2. Es el único rango de edades donde sobrevivieron más hombres que mujeres.\n",
    "\n",
    "\n",
    "\n",
    "Las conclusiones de un análisis son siempre (bueno, casi siempre) parciales. Nuevos datos o datos no analizados pueden revertir una tendencia. ¿Qué aspectos no analizamos que podrían agregar información sobre la supervivencia de los pasajeros del Titanic?"
   ]
  },
  {
   "cell_type": "markdown",
   "metadata": {},
   "source": [
    "## Extra: histogramas con frecuencias/porcentajes\n",
    "\n"
   ]
  },
  {
   "cell_type": "markdown",
   "metadata": {},
   "source": [
    "A veces, en lugar de números absolutos (cuentas) nos interesa la frecuencia o porcentaje de un evento.\n",
    "\n",
    "\n",
    "### Histogramas\n",
    "\n",
    "Los histogramas pueden ser *normalizados*. Lamentablemente, la sintaxis no es tan sencilla. La idea para el gráfico que sigue es que le damos un peso (*weight*) a cada muestra. Notar que los pesos suman 1 (uno). Así, la altura de todas las barritas en el histograma no suman la cantidad de muestras, sino 1.\n",
    "\n",
    "**Nota:** recordar que un porcentaje es una fracción. Por lo que 50% es lo mismo que decir 0.5, 33%: 0.33, etc.\n"
   ]
  },
  {
   "cell_type": "code",
   "execution_count": null,
   "metadata": {},
   "outputs": [],
   "source": [
    "weights=np.ones_like(df.Age.values[~np.isnan(df.Age.values)])/len(df.Age.values[~np.isnan(df.Age.values)])\n",
    "print(weights.sum())"
   ]
  },
  {
   "cell_type": "code",
   "execution_count": null,
   "metadata": {},
   "outputs": [],
   "source": [
    "df.Age.hist(bins = np.arange(0,80,5), weights=weights)\n",
    "plt.title('Histograma de las edades, en porcentajes')\n",
    "plt.xlabel('Edad')\n",
    "plt.show()"
   ]
  }
 ],
 "metadata": {
  "kernelspec": {
   "display_name": "Python 3",
   "language": "python",
   "name": "python3"
  },
  "language_info": {
   "codemirror_mode": {
    "name": "ipython",
    "version": 3
   },
   "file_extension": ".py",
   "mimetype": "text/x-python",
   "name": "python",
   "nbconvert_exporter": "python",
   "pygments_lexer": "ipython3",
   "version": "3.6.9"
  }
 },
 "nbformat": 4,
 "nbformat_minor": 4
}
