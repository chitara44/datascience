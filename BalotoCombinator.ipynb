{
 "cells": [
  {
   "cell_type": "code",
   "execution_count": 212,
   "metadata": {},
   "outputs": [],
   "source": [
    "import random\n",
    "import pandas as pd\n",
    "import numpy as np\n",
    "import seaborn as sns\n",
    "import matplotlib.pyplot as plt\n",
    "import os\n",
    "import math\n",
    "from sklearn import metrics\n",
    "from sklearn.pipeline import Pipeline\n",
    "from sklearn.preprocessing import StandardScaler, LabelEncoder, OneHotEncoder, KBinsDiscretizer\n",
    "from sklearn.model_selection import train_test_split\n",
    "from sklearn.tree import DecisionTreeRegressor\n",
    "from sklearn.model_selection import cross_val_score\n",
    "from sklearn.metrics import mean_squared_error\n",
    "from sklearn.neighbors import KNeighborsClassifier, KNeighborsRegressor\n",
    "from sklearn.preprocessing import StandardScaler\n",
    "from time import sleep\n",
    "from collections import Counter\n",
    "\n",
    "pd.set_option('display.float_format', lambda x: '%.3f' % x)\n",
    "\n",
    "sns.set()"
   ]
  },
  {
   "cell_type": "code",
   "execution_count": 213,
   "metadata": {},
   "outputs": [],
   "source": [
    "def generaPath(tipo, nombre):\n",
    "    prepath = str(os.getcwd())\n",
    "    #print(prepath)\n",
    "    if (tipo == \"I\"):\n",
    "        path = prepath + '\\\\origen\\\\' + nombre\n",
    "    else :\n",
    "        path = prepath + '\\\\generados\\\\' + nombre\n",
    "    return path"
   ]
  },
  {
   "cell_type": "code",
   "execution_count": 214,
   "metadata": {},
   "outputs": [],
   "source": [
    "df_cq_tr = pd.read_csv(generaPath('O', 'df_cq_tr.csv'))\n",
    "df_cq_re = pd.read_csv(generaPath('O', 'df_cq_re.csv'))\n",
    "\n",
    "df_cc_tr = pd.read_csv(generaPath('O', 'df_cc_tr.csv'))\n",
    "df_cc_re = pd.read_csv(generaPath('O', 'df_cc_re.csv'))\n",
    "\n",
    "df_ct_tr = pd.read_csv(generaPath('O', 'df_ct_tr.csv'))\n",
    "df_ct_re = pd.read_csv(generaPath('O', 'df_ct_re.csv'))\n",
    "\n",
    "df_cd_tr = pd.read_csv(generaPath('O', 'df_cd_tr.csv'))\n",
    "df_cd_re = pd.read_csv(generaPath('O', 'df_cd_re.csv'))\n",
    "\n",
    "df_cs_tr = pd.read_csv(generaPath('O', 'df_cs_tr.csv'))\n",
    "df_cs_re = pd.read_csv(generaPath('O', 'df_cs_re.csv'))\n",
    "\n",
    "df_cs_tr_sb = pd.read_csv(generaPath('O', 'df_cs_tr_sb.csv'))\n",
    "df_cs_re_sb = pd.read_csv(generaPath('O', 'df_cs_re_sb.csv'))\n",
    "\n",
    "\n",
    "df_sel_sb_tr = pd.read_csv(generaPath('O','df_sel_sb_tr.csv'))\n",
    "df_sel_sb_re = pd.read_csv(generaPath('O','df_sel_sb_re.csv'))\n",
    "\n",
    "df_sel_sb_re = pd.read_csv(generaPath('O','df_sel_si_tr.csv'))\n",
    "df_sel_si_re = pd.read_csv(generaPath('O','df_sel_si_re.csv') )\n",
    "\n",
    "sbs = pd.read_csv(generaPath('O','sbs.csv'))\n",
    "singles = pd.read_csv(generaPath('O','singles.csv'))\n",
    "\n",
    "df_tr_fu_filt = pd.read_csv(generaPath('O', 'df_tr_fu_filt_delta.csv'))\n",
    "df_re_fu_filt = pd.read_csv(generaPath('O', 'df_re_fu_filt_delta.csv'))\n",
    "\n",
    "df = pd.read_csv(generaPath('I', 'expdata2.csv'), parse_dates=['fecha'])"
   ]
  },
  {
   "cell_type": "markdown",
   "metadata": {},
   "source": [
    "Filtra los numeros singles repetidos"
   ]
  },
  {
   "cell_type": "code",
   "execution_count": 215,
   "metadata": {},
   "outputs": [],
   "source": [
    "def cantidad_no_rep():\n",
    "    l= singles.sort_values(\"tupla\")\n",
    "    l2 = l.drop('R', 1)\n",
    "    l3 = l2.drop_duplicates()\n",
    "    print(l3)\n",
    "    return l3"
   ]
  },
  {
   "cell_type": "code",
   "execution_count": 216,
   "metadata": {},
   "outputs": [],
   "source": [
    "def validar_quinteto_list():\n",
    "    l= singles.sort_values(\"tupla\")\n",
    "    l2 = l.drop('R', 1)\n",
    "    l3 = l2.drop_duplicates()\n",
    "    return l3"
   ]
  },
  {
   "cell_type": "code",
   "execution_count": 217,
   "metadata": {},
   "outputs": [],
   "source": [
    "def secuencelist_unbuilder(secuence):\n",
    "    num = str(secuence[0])\n",
    "    partido = num.split(sep='|') if (num.find('|') >= 1) else num\n",
    "    return partido"
   ]
  },
  {
   "cell_type": "code",
   "execution_count": 218,
   "metadata": {},
   "outputs": [],
   "source": [
    "# def crea_sorteos(single,sb, secuence):\n",
    "#     sorteo = []\n",
    "#     enteros = []\n",
    "#     # splitedtupla = unsplited_tupla(secuence)\n",
    "#     #enteros = secuencelist_unbuilder(str(secuence[0]))\n",
    "#     # print(splitedtupla)\n",
    "#     print(\" Tipo Enteros\")\n",
    "#     print(type(enteros))\n",
    "#     print(enteros)\n",
    "#     #sorteo = singles.iloc[enteros, 0]\n",
    "#     #print(sorteo)\n",
    "#     #sorteo.append(str(sb))\n",
    "#     return sorteo"
   ]
  },
  {
   "cell_type": "code",
   "execution_count": 219,
   "metadata": {},
   "outputs": [],
   "source": [
    "def secuencelist_builder(a,b,c,d,e):\n",
    "    secuencia=[]\n",
    "    secuencia.append(a)\n",
    "    secuencia.append(b)\n",
    "    secuencia.append(c) \n",
    "    secuencia.append(d)\n",
    "    secuencia.append(e)\n",
    "    palabra = '|'.join([str(et) for et in secuencia])\n",
    "    return palabra, secuencia\n"
   ]
  },
  {
   "cell_type": "code",
   "execution_count": 220,
   "metadata": {},
   "outputs": [],
   "source": [
    "def crea_secuencias(totalconteo):\n",
    "    secuencias = []\n",
    "    secuence = []\n",
    "    lsecuence =[]\n",
    "    secuencia = []\n",
    "    i = 0\n",
    "    a = i\n",
    "    b = a + 1\n",
    "    c = b + 1\n",
    "    d = c + 1\n",
    "    e = d + 1\n",
    "    while (a <= totalconteo):\n",
    "        while(b <= totalconteo):\n",
    "            while(c <= totalconteo):\n",
    "                while(d <= totalconteo):\n",
    "                    while(e <= totalconteo):\n",
    "                        secuencia, secuence = secuencelist_builder(a,b,c,d,e)\n",
    "                        secuencias.append(secuencia)\n",
    "                        lsecuence.append(secuence)\n",
    "                        e += 1\n",
    "                    d += 1\n",
    "                    e = d + 1\n",
    "                c += 1\n",
    "                d = c + 1\n",
    "                e = d + 1\n",
    "            b += 1\n",
    "            c = b + 1\n",
    "            d = c + 1\n",
    "            e = d + 1\n",
    "        a = a + 1\n",
    "        b = a + 1\n",
    "        c = b + 1\n",
    "        d = c + 1 \n",
    "        e = d + 1\n",
    "    return secuencias, lsecuence\n"
   ]
  },
  {
   "cell_type": "markdown",
   "metadata": {},
   "source": [
    "Construye los numeros candidatos de acuerdo a los numeros que salieron en singles y sbs, itera para cada superbalota no esta usando el contenido de las superbalotas"
   ]
  },
  {
   "cell_type": "code",
   "execution_count": 221,
   "metadata": {},
   "outputs": [],
   "source": [
    "def combinations_generator(sbs, l):\n",
    "    sorteos = []\n",
    "    lsecuence = []  \n",
    "    secuencias = []\n",
    "    cant = len(l) - 1\n",
    "    secuencias, lsecuence = crea_secuencias(cant)\n",
    "    cantsecuence = len(lsecuence)\n",
    "    i = 0\n",
    "    for rows in secuencias:\n",
    "        lsec = lsecuence[int(i)]\n",
    "        sorteo = l.iloc[lsec, 0]\n",
    "        i = i + 1\n",
    "        sorteos.append(sorteo.to_list())\n",
    "    dft = sorteos\n",
    "    # print(\"tipo de dft: \"+ str(type(dft)))\n",
    "    return dft"
   ]
  },
  {
   "cell_type": "code",
   "execution_count": 222,
   "metadata": {},
   "outputs": [],
   "source": [
    "def combinations_getter_saver():\n",
    "    secus = []\n",
    "    l3 = cantidad_no_rep()\n",
    "    # print(\"valor de l3\")\n",
    "    # print(len(l3))\n",
    "    # print(singles)\n",
    "    # print(sbs)\n",
    "    dft_sorteos = combinations_generator(sbs, l3)\n",
    "    dft = pd.DataFrame (dft_sorteos, columns = ['n1','n2','n3','n4','n5'])\n",
    "    #print(\"tipo de dft: \"+ str(type(dft)))\n",
    "    dft.to_csv(generaPath('O','dft.csv'), header=['n1','n2','n3','n4','n5'], index=None, sep=',', mode='w' )\n",
    "    #print(dft_sorteos)\n",
    "    return dft"
   ]
  },
  {
   "cell_type": "code",
   "execution_count": 223,
   "metadata": {},
   "outputs": [],
   "source": [
    "def construir_trio(n1,n2,n3):\n",
    "    salida = str(n1) + \"|\" + str(n2) + \"|\" + str(n3)\n",
    "    return salida"
   ]
  },
  {
   "cell_type": "code",
   "execution_count": 224,
   "metadata": {},
   "outputs": [],
   "source": [
    "def construir_list_trio(n1,n2,n3):\n",
    "    salida = [n1,n2,n3]\n",
    "    # salida = str(n1) + \"|\" + str(n2) + \"|\" + str(n3) + \"|\" + str(n4) + \"|\" + str(n5)\n",
    "    #print(salida)\n",
    "    return salida"
   ]
  },
  {
   "cell_type": "code",
   "execution_count": 225,
   "metadata": {},
   "outputs": [],
   "source": [
    "def construir_cuarteto(n1,n2,n3,n4):\n",
    "    salida = str(n1) + \"|\" + str(n2) + \"|\" + str(n3) + \"|\" + str(n4)\n",
    "    return salida"
   ]
  },
  {
   "cell_type": "code",
   "execution_count": 226,
   "metadata": {},
   "outputs": [],
   "source": [
    "def construir_list_cuarteto(n1,n2,n3,n4):\n",
    "    salida = [n1,n2,n3,n4]\n",
    "    return salida"
   ]
  },
  {
   "cell_type": "code",
   "execution_count": 227,
   "metadata": {},
   "outputs": [],
   "source": [
    "def construir_list_cuarteto_sorteo(idSorteo, n1,n2,n3,n4):\n",
    "    salida = [idSorteo, n1,n2,n3,n4]\n",
    "    return salida"
   ]
  },
  {
   "cell_type": "code",
   "execution_count": 228,
   "metadata": {},
   "outputs": [],
   "source": [
    "def construir_quinteto(n1,n2,n3,n4,n5):\n",
    "    salida = str(n1) + \"|\" + str(n2) + \"|\" + str(n3) + \"|\" + str(n4) + \"|\" + str(n5)\n",
    "    return salida"
   ]
  },
  {
   "cell_type": "code",
   "execution_count": 229,
   "metadata": {},
   "outputs": [],
   "source": [
    "def construir_list_quinteto(n1,n2,n3,n4,n5):\n",
    "    salida = [n1,n2,n3,n4,n5]\n",
    "    # salida = str(n1) + \"|\" + str(n2) + \"|\" + str(n3) + \"|\" + str(n4) + \"|\" + str(n5)\n",
    "    # print(type(salida))\n",
    "    return salida"
   ]
  },
  {
   "cell_type": "code",
   "execution_count": 230,
   "metadata": {},
   "outputs": [],
   "source": [
    "def all_trios(n1,n2,n3,n4,n5):\n",
    "    trio01 = construir_list_trio(n1,n2,n3)\n",
    "    trio02 = construir_list_trio(n1,n2,n4)\n",
    "    trio03 = construir_list_trio(n1,n2,n5)\n",
    "    trio04 = construir_list_trio(n2,n3,n4)\n",
    "    trio05 = construir_list_trio(n2,n3,n5)\n",
    "    trio06 = construir_list_trio(n2,n4,n5)\n",
    "    trio07 = construir_list_trio(n3,n4,n5)\n",
    "    trio08 = construir_list_trio(n1,n3,n4)\n",
    "    trio09 = construir_list_trio(n1,n3,n5)\n",
    "    trio10 = construir_list_trio(n1,n4,n5)\n",
    "    return trio01, trio02, trio03, trio04, trio05, trio06, trio07, trio08, trio09, trio10"
   ]
  },
  {
   "cell_type": "code",
   "execution_count": 231,
   "metadata": {},
   "outputs": [],
   "source": [
    "def all_cuartetos(n1,n2,n3,n4,n5):\n",
    "    cuarteto1 = construir_list_cuarteto(n1, n2, n3, n4)\n",
    "    cuarteto2 = construir_list_cuarteto(n1, n2, n3, n5)\n",
    "    cuarteto3 = construir_list_cuarteto(n1, n2, n4, n5)\n",
    "    cuarteto4 = construir_list_cuarteto(n1, n3, n4, n5)\n",
    "    cuarteto5 = construir_list_cuarteto(n2, n3, n4, n5)\n",
    "    return cuarteto1, cuarteto2, cuarteto3, cuarteto4, cuarteto5"
   ]
  },
  {
   "cell_type": "code",
   "execution_count": 232,
   "metadata": {},
   "outputs": [],
   "source": [
    "def all_cuartetos_sorteos(idSorteo, n1,n2,n3,n4,n5):\n",
    "    cuarteto1 = construir_list_cuarteto_sorteo(idSorteo, n1, n2, n3, n4)\n",
    "    cuarteto2 = construir_list_cuarteto_sorteo(idSorteo, n1, n2, n3, n5)\n",
    "    cuarteto3 = construir_list_cuarteto_sorteo(idSorteo, n1, n2, n4, n5)\n",
    "    cuarteto4 = construir_list_cuarteto_sorteo(idSorteo, n1, n3, n4, n5)\n",
    "    cuarteto5 = construir_list_cuarteto_sorteo(idSorteo, n2, n3, n4, n5)\n",
    "    return cuarteto1, cuarteto2, cuarteto3, cuarteto4, cuarteto5"
   ]
  },
  {
   "cell_type": "code",
   "execution_count": 233,
   "metadata": {},
   "outputs": [],
   "source": [
    "def find_previous_coincidence(n1,n2,n3,n4,n5, df):\n",
    "    df_found = df.loc[(df.n1 == n1) & (df.n2 == n2) & (df.n3 == n3) & (df.n4 == n4) & (df.n5 == n5)]\n",
    "    print(df_found)\n",
    "    encontrados = 0\n",
    "    total_rows = int(df_found.shape[0])\n",
    "    if total_rows > 0:\n",
    "        encontrados = 1\n",
    "        return str(df_found) , encontrados\n",
    "    else:\n",
    "        return str(df_found),  encontrados"
   ]
  },
  {
   "cell_type": "code",
   "execution_count": 234,
   "metadata": {},
   "outputs": [],
   "source": [
    "def find_previous_coincidence_c(n1,n2,n3,n4, df):\n",
    "    df_found = df.loc[(df.n1 == n1) & (df.n2 == n2) & (df.n3 == n3) & (df.n4 == n4)]\n",
    "    print(df_found)\n",
    "    encontrados = 0\n",
    "    total_rows = int(df_found.shape[0])\n",
    "    if total_rows > 0:\n",
    "        encontrados = 1\n",
    "        return str(df_found) , encontrados\n",
    "    else:\n",
    "        return str(df_found),  encontrados"
   ]
  },
  {
   "cell_type": "code",
   "execution_count": 235,
   "metadata": {},
   "outputs": [],
   "source": [
    "def find_previous_coincidence_t(n1,n2,n3, df):\n",
    "    df_found = df.loc[(df.n1 == n1) & (df.n2 == n2) & (df.n3 == n3) ]  #& (df.n4 == n4) & (df.n5 == n5)\n",
    "    print(df_found)\n",
    "    encontrados = 0\n",
    "    total_rows = int(df_found.shape[0])\n",
    "    if total_rows > 0:\n",
    "        encontrados = 1\n",
    "        return str(df_found) , encontrados\n",
    "    else:\n",
    "        return str(df_found),  encontrados"
   ]
  },
  {
   "cell_type": "code",
   "execution_count": 236,
   "metadata": {},
   "outputs": [],
   "source": [
    "def validar_sumar_resultados_sorteos(n1,n2,n3,n4,n5, df_to_search):\n",
    "    mensaje, suma = find_previous_coincidence(n1,n2,n3,n4,n5, df_to_search)\n",
    "    # print(suma)\n",
    "    return mensaje, suma"
   ]
  },
  {
   "cell_type": "code",
   "execution_count": 237,
   "metadata": {},
   "outputs": [],
   "source": [
    "def validar_sumar_resultados_sorteos_c(n1,n2,n3,n4, df_to_search):\n",
    "    mensaje, suma = find_previous_coincidence_c(n1,n2,n3,n4, df_to_search)\n",
    "    # print(suma)\n",
    "    return mensaje, suma"
   ]
  },
  {
   "cell_type": "code",
   "execution_count": 238,
   "metadata": {},
   "outputs": [],
   "source": [
    "def validar_sumar_resultados_sorteos_t(n1,n2,n3,df_to_search):\n",
    "    mensaje, suma = find_previous_coincidence_t(n1,n2,n3,df_to_search)\n",
    "    # print(suma)\n",
    "    return mensaje, suma"
   ]
  },
  {
   "cell_type": "code",
   "execution_count": 239,
   "metadata": {},
   "outputs": [],
   "source": [
    "def ingresar_sorteo_validar_q(n1,n2,n3,n4,n5, quint):\n",
    "    # quinteto = construir_quinteto(n1, n2, n3, n4, n5)\n",
    "    quinteto = construir_list_quinteto(n1, n2, n3, n4, n5)\n",
    "    quint.append(quinteto)\n",
    "    return quinteto\n"
   ]
  },
  {
   "cell_type": "code",
   "execution_count": 240,
   "metadata": {},
   "outputs": [],
   "source": [
    "def ingresar_sorteo_validar_c(n1,n2,n3,n4,n5, cuart):\n",
    "    c1, c2, c3, c4, c5 = all_cuartetos(n1, n2, n3, n4, n5)\n",
    "    cuart.append(c1)\n",
    "    cuart.append(c2)\n",
    "    cuart.append(c3)\n",
    "    cuart.append(c4)\n",
    "    cuart.append(c5)\n",
    "    return cuart"
   ]
  },
  {
   "cell_type": "code",
   "execution_count": 241,
   "metadata": {},
   "outputs": [],
   "source": [
    "def ingresar_sorteo_validar_c_sorteos(idSorteo, n1,n2,n3,n4,n5):\n",
    "    cuart_sorteos = []\n",
    "    c1, c2, c3, c4, c5 = all_cuartetos_sorteos(idSorteo, n1, n2, n3, n4, n5)\n",
    "    cuart_sorteos.append(c1)\n",
    "    cuart_sorteos.append(c2)\n",
    "    cuart_sorteos.append(c3)\n",
    "    cuart_sorteos.append(c4)\n",
    "    cuart_sorteos.append(c5)\n",
    "    return cuart_sorteos"
   ]
  },
  {
   "cell_type": "code",
   "execution_count": 242,
   "metadata": {},
   "outputs": [],
   "source": [
    "def ingresar_sorteo_validar_t(n1,n2,n3,n4,n5, trios):\n",
    "    t01, t02, t03, t04, t05, t06, t07, t08, t09, t10 = all_trios(n1, n2, n3, n4, n5)\n",
    "    trios.append(t01)\n",
    "    trios.append(t02)\n",
    "    trios.append(t03)\n",
    "    trios.append(t04)\n",
    "    trios.append(t05)\n",
    "    trios.append(t06)\n",
    "    trios.append(t07)\n",
    "    trios.append(t08)\n",
    "    trios.append(t09)\n",
    "    trios.append(t10)\n",
    "    return trios"
   ]
  },
  {
   "cell_type": "code",
   "execution_count": 243,
   "metadata": {},
   "outputs": [],
   "source": [
    "def sumar_tuplas(n1,n2,n3,n4,n5,df_exc):   \n",
    "    rechazados = df_exc.loc[(df_exc.n1 == n1) & (df_exc.n2 == n2) & (df_exc.n3 == n3) & (df_exc.n4 == n4) & (df_exc.n5 == n5)]\n",
    "    elegidos = df_exc.loc[(df_exc.n1 != n1) | (df_exc.n2 != n2) | (df_exc.n3 != n3) | (df_exc.n4 != n4) | (df_exc.n5 != n5  )]\n",
    "    cant = len(rechazados)\n",
    "    cant2 = len(elegidos)\n",
    "    print(\"Cant Rechazados quintetos: \" + str(cant) + \" Cant Elegidos quitetos:\" + str(cant2))\n",
    "    return elegidos, rechazados, cant"
   ]
  },
  {
   "cell_type": "code",
   "execution_count": 244,
   "metadata": {},
   "outputs": [],
   "source": [
    "def sumar_tuplas_c(n1,n2,n3,n4,df_exc):   \n",
    "    rechazados = df_exc.loc[(df_exc.n1 == n1) & (df_exc.n2 == n2) & (df_exc.n3 == n3) & (df_exc.n4 == n4) ] #& (df_exc.n5 == n5)\n",
    "    elegidos = df_exc.loc[(df_exc.n1 != n1) | (df_exc.n2 != n2) | (df_exc.n3 != n3) | (df_exc.n4 != n4) ] # | (df_exc.n5 != n5  )\n",
    "    cant = len(rechazados)\n",
    "    cant2 = len(elegidos)\n",
    "    print(\"Cant Rechazados cuartetos: \" + str(cant) + \" Cant Elegidos cuartetos:\" + str(cant2))\n",
    "    return elegidos, rechazados, cant"
   ]
  },
  {
   "cell_type": "code",
   "execution_count": 245,
   "metadata": {},
   "outputs": [],
   "source": [
    "def sumar_tuplas_t(n1,n2,n3,df_exc):   \n",
    "    rechazados = df_exc.loc[(df_exc.n1 == n1) & (df_exc.n2 == n2) & (df_exc.n3 == n3) ] #& (df_exc.n4 == n4) & (df_exc.n5 == n5)\n",
    "    elegidos = df_exc.loc[(df_exc.n1 != n1) | (df_exc.n2 != n2) | (df_exc.n3 != n3) ] #| (df_exc.n4 != n4) | (df_exc.n5 != n5  )\n",
    "    cant = len(rechazados)\n",
    "    cant2 = len(elegidos)\n",
    "    print(\"Cant Rechazados trios: \" + str(cant) + \" Cant Elegidos trios:\" + str(cant2))\n",
    "    return elegidos, rechazados, cant"
   ]
  },
  {
   "cell_type": "code",
   "execution_count": 246,
   "metadata": {},
   "outputs": [],
   "source": [
    "def couples_builder(dft):\n",
    "    i = 0\n",
    "    dictionary = {}\n",
    "    can_elegidos = len(dft)\n",
    "    print(can_elegidos)\n",
    "    validos=[]\n",
    "    quint=[]\n",
    "    cuart=[]\n",
    "    trios=[]\n",
    "    for index, row in dft.iterrows():\n",
    "        sbs = (row)\n",
    "        n1 = int(sbs[0])\n",
    "        n2 = int(sbs[1])\n",
    "        n3 = int(sbs[2])\n",
    "        n4 = int(sbs[3])\n",
    "        n5 = int(sbs[4]) \n",
    "        porcentaje = ((i+1)/can_elegidos)*100\n",
    "        totaltrios = 0\n",
    "        totalcuartetos = 0\n",
    "        totalquintetos = 0\n",
    "        quint = ingresar_sorteo_validar_q(n1, n2, n3, n4, n5, quint)\n",
    "        cuart = ingresar_sorteo_validar_c(n1, n2, n3, n4, n5, cuart)\n",
    "        trios = ingresar_sorteo_validar_t(n1, n2, n3, n4, n5, trios)\n",
    "        totales = 0\n",
    "        totaltrios = 0\n",
    "        i = i + 1\n",
    "    print(len(quint))\n",
    "    print(len(cuart))\n",
    "    print(len(trios))\n",
    "    return quint, cuart, trios"
   ]
  },
  {
   "cell_type": "code",
   "execution_count": 247,
   "metadata": {},
   "outputs": [],
   "source": [
    "def couples_builder_sorteos(dft):\n",
    "    i = 0\n",
    "    cuart=[]\n",
    "    for index, row in dft.iterrows():\n",
    "        sbs = (row)\n",
    "        idSorteo = int(sbs[0])\n",
    "        n1 = int(sbs[1])\n",
    "        n2 = int(sbs[2])\n",
    "        n3 = int(sbs[3])\n",
    "        n4 = int(sbs[4])\n",
    "        n5 = int(sbs[5]) \n",
    "        cuart = ingresar_sorteo_validar_c_sorteos(idSorteo, n1, n2, n3, n4, n5)\n",
    "        # trios = ingresar_sorteo_validar_t(n1, n2, n3, n4, n5, trios)\n",
    "    print(len(cuart))\n",
    "    return cuart"
   ]
  },
  {
   "cell_type": "code",
   "execution_count": 248,
   "metadata": {},
   "outputs": [],
   "source": [
    "def validator2_m(df1, dft):\n",
    "    # print(\"contenido de dft\" + str(type(dft)))\n",
    "    keys = list(dft.columns.values)\n",
    "    # print(str(type(keys)) + \" - \" + str(keys))\n",
    "    # print(\"contenido de df1\" + str(type(df1)))\n",
    "    keys2 = list(df1.columns.values)\n",
    "    # print(str(type(keys2)) + \" - \" + str(keys2))\n",
    "    i1 = df1.set_index(keys).index\n",
    "    i2 = dft.set_index(keys).index\n",
    "    df_res1 = df1[~i1.isin(i2)]\n",
    "    df_res2 = df1[i1.isin(i2)]\n",
    "    return df_res1, df_res2"
   ]
  },
  {
   "cell_type": "code",
   "execution_count": 249,
   "metadata": {},
   "outputs": [
    {
     "name": "stdout",
     "output_type": "stream",
     "text": [
      "    tupla\n",
      "12      1\n",
      "9       6\n",
      "15     11\n",
      "4      12\n",
      "5      13\n",
      "1      17\n",
      "8      24\n",
      "6      25\n",
      "14     27\n",
      "7      30\n",
      "13     31\n",
      "3      34\n",
      "2      36\n",
      "0      42\n",
      "Printing choosen \n",
      "     idSorteo  n1  n2  n3  n4  n5  sb  delta\n",
      "0        2149   2   5  16  24  39  15  CKHÑF\n",
      "1        2148   5  11  29  30  43  14  FQAME\n",
      "2        2147   3  16  22  26  40  12  MFDNF\n",
      "3        2146   1  15  20  31  35  15  NEKDI\n",
      "4        2145   2   8  20  35  38   3  FLÑCG\n",
      "..        ...  ..  ..  ..  ..  ..  ..    ...\n",
      "474      1675   1  20  36  39  43  10  ROCDA\n",
      "475      1674   5   6   7  12  37   6  AAEXK\n",
      "476      1673   6  19  25  28  36   1  MFCHM\n",
      "477      1672   1   2  25  31  33  14  AVFBK\n",
      "478      1671  15  28  36  37  41  10  MHADP\n",
      "\n",
      "[477 rows x 8 columns]\n",
      "Printing rejected\n",
      "     idSorteo  n1  n2  n3  n4  n5  sb  delta\n",
      "451      1698   1  27  31  34  36  11  YDCBH\n",
      "467      1682  12  13  25  31  42  16  ALFKM\n"
     ]
    }
   ],
   "source": [
    "dft = combinations_getter_saver()\n",
    "df1 = df_tr_fu_filt\n",
    "choosen, rejected = validator2_m(df1, dft)\n",
    "print(\"Printing choosen \")\n",
    "print(choosen)\n",
    "print(\"Printing rejected\")\n",
    "print(rejected)\n"
   ]
  },
  {
   "cell_type": "code",
   "execution_count": 250,
   "metadata": {},
   "outputs": [
    {
     "name": "stdout",
     "output_type": "stream",
     "text": [
      "Printing choosen \n",
      "     idSorteo  n1  n2  n3  n4  n5  sb  delta\n",
      "0        2149  14  15  26  28  40  14  AKBLP\n",
      "1        2148   5  20  35  38  43   2  ÑÑCEE\n",
      "2        2147   4   7  19  33  39   8  CLNFH\n",
      "3        2146   7  25  34  42  43   2  QIHAG\n",
      "4        2145   9  16  19  29  39   1  GCJJM\n",
      "..        ...  ..  ..  ..  ..  ..  ..    ...\n",
      "474      1675   3   5   8  20  24  14  BCLDU\n",
      "475      1674   5  12  15  20  42  14  GCEUF\n",
      "476      1673   8  21  22  37  38   4  MAÑAM\n",
      "477      1672   9  12  16  28  38   1  CDLJN\n",
      "478      1671   3   9  10  21  40  10  FAKRF\n",
      "\n",
      "[479 rows x 8 columns]\n",
      "Printing rejected\n",
      "Empty DataFrame\n",
      "Columns: [idSorteo, n1, n2, n3, n4, n5, sb, delta]\n",
      "Index: []\n"
     ]
    }
   ],
   "source": [
    "\n",
    "df1 = df_re_fu_filt\n",
    "choosen, rejected = validator2_m(df1, dft)\n",
    "print(\"Printing choosen \")\n",
    "print(choosen)\n",
    "print(\"Printing rejected\")\n",
    "print(rejected)"
   ]
  },
  {
   "cell_type": "code",
   "execution_count": 251,
   "metadata": {},
   "outputs": [
    {
     "name": "stdout",
     "output_type": "stream",
     "text": [
      "2002\n",
      "5\n",
      "10010\n",
      "20020\n",
      "5\n",
      "[30, 31, 34, 36, 42]\n"
     ]
    }
   ],
   "source": [
    "quint, cuart, trios = couples_builder(dft)\n",
    "df_reduced = choosen\n",
    "cuart = couples_builder_sorteos(df_reduced)\n",
    "\n",
    "\n",
    "\n",
    "\n",
    "#choosen, rejected = validator(quint, cuart, trios, candidates, rejected)\n",
    "print(quint)"
   ]
  },
  {
   "cell_type": "code",
   "execution_count": 252,
   "metadata": {},
   "outputs": [],
   "source": [
    "# def validator_t(trios):\n",
    "#     trios_df = pd.DataFrame (cuart, columns = ['n1','n2','n3','n4'])\n",
    "#     validar_sumar_resultados_sorteos_t(n1,n2,n3,trios_df)\n",
    "#     elegidos_t, rechazados, totaltrios  = sumar_tuplas_t(n1,n2,n3,df_excluidos)\n",
    "#     if (totaltrios <= 4):\n",
    "#         choosen.append(row)\n",
    "#         totales = (totalquintetos/ 2) + (totalcuartetos/10) + (totaltrios/20)\n",
    "#         print(\"total quintetos: \" + str(totalquintetos) + \", total cuartetos: \" + str(totalcuartetos) + \", total trios: \" + str(totaltrios))\n",
    "#         print(\"totales: \"+ str(totales))\n",
    "#         print(\"---------\")\n",
    "#     else: \n",
    "#         rejected.append(row)"
   ]
  },
  {
   "cell_type": "code",
   "execution_count": 253,
   "metadata": {},
   "outputs": [],
   "source": [
    "# def validator_c(cuart, trios):\n",
    "#     cuart_df = pd.DataFrame (cuart, columns = ['n1','n2','n3','n4'])\n",
    "#     can_elegidos = len(dft)\n",
    "#     for index, row in cuart.iterrows():\n",
    "#         sbs = (row)\n",
    "#         n1 = int(sbs[0])\n",
    "#         n2 = int(sbs[1])\n",
    "#         n3 = int(sbs[2])\n",
    "#         n4 = int(sbs[3])\n",
    "#         porcentaje = ((i+1)/can_elegidos)*100\n",
    "#         validar_sumar_resultados_sorteos_c(n1,n2,n3,n4, cuart_df)\n",
    "#         choose_c, rejected_c, totalcuartetos  = sumar_tuplas_c(n1,n2,n3,n4, df_excluidos) #, df_cc_tr, df_cc_re)\n",
    "#         if (totalcuartetos == 0):\n",
    "#             validator_t(trios)\n",
    "#         else:\n",
    "#             rejected.append(row)\n",
    "#         return "
   ]
  },
  {
   "cell_type": "code",
   "execution_count": 254,
   "metadata": {},
   "outputs": [],
   "source": [
    "# def validator(quint, cuart, trios, dft ):\n",
    "#     i = 0\n",
    "#     dictionary = {}\n",
    "#     can_elegidos = len(dft)\n",
    "#     #can_elegidos = 1000\n",
    "#     print(can_elegidos)\n",
    "#     validos=[]\n",
    "#     choosen = []\n",
    "#     rejected = []\n",
    "#     rejecteds = []\n",
    "#     df_excluidos = []\n",
    "#     df_excluidos = df_tr_fu_filt\n",
    "#     iteracion = 0\n",
    "#     for index, row in dft.iterrows():\n",
    "#         sbs = (row)\n",
    "#         # print(type(sbs[0]))\n",
    "#         n1 = int(sbs[0])\n",
    "#         n2 = int(sbs[1])\n",
    "#         n3 = int(sbs[2])\n",
    "#         n4 = int(sbs[3])\n",
    "#         n5 = int(sbs[4]) \n",
    "#         porcentaje = ((i+1)/can_elegidos)*100\n",
    "#         print(\"Iteracion \" + str(i) + \" Porcentaje Avance: \"+ str(porcentaje), \" N1:\" + str(n1), \" N2:\" + str(n2), \" N3:\" + str(n3), \" N4:\" + str(n4), \" N5:\" + str(n5))\n",
    "#         totalquintetos = 0\n",
    "#         choosen, rejected, totalquintetos  = sumar_tuplas(n1,n2,n3,n4,n5, df_excluidos)\n",
    "#         iteracion = iteracion + 1\n",
    "#         if (totalquintetos == 0):\n",
    "#             print(\"longitud cuartetos: \" + str(len(cuart)))\n",
    "#             #validator_c(cuart)\n",
    "#         else:\n",
    "#             print(\"total Quintetos != 0\")\n",
    "#             rejecteds.append(rejected)\n",
    "#         if (iteracion >= can_elegidos):\n",
    "#             salir = int(input(\"ingresa si quieres seguir evaluando total quintetos > 0: \"))\n",
    "#             if(salir > 0 ):\n",
    "#                 return choosen, rejected\n",
    "#         totales = 0\n",
    "#         totaltrios = 0\n",
    "#         i = i + 1\n",
    "#     return choosen, rejected\n"
   ]
  },
  {
   "cell_type": "code",
   "execution_count": null,
   "metadata": {},
   "outputs": [],
   "source": []
  },
  {
   "cell_type": "code",
   "execution_count": null,
   "metadata": {},
   "outputs": [],
   "source": []
  },
  {
   "cell_type": "code",
   "execution_count": 255,
   "metadata": {},
   "outputs": [],
   "source": [
    "# df1 = pd.DataFrame({'c': ['A', 'A', 'B', 'C', 'C'],\n",
    "#                     'k': [1, 2, 2, 2, 2],\n",
    "#                     'l': ['a', 'b', 'a', 'a', 'd']})\n",
    "# df2 = pd.DataFrame({'c': ['A', 'C'],\n",
    "#                     'l': ['b', 'a']})\n",
    "# print(df1)\n",
    "# print(df2)\n"
   ]
  },
  {
   "cell_type": "code",
   "execution_count": 256,
   "metadata": {},
   "outputs": [],
   "source": [
    "# keys = list(df2.columns.values)\n",
    "# print(keys)\n",
    "# i1 = df1.set_index(keys).index\n",
    "# i2 = df2.set_index(keys).index\n",
    "# dfinal = df1[~i1.isin(i2)]\n",
    "# dfinal2 = df1[i1.isin(i2)]\n",
    "# print (df1)"
   ]
  },
  {
   "cell_type": "code",
   "execution_count": 257,
   "metadata": {},
   "outputs": [],
   "source": [
    "# dfinal"
   ]
  },
  {
   "cell_type": "code",
   "execution_count": 258,
   "metadata": {},
   "outputs": [],
   "source": [
    "# dfinal2"
   ]
  },
  {
   "cell_type": "code",
   "execution_count": null,
   "metadata": {},
   "outputs": [],
   "source": []
  },
  {
   "cell_type": "code",
   "execution_count": null,
   "metadata": {},
   "outputs": [],
   "source": [
    "\n"
   ]
  },
  {
   "cell_type": "code",
   "execution_count": 259,
   "metadata": {},
   "outputs": [],
   "source": [
    "choosen = []\n",
    "rejected = []\n",
    "#choosen, rejected = validator(quint, cuart, trios, dft)"
   ]
  },
  {
   "cell_type": "code",
   "execution_count": 260,
   "metadata": {},
   "outputs": [
    {
     "data": {
      "text/plain": [
       "0"
      ]
     },
     "execution_count": 260,
     "metadata": {},
     "output_type": "execute_result"
    }
   ],
   "source": [
    "len(choosen)"
   ]
  },
  {
   "cell_type": "code",
   "execution_count": 261,
   "metadata": {},
   "outputs": [
    {
     "data": {
      "text/plain": [
       "0"
      ]
     },
     "execution_count": 261,
     "metadata": {},
     "output_type": "execute_result"
    }
   ],
   "source": [
    "\n",
    "len(rejected)"
   ]
  },
  {
   "cell_type": "code",
   "execution_count": 262,
   "metadata": {},
   "outputs": [],
   "source": [
    "# import ipykernel  \n",
    "# ipykernel.__version__\n"
   ]
  },
  {
   "cell_type": "code",
   "execution_count": 263,
   "metadata": {},
   "outputs": [],
   "source": [
    "# import sys\n",
    "# sys.version"
   ]
  },
  {
   "cell_type": "code",
   "execution_count": null,
   "metadata": {},
   "outputs": [],
   "source": []
  }
 ],
 "metadata": {
  "interpreter": {
   "hash": "2d3d3270e417e1e52e34ac8b854cc2805d4f43e36bc3a05dc9d1a620d4ed2e67"
  },
  "kernelspec": {
   "display_name": "Python 3.7.4 64-bit ('dsbasic': conda)",
   "name": "python3"
  },
  "language_info": {
   "codemirror_mode": {
    "name": "ipython",
    "version": 3
   },
   "file_extension": ".py",
   "mimetype": "text/x-python",
   "name": "python",
   "nbconvert_exporter": "python",
   "pygments_lexer": "ipython3",
   "version": "3.7.4"
  },
  "orig_nbformat": 4
 },
 "nbformat": 4,
 "nbformat_minor": 2
}
