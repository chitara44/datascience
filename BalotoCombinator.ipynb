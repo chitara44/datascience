{
 "cells": [
  {
   "cell_type": "code",
   "execution_count": 956,
   "metadata": {},
   "outputs": [],
   "source": [
    "import random\n",
    "import pandas as pd\n",
    "import numpy as np\n",
    "import seaborn as sns\n",
    "import matplotlib.pyplot as plt\n",
    "import os\n",
    "import math\n",
    "from sklearn import metrics\n",
    "from sklearn.pipeline import Pipeline\n",
    "from sklearn.preprocessing import StandardScaler, LabelEncoder, OneHotEncoder, KBinsDiscretizer\n",
    "from sklearn.model_selection import train_test_split\n",
    "from sklearn.tree import DecisionTreeRegressor\n",
    "from sklearn.model_selection import cross_val_score\n",
    "from sklearn.metrics import mean_squared_error\n",
    "from sklearn.neighbors import KNeighborsClassifier, KNeighborsRegressor\n",
    "from sklearn.preprocessing import StandardScaler\n",
    "from time import sleep\n",
    "from collections import Counter\n",
    "\n",
    "pd.set_option('display.float_format', lambda x: '%.3f' % x)\n",
    "\n",
    "sns.set()"
   ]
  },
  {
   "cell_type": "code",
   "execution_count": 957,
   "metadata": {},
   "outputs": [],
   "source": [
    "def generaPath(tipo, nombre):\n",
    "    prepath = str(os.getcwd())\n",
    "    #print(prepath)\n",
    "    if (tipo == \"I\"):\n",
    "        path = prepath + '\\\\' + nombre\n",
    "    else :\n",
    "        path = prepath + '\\\\generados\\\\' + nombre\n",
    "    return path"
   ]
  },
  {
   "cell_type": "code",
   "execution_count": 958,
   "metadata": {},
   "outputs": [],
   "source": [
    "df_cq_tr = pd.read_csv(generaPath('O', 'df_cq_tr.csv'))\n",
    "df_cq_re = pd.read_csv(generaPath('O', 'df_cq_re.csv'))\n",
    "\n",
    "df_cc_tr = pd.read_csv(generaPath('O', 'df_cc_tr.csv'))\n",
    "df_cc_re = pd.read_csv(generaPath('O', 'df_cc_re.csv'))\n",
    "\n",
    "df_ct_tr = pd.read_csv(generaPath('O', 'df_ct_tr.csv'))\n",
    "df_ct_re = pd.read_csv(generaPath('O', 'df_ct_re.csv'))\n",
    "\n",
    "df_cd_tr = pd.read_csv(generaPath('O', 'df_cd_tr.csv'))\n",
    "df_cd_re = pd.read_csv(generaPath('O', 'df_cd_re.csv'))\n",
    "\n",
    "df_cs_tr = pd.read_csv(generaPath('O', 'df_cs_tr.csv'))\n",
    "df_cs_re = pd.read_csv(generaPath('O', 'df_cs_re.csv'))\n",
    "\n",
    "df_cs_tr_sb = pd.read_csv(generaPath('O', 'df_cs_tr_sb.csv'))\n",
    "df_cs_re_sb = pd.read_csv(generaPath('O', 'df_cs_re_sb.csv'))\n",
    "\n",
    "\n",
    "df_sel_sb_tr = pd.read_csv(generaPath('O','df_sel_sb_tr.csv'))\n",
    "df_sel_sb_re = pd.read_csv(generaPath('O','df_sel_sb_re.csv'))\n",
    "\n",
    "df_sel_sb_re = pd.read_csv(generaPath('O','df_sel_si_tr.csv'))\n",
    "df_sel_si_re = pd.read_csv(generaPath('O','df_sel_si_re.csv') )\n",
    "\n",
    "sbs = pd.read_csv(generaPath('O','sbs.csv'))\n",
    "singles = pd.read_csv(generaPath('O','singles.csv'))\n",
    "\n"
   ]
  },
  {
   "cell_type": "code",
   "execution_count": 959,
   "metadata": {},
   "outputs": [],
   "source": [
    "def cantidad_no_rep():\n",
    "    l= singles.sort_values(\"tupla\")\n",
    "    l2 = l.drop('R', 1)\n",
    "    l3 = l2.drop_duplicates()\n",
    "    return l3"
   ]
  },
  {
   "cell_type": "code",
   "execution_count": 960,
   "metadata": {},
   "outputs": [],
   "source": [
    "def unsplited_tupla(secuence):\n",
    "    num = str(secuence[0])\n",
    "    partido = num.split(sep='|') if (num.find('|') >= 1) else num\n",
    "    return partido"
   ]
  },
  {
   "cell_type": "code",
   "execution_count": 961,
   "metadata": {},
   "outputs": [],
   "source": [
    "def secuencelist_unbuilder(secuence):\n",
    "    num = str(secuence[0])\n",
    "    partido = num.split(sep='|') if (num.find('|') >= 1) else num\n",
    "    return partido"
   ]
  },
  {
   "cell_type": "code",
   "execution_count": 962,
   "metadata": {},
   "outputs": [],
   "source": [
    "def crea_sorteos(single,sb, secuence):\n",
    "    sorteo = []\n",
    "    enteros = []\n",
    "    # splitedtupla = unsplited_tupla(secuence)\n",
    "    #enteros = secuencelist_unbuilder(str(secuence[0]))\n",
    "    # print(splitedtupla)\n",
    "    print(\" Tipo Enteros\")\n",
    "    print(type(enteros))\n",
    "    print(enteros)\n",
    "    #sorteo = singles.iloc[enteros, 0]\n",
    "    #print(sorteo)\n",
    "    #sorteo.append(str(sb))\n",
    "    return sorteo"
   ]
  },
  {
   "cell_type": "code",
   "execution_count": 963,
   "metadata": {},
   "outputs": [],
   "source": [
    "def secuencelist_builder(a,b,c,d,e):\n",
    "    secuencia=[]\n",
    "    secuencia.append(a)\n",
    "    secuencia.append(b)\n",
    "    secuencia.append(c) \n",
    "    secuencia.append(d)\n",
    "    secuencia.append(e)\n",
    "    palabra = '|'.join([str(et) for et in secuencia])\n",
    "    return palabra, secuencia\n"
   ]
  },
  {
   "cell_type": "code",
   "execution_count": 964,
   "metadata": {},
   "outputs": [],
   "source": [
    "def crea_secuencias(totalconteo):\n",
    "    secuencias = []\n",
    "    secuence = []\n",
    "    lsecuence =[]\n",
    "    secuencia = []\n",
    "    i = 0\n",
    "    a = i\n",
    "    b = a + 1\n",
    "    c = b + 1\n",
    "    d = c + 1\n",
    "    e = d + 1\n",
    "    while (a <= totalconteo):\n",
    "        while(b <= totalconteo):\n",
    "            while(c <= totalconteo):\n",
    "                while(d <= totalconteo):\n",
    "                    while(e <= totalconteo):\n",
    "                        secuencia, secuence = secuencelist_builder(a,b,c,d,e)\n",
    "                        secuencias.append(secuencia)\n",
    "                        lsecuence.append(secuence)\n",
    "                        e += 1\n",
    "                    d += 1\n",
    "                    e = d + 1\n",
    "                c += 1\n",
    "                d = c + 1\n",
    "                e = d + 1\n",
    "            b += 1\n",
    "            c = b + 1\n",
    "            d = c + 1\n",
    "            e = d + 1\n",
    "        a = a + 1\n",
    "        b = a + 1\n",
    "        c = b + 1\n",
    "        d = c + 1 \n",
    "        e = d + 1\n",
    "    return secuencias, lsecuence\n"
   ]
  },
  {
   "cell_type": "code",
   "execution_count": 965,
   "metadata": {},
   "outputs": [],
   "source": [
    "def cayo_antes(sbs, l):\n",
    "    sorteos = []\n",
    "    lsecuence = []  \n",
    "    secuencias = []\n",
    "    cant = len(l) - 1\n",
    "    secuencias, lsecuence = crea_secuencias(cant)\n",
    "    cantsecuence = len(lsecuence)\n",
    "    print(\"cant:\" + str(cant) + \"  cantsecuence: \" + str(cantsecuence))\n",
    "    for index, row in sbs.iterrows():\n",
    "        sb = str(row[0])\n",
    "        i = 0\n",
    "        for rows in secuencias:\n",
    "            lsec = lsecuence[int(i)]\n",
    "            sorteo = l3.iloc[lsec, 0]\n",
    "            i = i + 1\n",
    "            sorteos.append(sorteo.to_list())\n",
    "    dft = sorteos\n",
    "    # print(dft)\n",
    "    return dft"
   ]
  },
  {
   "cell_type": "code",
   "execution_count": 966,
   "metadata": {},
   "outputs": [
    {
     "name": "stdout",
     "output_type": "stream",
     "text": [
      "valor de l3\n",
      "15\n",
      "cant:14  cantsecuence: 3003\n"
     ]
    }
   ],
   "source": [
    "secus = []\n",
    "l3 = cantidad_no_rep()\n",
    "print(\"valor de l3\")\n",
    "print(len(l3))\n",
    "dft_sorteos = cayo_antes(sbs, l3)"
   ]
  },
  {
   "cell_type": "code",
   "execution_count": 967,
   "metadata": {},
   "outputs": [],
   "source": [
    "def construir_trio(n1,n2,n3):\n",
    "    salida = str(n1) + \"|\" + str(n2) + \"|\" + str(n3)\n",
    "    return salida"
   ]
  },
  {
   "cell_type": "code",
   "execution_count": 968,
   "metadata": {},
   "outputs": [],
   "source": [
    "def construir_cuarteto(n1,n2,n3,n4):\n",
    "    salida = str(n1) + \"|\" + str(n2) + \"|\" + str(n3) + \"|\" + str(n4)\n",
    "    return salida"
   ]
  },
  {
   "cell_type": "code",
   "execution_count": 969,
   "metadata": {},
   "outputs": [],
   "source": [
    "def construir_quinteto(n1,n2,n3,n4,n5):\n",
    "    salida = str(n1) + \"|\" + str(n2) + \"|\" + str(n3) + \"|\" + str(n4) + \"|\" + str(n5)\n",
    "    return salida"
   ]
  },
  {
   "cell_type": "code",
   "execution_count": 970,
   "metadata": {},
   "outputs": [],
   "source": [
    "def all_trios(n1,n2,n3,n4,n5):\n",
    "    trio01 = construir_trio(n1,n2,n3)\n",
    "    trio02 = construir_trio(n1,n2,n4)\n",
    "    trio03 = construir_trio(n1,n2,n5)\n",
    "    trio04 = construir_trio(n2,n3,n4)\n",
    "    trio05 = construir_trio(n2,n3,n5)\n",
    "    trio06 = construir_trio(n2,n4,n5)\n",
    "    trio07 = construir_trio(n3,n4,n5)\n",
    "    trio08 = construir_trio(n1,n3,n4)\n",
    "    trio09 = construir_trio(n1,n3,n5)\n",
    "    trio10 = construir_trio(n1,n4,n5)\n",
    "    return trio01, trio02, trio03, trio04, trio05, trio06, trio07, trio08, trio09, trio10"
   ]
  },
  {
   "cell_type": "code",
   "execution_count": 971,
   "metadata": {},
   "outputs": [],
   "source": [
    "def all_cuartetos(n1,n2,n3,n4,n5):\n",
    "    cuarteto1 = construir_cuarteto(n1, n2, n3, n4)\n",
    "    cuarteto2 = construir_cuarteto(n1, n2, n3, n5)\n",
    "    cuarteto3 = construir_cuarteto(n1, n2, n4, n5)\n",
    "    cuarteto4 = construir_cuarteto(n1, n3, n4, n5)\n",
    "    cuarteto5 = construir_cuarteto(n2, n3, n4, n5)\n",
    "    return cuarteto1, cuarteto2, cuarteto3, cuarteto4, cuarteto5"
   ]
  },
  {
   "cell_type": "code",
   "execution_count": 972,
   "metadata": {},
   "outputs": [],
   "source": [
    "def find_previous_coincidence(value_to_search, df):\n",
    "    df_found = df.loc[df['tupla']== value_to_search]\n",
    "    encontrados = 0\n",
    "    total_rows = int(df_found.shape[0])\n",
    "    if total_rows > 0:\n",
    "        encontrados = 1\n",
    "        return \"Records Found: \" + str(total_rows) +' - '+ str(value_to_search), encontrados\n",
    "    else:\n",
    "        return \"No Records Found\", encontrados"
   ]
  },
  {
   "cell_type": "code",
   "execution_count": 973,
   "metadata": {},
   "outputs": [],
   "source": [
    "def validar_sumar_resultados_sorteos(dictionary, propiedad, dfbase, df_to_search):\n",
    "    dictionary[propiedad] = propiedad\n",
    "    dictionary\n",
    "    mensaje, suma = find_previous_coincidence(dfbase, df_to_search)\n",
    "    return suma"
   ]
  },
  {
   "cell_type": "code",
   "execution_count": 974,
   "metadata": {},
   "outputs": [],
   "source": [
    "def ingresar_sorteo_validar(n1,n2,n3,n4,n5):\n",
    "    quinteto = construir_quinteto(n1, n2, n3, n4, n5)\n",
    "    cuarteto1, cuarteto2, cuarteto3, cuarteto4, cuarteto5 = all_cuartetos(n1, n2, n3, n4, n5)\n",
    "    trio01, trio02, trio03, trio04, trio05, trio06, trio07, trio08, trio09, trio10 = all_trios(n1, n2, n3, n4, n5)\n",
    "    return quinteto, cuarteto1, cuarteto2, cuarteto3, cuarteto4, cuarteto5, trio01, trio02, trio03, trio04, trio05, trio06, trio07, trio08, trio09, trio10"
   ]
  },
  {
   "cell_type": "code",
   "execution_count": 975,
   "metadata": {},
   "outputs": [],
   "source": [
    "def validator_caller():\n",
    "    i = 0\n",
    "    dictionary = {}\n",
    "    can_elegidos = len(dft_sorteos)\n",
    "    while i < 2:\n",
    "        df_actual = dft_sorteos[i]\n",
    "        n1 = int(df_actual[0])\n",
    "        n2 = int(df_actual[1])\n",
    "        n3 = int(df_actual[2])\n",
    "        n4 = int(df_actual[3])\n",
    "        n5 = int(df_actual[4])\n",
    "        print(\"n1 \" + n1 )\n",
    "        print(\"n2 \" + n2 )\n",
    "        totaltrios = 0\n",
    "        totalcuartetos = 0\n",
    "        totalquintetos = 0\n",
    "        quinteto, cuarteto1, cuarteto2, cuarteto3, cuarteto4, cuarteto5, trio01, trio02, trio03, trio04, trio05, trio06, trio07, trio08, trio09, trio10 = ingresar_sorteo_validar(n1,n2,n3,n4,n5)\n",
    "        validar_sumar_resultados_sorteos(dictionary, \"trios01tr\", trio01, df_ct_tr)\n",
    "        validar_sumar_resultados_sorteos(dictionary, \"trios01re\", trio01, df_ct_re) \n",
    "        validar_sumar_resultados_sorteos(dictionary, \"trios02tr\", trio02, df_ct_tr)\n",
    "        validar_sumar_resultados_sorteos(dictionary, \"trios02re\", trio02, df_ct_re) \n",
    "        validar_sumar_resultados_sorteos(dictionary, \"trios03tr\", trio03, df_ct_tr)\n",
    "        validar_sumar_resultados_sorteos(dictionary, \"trios03re\", trio03, df_ct_re) \n",
    "        validar_sumar_resultados_sorteos(dictionary, \"trios04tr\", trio04, df_ct_tr)\n",
    "        validar_sumar_resultados_sorteos(dictionary, \"trios04re\", trio04, df_ct_re) \n",
    "        validar_sumar_resultados_sorteos(dictionary, \"trios05tr\", trio05, df_ct_tr)\n",
    "        validar_sumar_resultados_sorteos(dictionary, \"trios05re\", trio05, df_ct_re)\n",
    "        validar_sumar_resultados_sorteos(dictionary, \"trios06tr\", trio06, df_ct_tr)\n",
    "        validar_sumar_resultados_sorteos(dictionary, \"trios06re\", trio06, df_ct_re) \n",
    "        validar_sumar_resultados_sorteos(dictionary, \"trios07tr\", trio07, df_ct_tr)\n",
    "        validar_sumar_resultados_sorteos(dictionary, \"trios07re\", trio07, df_ct_re) \n",
    "        validar_sumar_resultados_sorteos(dictionary, \"trios08tr\", trio08, df_ct_tr)\n",
    "        validar_sumar_resultados_sorteos(dictionary, \"trios08re\", trio08, df_ct_re) \n",
    "        validar_sumar_resultados_sorteos(dictionary, \"trios09tr\", trio09, df_ct_tr)\n",
    "        validar_sumar_resultados_sorteos(dictionary, \"trios09re\", trio09, df_ct_re) \n",
    "        validar_sumar_resultados_sorteos(dictionary, \"trios10tr\", trio10, df_ct_tr)\n",
    "        validar_sumar_resultados_sorteos(dictionary, \"trios10re\", trio10, df_ct_re)\n",
    "        print(\"Cuartetos\")\n",
    "        validar_sumar_resultados_sorteos(dictionary, \"cuarteto1tr\", cuarteto1, df_cc_tr)\n",
    "        validar_sumar_resultados_sorteos(dictionary, \"cuarteto1re\", cuarteto1, df_cc_re) \n",
    "        validar_sumar_resultados_sorteos(dictionary, \"cuarteto2tr\", cuarteto2, df_cc_tr)\n",
    "        validar_sumar_resultados_sorteos(dictionary, \"cuarteto2re\", cuarteto2, df_cc_re) \n",
    "        validar_sumar_resultados_sorteos(dictionary, \"cuarteto3tr\", cuarteto3, df_cc_tr)\n",
    "        validar_sumar_resultados_sorteos(dictionary, \"cuarteto3re\", cuarteto3, df_cc_re) \n",
    "        validar_sumar_resultados_sorteos(dictionary, \"cuarteto4tr\", cuarteto4, df_cc_tr)\n",
    "        validar_sumar_resultados_sorteos(dictionary, \"cuarteto4re\", cuarteto4, df_cc_re) \n",
    "        validar_sumar_resultados_sorteos(dictionary, \"cuarteto5tr\", cuarteto5, df_cc_tr)\n",
    "        validar_sumar_resultados_sorteos(dictionary, \"cuarteto5re\", cuarteto5, df_cc_re)\n",
    "        print(\"Quintetos\")\n",
    "        validar_sumar_resultados_sorteos(dictionary, \"quintetotr\", quinteto,df_cq_tr)\n",
    "        validar_sumar_resultados_sorteos(dictionary, \"quintetore\", quinteto,df_cq_re)\n",
    "        print(\"---------\")\n",
    "        i = i + 1\n"
   ]
  },
  {
   "cell_type": "code",
   "execution_count": 976,
   "metadata": {},
   "outputs": [],
   "source": [
    "def ingresar_sorteo_validar():\n",
    "    n1 = int(input(f\"ingresa el primer numero del sorteo: \"))\n",
    "    n2 = int(input(f\"ingresa el segundo numero del sorteo: \"))\n",
    "    n3 = int(input(f\"ingresa el tercer numero del sorteo: \"))\n",
    "    n4 = int(input(f\"ingresa el cuarto numero del sorteo: \"))    \n",
    "    n5 = int(input(f\"ingresa el quinto numero del sorteo: \"))\n",
    "    quinteto = construir_quinteto(n1, n2, n3, n4, n5)\n",
    "    cuarteto1, cuarteto2, cuarteto3, cuarteto4, cuarteto5 = all_cuartetos(n1, n2, n3, n4, n5)\n",
    "    trio01, trio02, trio03, trio04, trio05, trio06, trio07, trio08, trio09, trio10 = all_trios(n1, n2, n3, n4, n5)\n",
    "    return quinteto, cuarteto1, cuarteto2, cuarteto3, cuarteto4, cuarteto5, trio01, trio02, trio03, trio04, trio05, trio06, trio07, trio08, trio09, trio10"
   ]
  }
 ],
 "metadata": {
  "interpreter": {
   "hash": "2d3d3270e417e1e52e34ac8b854cc2805d4f43e36bc3a05dc9d1a620d4ed2e67"
  },
  "kernelspec": {
   "display_name": "Python 3.7.4 64-bit ('dsbasic': conda)",
   "name": "python3"
  },
  "language_info": {
   "codemirror_mode": {
    "name": "ipython",
    "version": 3
   },
   "file_extension": ".py",
   "mimetype": "text/x-python",
   "name": "python",
   "nbconvert_exporter": "python",
   "pygments_lexer": "ipython3",
   "version": "3.7.4"
  },
  "orig_nbformat": 4
 },
 "nbformat": 4,
 "nbformat_minor": 2
}
