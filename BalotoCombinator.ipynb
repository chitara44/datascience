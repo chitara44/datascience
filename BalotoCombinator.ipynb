{
 "cells": [
  {
   "cell_type": "code",
   "execution_count": 8,
   "source": [
    "import random\r\n",
    "import pandas as pd\r\n",
    "import numpy as np\r\n",
    "import seaborn as sns\r\n",
    "import matplotlib.pyplot as plt\r\n",
    "import os\r\n",
    "import math\r\n",
    "from sklearn import metrics\r\n",
    "from sklearn.pipeline import Pipeline\r\n",
    "from sklearn.preprocessing import StandardScaler, LabelEncoder, OneHotEncoder, KBinsDiscretizer\r\n",
    "from sklearn.model_selection import train_test_split\r\n",
    "from sklearn.tree import DecisionTreeRegressor\r\n",
    "from sklearn.model_selection import cross_val_score\r\n",
    "from sklearn.metrics import mean_squared_error\r\n",
    "from sklearn.neighbors import KNeighborsClassifier, KNeighborsRegressor\r\n",
    "from sklearn.preprocessing import StandardScaler\r\n",
    "from time import sleep\r\n",
    "\r\n",
    "pd.set_option('display.float_format', lambda x: '%.3f' % x)\r\n",
    "\r\n",
    "sns.set()"
   ],
   "outputs": [],
   "metadata": {}
  },
  {
   "cell_type": "code",
   "execution_count": 9,
   "source": [
    "def generaPath(tipo, nombre):\r\n",
    "    prepath = str(os.getcwd())\r\n",
    "    #print(prepath)\r\n",
    "    if (tipo == \"I\"):\r\n",
    "        path = prepath + '\\\\' + nombre\r\n",
    "    else :\r\n",
    "        path = prepath + '\\\\generados\\\\' + nombre\r\n",
    "    return path"
   ],
   "outputs": [],
   "metadata": {}
  },
  {
   "cell_type": "code",
   "execution_count": 10,
   "source": [
    "df_cq_tr = pd.read_csv(generaPath('O', 'df_cq_tr.csv'))\r\n",
    "df_cq_re = pd.read_csv(generaPath('O', 'df_cq_re.csv'))\r\n",
    "\r\n",
    "df_cc_tr = pd.read_csv(generaPath('O', 'df_cc_tr.csv'))\r\n",
    "df_cc_re = pd.read_csv(generaPath('O', 'df_cc_re.csv'))\r\n",
    "\r\n",
    "df_ct_tr = pd.read_csv(generaPath('O', 'df_ct_tr.csv'))\r\n",
    "df_ct_re = pd.read_csv(generaPath('O', 'df_ct_re.csv'))\r\n",
    "\r\n",
    "df_cd_tr = pd.read_csv(generaPath('O', 'df_cd_tr.csv'))\r\n",
    "df_cd_re = pd.read_csv(generaPath('O', 'df_cd_re.csv'))\r\n",
    "\r\n",
    "df_cs_tr = pd.read_csv(generaPath('O', 'df_cs_tr.csv'))\r\n",
    "df_cs_re = pd.read_csv(generaPath('O', 'df_cs_re.csv'))\r\n",
    "\r\n",
    "df_cs_tr_sb = pd.read_csv(generaPath('O', 'df_cs_tr_sb.csv'))\r\n",
    "df_cs_re_sb = pd.read_csv(generaPath('O', 'df_cs_re_sb.csv'))\r\n",
    "\r\n",
    "\r\n",
    "df_sel_sb_tr = pd.read_csv(generaPath('O','df_sel_sb_tr.csv'))\r\n",
    "df_sel_sb_re = pd.read_csv(generaPath('O','df_sel_sb_re.csv'))\r\n",
    "\r\n",
    "df_sel_sb_re = pd.read_csv(generaPath('O','df_sel_si_tr.csv'))\r\n",
    "df_sel_si_re = pd.read_csv(generaPath('O','df_sel_si_re.csv') )\r\n",
    "\r\n",
    "sbs = pd.read_csv(generaPath('O','sbs.csv'))\r\n",
    "singles = pd.read_csv(generaPath('O','singles.csv'))\r\n",
    "\r\n"
   ],
   "outputs": [],
   "metadata": {}
  },
  {
   "cell_type": "code",
   "execution_count": 11,
   "source": [
    "def unsplited_tupla(secuence, colon):\r\n",
    "    partido = secuence.split(sep=colon) if (secuence.find(colon) >= 1) else secuence\r\n",
    "    return partido"
   ],
   "outputs": [],
   "metadata": {}
  },
  {
   "cell_type": "code",
   "execution_count": 12,
   "source": [
    "def crea_sorteos(single,sb, secuence):\r\n",
    "    sorteo = []\r\n",
    "    enteros = []\r\n",
    "    colon = ','\r\n",
    "    #splitedtupla = unsplited_tupla(secuence, colon)\r\n",
    "    \r\n",
    "    #print(splitedtupla)\r\n",
    "    sorteo = singles.iloc[secuence, 1]\r\n",
    "    print(type(sorteo))\r\n",
    "    #sorteo.append(str(sb))\r\n",
    "    return sorteo"
   ],
   "outputs": [],
   "metadata": {}
  },
  {
   "cell_type": "code",
   "execution_count": 13,
   "source": [
    "def cayo_antestetos(sbs, singles):\r\n",
    "    sorteos = []\r\n",
    "    modaa = []\r\n",
    "    lasts = []\r\n",
    "    delta = []  \r\n",
    "    resta = []\r\n",
    "    secuencia = [1,2,3,4,5]\r\n",
    "    char = ','\r\n",
    "    for index, row in sbs.iterrows():\r\n",
    "        sb = str(row[0])\r\n",
    "        #print(sb)\r\n",
    "        sorteos.append(crea_sorteos(singles,sb, secuencia))\r\n",
    "\r\n",
    "        #\r\n",
    "        #print(dftx)\r\n",
    "        #df_filt = dftx.iloc[0::1,[0]]\r\n",
    "        #df_tupla = calcular_deltas_verticales(df_filt)\r\n",
    "        #lasts.append(df_tupla[0])\r\n",
    "        #media.append(calc_media(df_tupla))\r\n",
    "        #resta.append(abs(int(df_tupla[0])- int(calc_media(df_tupla))))\r\n",
    "        #df_moda = calc_moda(df_tupla)\r\n",
    "        #pal = '|'.join([str(m) for m in df_moda]) if len(df_moda) > 1  else str(df_moda[0])\r\n",
    "        #modaa.append(pal)\r\n",
    "        #palabra = '|'.join([str(e) for e in df_tupla]) \r\n",
    "        #delta.append(palabra)\r\n",
    "    dft = sorteos\r\n",
    "    #proba, proba1,proba2,proba3 = how_hot_is(dft, df_tr_fu_filt_delta)\r\n",
    "    #dft['Pr']= proba\r\n",
    "    #dft['PrX'] = proba1\r\n",
    "    #dft['PrL'] = proba2\r\n",
    "    #dft['PrM'] = proba3\r\n",
    "    return dft"
   ],
   "outputs": [],
   "metadata": {}
  },
  {
   "cell_type": "code",
   "execution_count": 14,
   "source": [
    "cayo_antestetos(sbs, singles)"
   ],
   "outputs": [
    {
     "output_type": "stream",
     "name": "stdout",
     "text": [
      "<class 'pandas.core.series.Series'>\n",
      "<class 'pandas.core.series.Series'>\n",
      "<class 'pandas.core.series.Series'>\n"
     ]
    },
    {
     "output_type": "execute_result",
     "data": {
      "text/plain": [
       "[1    1\n",
       " 2    1\n",
       " 3    1\n",
       " 4    1\n",
       " 5    1\n",
       " Name: R, dtype: int64, 1    1\n",
       " 2    1\n",
       " 3    1\n",
       " 4    1\n",
       " 5    1\n",
       " Name: R, dtype: int64, 1    1\n",
       " 2    1\n",
       " 3    1\n",
       " 4    1\n",
       " 5    1\n",
       " Name: R, dtype: int64]"
      ]
     },
     "metadata": {},
     "execution_count": 14
    }
   ],
   "metadata": {}
  }
 ],
 "metadata": {
  "orig_nbformat": 4,
  "language_info": {
   "name": "python",
   "version": "3.7.4",
   "mimetype": "text/x-python",
   "codemirror_mode": {
    "name": "ipython",
    "version": 3
   },
   "pygments_lexer": "ipython3",
   "nbconvert_exporter": "python",
   "file_extension": ".py"
  },
  "kernelspec": {
   "name": "python3",
   "display_name": "Python 3.7.4 64-bit ('dsbasic': conda)"
  },
  "interpreter": {
   "hash": "2d3d3270e417e1e52e34ac8b854cc2805d4f43e36bc3a05dc9d1a620d4ed2e67"
  }
 },
 "nbformat": 4,
 "nbformat_minor": 2
}